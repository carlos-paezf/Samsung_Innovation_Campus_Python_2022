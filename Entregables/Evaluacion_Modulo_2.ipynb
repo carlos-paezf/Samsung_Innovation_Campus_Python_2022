{
 "cells": [
  {
   "attachments": {},
   "cell_type": "markdown",
   "metadata": {},
   "source": [
    "# Evaluación Modulo 2"
   ]
  },
  {
   "attachments": {},
   "cell_type": "markdown",
   "metadata": {},
   "source": [
    "1. Apartir del código determine el resultado:\n",
    "   \n",
    "   ```py\n",
    "   def outer_function(x):\n",
    "      def inner_function(y):\n",
    "         return x * y\n",
    "      return inner_function\n",
    "\n",
    "   external = outer_function(2)\n",
    "   print(\"Resultado = \", external(5))\n",
    "   ```\n",
    "   \n",
    "   a. Error\n",
    "\n",
    "   b. Resultado = 10 ✅\n",
    "\n",
    "   c. Resultado = 2\n",
    "   \n",
    "   d. Resultado = 5"
   ]
  },
  {
   "cell_type": "code",
   "execution_count": 1,
   "metadata": {},
   "outputs": [
    {
     "name": "stdout",
     "output_type": "stream",
     "text": [
      "Resultado =  10\n"
     ]
    }
   ],
   "source": [
    "def outer_function(x):\n",
    "    def inner_function(y):\n",
    "        return x * y\n",
    "    return inner_function\n",
    "\n",
    "external = outer_function(2)\n",
    "print(\"Resultado = \", external(5))"
   ]
  },
  {
   "attachments": {},
   "cell_type": "markdown",
   "metadata": {},
   "source": [
    "2. ¿Cuáles de las siguientes ***NO*** son estructuras de datos abstractas en Python?\n",
    "   \n",
    "   a. Pila (Stack)\n",
    "\n",
    "   b. Tabla hash (Hash Table)\n",
    "\n",
    "   c. Conjunto (Set) ✅\n",
    "\n",
    "   d. Cola (Queue)\n",
    "\n",
    "   No hay ninguna estructura de datos en Python que no sea una estructura de datos abstracta, ya que todas las estructuras de datos en Python son implementaciones de estructuras de datos abstractas.\n",
    "\n",
    "   a. La pila (Stack) es una estructura de datos abstracta que se puede implementar en Python utilizando una lista y las operaciones de `append()` y `pop()` para agregar y eliminar elementos de la pila.\n",
    "\n",
    "   b. La tabla hash (Hash Table) es una estructura de datos abstracta que se puede implementar en Python utilizando un diccionario, donde las claves son los valores hash de los elementos y los valores son los elementos mismos.\n",
    "\n",
    "   c. El conjunto (Set) es una estructura de datos abstracta que se puede implementar en Python utilizando el tipo de datos `set()`.\n",
    "\n",
    "   d. La cola (Queue) es una estructura de datos abstracta que se puede implementar en Python utilizando una lista y las operaciones `append()` y `pop(0)` para agregar y eliminar elementos de la cola.\n",
    "\n",
    "   En resumen, todas las opciones (a, b, c y d) son estructuras de datos abstractas que se pueden implementar en Python."
   ]
  },
  {
   "attachments": {},
   "cell_type": "markdown",
   "metadata": {},
   "source": [
    "3. Apartir del código determine el resultado:\n",
    "   \n",
    "    ```py\n",
    "    def coin_change(change, coins):\n",
    "        result = {}\n",
    "        coins_keys = sorted(coins.keys(), reverse=True)\n",
    "    ```\n",
    "   \n",
    "   a. cambio: {500: 1, 400: 2, 100: 6, 50: 1, 10: 3}, quedan: {500: 0, 400: 0, 100: 4, 50: 4, 10: 0}\n",
    "\n",
    "   b. NameError: name `change` is not defined ✅\n",
    "\n",
    "   c. cambio: {500: 1, 400: 2, 100: 4, 50: 5, 10: 3}, quedan: {500: 0, 400: 0, 100: 6, 50: 0, 10: 0}\n",
    "   \n",
    "   d. resultado should be defined as list"
   ]
  },
  {
   "cell_type": "code",
   "execution_count": 3,
   "metadata": {},
   "outputs": [
    {
     "ename": "NameError",
     "evalue": "name 'change' is not defined",
     "output_type": "error",
     "traceback": [
      "\u001b[1;31m---------------------------------------------------------------------------\u001b[0m",
      "\u001b[1;31mNameError\u001b[0m                                 Traceback (most recent call last)",
      "Cell \u001b[1;32mIn[3], line 18\u001b[0m\n\u001b[0;32m     15\u001b[0m coins \u001b[39m=\u001b[39m {\u001b[39m500\u001b[39m: \u001b[39m1\u001b[39m, \u001b[39m400\u001b[39m: \u001b[39m2\u001b[39m, \u001b[39m100\u001b[39m: \u001b[39m10\u001b[39m, \u001b[39m50\u001b[39m: \u001b[39m5\u001b[39m, \u001b[39m10\u001b[39m: \u001b[39m3\u001b[39m}\n\u001b[0;32m     16\u001b[0m change_amount \u001b[39m=\u001b[39m \u001b[39m1980\u001b[39m\n\u001b[1;32m---> 18\u001b[0m \u001b[39mprint\u001b[39m(coin_change(change, coins))\n",
      "\u001b[1;31mNameError\u001b[0m: name 'change' is not defined"
     ]
    }
   ],
   "source": [
    "def coin_change(change, coins):\n",
    "    result = {}\n",
    "    coins_keys = sorted(coins.keys(), reverse=True)\n",
    "\n",
    "    for coin in coins_keys:\n",
    "        coins_counter = min(change // coin, coins[coin])\n",
    "        change -= coins_counter * coin\n",
    "        coins[coin] -= coins_counter\n",
    "\n",
    "        if coins_counter:\n",
    "            result[coin] = coins_counter\n",
    "    \n",
    "    return result\n",
    "\n",
    "coins = {500: 1, 400: 2, 100: 10, 50: 5, 10: 3}\n",
    "change_amount = 1980\n",
    "\n",
    "print(coin_change(change, coins))"
   ]
  },
  {
   "attachments": {},
   "cell_type": "markdown",
   "metadata": {},
   "source": [
    "4. Respecto a una clase en Python, señale si la afirmación es verdadera o falsa: *Toda clase debe tener un método constructor.*\n",
    "\n",
    "   Seleccione una:\n",
    "\n",
    "   - Verdadero\n",
    "   - Falso ✅\n"
   ]
  },
  {
   "attachments": {},
   "cell_type": "markdown",
   "metadata": {},
   "source": [
    "5. El principal inconveniente de trabajar con variables locales cuando se usan funciones recursivas es que las variables locales se reinician cada vez que se llama la función.\n",
    "\n",
    "    Seleccione una:\n",
    "\n",
    "    - Verdadero ✅\n",
    "    - Falso"
   ]
  }
 ],
 "metadata": {
  "kernelspec": {
   "display_name": "Python 3",
   "language": "python",
   "name": "python3"
  },
  "language_info": {
   "codemirror_mode": {
    "name": "ipython",
    "version": 3
   },
   "file_extension": ".py",
   "mimetype": "text/x-python",
   "name": "python",
   "nbconvert_exporter": "python",
   "pygments_lexer": "ipython3",
   "version": "3.11.2"
  },
  "orig_nbformat": 4,
  "vscode": {
   "interpreter": {
    "hash": "60046ffbd83e2c3226aa688c07a90e0b2db2ccbc92f599df08db67c0404662c7"
   }
  }
 },
 "nbformat": 4,
 "nbformat_minor": 2
}
