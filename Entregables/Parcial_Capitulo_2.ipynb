{
 "cells": [
  {
   "attachments": {},
   "cell_type": "markdown",
   "metadata": {},
   "source": [
    "# Parcial - Capitulo 2"
   ]
  },
  {
   "attachments": {},
   "cell_type": "markdown",
   "metadata": {},
   "source": [
    "1. De la lsta `lst = [23, ('Jorge', 67.5), [-1, 0, (5, -3)], 'Manzana']`, conteste verdaro o falso: Para imprimir la dupla `(5, -3)` el código es `print(lst[2][2])`.\n",
    "\n",
    "    Seleccione una:\n",
    "\n",
    "    - Verdadero ✅\n",
    "    - False"
   ]
  },
  {
   "cell_type": "code",
   "execution_count": 1,
   "metadata": {},
   "outputs": [
    {
     "name": "stdout",
     "output_type": "stream",
     "text": [
      "(5, -3)\n"
     ]
    }
   ],
   "source": [
    "lst = [23, ('Jorge', 67.5), [-1, 0, (5, -3)], 'Manzana']\n",
    "print(lst[2][2])"
   ]
  },
  {
   "attachments": {},
   "cell_type": "markdown",
   "metadata": {},
   "source": [
    "2. De acuerdo al siguiente código, conteste verdadero o falso.\n",
    "   \n",
    "   ```py\n",
    "   tupla = ((44, 100), (15, 25, 33), (0, -22), ('a', 'b', 'c'))\n",
    "   tupla[1][1] = 10\n",
    "   ```\n",
    "\n",
    "   `tupla[1][1] = 10` permite reemplazar el valor de 25 por 10.\n",
    "\n",
    "   Seleccione una:\n",
    "\n",
    "   - Verdadero\n",
    "   - Falso ✅"
   ]
  },
  {
   "cell_type": "code",
   "execution_count": 2,
   "metadata": {},
   "outputs": [
    {
     "ename": "TypeError",
     "evalue": "'tuple' object does not support item assignment",
     "output_type": "error",
     "traceback": [
      "\u001b[1;31m---------------------------------------------------------------------------\u001b[0m",
      "\u001b[1;31mTypeError\u001b[0m                                 Traceback (most recent call last)",
      "Cell \u001b[1;32mIn[2], line 2\u001b[0m\n\u001b[0;32m      1\u001b[0m tupla \u001b[39m=\u001b[39m ((\u001b[39m44\u001b[39m, \u001b[39m100\u001b[39m), (\u001b[39m15\u001b[39m, \u001b[39m25\u001b[39m, \u001b[39m33\u001b[39m), (\u001b[39m0\u001b[39m, \u001b[39m-\u001b[39m\u001b[39m22\u001b[39m), (\u001b[39m'\u001b[39m\u001b[39ma\u001b[39m\u001b[39m'\u001b[39m, \u001b[39m'\u001b[39m\u001b[39mb\u001b[39m\u001b[39m'\u001b[39m, \u001b[39m'\u001b[39m\u001b[39mc\u001b[39m\u001b[39m'\u001b[39m))\n\u001b[1;32m----> 2\u001b[0m tupla[\u001b[39m1\u001b[39;49m][\u001b[39m1\u001b[39;49m] \u001b[39m=\u001b[39m \u001b[39m10\u001b[39m\n",
      "\u001b[1;31mTypeError\u001b[0m: 'tuple' object does not support item assignment"
     ]
    }
   ],
   "source": [
    "tupla = ((44, 100), (15, 25, 33), (0, -22), ('a', 'b', 'c'))\n",
    "tupla[1][1] = 10"
   ]
  },
  {
   "attachments": {},
   "cell_type": "markdown",
   "metadata": {},
   "source": [
    "3. Del siguiente código:\n",
    "   \n",
    "   ```py\n",
    "   tupla = ((44, 100), (15, 25, 33), (0, -22), ('a', 'b', 'c'))\n",
    "   \n",
    "   c = 1\n",
    "\n",
    "   if all(tupla[2]):\n",
    "      c += 1\n",
    "   else:\n",
    "      c =-1\n",
    "    \n",
    "   c\n",
    "   ```\n",
    "\n",
    "   Conteste verdadero o falso: El valor de `c` después de ejecutar es `-1`.\n",
    "\n",
    "   Seleccione una:\n",
    "\n",
    "   - Verdadero ✅\n",
    "   - Falso"
   ]
  },
  {
   "cell_type": "code",
   "execution_count": 3,
   "metadata": {},
   "outputs": [
    {
     "name": "stdout",
     "output_type": "stream",
     "text": [
      "Valor de c: -1\n"
     ]
    }
   ],
   "source": [
    "tupla = ((44, 100), (15, 25, 33), (0, -22), ('a', 'b', 'c'))\n",
    "\n",
    "counter = 1\n",
    "\n",
    "if all(tupla[2]):\n",
    "    counter += 1\n",
    "else:\n",
    "    counter = -1\n",
    "\n",
    "print(f'Valor de c: {counter}')"
   ]
  },
  {
   "attachments": {},
   "cell_type": "markdown",
   "metadata": {},
   "source": [
    "4. De la tupla `tupla = ((44, 100), (15, 25, 33), (0, -22), ('a', 'b', 'c'))` conteste verdadero o falso:\n",
    "   \n",
    "   ```py\n",
    "   num_s = tupla.pop()\n",
    "   num_s = ('a', 'b', 'c')\n",
    "   ```\n",
    "\n",
    "   Seleccione una:\n",
    "\n",
    "   - Verdadero\n",
    "   - Falso ✅"
   ]
  },
  {
   "cell_type": "code",
   "execution_count": 4,
   "metadata": {},
   "outputs": [
    {
     "ename": "AttributeError",
     "evalue": "'tuple' object has no attribute 'pop'",
     "output_type": "error",
     "traceback": [
      "\u001b[1;31m---------------------------------------------------------------------------\u001b[0m",
      "\u001b[1;31mAttributeError\u001b[0m                            Traceback (most recent call last)",
      "Cell \u001b[1;32mIn[4], line 3\u001b[0m\n\u001b[0;32m      1\u001b[0m tupla \u001b[39m=\u001b[39m ((\u001b[39m44\u001b[39m, \u001b[39m100\u001b[39m), (\u001b[39m15\u001b[39m, \u001b[39m25\u001b[39m, \u001b[39m33\u001b[39m), (\u001b[39m0\u001b[39m, \u001b[39m-\u001b[39m\u001b[39m22\u001b[39m), (\u001b[39m'\u001b[39m\u001b[39ma\u001b[39m\u001b[39m'\u001b[39m, \u001b[39m'\u001b[39m\u001b[39mb\u001b[39m\u001b[39m'\u001b[39m, \u001b[39m'\u001b[39m\u001b[39mc\u001b[39m\u001b[39m'\u001b[39m))\n\u001b[1;32m----> 3\u001b[0m num_s \u001b[39m=\u001b[39m tupla\u001b[39m.\u001b[39;49mpop()\n\u001b[0;32m      4\u001b[0m num_s \u001b[39m=\u001b[39m (\u001b[39m'\u001b[39m\u001b[39ma\u001b[39m\u001b[39m'\u001b[39m, \u001b[39m'\u001b[39m\u001b[39mb\u001b[39m\u001b[39m'\u001b[39m, \u001b[39m'\u001b[39m\u001b[39mc\u001b[39m\u001b[39m'\u001b[39m)\n",
      "\u001b[1;31mAttributeError\u001b[0m: 'tuple' object has no attribute 'pop'"
     ]
    }
   ],
   "source": [
    "tupla = ((44, 100), (15, 25, 33), (0, -22), ('a', 'b', 'c'))\n",
    "\n",
    "num_s = tupla.pop()\n",
    "num_s = ('a', 'b', 'c')"
   ]
  },
  {
   "attachments": {},
   "cell_type": "markdown",
   "metadata": {},
   "source": [
    "5. De la tupla `tupla = ((44, 100), (15, 25, 33), (0, -22), ('a', 'b', 'c'))` conteste verdadero o falso:\n",
    "   \n",
    "   ```py\n",
    "   tupla[0][1] + tupla[2][1] == 78\n",
    "   ```\n",
    "\n",
    "   Seleccione una:\n",
    "\n",
    "   - Verdadero ✅\n",
    "   - Falso"
   ]
  },
  {
   "cell_type": "code",
   "execution_count": 5,
   "metadata": {},
   "outputs": [
    {
     "data": {
      "text/plain": [
       "True"
      ]
     },
     "execution_count": 5,
     "metadata": {},
     "output_type": "execute_result"
    }
   ],
   "source": [
    "tupla = ((44, 100), (15, 25, 33), (0, -22), ('a', 'b', 'c'))\n",
    "\n",
    "tupla[0][1] + tupla[2][1] == 78"
   ]
  },
  {
   "attachments": {},
   "cell_type": "markdown",
   "metadata": {},
   "source": [
    "6. De la lsta `lst = [23, ('Jorge', 67.5), [-1, 0, (5, -3)], 'Manzana']` conteste verdadero o falso:\n",
    "   \n",
    "   ```py\n",
    "   lst[1][0] + lst[3][3] == 'Jorgez'\n",
    "   ```\n",
    "\n",
    "   Seleccione una:\n",
    "\n",
    "   - Verdadero ✅\n",
    "   - Falso"
   ]
  },
  {
   "cell_type": "code",
   "execution_count": 6,
   "metadata": {},
   "outputs": [
    {
     "data": {
      "text/plain": [
       "True"
      ]
     },
     "execution_count": 6,
     "metadata": {},
     "output_type": "execute_result"
    }
   ],
   "source": [
    "lst = [23, ('Jorge', 67.5), [-1, 0, (5, -3)], 'Manzana']\n",
    "\n",
    "lst[1][0] + lst[3][3] == 'Jorgez'"
   ]
  },
  {
   "attachments": {},
   "cell_type": "markdown",
   "metadata": {},
   "source": [
    "7. El código correcto para obtener el conteo de caracteres del siguiente texto es:\n",
    "   \n",
    "   - a. \n",
    "      ```py\n",
    "      text = 'En la actualidad aprender a programar es indispensable'\n",
    "   \n",
    "      letters = {x for x in text}\n",
    "      num = 0\n",
    "\n",
    "      for i in letters:\n",
    "         if i in text:\n",
    "            num += 1\n",
    "      \n",
    "      print(letters, ':', num)\n",
    "      ```\n",
    "   - b. ✅ \n",
    "      ```py\n",
    "      text = 'En la actualidad aprender a programar es indispensable'\n",
    "      counter = {}\n",
    "   \n",
    "      for count in text:\n",
    "         if count in counter:\n",
    "            counter[count] += 1\n",
    "         else:\n",
    "            counter[count] = 1\n",
    "      \n",
    "      print(counter)\n",
    "      ```\n",
    "   - c. \n",
    "      ```py\n",
    "      text = 'En la actualidad aprender a programar es indispensable'\n",
    "      counter = set()\n",
    "   \n",
    "      for r in range(len(text)):\n",
    "         if text[r] not it counter:\n",
    "            counter.add(text[r])\n",
    "      \n",
    "      num = [sum(i) if i in text for i in counter]\n",
    "      \n",
    "      print(num)\n",
    "      ```\n",
    "   - d. \n",
    "      ```py\n",
    "      text = 'En la actualidad aprender a programar es indispensable'\n",
    "      v = 0\n",
    "\n",
    "      counter_letters = {i: v + 1 for i in text}\n",
    "      \n",
    "      print(counter_letters)\n",
    "      ```"
   ]
  },
  {
   "cell_type": "code",
   "execution_count": 7,
   "metadata": {},
   "outputs": [
    {
     "name": "stdout",
     "output_type": "stream",
     "text": [
      "{'s', 'E', 'p', 'r', 'g', ' ', 'e', 'i', 'o', 'n', 'u', 'a', 'b', 'c', 'm', 'd', 'l', 't'} : 18\n"
     ]
    }
   ],
   "source": [
    "text = 'En la actualidad aprender a programar es indispensable'\n",
    "\n",
    "letters = {x for x in text}\n",
    "num = 0\n",
    "\n",
    "for i in letters:\n",
    "    if i in text:\n",
    "        num += 1\n",
    "\n",
    "print(letters, ':', num)"
   ]
  },
  {
   "cell_type": "code",
   "execution_count": 8,
   "metadata": {},
   "outputs": [
    {
     "name": "stdout",
     "output_type": "stream",
     "text": [
      "{'E': 1, 'n': 4, ' ': 7, 'l': 3, 'a': 9, 'c': 1, 't': 1, 'u': 1, 'i': 3, 'd': 4, 'p': 3, 'r': 5, 'e': 5, 'o': 1, 'g': 1, 'm': 1, 's': 3, 'b': 1}\n"
     ]
    }
   ],
   "source": [
    "text = 'En la actualidad aprender a programar es indispensable'\n",
    "counter = {}\n",
    "\n",
    "for count in text:\n",
    "    if count in counter:\n",
    "        counter[count] += 1\n",
    "    else:\n",
    "        counter[count] = 1\n",
    "\n",
    "print(counter)"
   ]
  },
  {
   "cell_type": "code",
   "execution_count": 9,
   "metadata": {},
   "outputs": [
    {
     "ename": "SyntaxError",
     "evalue": "expected 'else' after 'if' expression (782972127.py, line 8)",
     "output_type": "error",
     "traceback": [
      "\u001b[1;36m  Cell \u001b[1;32mIn[9], line 8\u001b[1;36m\u001b[0m\n\u001b[1;33m    num = [sum(i) if i in text for i in counter]\u001b[0m\n\u001b[1;37m           ^\u001b[0m\n\u001b[1;31mSyntaxError\u001b[0m\u001b[1;31m:\u001b[0m expected 'else' after 'if' expression\n"
     ]
    }
   ],
   "source": [
    "text = 'En la actualidad aprender a programar es indispensable'\n",
    "counter = set()\n",
    "\n",
    "for r in range(len(text)):\n",
    "    if text[r] not in counter:\n",
    "        counter.add(text[r])\n",
    "\n",
    "num = [sum(i) if i in text for i in counter]\n",
    "\n",
    "print(num)"
   ]
  },
  {
   "cell_type": "code",
   "execution_count": 10,
   "metadata": {},
   "outputs": [
    {
     "name": "stdout",
     "output_type": "stream",
     "text": [
      "{'E': 1, 'n': 1, ' ': 1, 'l': 1, 'a': 1, 'c': 1, 't': 1, 'u': 1, 'i': 1, 'd': 1, 'p': 1, 'r': 1, 'e': 1, 'o': 1, 'g': 1, 'm': 1, 's': 1, 'b': 1}\n"
     ]
    }
   ],
   "source": [
    "text = 'En la actualidad aprender a programar es indispensable'\n",
    "v = 0\n",
    "\n",
    "counter_letters = {i: v + 1 for i in text}\n",
    "\n",
    "print(counter_letters)"
   ]
  },
  {
   "attachments": {},
   "cell_type": "markdown",
   "metadata": {},
   "source": [
    "8. Del diccionario `dct = {'a': [1, 2, 3, 4, 2, 1], 'o': (3, 4, 5, 3, 6), 'k': [0, 1, 0]}` conteste verdadero o falso:\n",
    "   \n",
    "   ```py\n",
    "   list(dct.keys())[1] in 'Python'\n",
    "   ```\n",
    "\n",
    "   Seleccione una:\n",
    "\n",
    "   - Verdadero ✅\n",
    "   - Falso"
   ]
  },
  {
   "cell_type": "code",
   "execution_count": 11,
   "metadata": {},
   "outputs": [
    {
     "name": "stdout",
     "output_type": "stream",
     "text": [
      "['a', 'o', 'k']\n",
      "True\n"
     ]
    }
   ],
   "source": [
    "dct = {\n",
    "    'a': [1, 2, 3, 4, 2, 1], \n",
    "    'o': (3, 4, 5, 3, 6), \n",
    "    'k': [0, 1, 0]\n",
    "}\n",
    "\n",
    "print(list(dct.keys()))\n",
    "print(list(dct.keys())[1] in 'Python')"
   ]
  },
  {
   "attachments": {},
   "cell_type": "markdown",
   "metadata": {},
   "source": [
    "9. De la lista `lst = [23, ('Jorge', 67.5), [-1, 0, (5, -3)], 'Manzana']` conteste verdadero o falso. Los elementos de la lista deben ser todos del mismo tipo de dato.\n",
    "    \n",
    "    Seleccione una:\n",
    "\n",
    "    - Verdadero\n",
    "    - Falso ✅"
   ]
  },
  {
   "attachments": {},
   "cell_type": "markdown",
   "metadata": {},
   "source": [
    "10. De la lista `lst = [23, ('Jorge', 67.5), [-1, 0, (5, -3)], 'Manzana']` conteste verdadero o falso:\n",
    "    \n",
    "    ```py\n",
    "    all(lst)\n",
    "    ```\n",
    "\n",
    "    Seleccione una:\n",
    "\n",
    "    - Verdadero ✅\n",
    "    - Falso"
   ]
  },
  {
   "cell_type": "code",
   "execution_count": 12,
   "metadata": {},
   "outputs": [
    {
     "data": {
      "text/plain": [
       "True"
      ]
     },
     "execution_count": 12,
     "metadata": {},
     "output_type": "execute_result"
    }
   ],
   "source": [
    "lst = [23, ('Jorge', 67.5), [-1, 0, (5, -3)], 'Manzana']\n",
    "\n",
    "all(lst)"
   ]
  }
 ],
 "metadata": {
  "kernelspec": {
   "display_name": "Python 3",
   "language": "python",
   "name": "python3"
  },
  "language_info": {
   "codemirror_mode": {
    "name": "ipython",
    "version": 3
   },
   "file_extension": ".py",
   "mimetype": "text/x-python",
   "name": "python",
   "nbconvert_exporter": "python",
   "pygments_lexer": "ipython3",
   "version": "3.11.2"
  },
  "orig_nbformat": 4
 },
 "nbformat": 4,
 "nbformat_minor": 2
}
