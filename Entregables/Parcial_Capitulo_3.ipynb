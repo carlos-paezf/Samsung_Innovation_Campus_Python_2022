{
 "cells": [
  {
   "attachments": {},
   "cell_type": "markdown",
   "metadata": {},
   "source": [
    "# Parcial - Capítulo 2"
   ]
  },
  {
   "attachments": {},
   "cell_type": "markdown",
   "metadata": {},
   "source": [
    "1. La sentencia *\"Los parámetros se definen por los nombres que aparecen en la definición de una función, mientras que los argumentos son los valores que realmente se ingresan a una función al llamarla\"* es:\n",
    "   \n",
    "   Selecione una:\n",
    "\n",
    "   - Verdadero ✅\n",
    "   - False "
   ]
  },
  {
   "attachments": {},
   "cell_type": "markdown",
   "metadata": {},
   "source": [
    "2. De la tupla `tupla = ([44, 100], (15, 25, 33), (0, -22), ('a', 'b', 'c'))` conteste verdadero o falso\n",
    "   \n",
    "   ```py\n",
    "   num_s = tupla.pop()\n",
    "   num_s = ('a', 'b', 'c')\n",
    "   ```\n",
    "\n",
    "   Seleccione una:\n",
    "\n",
    "   - Verdadero\n",
    "   - Falso ✅"
   ]
  },
  {
   "cell_type": "code",
   "execution_count": 1,
   "metadata": {},
   "outputs": [
    {
     "ename": "AttributeError",
     "evalue": "'tuple' object has no attribute 'pop'",
     "output_type": "error",
     "traceback": [
      "\u001b[1;31m---------------------------------------------------------------------------\u001b[0m",
      "\u001b[1;31mAttributeError\u001b[0m                            Traceback (most recent call last)",
      "Cell \u001b[1;32mIn[1], line 3\u001b[0m\n\u001b[0;32m      1\u001b[0m tupla \u001b[39m=\u001b[39m ([\u001b[39m44\u001b[39m, \u001b[39m100\u001b[39m], (\u001b[39m15\u001b[39m, \u001b[39m25\u001b[39m, \u001b[39m33\u001b[39m), (\u001b[39m0\u001b[39m, \u001b[39m-\u001b[39m\u001b[39m22\u001b[39m), (\u001b[39m'\u001b[39m\u001b[39ma\u001b[39m\u001b[39m'\u001b[39m, \u001b[39m'\u001b[39m\u001b[39mb\u001b[39m\u001b[39m'\u001b[39m, \u001b[39m'\u001b[39m\u001b[39mc\u001b[39m\u001b[39m'\u001b[39m))\n\u001b[1;32m----> 3\u001b[0m num_s \u001b[39m=\u001b[39m tupla\u001b[39m.\u001b[39;49mpop()\n\u001b[0;32m      4\u001b[0m num_s \u001b[39m=\u001b[39m (\u001b[39m'\u001b[39m\u001b[39ma\u001b[39m\u001b[39m'\u001b[39m, \u001b[39m'\u001b[39m\u001b[39mb\u001b[39m\u001b[39m'\u001b[39m, \u001b[39m'\u001b[39m\u001b[39mc\u001b[39m\u001b[39m'\u001b[39m)\n",
      "\u001b[1;31mAttributeError\u001b[0m: 'tuple' object has no attribute 'pop'"
     ]
    }
   ],
   "source": [
    "tupla = ([44, 100], (15, 25, 33), (0, -22), ('a', 'b', 'c'))\n",
    "\n",
    "num_s = tupla.pop()\n",
    "num_s = ('a', 'b', 'c')"
   ]
  },
  {
   "attachments": {},
   "cell_type": "markdown",
   "metadata": {},
   "source": [
    "3. Al declarar una variable dentro de una función con la palabra clave `global` como se observa el siguiente código, ¿cómo esta acción afectará a la variable externa?\n",
    "   \n",
    "   ```py\n",
    "   def print_count():\n",
    "       global count\n",
    "       count = 700\n",
    "       print('Respuesta 1:', count)\n",
    "   \n",
    "   count = 100\n",
    "   \n",
    "   print_count()\n",
    "   print('Respuesta 2:', count)\n",
    "   ```\n",
    "\n",
    "   - a. Respuesta 1: 700 - Respuesta 2: 700 ✅\n",
    "   - b. Respuesta 1: 700 - Respuesta 2: 800\n",
    "   - c. Respuesta 1: 100 - Respuesta 2: 100\n",
    "   - d. Respuesta 1: 700 - Respuesta 2: 100"
   ]
  },
  {
   "cell_type": "code",
   "execution_count": 2,
   "metadata": {},
   "outputs": [
    {
     "name": "stdout",
     "output_type": "stream",
     "text": [
      "Respuesta 1: 700\n",
      "Respuesta 2: 700\n"
     ]
    }
   ],
   "source": [
    "def print_count():\n",
    "    global count\n",
    "    count = 700\n",
    "    print('Respuesta 1:', count)\n",
    "\n",
    "count = 100\n",
    "\n",
    "print_count()\n",
    "print('Respuesta 2:', count)"
   ]
  },
  {
   "attachments": {},
   "cell_type": "markdown",
   "metadata": {},
   "source": [
    "4. Las funciones Lambda son una forma corta de declarar funciones pequeñas y la función `map()`, en Python, aplica una función a cada uno de los elementos de una lista. Teniendo en cuenta lo anterior, el código:\n",
    "   \n",
    "   ```py\n",
    "   list_ints = [3, 6, 9, 12]\n",
    "\n",
    "   def square(x):\n",
    "       return x ** 2\n",
    "\n",
    "   def cube(x):\n",
    "       return x ** 3\n",
    "\n",
    "   functions = [square, cube]\n",
    "\n",
    "   for i in list_ints:\n",
    "       values = list(map(lambda x: x(i), functions))\n",
    "       print(values)\n",
    "   ```\n",
    "\n",
    "   - a. Imprimirá solo el cubo de 3, 6, 9, 12, ya que la función `map()` en Lambda solo toma el último valor de una lista de funciones.\n",
    "   - b. Imprimirá solo el cuadrado de 3, 6, 9 y 12, ya que la función `map()` en Lambda solo toma el primer valor de una lista de funciones.\n",
    "   - c. Imprimirá el cuadrado y el cubo de 3, 6, 9, y 12. ✅\n",
    "   - d. No dará resultado dado que la función `map()` no puede ser utilizada en una lista de funciones."
   ]
  },
  {
   "cell_type": "code",
   "execution_count": 3,
   "metadata": {},
   "outputs": [
    {
     "name": "stdout",
     "output_type": "stream",
     "text": [
      "[9, 27]\n",
      "[36, 216]\n",
      "[81, 729]\n",
      "[144, 1728]\n"
     ]
    }
   ],
   "source": [
    "list_ints = [3, 6, 9, 12]\n",
    "\n",
    "def square(x):\n",
    "    return x ** 2\n",
    "\n",
    "def cube(x):\n",
    "    return x ** 3\n",
    "\n",
    "functions = [square, cube]\n",
    "\n",
    "for i in list_ints:\n",
    "    values = list(map(lambda x: x(i), functions))\n",
    "    print(values)"
   ]
  },
  {
   "attachments": {},
   "cell_type": "markdown",
   "metadata": {},
   "source": [
    "5. Las variables definidas dentro de una función y que solamente son accesibles dentro de la misma función se denominan:\n",
    "   \n",
    "   - a. Variable Local ✅\n",
    "   - b. Argumento Especifíco\n",
    "   - c. Variable Especifíca\n",
    "   - d. Variable Global"
   ]
  },
  {
   "attachments": {},
   "cell_type": "markdown",
   "metadata": {},
   "source": [
    "6. Para el ejemplo:\n",
    "   \n",
    "   ```py\n",
    "   def calc():\n",
    "       a = 4\n",
    "       b = 2\n",
    "   \n",
    "       def mul_add(x):\n",
    "           return a*x / b\n",
    "\n",
    "       return mul_add\n",
    "   \n",
    "   c = calc()\n",
    "   print(c(100), c(200), c(300), c(450))\n",
    "   ```\n",
    "\n",
    "   - a. 50.0 100.0 150.0 225.0\n",
    "   - b. 200.0 400.0 600.0 900.0 ✅\n",
    "   - c. 150.0 300.0 400.0 500.0\n",
    "   - d. 100.0 200.0 300.0 450.0"
   ]
  },
  {
   "cell_type": "code",
   "execution_count": 5,
   "metadata": {},
   "outputs": [
    {
     "name": "stdout",
     "output_type": "stream",
     "text": [
      "200.0 400.0 600.0 900.0\n"
     ]
    }
   ],
   "source": [
    "def calc():\n",
    "    a = 4\n",
    "    b = 2\n",
    "\n",
    "    def mul_add(x):\n",
    "        return a*x / b\n",
    "\n",
    "    return mul_add\n",
    "\n",
    "c = calc()\n",
    "print(c(100), c(200), c(300), c(450))"
   ]
  }
 ],
 "metadata": {
  "kernelspec": {
   "display_name": "Python 3",
   "language": "python",
   "name": "python3"
  },
  "language_info": {
   "codemirror_mode": {
    "name": "ipython",
    "version": 3
   },
   "file_extension": ".py",
   "mimetype": "text/x-python",
   "name": "python",
   "nbconvert_exporter": "python",
   "pygments_lexer": "ipython3",
   "version": "3.11.2"
  },
  "orig_nbformat": 4
 },
 "nbformat": 4,
 "nbformat_minor": 2
}
