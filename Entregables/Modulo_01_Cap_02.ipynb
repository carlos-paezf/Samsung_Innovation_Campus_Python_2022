{
 "cells": [
  {
   "cell_type": "markdown",
   "metadata": {},
   "source": [
    "# Módulo 1 - Capitulo 2"
   ]
  },
  {
   "cell_type": "markdown",
   "metadata": {},
   "source": [
    "## Unidad 10"
   ]
  },
  {
   "cell_type": "markdown",
   "metadata": {},
   "source": [
    "### Quiz 1"
   ]
  },
  {
   "cell_type": "markdown",
   "metadata": {},
   "source": [
    "Cree una lista de primos que tenga como elementos números primos entre 2 y 10.\n",
    "\n",
    "A continuación, utilice la indexación de la lista al primer elemento de la lista e imprima como se muestra a continuación.\n",
    "\n",
    "<table>\n",
    "    <tr>\n",
    "        <td>Condición para la ejecución</td>\n",
    "        <td>\n",
    "            1er elemento de <code>primos_lista</code>\n",
    "            2do\n",
    "            3ro\n",
    "        </td>\n",
    "    </tr>\n",
    "    <tr>\n",
    "        <td>Tiempo</td>\n",
    "        <td>5 minutos</td>\n",
    "    </tr>\n",
    "</table>"
   ]
  },
  {
   "cell_type": "code",
   "execution_count": 7,
   "metadata": {},
   "outputs": [
    {
     "name": "stdout",
     "output_type": "stream",
     "text": [
      "2\n",
      "3\n",
      "5\n",
      "7\n"
     ]
    }
   ],
   "source": [
    "def isPrime(n):\n",
    "    for i in range(2, n):\n",
    "        if (n % i) == 0:\n",
    "            return False\n",
    "    return True\n",
    "\n",
    "prime_list = []\n",
    "\n",
    "for i in range(2, 10):\n",
    "    if isPrime(i):\n",
    "        prime_list.append(i)\n",
    "\n",
    "for i in range(len(prime_list)):\n",
    "    print(prime_list[i])\n"
   ]
  },
  {
   "cell_type": "markdown",
   "metadata": {},
   "source": [
    "### Quiz 2"
   ]
  },
  {
   "cell_type": "markdown",
   "metadata": {},
   "source": [
    "Crear `primos_lista` que tenga como elementos números primos entre 1 y 10.\n",
    "\n",
    "A continuación, utiliza el método append para añadir 11. Imprime lso resultados antes y despues de la adición como se muestra a continuación.\n",
    "\n",
    "<table>\n",
    "    <tr>\n",
    "        <td>Condición para la ejecución</td>\n",
    "        <td>\n",
    "            Números primos: []<br />\n",
    "            Números primos despues de la adición: []\n",
    "        </td>\n",
    "    </tr>\n",
    "    <tr>\n",
    "        <td>Tiempo</td>\n",
    "        <td>5 minutos</td>\n",
    "    </tr>\n",
    "</table>"
   ]
  },
  {
   "cell_type": "code",
   "execution_count": 9,
   "metadata": {},
   "outputs": [
    {
     "name": "stdout",
     "output_type": "stream",
     "text": [
      "Números primos: [1, 2, 3, 5, 7]\n",
      "Números primos después de la adición: [1, 2, 3, 5, 7, 11]\n"
     ]
    }
   ],
   "source": [
    "prime_list = []\n",
    "\n",
    "for i in range(1, 10):\n",
    "    if isPrime(i):\n",
    "        prime_list.append(i)\n",
    "\n",
    "\n",
    "print(f\"Números primos: { prime_list }\")\n",
    "\n",
    "prime_list.append(11)\n",
    "print(f\"Números primos después de la adición: { prime_list }\")\n"
   ]
  },
  {
   "cell_type": "markdown",
   "metadata": {},
   "source": [
    "### Quiz 3"
   ]
  },
  {
   "cell_type": "markdown",
   "metadata": {},
   "source": [
    "Para la `list1` y la `list2`, utilice el bucle for anidado para multiplicar cada elemento de la `list1` y la `list2` y luego imprima el resultado con el resultado de la multiplicación de elementos.\n",
    "\n",
    "\n",
    "<table>\n",
    "<tr>\n",
    "  <td><strong>Condicion para la ejecución</strong></td>\n",
    "  <td>Declare <code>list1</code> y <code>list2</code> en la primera y segunda fila. <br>Utilizar el bucle for anidado en la tercera y cuarta fila, <br>y utilizar el bucle print en la quinta fila. \n",
    "</td>\n",
    "<tr>\n",
    "  <td><strong>Tiempo</strong></td>\n",
    "  <td>5 Minutos</td>\n",
    "<tr>\n",
    "</table>"
   ]
  },
  {
   "cell_type": "code",
   "execution_count": 13,
   "metadata": {},
   "outputs": [
    {
     "name": "stdout",
     "output_type": "stream",
     "text": [
      "3 * 2 = 6\n",
      "3 * 3 = 9\n",
      "3 * 4 = 12\n",
      "3 * 5 = 15\n",
      "3 * 6 = 18\n",
      "5 * 2 = 10\n",
      "5 * 3 = 15\n",
      "5 * 4 = 20\n",
      "5 * 5 = 25\n",
      "5 * 6 = 30\n",
      "7 * 2 = 14\n",
      "7 * 3 = 21\n",
      "7 * 4 = 28\n",
      "7 * 5 = 35\n",
      "7 * 6 = 42\n"
     ]
    }
   ],
   "source": [
    "list1 = [3, 5, 7]\n",
    "list2 = [2, 3, 4, 5, 6]\n",
    "\n",
    "\n",
    "for i in range(len(list1)):\n",
    "    for j in range(len(list2)):\n",
    "        print(f\"{list1[i]} * {list2[j]} = { list1[i] * list2[j] }\")"
   ]
  },
  {
   "cell_type": "markdown",
   "metadata": {},
   "source": [
    "### Quiz 4"
   ]
  },
  {
   "cell_type": "markdown",
   "metadata": {},
   "source": [
    "Hay una lista con la cadena `s_lista = ['abc', 'bcd', 'bcdefg', 'abba', 'cddc', 'opq']`. Implementa la siguiente función a esta lista.\n",
    "\n",
    "No utilice la función `min` o el método `sort` para imprimir la cadena más corta de las cadenas de `s_list`.\n",
    "\n",
    "(Si hay varias cadenas más cortas, imprime la cadena que muestra la primera como siguiente).\n",
    "\n",
    "Ejemplo de salida:\n",
    "\n",
    "La cadena más corta es:\n",
    "\n",
    "```txt\n",
    "abc\n",
    "```"
   ]
  },
  {
   "cell_type": "code",
   "execution_count": 24,
   "metadata": {},
   "outputs": [
    {
     "name": "stdout",
     "output_type": "stream",
     "text": [
      "La cadena más corta es: abc\n"
     ]
    }
   ],
   "source": [
    "s_list = ['abc', 'bcd', 'bcdefg', 'abba', 'cddc', 'opq']\n",
    "\n",
    "aux = 0\n",
    "\n",
    "for i in range(len(s_list)):\n",
    "    if len(s_list[aux]) <= len(s_list[i]):\n",
    "        pass\n",
    "    else:\n",
    "        aux = i\n",
    "        pass\n",
    "        \n",
    "print(f\"La cadena más corta es: {s_list[aux]}\")\n",
    "    "
   ]
  },
  {
   "cell_type": "markdown",
   "metadata": {},
   "source": [
    "### Quiz 5"
   ]
  },
  {
   "cell_type": "markdown",
   "metadata": {},
   "source": [
    "Hay una lista con la cadena `s_list = ['abc', 'bcd', 'bcdefg', 'abba', 'cddc', 'opq']`. Implementa la siguiente función a esta lista.\n",
    "\n",
    "No utilice la función `min` ni el método `sort` para imprimir la cadena más corta de las cadenas de `s_list`.\n",
    "\n",
    "(Si hay varias cadenas más cortas, imprime la cadena que muestra la primera como la siguiente).\n",
    "\n",
    "Ejemplo de salida:\n",
    "\n",
    "La cadena más larga es:\n",
    "\n",
    "```txt\n",
    "bcdefg\n",
    "```"
   ]
  },
  {
   "cell_type": "code",
   "execution_count": 29,
   "metadata": {},
   "outputs": [
    {
     "name": "stdout",
     "output_type": "stream",
     "text": [
      "La cadena más larga es bcdefg\n"
     ]
    }
   ],
   "source": [
    "s_list = ['abc', 'bcd', 'bcdefg', 'abba', 'cddc', 'opq']\n",
    "\n",
    "aux = 0\n",
    "\n",
    "for i in range(len(s_list)):\n",
    "    if len(s_list[i]) > len(s_list[aux]):\n",
    "        aux = i\n",
    "        pass\n",
    "    else:\n",
    "        pass\n",
    "\n",
    "print(f\"La cadena más larga es {s_list[aux]}\")"
   ]
  },
  {
   "cell_type": "markdown",
   "metadata": {},
   "source": [
    "### Quiz 6"
   ]
  },
  {
   "cell_type": "markdown",
   "metadata": {},
   "source": [
    "Hay una lista con la cadena `s_list = ['abc', 'bcd', 'bcdefg', 'abba', 'cddc', 'opq']`. Implementa la siguiente función a esta lista.\n",
    "\n",
    "Del problema de programación por pares anterior, la longitud de `abc`, `bcd` y `opq` es igual a 3.\n",
    "\n",
    "Asimismo, si las longitudes de las cadenas son iguales, escribe un programa que imprima las tres cadenas más cortas como sigue.\n",
    "\n",
    "Utiliza la función `sort(key=len)` para ordernar las cadenas por su longitud y luego escribe un código.\n",
    "\n",
    "Ejemplo de salida:\n",
    "\n",
    "Las cádenas más cortas son:\n",
    "\n",
    "```txt\n",
    "abc, bcd, opq\n",
    "```"
   ]
  },
  {
   "cell_type": "code",
   "execution_count": 38,
   "metadata": {},
   "outputs": [
    {
     "name": "stdout",
     "output_type": "stream",
     "text": [
      "Las cadrenas más cortas son: abc, bcd, opq\n"
     ]
    }
   ],
   "source": [
    "s_list = ['abc', 'bcd', 'bcdefg', 'abba', 'cddc', 'opq']\n",
    "s_list.sort(key=len)\n",
    "\n",
    "min_len = len(s_list[0])\n",
    "\n",
    "new_list = []\n",
    "\n",
    "for i in range(len(s_list)):\n",
    "    if len(s_list[i]) == min_len:\n",
    "        new_list.append(s_list[i])\n",
    "\n",
    "print(f\"Las cadrenas más cortas son: {', '.join(new_list)}\")"
   ]
  }
 ],
 "metadata": {
  "kernelspec": {
   "display_name": "Python 3 (ipykernel)",
   "language": "python",
   "name": "python3"
  },
  "language_info": {
   "codemirror_mode": {
    "name": "ipython",
    "version": 3
   },
   "file_extension": ".py",
   "mimetype": "text/x-python",
   "name": "python",
   "nbconvert_exporter": "python",
   "pygments_lexer": "ipython3",
   "version": "3.9.13"
  }
 },
 "nbformat": 4,
 "nbformat_minor": 2
}
