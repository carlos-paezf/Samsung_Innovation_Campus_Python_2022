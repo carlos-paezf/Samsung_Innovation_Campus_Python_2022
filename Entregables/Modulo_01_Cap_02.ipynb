{
 "cells": [
  {
   "cell_type": "markdown",
   "metadata": {},
   "source": [
    "# Módulo 1 - Capitulo 2"
   ]
  },
  {
   "cell_type": "markdown",
   "metadata": {},
   "source": [
    "## Unidad 10"
   ]
  },
  {
   "cell_type": "markdown",
   "metadata": {},
   "source": [
    "### Quiz 1"
   ]
  },
  {
   "cell_type": "markdown",
   "metadata": {},
   "source": [
    "Cree una lista de primos que tenga como elementos números primos entre 2 y 10.\n",
    "\n",
    "A continuación, utilice la indexación de la lista al primer elemento de la lista e imprima como se muestra a continuación.\n",
    "\n",
    "<table>\n",
    "    <tr>\n",
    "        <td>Condición para la ejecución</td>\n",
    "        <td>\n",
    "            1er elemento de <code>primos_lista</code>\n",
    "            2do\n",
    "            3ro\n",
    "        </td>\n",
    "    </tr>\n",
    "    <tr>\n",
    "        <td>Tiempo</td>\n",
    "        <td>5 minutos</td>\n",
    "    </tr>\n",
    "</table>"
   ]
  },
  {
   "cell_type": "code",
   "execution_count": 7,
   "metadata": {},
   "outputs": [
    {
     "name": "stdout",
     "output_type": "stream",
     "text": [
      "2\n",
      "3\n",
      "5\n",
      "7\n"
     ]
    }
   ],
   "source": [
    "def isPrime(n):\n",
    "    for i in range(2, n):\n",
    "        if (n % i) == 0:\n",
    "            return False\n",
    "    return True\n",
    "\n",
    "prime_list = []\n",
    "\n",
    "for i in range(2, 10):\n",
    "    if isPrime(i):\n",
    "        prime_list.append(i)\n",
    "\n",
    "for i in range(len(prime_list)):\n",
    "    print(prime_list[i])\n"
   ]
  },
  {
   "cell_type": "markdown",
   "metadata": {},
   "source": [
    "### Quiz 2"
   ]
  },
  {
   "cell_type": "markdown",
   "metadata": {},
   "source": [
    "Crear `primos_lista` que tenga como elementos números primos entre 1 y 10.\n",
    "\n",
    "A continuación, utiliza el método append para añadir 11. Imprime lso resultados antes y despues de la adición como se muestra a continuación.\n",
    "\n",
    "<table>\n",
    "    <tr>\n",
    "        <td>Condición para la ejecución</td>\n",
    "        <td>\n",
    "            Números primos: []<br />\n",
    "            Números primos despues de la adición: []\n",
    "        </td>\n",
    "    </tr>\n",
    "    <tr>\n",
    "        <td>Tiempo</td>\n",
    "        <td>5 minutos</td>\n",
    "    </tr>\n",
    "</table>"
   ]
  },
  {
   "cell_type": "code",
   "execution_count": 9,
   "metadata": {},
   "outputs": [
    {
     "name": "stdout",
     "output_type": "stream",
     "text": [
      "Números primos: [1, 2, 3, 5, 7]\n",
      "Números primos después de la adición: [1, 2, 3, 5, 7, 11]\n"
     ]
    }
   ],
   "source": [
    "prime_list = []\n",
    "\n",
    "for i in range(1, 10):\n",
    "    if isPrime(i):\n",
    "        prime_list.append(i)\n",
    "\n",
    "\n",
    "print(f\"Números primos: { prime_list }\")\n",
    "\n",
    "prime_list.append(11)\n",
    "print(f\"Números primos después de la adición: { prime_list }\")\n"
   ]
  },
  {
   "cell_type": "markdown",
   "metadata": {},
   "source": [
    "### Quiz 3"
   ]
  },
  {
   "cell_type": "markdown",
   "metadata": {},
   "source": [
    "Para la `list1` y la `list2`, utilice el bucle for anidado para multiplicar cada elemento de la `list1` y la `list2` y luego imprima el resultado con el resultado de la multiplicación de elementos.\n",
    "\n",
    "\n",
    "<table>\n",
    "<tr>\n",
    "  <td><strong>Condicion para la ejecución</strong></td>\n",
    "  <td>Declare <code>list1</code> y <code>list2</code> en la primera y segunda fila. <br>Utilizar el bucle for anidado en la tercera y cuarta fila, <br>y utilizar el bucle print en la quinta fila. \n",
    "</td>\n",
    "<tr>\n",
    "  <td><strong>Tiempo</strong></td>\n",
    "  <td>5 Minutos</td>\n",
    "<tr>\n",
    "</table>"
   ]
  },
  {
   "cell_type": "code",
   "execution_count": 13,
   "metadata": {},
   "outputs": [
    {
     "name": "stdout",
     "output_type": "stream",
     "text": [
      "3 * 2 = 6\n",
      "3 * 3 = 9\n",
      "3 * 4 = 12\n",
      "3 * 5 = 15\n",
      "3 * 6 = 18\n",
      "5 * 2 = 10\n",
      "5 * 3 = 15\n",
      "5 * 4 = 20\n",
      "5 * 5 = 25\n",
      "5 * 6 = 30\n",
      "7 * 2 = 14\n",
      "7 * 3 = 21\n",
      "7 * 4 = 28\n",
      "7 * 5 = 35\n",
      "7 * 6 = 42\n"
     ]
    }
   ],
   "source": [
    "list1 = [3, 5, 7]\n",
    "list2 = [2, 3, 4, 5, 6]\n",
    "\n",
    "\n",
    "for i in range(len(list1)):\n",
    "    for j in range(len(list2)):\n",
    "        print(f\"{list1[i]} * {list2[j]} = { list1[i] * list2[j] }\")"
   ]
  },
  {
   "cell_type": "markdown",
   "metadata": {},
   "source": [
    "### Quiz 4"
   ]
  },
  {
   "cell_type": "markdown",
   "metadata": {},
   "source": [
    "Hay una lista con la cadena `s_lista = ['abc', 'bcd', 'bcdefg', 'abba', 'cddc', 'opq']`. Implementa la siguiente función a esta lista.\n",
    "\n",
    "No utilice la función `min` o el método `sort` para imprimir la cadena más corta de las cadenas de `s_list`.\n",
    "\n",
    "(Si hay varias cadenas más cortas, imprime la cadena que muestra la primera como siguiente).\n",
    "\n",
    "Ejemplo de salida:\n",
    "\n",
    "La cadena más corta es:\n",
    "\n",
    "```txt\n",
    "abc\n",
    "```"
   ]
  },
  {
   "cell_type": "code",
   "execution_count": 24,
   "metadata": {},
   "outputs": [
    {
     "name": "stdout",
     "output_type": "stream",
     "text": [
      "La cadena más corta es: abc\n"
     ]
    }
   ],
   "source": [
    "s_list = ['abc', 'bcd', 'bcdefg', 'abba', 'cddc', 'opq']\n",
    "\n",
    "aux = 0\n",
    "\n",
    "for i in range(len(s_list)):\n",
    "    if len(s_list[aux]) <= len(s_list[i]):\n",
    "        pass\n",
    "    else:\n",
    "        aux = i\n",
    "        pass\n",
    "        \n",
    "print(f\"La cadena más corta es: {s_list[aux]}\")\n",
    "    "
   ]
  },
  {
   "cell_type": "markdown",
   "metadata": {},
   "source": [
    "### Quiz 5"
   ]
  },
  {
   "cell_type": "markdown",
   "metadata": {},
   "source": [
    "Hay una lista con la cadena `s_list = ['abc', 'bcd', 'bcdefg', 'abba', 'cddc', 'opq']`. Implementa la siguiente función a esta lista.\n",
    "\n",
    "No utilice la función `min` ni el método `sort` para imprimir la cadena más corta de las cadenas de `s_list`.\n",
    "\n",
    "(Si hay varias cadenas más cortas, imprime la cadena que muestra la primera como la siguiente).\n",
    "\n",
    "Ejemplo de salida:\n",
    "\n",
    "La cadena más larga es:\n",
    "\n",
    "```txt\n",
    "bcdefg\n",
    "```"
   ]
  },
  {
   "cell_type": "code",
   "execution_count": 29,
   "metadata": {},
   "outputs": [
    {
     "name": "stdout",
     "output_type": "stream",
     "text": [
      "La cadena más larga es bcdefg\n"
     ]
    }
   ],
   "source": [
    "s_list = ['abc', 'bcd', 'bcdefg', 'abba', 'cddc', 'opq']\n",
    "\n",
    "aux = 0\n",
    "\n",
    "for i in range(len(s_list)):\n",
    "    if len(s_list[i]) > len(s_list[aux]):\n",
    "        aux = i\n",
    "        pass\n",
    "    else:\n",
    "        pass\n",
    "\n",
    "print(f\"La cadena más larga es {s_list[aux]}\")"
   ]
  },
  {
   "cell_type": "markdown",
   "metadata": {},
   "source": [
    "### Quiz 6"
   ]
  },
  {
   "cell_type": "markdown",
   "metadata": {},
   "source": [
    "Hay una lista con la cadena `s_list = ['abc', 'bcd', 'bcdefg', 'abba', 'cddc', 'opq']`. Implementa la siguiente función a esta lista.\n",
    "\n",
    "Del problema de programación por pares anterior, la longitud de `abc`, `bcd` y `opq` es igual a 3.\n",
    "\n",
    "Asimismo, si las longitudes de las cadenas son iguales, escribe un programa que imprima las tres cadenas más cortas como sigue.\n",
    "\n",
    "Utiliza la función `sort(key=len)` para ordernar las cadenas por su longitud y luego escribe un código.\n",
    "\n",
    "Ejemplo de salida:\n",
    "\n",
    "Las cádenas más cortas son:\n",
    "\n",
    "```txt\n",
    "abc, bcd, opq\n",
    "```"
   ]
  },
  {
   "cell_type": "code",
   "execution_count": 38,
   "metadata": {},
   "outputs": [
    {
     "name": "stdout",
     "output_type": "stream",
     "text": [
      "Las cadrenas más cortas son: abc, bcd, opq\n"
     ]
    }
   ],
   "source": [
    "s_list = ['abc', 'bcd', 'bcdefg', 'abba', 'cddc', 'opq']\n",
    "s_list.sort(key=len)\n",
    "\n",
    "min_len = len(s_list[0])\n",
    "\n",
    "new_list = []\n",
    "\n",
    "for i in range(len(s_list)):\n",
    "    if len(s_list[i]) == min_len:\n",
    "        new_list.append(s_list[i])\n",
    "\n",
    "print(f\"Las cadrenas más cortas son: {', '.join(new_list)}\")"
   ]
  },
  {
   "cell_type": "markdown",
   "metadata": {},
   "source": [
    "## Unidad 11"
   ]
  },
  {
   "cell_type": "markdown",
   "metadata": {},
   "source": [
    "### Quiz 1"
   ]
  },
  {
   "cell_type": "markdown",
   "metadata": {},
   "source": [
    "Cree el diccionario `capital_dic` con solos siguientes elementos clave-valor de cadena. A continuación, utilice el diccionario `capital_dic` para escribir los resultados relativos a Corea en los siguientes elementos del diccionario.\n",
    "\n",
    "<table>\n",
    "    <tr>\n",
    "        <td>Ejecución del programa Declaración de variables</td>\n",
    "        <td>\n",
    "        Clave: Corea <br />\n",
    "        Valor: Seoul <br />\n",
    "        Clave: China <br />\n",
    "        Valor: Beijing <br />\n",
    "        Clave: USA <br />\n",
    "        Valor: Washington DC <br />\n",
    "        </td>\n",
    "    </tr>\n",
    "    <tr>\n",
    "        <td>Tiempo</td>\n",
    "        <td>5 minutos</td>\n",
    "    </tr>\n",
    "</table>\n",
    "\n",
    "Ejemplo de salida\n",
    "\n",
    "```txt\n",
    "Seoul\n",
    "```\n",
    "\n",
    "Escriba el código completo y el resultado esperado."
   ]
  },
  {
   "cell_type": "code",
   "execution_count": 2,
   "metadata": {},
   "outputs": [
    {
     "data": {
      "text/plain": [
       "'Seoul'"
      ]
     },
     "execution_count": 2,
     "metadata": {},
     "output_type": "execute_result"
    }
   ],
   "source": [
    "capital_dic = {\n",
    "    \"Corea\": \"Seoul\",\n",
    "    \"China\": \"Beijing\",\n",
    "    \"USA\": \"Washington DC\"\n",
    "}\n",
    "\n",
    "capital_dic[\"Corea\"]"
   ]
  },
  {
   "cell_type": "markdown",
   "metadata": {},
   "source": [
    "### Quiz 2"
   ]
  },
  {
   "cell_type": "markdown",
   "metadata": {},
   "source": [
    "Cree el diccionario `frutas_dic` que tiene elementos de los siguientes elementos clave-valor. A continuación, utilice este diccionario para imprimir el precio de cada fruta como se muestra a continuación:\n",
    "\n",
    "<table>\n",
    "    <tr>\n",
    "        <td>Condiciones de Ejecución</td>\n",
    "        <td>\n",
    "            El precio de una manzana es de 5000 KRW. <br> \n",
    "            El precio de un banano es de 4000 KRW. <br>\n",
    "            El precio de una uva es de 5300 krw. <br>\n",
    "            El precio de un melón es de 6500 krw.\n",
    "        </td>\n",
    "    </tr>\n",
    "    <tr>\n",
    "        <td>Tiempo</td>\n",
    "        <td>5 Minutos</td>\n",
    "    </tr>\n",
    "</table>\n",
    "\n",
    "Escriba el código completo y el resultado esperado resulta en la nota"
   ]
  },
  {
   "cell_type": "code",
   "execution_count": 3,
   "metadata": {},
   "outputs": [
    {
     "name": "stdout",
     "output_type": "stream",
     "text": [
      "El precio de una Manzana es de 5000 krw\n",
      "El precio de una Banano es de 4000 krw\n",
      "El precio de una Uva es de 5300 krw\n",
      "El precio de una Melon es de 6500 krw\n"
     ]
    }
   ],
   "source": [
    "fruits_dic = {\n",
    "    \"Manzana\": 5000,\n",
    "    \"Banano\": 4000,\n",
    "    \"Uva\": 5300,\n",
    "    \"Melon\": 6500\n",
    "}\n",
    "\n",
    "for k, v in fruits_dic.items():\n",
    "    print(f\"El precio de una {k} es de {v} krw\")"
   ]
  },
  {
   "cell_type": "markdown",
   "metadata": {},
   "source": [
    "### Quiz 3"
   ]
  },
  {
   "cell_type": "markdown",
   "metadata": {},
   "source": [
    "Cree el diccionario `frutas_dic` compuesto por pares clave-valor que incluyan (manzana, 6000), (melon, 3000), (banano, 5000), (naranja, 4000). A continuación, imprima todas las claves del diccioarion `frutas_dic` como tipo de lista, y examine si las claves `manzana` y `mango` se encuentran en el diccionario `frutas_dic`, e imprima como sigue:\n",
    "\n",
    "Ejemplo de salida:\n",
    "\n",
    "```txt\n",
    "dic_keys(['manzana', 'banano', 'naranja'])\n",
    "\n",
    "manzana is in fruits_dic\n",
    "\n",
    "mango is not in fruits_dic\n",
    "```"
   ]
  },
  {
   "cell_type": "code",
   "execution_count": 8,
   "metadata": {},
   "outputs": [
    {
     "name": "stdout",
     "output_type": "stream",
     "text": [
      "dict_keys(['manzana', 'melon', 'banano', 'naranja'])\n",
      "manzana is in fruits_dic\n",
      "mango is not in fruits_dic\n"
     ]
    }
   ],
   "source": [
    "fruits_dic = {\n",
    "    \"manzana\": 6000,\n",
    "    \"melon\": 3000,\n",
    "    \"banano\": 5000,\n",
    "    \"naranja\": 4000\n",
    "}\n",
    "\n",
    "dic_keys = fruits_dic.keys()\n",
    "print(dic_keys)\n",
    "\n",
    "\n",
    "def evaluate(key):\n",
    "    status = \"is\" if key in fruits_dic else \"is not\"\n",
    "    print(f\"{key} {status} in fruits_dic\")\n",
    "\n",
    "evaluate(\"manzana\")\n",
    "evaluate(\"mango\")"
   ]
  },
  {
   "cell_type": "markdown",
   "metadata": {},
   "source": [
    "## Unidad 12"
   ]
  },
  {
   "cell_type": "markdown",
   "metadata": {},
   "source": [
    "### Quiz 1"
   ]
  },
  {
   "cell_type": "markdown",
   "metadata": {},
   "source": [
    "Predecir el resultado de la ejecución del siguiente código y proporcionar el resultado escrito a mano.\n",
    "\n",
    "<table>\n",
    "    <tr>\n",
    "        <td>Condicion para la ejecución</td>\n",
    "        <td>\n",
    "            Predecir el resultado del siguiente programa y proporcionar los resultados de la codificación a mano.\n",
    "        </td>\n",
    "    </tr>\n",
    "    <tr>\n",
    "        <td>Tiempo</td>\n",
    "        <td>5 Minutos</td>\n",
    "    </tr>\n",
    "</table>\n",
    "\n",
    "\n",
    "Ejemplo de salida:\n",
    "\n",
    "```py\n",
    "t1 = 'a', 'b', 'c'\n",
    "t2 = ('a', 'b', 'c')\n",
    "t3 = ('d', 'e')\n",
    "\n",
    "print(t1 == t2)\n",
    "print(t1 > t3)\n",
    "print(t1 < t3)\n",
    "print(t2 + t3)\n",
    "print([ t2 + t3 ])\n",
    "print(t1)\n",
    "```"
   ]
  },
  {
   "cell_type": "code",
   "execution_count": 24,
   "metadata": {},
   "outputs": [
    {
     "name": "stdout",
     "output_type": "stream",
     "text": [
      "1. True\n",
      "2. False\n",
      "3. True\n",
      "4. ('a', 'b', 'c', 'd', 'e')\n",
      "5. [('a', 'b', 'c', 'd', 'e')]\n",
      "6. ('a', 'b', 'c')\n"
     ]
    }
   ],
   "source": [
    "t1 = 'a', 'b', 'c'\n",
    "t2 = ('a', 'b', 'c')\n",
    "t3 = ('d', 'e')\n",
    "\n",
    "print(f\"1. {t1 == t2}\")\n",
    "print(f\"2. {t1 > t3}\")\n",
    "print(f\"3. {t1 < t3}\")\n",
    "print(f\"4. {t2 + t3}\")\n",
    "print(f\"5. {[ t2 + t3 ]}\")\n",
    "print(f\"6. {t1}\")"
   ]
  },
  {
   "cell_type": "markdown",
   "metadata": {},
   "source": [
    "### Quiz 2"
   ]
  },
  {
   "cell_type": "markdown",
   "metadata": {},
   "source": [
    "La siguiente tupla registra las ventas diarias de una tienda durante 10 días. Escribe un código para imprimir cuántos días se redujeron las ventas en comparación con el día anterior. (Sugerencia compara los valores iterando los elementos con la sentencia de iteración).\n",
    "\n",
    "<table>\n",
    "    <tr>\n",
    "        <td>Condicion para la ejecución</td>\n",
    "        <td>\n",
    "            Registro diario de ventas: (100, 121, 120, 130, 140, 120, 122, 123, 190, <br>\n",
    "            En los últimos 10 días, 3 días han reducido las ventas en comparación con el día anterior.\n",
    "        </td>\n",
    "    </tr>\n",
    "    <tr>\n",
    "        <td>Tiempo</td>\n",
    "        <td>10 Minutos</td>\n",
    "    </tr>\n",
    "</table>\n"
   ]
  },
  {
   "cell_type": "code",
   "execution_count": 26,
   "metadata": {},
   "outputs": [
    {
     "name": "stdout",
     "output_type": "stream",
     "text": [
      "En los últimos días, 3 días han reducido las ventas en comparación con el día anterior\n"
     ]
    }
   ],
   "source": [
    "sales = (100, 121, 120, 130, 140, 120, 122, 123, 190, 150)\n",
    "\n",
    "days = 0\n",
    "\n",
    "for i in range(len(sales) - 1):\n",
    "    if sales[i] > sales[i + 1]:\n",
    "        days += 1\n",
    "    else:\n",
    "        pass\n",
    "\n",
    "print(f\"En los últimos días, {days} días han reducido las ventas en comparación con el día anterior\")"
   ]
  },
  {
   "cell_type": "markdown",
   "metadata": {},
   "source": [
    "### Quiz 3"
   ]
  },
  {
   "cell_type": "markdown",
   "metadata": {},
   "source": [
    "Devuelve el elemento con el máximo número de ocurrencias. Cuando hay más de dos elementos frecuentes, imprime el número más alto.\n",
    "\n",
    "Ejemplo de salida:\n",
    "\n",
    "```txt\n",
    "Tupla obtenida: (1, 2, 5, 4, 3, 2, 1, 9, 9, 3, 7, 3, 9)\n",
    "\n",
    "El elemento más frecuente: 9\n",
    "```"
   ]
  },
  {
   "cell_type": "code",
   "execution_count": 34,
   "metadata": {},
   "outputs": [
    {
     "name": "stdout",
     "output_type": "stream",
     "text": [
      "El elemento más frecuente: 9\n"
     ]
    }
   ],
   "source": [
    "numbers = (1, 2, 5, 4, 3, 2, 1, 9, 9, 3, 7, 3, 9)\n",
    "\n",
    "sorted_list = list(numbers)\n",
    "sorted_list.sort()\n",
    "\n",
    "occurrences = dict(\n",
    "    zip(\n",
    "        sorted_list, \n",
    "        map(\n",
    "            lambda x: sorted_list.count(x), \n",
    "            sorted_list\n",
    "        )\n",
    "    )\n",
    ")\n",
    "\n",
    "max_occurrence = 0\n",
    "most_frecuent_item = None\n",
    "\n",
    "for k, v in occurrences.items():\n",
    "    if v > max_occurrence:\n",
    "        max_occurrence = v\n",
    "        most_frecuent_item = k\n",
    "    elif v == max_occurrence:\n",
    "        if k > most_frecuent_item:\n",
    "            most_frecuent_item = k\n",
    "\n",
    "print(f\"El elemento más frecuente: {most_frecuent_item}\")\n"
   ]
  },
  {
   "cell_type": "markdown",
   "metadata": {},
   "source": [
    "### Quiz 4"
   ]
  },
  {
   "cell_type": "markdown",
   "metadata": {},
   "source": [
    "En el ejemplo de salida de abajo, hay tuplas que contienen elementos, así como tuplas vacías, cadenas vacías y listas vacías que no tienen elementos. Escribe un código para eliminar estas tuplas, cadenas y listas vacías de la lista dada a continuación. Sin embargo, no elimine la tupa `((),)` porque se considera que tiene una tupla vacía.\n",
    "\n",
    "Ejemplo de salida:\n",
    "\n",
    "```txt\n",
    "Tupla obtenida: [(), (1,), [], 'abc', (), (), (1,), ('a',), ('a', 'b'), ((),), '']\n",
    "\n",
    "Lista limpia: [(1,), 'abc', (1,), ('a',), ('a', 'b'), ((),)]\n",
    "```"
   ]
  },
  {
   "cell_type": "code",
   "execution_count": 52,
   "metadata": {},
   "outputs": [
    {
     "name": "stdout",
     "output_type": "stream",
     "text": [
      "Lista limpia: [(1,), 'abc', (1,), ('a',), ('a', 'b'), ((),)]\n"
     ]
    }
   ],
   "source": [
    "_tuple = [(), (1,), [], 'abc', (), (), (1,), ('a',), ('a', 'b'), ((),), '']\n",
    "\n",
    "new_tuple = []\n",
    "\n",
    "for i in range(len(_tuple) - 1):\n",
    "    if len(_tuple[i]) != 0:\n",
    "        new_tuple.append(_tuple[i])\n",
    "\n",
    "print(f'Lista limpia: {new_tuple}')"
   ]
  },
  {
   "cell_type": "markdown",
   "metadata": {},
   "source": [
    "## Unidad 13"
   ]
  },
  {
   "cell_type": "markdown",
   "metadata": {},
   "source": [
    "### Quiz 1"
   ]
  },
  {
   "cell_type": "markdown",
   "metadata": {},
   "source": [
    "Poner las matrices bidimensionales `[[10, 20], [30, 40], [50, 60]]` en la variables `lista_matriz` y salida `30`. Haz la indexación correcta.\n",
    "\n",
    "<table>\n",
    "    <tr>\n",
    "        <td>Condicion para la ejecución</td>\n",
    "        <td>30</td>\n",
    "    </tr>\n",
    "    <tr>\n",
    "        <td>Tiempo</td>\n",
    "        <td>5 Minutos</td>\n",
    "    <tr>\n",
    "</table>"
   ]
  },
  {
   "cell_type": "code",
   "execution_count": 68,
   "metadata": {},
   "outputs": [
    {
     "name": "stdout",
     "output_type": "stream",
     "text": [
      "30\n"
     ]
    }
   ],
   "source": [
    "list_2d = [[10, 20], [30, 40], [50, 60]]\n",
    "\n",
    "value = list_2d[1][0]\n",
    "print(value)"
   ]
  },
  {
   "cell_type": "markdown",
   "metadata": {},
   "source": [
    "### Quiz 2"
   ]
  },
  {
   "cell_type": "markdown",
   "metadata": {},
   "source": [
    "Crea una lista 2D de tamaño 4 x 4 con valores que van de 1 a 16 e imprime todos los elementos utilizando el bucle for.\n",
    "\n",
    "<table>\n",
    "    <tr>\n",
    "        <td>Condicion para la ejecución</td>\n",
    "        <td>\n",
    "            1  2  3  4<br>\n",
    "            5  6  7  8<br>\n",
    "            9  10 11 12<br>\n",
    "            13 14 15 16\n",
    "        </td>\n",
    "    </tr>\n",
    "    <tr>\n",
    "        <td>Tiempo</td>\n",
    "        <td>5 Minutos</td>\n",
    "    </tr>\n",
    "</table>"
   ]
  },
  {
   "cell_type": "code",
   "execution_count": 58,
   "metadata": {},
   "outputs": [
    {
     "name": "stdout",
     "output_type": "stream",
     "text": [
      "1 2 3 4 \n",
      "5 6 7 8 \n",
      "9 10 11 12 \n",
      "13 14 15 16 \n"
     ]
    }
   ],
   "source": [
    "list_2d = [[j*4+i+1 for i in range(4)] for j in range(4)]\n",
    "\n",
    "for i in list_2d:\n",
    "    for j in i:\n",
    "        print(j, end=' ')\n",
    "    print()"
   ]
  },
  {
   "cell_type": "markdown",
   "metadata": {},
   "source": [
    "## Quiz 3"
   ]
  },
  {
   "cell_type": "markdown",
   "metadata": {},
   "source": [
    "Escriba un programa que genere un arreglo multidimensional de tamaño n×n, basado en el número de entradas, al recibir dos o más n como entradas de los usuarios. En este caso, el contenido del arreglo debe mostrarse de manera que los valores de 0 y 1 se crucen en un patrón de cuadros.\n",
    "\n",
    "Ejemplo de salida\n",
    "\n",
    "```txt\n",
    "10101 \n",
    "01010\n",
    "10101 \n",
    "01010\n",
    "10101 \n",
    "```"
   ]
  },
  {
   "cell_type": "code",
   "execution_count": 67,
   "metadata": {},
   "outputs": [
    {
     "name": "stdout",
     "output_type": "stream",
     "text": [
      "Ingrese el tamaño del arreglo (nxn): 10\n",
      "1 0 1 0 1 0 1 0 1 0 \n",
      "0 1 0 1 0 1 0 1 0 1 \n",
      "1 0 1 0 1 0 1 0 1 0 \n",
      "0 1 0 1 0 1 0 1 0 1 \n",
      "1 0 1 0 1 0 1 0 1 0 \n",
      "0 1 0 1 0 1 0 1 0 1 \n",
      "1 0 1 0 1 0 1 0 1 0 \n",
      "0 1 0 1 0 1 0 1 0 1 \n",
      "1 0 1 0 1 0 1 0 1 0 \n",
      "0 1 0 1 0 1 0 1 0 1 \n"
     ]
    }
   ],
   "source": [
    "n = int(input(\"Ingrese el tamaño del arreglo (nxn): \"))\n",
    "\n",
    "matrix_of_0 = [[0 for i in range(n)] for j in range(n)]\n",
    "\n",
    "for i in range(n):\n",
    "    for j in range(n):\n",
    "        if (i + j) % 2 == 0:\n",
    "            matrix_of_0[i][j] = 1\n",
    "\n",
    "for i in matrix_of_0:\n",
    "    for j in i:\n",
    "        print(j, end=' ')\n",
    "    print()"
   ]
  }
 ],
 "metadata": {
  "kernelspec": {
   "display_name": "Python 3 (ipykernel)",
   "language": "python",
   "name": "python3"
  },
  "language_info": {
   "codemirror_mode": {
    "name": "ipython",
    "version": 3
   },
   "file_extension": ".py",
   "mimetype": "text/x-python",
   "name": "python",
   "nbconvert_exporter": "python",
   "pygments_lexer": "ipython3",
   "version": "3.9.13"
  }
 },
 "nbformat": 4,
 "nbformat_minor": 2
}
