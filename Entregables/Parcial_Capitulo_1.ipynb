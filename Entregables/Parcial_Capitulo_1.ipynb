{
 "cells": [
  {
   "attachments": {},
   "cell_type": "markdown",
   "metadata": {},
   "source": [
    "# Parcial - Capítulo 1"
   ]
  },
  {
   "attachments": {},
   "cell_type": "markdown",
   "metadata": {},
   "source": [
    "1. El operador `%` significa:\n",
    "\n",
    "   - a. Residuo ✅\n",
    "   - b. Suma\n",
    "   - c. División\n",
    "   - d. Resta"
   ]
  },
  {
   "cell_type": "code",
   "execution_count": 1,
   "metadata": {},
   "outputs": [
    {
     "name": "stdout",
     "output_type": "stream",
     "text": [
      "1\n"
     ]
    }
   ],
   "source": [
    "print(25 % 2)"
   ]
  },
  {
   "attachments": {},
   "cell_type": "markdown",
   "metadata": {},
   "source": [
    "2. ¿Qué tipo de error se obtiene de la siguiente sentencia? \n",
    "\n",
    "   ```py\n",
    "   print('Hola)\n",
    "   ```\n",
    "   \n",
    "   - a. No es posible identificar el error por falta de información\n",
    "   - b. Error de Sintaxis, falta una comilla al final del string o palabra ✅\n",
    "   - c. No presenta ningún error\n",
    "   - d. El print es una función que imprime en pantalla, las frase entre comillas triples es una cadena de texto"
   ]
  },
  {
   "cell_type": "code",
   "execution_count": 2,
   "metadata": {},
   "outputs": [
    {
     "ename": "SyntaxError",
     "evalue": "unterminated string literal (detected at line 1) (118464926.py, line 1)",
     "output_type": "error",
     "traceback": [
      "\u001b[1;36m  Cell \u001b[1;32mIn[2], line 1\u001b[1;36m\u001b[0m\n\u001b[1;33m    print('Hola)\u001b[0m\n\u001b[1;37m          ^\u001b[0m\n\u001b[1;31mSyntaxError\u001b[0m\u001b[1;31m:\u001b[0m unterminated string literal (detected at line 1)\n"
     ]
    }
   ],
   "source": [
    "print('Hola)"
   ]
  },
  {
   "attachments": {},
   "cell_type": "markdown",
   "metadata": {},
   "source": [
    "3. La principal diferencia entre List y Tuple es:\n",
    "   \n",
    "   - a. Tuple son listas inmutables (no se pueden cambiar) y compilan más rápido que las listas ✅\n",
    "   - b. List son listas inmutables (no se pueden cambiar) y compilan más rápido que las listas\n",
    "   - c. Tuple es una función que imprime en pantalla, las frase entre comillas triples es una cadena de texto\n",
    "   - d. No hay ninguna diferencia"
   ]
  },
  {
   "attachments": {},
   "cell_type": "markdown",
   "metadata": {},
   "source": [
    "4. Es o son los tipos de datos comunes en Python.\n",
    "\n",
    "   - a. Set: {1,2,3}\n",
    "   - b. List: [5,’texto’,2.4];\n",
    "   - c. Numbers: 3, -5, 0.02, 5 + 3i; \n",
    "   - d. Todas son correctas ✅"
   ]
  },
  {
   "attachments": {},
   "cell_type": "markdown",
   "metadata": {},
   "source": [
    "5. El siguiente código:\n",
    "   \n",
    "   ```py\n",
    "   lista = [33, 50, -4, 14.03, 0.07]\n",
    "   print(sum(lista))\n",
    "   ```\n",
    "\n",
    "   Arroja como resultado la suma de los números de la esta lista: `[33, 50, -4, 14.03, 0.07]`\n",
    "\n",
    "   - a. Verdadero ✅\n",
    "   - b. No se puede determinar (Falta información)\n",
    "   - c. Falso"
   ]
  },
  {
   "cell_type": "code",
   "execution_count": 3,
   "metadata": {},
   "outputs": [
    {
     "name": "stdout",
     "output_type": "stream",
     "text": [
      "93.1\n"
     ]
    }
   ],
   "source": [
    "lista = [33, 50, -4, 14.03, 0.07]\n",
    "print(sum(lista))"
   ]
  },
  {
   "attachments": {},
   "cell_type": "markdown",
   "metadata": {},
   "source": [
    "6. Con el siguiente código\n",
    "   \n",
    "   ```py\n",
    "   txt = 'Debes hacer las cosas que piensas que no puedes hacer'\n",
    "   buscar = 's'\n",
    "   cnt = 0\n",
    "   for c in txt:\n",
    "        if c == buscar:\n",
    "            cnt += 1\n",
    "   print(f\"la letra '{buscar}' se encuentra {cnt} veces en el texto\") \n",
    "   ```\n",
    "\n",
    "   Se obtiene: \n",
    "\n",
    "   - a. la letra 's' se encuentra 7 veces en el texto ✅\n",
    "   - b. la letra 's' se encuentra 5 veces en el texto\n",
    "   - c. El código no arroja ningún resultado\n",
    "   - d. la letra 's' se encuentra 0 veces en el texto"
   ]
  },
  {
   "cell_type": "code",
   "execution_count": 4,
   "metadata": {},
   "outputs": [
    {
     "name": "stdout",
     "output_type": "stream",
     "text": [
      "la letra 's' se encuentra 7 veces en el texto\n"
     ]
    }
   ],
   "source": [
    "txt = 'Debes hacer las cosas que piensas que no puedes hacer'\n",
    "buscar = 's'\n",
    "cnt = 0\n",
    "for c in txt:\n",
    "    if c == buscar:\n",
    "        cnt += 1\n",
    "print(f\"la letra '{buscar}' se encuentra {cnt} veces en el texto\")\n"
   ]
  },
  {
   "attachments": {},
   "cell_type": "markdown",
   "metadata": {},
   "source": [
    "7. La función que tiene `\\n` indica:\n",
    "\n",
    "   - a. Indica que la función convierte datos tipo Float\n",
    "   - b. Indica un salto de línea en una cadena de texto ✅\n",
    "   - c. No indica nada\n",
    "   - d. Indica que finalizó la función y se ejecutó correctamente el código"
   ]
  },
  {
   "attachments": {},
   "cell_type": "markdown",
   "metadata": {},
   "source": [
    "8. El siguiente código\n",
    "   \n",
    "   ```py\n",
    "   txt = 'Debes hacer las cosas que piensas que no puedes hacer'\n",
    "   buscar = 's'\n",
    "   cnt = 0\n",
    "   for c in txt:\n",
    "        if c == buscar:\n",
    "            cnt += 1\n",
    "   print(f\"la letra '{buscar}' se encuentra {cnt} veces en el texto\") \n",
    "   ```\n",
    "\n",
    "   Realiza un conteo de: cuantas letras 's' se encuentran en el string: 'Debes hacer las cosas que piensas que no puedes hacer'\n",
    "\n",
    "   Seleccione una:\n",
    "   \n",
    "   - Verdadero ✅\n",
    "   - Falso"
   ]
  },
  {
   "attachments": {},
   "cell_type": "markdown",
   "metadata": {},
   "source": [
    "9. El siguiente código\n",
    "   \n",
    "   ```py\n",
    "   for x in range(23,60,2): \n",
    "        print(x, end=(', '))\n",
    "   ```\n",
    "\n",
    "   imprime en consola los números impares que se encuentren entre el 23 y el 60.\n",
    "\n",
    "   Seleccione una:\n",
    "\n",
    "   - Verdadero ✅\n",
    "   - Falso"
   ]
  },
  {
   "cell_type": "code",
   "execution_count": 5,
   "metadata": {},
   "outputs": [
    {
     "name": "stdout",
     "output_type": "stream",
     "text": [
      "23, 25, 27, 29, 31, 33, 35, 37, 39, 41, 43, 45, 47, 49, 51, 53, 55, 57, 59, "
     ]
    }
   ],
   "source": [
    "for x in range(23, 60, 2):\n",
    "    print(x, end=(', '))"
   ]
  },
  {
   "attachments": {},
   "cell_type": "markdown",
   "metadata": {},
   "source": [
    "10. En la expresión `'x' + 10` se genera un error porque el símbolo de adición o bien suma números o concatena textos, y este ejemplo no realiza ninguna de las 2 operaciones\n",
    "\n",
    "   Seleccione una:\n",
    "\n",
    "   - Verdadero ✅\n",
    "   - Falso"
   ]
  },
  {
   "cell_type": "code",
   "execution_count": 6,
   "metadata": {},
   "outputs": [
    {
     "ename": "TypeError",
     "evalue": "can only concatenate str (not \"int\") to str",
     "output_type": "error",
     "traceback": [
      "\u001b[1;31m---------------------------------------------------------------------------\u001b[0m",
      "\u001b[1;31mTypeError\u001b[0m                                 Traceback (most recent call last)",
      "Cell \u001b[1;32mIn[6], line 1\u001b[0m\n\u001b[1;32m----> 1\u001b[0m \u001b[39mprint\u001b[39m(\u001b[39m'\u001b[39;49m\u001b[39mx\u001b[39;49m\u001b[39m'\u001b[39;49m \u001b[39m+\u001b[39;49m \u001b[39m10\u001b[39;49m)\n",
      "\u001b[1;31mTypeError\u001b[0m: can only concatenate str (not \"int\") to str"
     ]
    }
   ],
   "source": [
    "print('x' + 10)"
   ]
  },
  {
   "cell_type": "code",
   "execution_count": 7,
   "metadata": {},
   "outputs": [
    {
     "ename": "TypeError",
     "evalue": "unsupported operand type(s) for +: 'int' and 'str'",
     "output_type": "error",
     "traceback": [
      "\u001b[1;31m---------------------------------------------------------------------------\u001b[0m",
      "\u001b[1;31mTypeError\u001b[0m                                 Traceback (most recent call last)",
      "Cell \u001b[1;32mIn[7], line 1\u001b[0m\n\u001b[1;32m----> 1\u001b[0m \u001b[39mprint\u001b[39m(\u001b[39m10\u001b[39;49m \u001b[39m+\u001b[39;49m \u001b[39m'\u001b[39;49m\u001b[39mx\u001b[39;49m\u001b[39m'\u001b[39;49m)\n",
      "\u001b[1;31mTypeError\u001b[0m: unsupported operand type(s) for +: 'int' and 'str'"
     ]
    }
   ],
   "source": [
    "print(10 + 'x')"
   ]
  }
 ],
 "metadata": {
  "kernelspec": {
   "display_name": "Python 3",
   "language": "python",
   "name": "python3"
  },
  "language_info": {
   "codemirror_mode": {
    "name": "ipython",
    "version": 3
   },
   "file_extension": ".py",
   "mimetype": "text/x-python",
   "name": "python",
   "nbconvert_exporter": "python",
   "pygments_lexer": "ipython3",
   "version": "3.10.6"
  },
  "orig_nbformat": 4,
  "vscode": {
   "interpreter": {
    "hash": "369f2c481f4da34e4445cda3fffd2e751bd1c4d706f27375911949ba6bb62e1c"
   }
  }
 },
 "nbformat": 4,
 "nbformat_minor": 2
}
