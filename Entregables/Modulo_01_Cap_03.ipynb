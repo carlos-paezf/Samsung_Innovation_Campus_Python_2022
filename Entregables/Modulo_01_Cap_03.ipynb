{
 "cells": [
  {
   "cell_type": "markdown",
   "metadata": {},
   "source": [
    "# Módulo 1 - Capitulo 3"
   ]
  },
  {
   "cell_type": "markdown",
   "metadata": {},
   "source": [
    "## Unidad 17 "
   ]
  },
  {
   "cell_type": "markdown",
   "metadata": {},
   "source": [
    "### Quiz 1"
   ]
  },
  {
   "cell_type": "markdown",
   "metadata": {},
   "source": [
    "Defina una función llamada `my_greet` que imprima `\"Bienvenido\"` y llame esta función para que imprima el saludo 2 veces."
   ]
  },
  {
   "cell_type": "code",
   "execution_count": 1,
   "metadata": {},
   "outputs": [
    {
     "name": "stdout",
     "output_type": "stream",
     "text": [
      "Bienvenido\n",
      "Bienvenido\n"
     ]
    }
   ],
   "source": [
    "def my_greet(repeat):\n",
    "    for _ in range(repeat):\n",
    "        print(\"Bienvenido\")\n",
    "\n",
    "my_greet(2)"
   ]
  },
  {
   "cell_type": "markdown",
   "metadata": {},
   "source": [
    "### Quiz 2"
   ]
  },
  {
   "cell_type": "markdown",
   "metadata": {},
   "source": [
    "Implemente la función `max2(m, n)` la cual tome dos parámetros llamados `m` y `n` que regrese el número mayor de estos dos valores. Por otro lado, implemente la función `min2(m, n)` que tome dos parámetros llamados `m` y `n` y regrese el número menos de estos dos valores. Luego, asigne el valor de 100 y 200 como argumentos para las dos funciones e imprima su resultado."
   ]
  },
  {
   "cell_type": "code",
   "execution_count": 7,
   "metadata": {},
   "outputs": [
    {
     "name": "stdout",
     "output_type": "stream",
     "text": [
      "Número mayor: 20\n",
      "Número menor: 10\n"
     ]
    }
   ],
   "source": [
    "def max2(m, n):\n",
    "    return m if m > n else n\n",
    "\n",
    "def min2(m, n):\n",
    "    return m if m < n else n\n",
    "\n",
    "print('Número mayor:', max2(10, 20))\n",
    "print('Número menor:', min2(10, 20))"
   ]
  },
  {
   "cell_type": "markdown",
   "metadata": {},
   "source": [
    "### Quiz 3"
   ]
  },
  {
   "cell_type": "markdown",
   "metadata": {},
   "source": [
    "Queremos cambiar el valor de la distancia de millas a kilómetros (Las millas son una unidad de medida que se usa principalmente en Estados Unidos, mientras que los kilómetros son la unidad estándar internacional). Para ello implemente la función `mile2km(ml)` que toma valores de las millas y las convierte en kilómetros. Luego llame esta función para que imprima la conversión de las millas 1 a 5 kilómetros a través de la sentencia `for`. (Se define 1 milla con 1.61 km)"
   ]
  },
  {
   "cell_type": "code",
   "execution_count": 24,
   "metadata": {},
   "outputs": [
    {
     "name": "stdout",
     "output_type": "stream",
     "text": [
      "Mile 1 = Kilometer 1.61\n",
      "Mile 2 = Kilometer 3.22\n",
      "Mile 3 = Kilometer 4.83\n",
      "Mile 4 = Kilometer 6.44\n",
      "Mile 5 = Kilometer 8.05\n"
     ]
    }
   ],
   "source": [
    "def mile2km(ml):\n",
    "    for i in range(1, ml + 1):\n",
    "        print(f'Mile {i} = Kilometer {i * 1.61}')\n",
    "\n",
    "mile2km(5)"
   ]
  },
  {
   "cell_type": "markdown",
   "metadata": {},
   "source": [
    "### Quiz 4"
   ]
  },
  {
   "cell_type": "markdown",
   "metadata": {},
   "source": [
    "Implemente la función `cel2fah(cel)` que toma la temperatura en grados Celsius y que retorna la temperatura en grados Fahrenheit. Luego llame la función, a través de la sentencia `for`, que imprima las conversiones de temperatura desde 10 hasta 50 grados Celsius en pasos de 10 unidades. (Recuerde la fórmula de conversion `Fah = Cel * (9/5) + 32`)"
   ]
  },
  {
   "cell_type": "code",
   "execution_count": 25,
   "metadata": {},
   "outputs": [
    {
     "name": "stdout",
     "output_type": "stream",
     "text": [
      "Cel 10 = Fah 50.0\n",
      "Cel 20 = Fah 68.0\n",
      "Cel 30 = Fah 86.0\n",
      "Cel 40 = Fah 104.0\n",
      "Cel 50 = Fah 122.0\n"
     ]
    }
   ],
   "source": [
    "def formula(cel):\n",
    "    return cel * (9/5) + 32\n",
    "\n",
    "def cel2fah(cel):\n",
    "    for i in range(10, cel + 10, 10):\n",
    "        print(f'Cel { i } = Fah { formula(i)}')\n",
    "\n",
    "cel2fah(50)"
   ]
  },
  {
   "cell_type": "markdown",
   "metadata": {},
   "source": [
    "### Quiz 5"
   ]
  },
  {
   "cell_type": "markdown",
   "metadata": {},
   "source": [
    "Permita que un usuario ingrese 3 enteros a, b y c e imprima el valor promedio, el máximo y el mínimo de estos 3. Para ello, defina y llame las funciones `mean3(a, b, c)`, `max3(a, b, c)`, `min3(a, b, c)`"
   ]
  },
  {
   "cell_type": "code",
   "execution_count": 27,
   "metadata": {},
   "outputs": [
    {
     "name": "stdout",
     "output_type": "stream",
     "text": [
      "The average value of [9, 2, 6] is 5.666666666666667\n",
      "The maximum value of [9, 2, 6] is 9\n",
      "The minimum value of [9, 2, 6] is 2\n"
     ]
    }
   ],
   "source": [
    "def mean3(a, b, c):\n",
    "    return (a + b + c)/3\n",
    "\n",
    "def max3(x):\n",
    "    return max(x)\n",
    "\n",
    "def min3(x):\n",
    "    return min(x)\n",
    "\n",
    "x = [int(x) for x in input('Enter three numbers: ').split()]\n",
    "\n",
    "a = x[0]\n",
    "b = x[1]\n",
    "c = x[2]\n",
    "\n",
    "print(f'The average value of {x} is {mean3(a, b, c)}')\n",
    "print(f'The maximum value of {x} is {max3(x)}')\n",
    "print(f'The minimum value of {x} is {min3(x)}')"
   ]
  },
  {
   "cell_type": "markdown",
   "metadata": {},
   "source": [
    "## Unidad 18"
   ]
  },
  {
   "cell_type": "markdown",
   "metadata": {},
   "source": [
    "### Quiz 1"
   ]
  },
  {
   "cell_type": "markdown",
   "metadata": {},
   "source": [
    "Tome un número `n` como entrada y encuentre su suma desde `1` hasta `n`. Escriba su función usando funciones recursivas."
   ]
  },
  {
   "cell_type": "code",
   "execution_count": 31,
   "metadata": {},
   "outputs": [
    {
     "data": {
      "text/plain": [
       "55"
      ]
     },
     "execution_count": 31,
     "metadata": {},
     "output_type": "execute_result"
    }
   ],
   "source": [
    "n = 10\n",
    "\n",
    "def sum2n(n):\n",
    "    if n == 1:\n",
    "        return 1\n",
    "    return n + sum2n(n-1)\n",
    "\n",
    "sum2n(n)"
   ]
  },
  {
   "cell_type": "markdown",
   "metadata": {},
   "source": [
    "### Quiz 2"
   ]
  },
  {
   "cell_type": "markdown",
   "metadata": {},
   "source": [
    "Python tiene el operador `**` el cual indica una potencia. Sin embargo, tomemos a `x` y `n` como entradas sin usar ese operador y use una función recursiva que retorne `x` a la potencia de `n`. Luego, calcule $2^{10}$ poniendo `x` como 2 y `n` como 10."
   ]
  },
  {
   "cell_type": "code",
   "execution_count": 37,
   "metadata": {},
   "outputs": [
    {
     "data": {
      "text/plain": [
       "1024"
      ]
     },
     "execution_count": 37,
     "metadata": {},
     "output_type": "execute_result"
    }
   ],
   "source": [
    "def powWithMulti(x, n):\n",
    "    if n == 1:\n",
    "        return x\n",
    "    return x * powWithMulti(x, n - 1)\n",
    "\n",
    "\n",
    "powWithMulti(2, 10)\n"
   ]
  },
  {
   "cell_type": "markdown",
   "metadata": {},
   "source": [
    "### Quiz 3"
   ]
  },
  {
   "cell_type": "markdown",
   "metadata": {},
   "source": [
    "El número natural `e`, también llamado el número de Eular o la constante de Napier, es un número irracional usado como la base de los logaritmos naturales y es definido con la siguiente formula:\n",
    "\n",
    "$$\n",
    "e = 1 + \\frac{1}{1!} + \\frac{1}{2!} + \\frac{1}{3!} + ... + \\frac{1}{n!}\n",
    "$$\n",
    "\n",
    "donde el valor de Euler depende de la cantidad de términos `n` que se establezcan.\n",
    "\n",
    "Desarrolle una función recursiva que permita encontrar el valor de `euler(20)` con 20 términos para encontrar los primeros 5 decimales.\n",
    "\n",
    "*Salida esperada para $n = 20$, es `euler(20) = 2.71828`*"
   ]
  },
  {
   "cell_type": "code",
   "execution_count": 47,
   "metadata": {},
   "outputs": [
    {
     "name": "stdout",
     "output_type": "stream",
     "text": [
      "euler(20) = 2.71828\n"
     ]
    }
   ],
   "source": [
    "dic = {0:0, 1:1}\n",
    "\n",
    "def factorial(n):\n",
    "    if n in dic:\n",
    "        return dic[n]\n",
    "    dic[n] = n * factorial(n - 1)\n",
    "    return dic[n]\n",
    "\n",
    "def euler(n):\n",
    "    if n == 0:\n",
    "        return 1\n",
    "    return 1 / factorial(n) + euler(n - 1)\n",
    "\n",
    "print(f'euler(20) = {round(euler(20), 5)}')"
   ]
  },
  {
   "cell_type": "markdown",
   "metadata": {},
   "source": [
    "## Unidad 19"
   ]
  },
  {
   "cell_type": "markdown",
   "metadata": {},
   "source": [
    "### Quiz 1"
   ]
  },
  {
   "cell_type": "markdown",
   "metadata": {},
   "source": [
    "Hay una lista de elementos enteros llamada `n_list = [1, 2, 3, 4, 5, 6, 7, 8, 9, 10]`. Retorne una lista llamada `even_list` la cual solo contiene los elementos pares de `n_list` usando las funciones `filter` y `lambda`.\n",
    "\n",
    "Para este ejemplo, la respuesta esperada es: `even_list = [2, 4, 6, 8, 10]`"
   ]
  },
  {
   "cell_type": "code",
   "execution_count": 55,
   "metadata": {},
   "outputs": [
    {
     "name": "stdout",
     "output_type": "stream",
     "text": [
      "even_list = [2, 4, 6, 8, 10]\n"
     ]
    }
   ],
   "source": [
    "n_list = [1, 2, 3, 4, 5, 6, 7, 8, 9, 10]\n",
    "\n",
    "even_list = []\n",
    "\n",
    "for i in filter(lambda x: x % 2 == 0, n_list):\n",
    "    even_list.append(i)\n",
    "\n",
    "print(f'even_list = {even_list}')"
   ]
  },
  {
   "cell_type": "markdown",
   "metadata": {},
   "source": [
    "### Quiz 2"
   ]
  },
  {
   "cell_type": "markdown",
   "metadata": {},
   "source": [
    "Hay una lista de elementos enteros llamada `n_list = [1, 2, 3, 4, 5, 6, 7, 8, 9, 10]`. Retorne una lista llamada `event_list` la cual solo contiene los elementos pares de `n_list` usando las funciones `filter` y `lambda`. Sin embargo, en este ejercicio no use el ciclo `for` y en vez de ello use la función `list`."
   ]
  },
  {
   "cell_type": "code",
   "execution_count": 52,
   "metadata": {},
   "outputs": [
    {
     "name": "stdout",
     "output_type": "stream",
     "text": [
      "even_list = [2, 4, 6, 8, 10]\n"
     ]
    }
   ],
   "source": [
    "n_list = [1, 2, 3, 4, 5, 6, 7, 8, 9, 10]\n",
    "\n",
    "even_list = list(filter(lambda x: x % 2 == 0, n_list))\n",
    "\n",
    "print(f'even_list = {even_list}')\n"
   ]
  },
  {
   "cell_type": "markdown",
   "metadata": {},
   "source": [
    "### Quiz 3"
   ]
  },
  {
   "cell_type": "markdown",
   "metadata": {},
   "source": [
    "Escriba una función `map` que convierta la variable `a_list`, que contiene el alfabeto en minúscula `['a', 'b', 'c', 'd']` y lo convierta en la variable `upper_a_list`, que contiene el alfabeto en mayúsculas `['A', 'B', 'C', 'D']`. También defina una función llamada `to_upper` que reciba las letras en minúsculas como parámetros y las retorne como letras en mayúsculas."
   ]
  },
  {
   "cell_type": "code",
   "execution_count": 3,
   "metadata": {},
   "outputs": [
    {
     "name": "stdout",
     "output_type": "stream",
     "text": [
      "upper_a_list = ['A', 'B', 'C', 'D']\n"
     ]
    }
   ],
   "source": [
    "a_list = ['a', 'b', 'c', 'd']\n",
    "\n",
    "def to_upper(letter: str) -> str:\n",
    "    return letter.upper()\n",
    "\n",
    "upper_a_list = list(map(to_upper, a_list))\n",
    "\n",
    "print(f'upper_a_list = {upper_a_list}')"
   ]
  },
  {
   "cell_type": "markdown",
   "metadata": {},
   "source": [
    "### Quiz 4"
   ]
  },
  {
   "cell_type": "markdown",
   "metadata": {},
   "source": [
    "Calcule la suma de enteros de 1 a 100 usando la función reduce y la expresión lambda dentro de ella. Use como entrada `range(1, 101)`.\n",
    "\n",
    "Para este ejemplo, la respuesta esperada es `La suma de 1 a 100 es: 5050`"
   ]
  },
  {
   "cell_type": "code",
   "execution_count": 4,
   "metadata": {},
   "outputs": [
    {
     "name": "stdout",
     "output_type": "stream",
     "text": [
      "La suma de 1 a 100 es: 5050\n"
     ]
    }
   ],
   "source": [
    "from functools import reduce\n",
    "\n",
    "arr = range(1, 101)\n",
    "\n",
    "sum = reduce(lambda x, y: x + y, arr)\n",
    "\n",
    "print(f'La suma de 1 a 100 es: {sum}')"
   ]
  },
  {
   "cell_type": "markdown",
   "metadata": {},
   "source": [
    "### Quiz 5"
   ]
  },
  {
   "cell_type": "markdown",
   "metadata": {},
   "source": [
    "Tienes disponible la información de los puntajes de los exámenes de los estudiantes en inglés, matemáticas y ciencias que pueden ser expresados como una lista `[100, 90, 95]`. Si hay dos estuidantes, los puntajes se representarían como `[100, 90, 95, 90, 85, 93]`. Ahora, si un estudiante no realizó algún examen en particular se marca con el puntaje de 0. Por lo tanto, se requiere un código que imprima:\n",
    "\n",
    "- De cuantos estudiantes se tienen los puntajes\n",
    "- El número de estudiantes con puntajes válidos (Es decir, que no tienen 0 en alguna materia)\n",
    "- El puntaje de los estudiantes con calificaciones válidas.\n",
    "\n",
    "Ejemplo de una entrada:\n",
    "\n",
    "```py\n",
    "scores = [100, 90, 95, 90, 80, 70, 0, 80, 90, 90, 0, 90, 100, 75, 20, 30, 50, 90]\n",
    "```\n",
    "\n",
    "Ejemplo de salida:\n",
    "\n",
    "```txt\n",
    "scores = [100, 90, 95, 90, 80, 70, 0, 80, 90, 90, 0, 90, 100, 75, 20, 30, 50, 90]\n",
    "\n",
    "El número total de estudiantes es 6\n",
    "\n",
    "El número total de estudiantes válidos es 4\n",
    "\n",
    "[[100, 90, 95], [90, 80, 70], [100, 75, 20], [30, 50, 90]]\n",
    "```"
   ]
  },
  {
   "cell_type": "code",
   "execution_count": 38,
   "metadata": {},
   "outputs": [
    {
     "name": "stdout",
     "output_type": "stream",
     "text": [
      "El número total de estudiantes es 6\n",
      "El número total de estudiantes válidos es 4\n",
      "[[100, 90, 95], [90, 80, 70], [100, 75, 20], [30, 50, 90]]\n"
     ]
    }
   ],
   "source": [
    "scores = [100, 90, 95, 90, 80, 70, 0, 80,\n",
    "            90, 90, 0, 90, 100, 75, 20, 30, 50, 90]\n",
    "\n",
    "# Contar el número total de estudiantes\n",
    "n_students = len(scores) // 3\n",
    "\n",
    "\n",
    "# Contar el número de estudiantes con puntajes válidos \n",
    "# y crear una nueva lista de puntajes válidos \n",
    "valid_scores = []\n",
    "n_student_valid = 0\n",
    "\n",
    "for i in range(n_students):\n",
    "    start = i * 3\n",
    "    end = start + 3\n",
    "    scs = scores[start : end]\n",
    "    if 0 not in scs:\n",
    "        valid_scores.append(scs)\n",
    "        n_student_valid += 1\n",
    "\n",
    "\n",
    "print(f'El número total de estudiantes es {n_students}')\n",
    "print(f\"El número total de estudiantes válidos es {n_student_valid}\")\n",
    "print(valid_scores)\n"
   ]
  },
  {
   "cell_type": "code",
   "execution_count": 39,
   "metadata": {},
   "outputs": [
    {
     "name": "stdout",
     "output_type": "stream",
     "text": [
      "El número total de estudiantes es 6\n",
      "El número total de estudiantes válidos es 4\n",
      "[[100, 90, 95], [90, 80, 70], [100, 75, 20], [30, 50, 90]]\n"
     ]
    }
   ],
   "source": [
    "scores = [100, 90, 95, 90, 80, 70, 0, 80,\n",
    "            90, 90, 0, 90, 100, 75, 20, 30, 50, 90]\n",
    "\n",
    "# Contar el número de estudiantes\n",
    "n_students = len(scores) // 3\n",
    "\n",
    "# Filtrar y trasformar los puntajes de los estudiantes, \n",
    "# tomando en cuenta solo los puntajes válidos\n",
    "valid_scores = list(\n",
    "    filter(\n",
    "        lambda x: 0 not in x, \n",
    "        map(\n",
    "            lambda i: scores[i : i+3],\n",
    "            range(0, len(scores), 3)\n",
    "        )\n",
    "    )\n",
    ")\n",
    "\n",
    "# Contar el número de estudiantes válidos\n",
    "n_student_valid = len(valid_scores)\n",
    "\n",
    "\n",
    "print(f'El número total de estudiantes es {n_students}')\n",
    "print(f\"El número total de estudiantes válidos es {n_student_valid}\")\n",
    "print(valid_scores)\n"
   ]
  },
  {
   "cell_type": "code",
   "execution_count": 40,
   "metadata": {},
   "outputs": [
    {
     "name": "stdout",
     "output_type": "stream",
     "text": [
      "El número total de estudiantes es 6\n",
      "El número total de estudiantes válidos es 4\n",
      "[[100, 90, 95], [90, 80, 70], [100, 75, 20], [30, 50, 90]]\n"
     ]
    }
   ],
   "source": [
    "scores = [100, 90, 95, 90, 80, 70, 0, 80,\n",
    "            90, 90, 0, 90, 100, 75, 20, 30, 50, 90]\n",
    "\n",
    "# Generar una lista de subgrupos de 3 puntajes consecutivos\n",
    "sub_groups = [scores[i: i+3] for i in range(0, len(scores), 3)]\n",
    "\n",
    "# Filtrar los subgrupos que no contienen un puntaje de 0\n",
    "valid_scores = [sub_group for sub_group in sub_groups if 0 not in sub_group]\n",
    "\n",
    "# Obtener el número total de estudiantes y el número de estudiantes válidos\n",
    "n_students = len(scores) // 3\n",
    "n_student_valid = len(valid_scores)\n",
    "\n",
    "\n",
    "print(f'El número total de estudiantes es {n_students}')\n",
    "print(f\"El número total de estudiantes válidos es {n_student_valid}\")\n",
    "print(valid_scores)\n"
   ]
  },
  {
   "cell_type": "markdown",
   "metadata": {},
   "source": [
    "## Unidad 20"
   ]
  },
  {
   "cell_type": "markdown",
   "metadata": {},
   "source": [
    "### Quiz 1"
   ]
  },
  {
   "cell_type": "markdown",
   "metadata": {},
   "source": [
    "Cree una función anidada llamando a esta función `greetings` y otra función llamada `say_hi` dentro de esa función. Llame la función `say_hi` dentro de la función `greetings` y luego, llame la función `greetings` e imprima `hello`.\n",
    "\n",
    "Use la siguiente definición para la función `say_hi`:\n",
    "\n",
    "```py\n",
    "def say_hi():\n",
    "    print('hello')\n",
    "```"
   ]
  },
  {
   "cell_type": "code",
   "execution_count": 4,
   "metadata": {},
   "outputs": [
    {
     "name": "stdout",
     "output_type": "stream",
     "text": [
      "hello\n"
     ]
    }
   ],
   "source": [
    "def greetings():\n",
    "    def say_hi():\n",
    "        print('hello')\n",
    "    return say_hi\n",
    "\n",
    "greetings()()"
   ]
  },
  {
   "cell_type": "markdown",
   "metadata": {},
   "source": [
    "### Quiz 2"
   ]
  },
  {
   "cell_type": "markdown",
   "metadata": {},
   "source": [
    "Escriba la siguiente función `calc` y asigne `calc` a la variable `num`. Luego, ejecute `num(3)`, el resultado debe ser 14.\n",
    "\n",
    "```py\n",
    "def calc():\n",
    "    a = 3\n",
    "    b = 5\n",
    "    def mul_add(x):\n",
    "        return a * x + b\n",
    "    return mul_add\n",
    "```"
   ]
  },
  {
   "cell_type": "code",
   "execution_count": 6,
   "metadata": {},
   "outputs": [
    {
     "data": {
      "text/plain": [
       "14"
      ]
     },
     "execution_count": 6,
     "metadata": {},
     "output_type": "execute_result"
    }
   ],
   "source": [
    "def calc():\n",
    "    a = 3\n",
    "    b = 5\n",
    "\n",
    "    def mul_add(x):\n",
    "        return a * x + b\n",
    "    return mul_add\n",
    "\n",
    "num = calc()\n",
    "num(3)"
   ]
  },
  {
   "cell_type": "markdown",
   "metadata": {},
   "source": [
    "### Quiz 3"
   ]
  },
  {
   "cell_type": "markdown",
   "metadata": {},
   "source": [
    "Reconstruya la función interna `mul_add` de la función anidada `calc` del problema anterior usando una expresión lambda y obtenga el mismo resultado."
   ]
  },
  {
   "cell_type": "code",
   "execution_count": 8,
   "metadata": {},
   "outputs": [
    {
     "data": {
      "text/plain": [
       "14"
      ]
     },
     "execution_count": 8,
     "metadata": {},
     "output_type": "execute_result"
    }
   ],
   "source": [
    "def calc():\n",
    "    a = 3\n",
    "    b = 5\n",
    "\n",
    "    return lambda x: a * x + b\n",
    "\n",
    "num = calc()\n",
    "num(3)"
   ]
  },
  {
   "cell_type": "markdown",
   "metadata": {},
   "source": [
    "### Quiz 4"
   ]
  },
  {
   "cell_type": "markdown",
   "metadata": {},
   "source": [
    "Extraiga la lista resultante de la lista `lst` que tiene valores de 1 a 100. La lista resultante tiene los elementos de `lst` que son divisibles por 5 o 7. Para ello declare la función `func1(a)` y anide las funciones `func2` y `func3`. Luego llame las dos funciones desde la función `func1` e imprima los números que son divisibles por 5 o 7. Finalmente, alinee los valores resultantes usando la función pre-construida `sorted()`.\n",
    "\n",
    "Funciones a anidar:\n",
    "\n",
    "```py\n",
    "def func2():\n",
    "    result1 = []\n",
    "    for i in a:\n",
    "        if i % 5 == 0:\n",
    "            result1.append(i)\n",
    "    return result1\n",
    "    \n",
    "def func3():\n",
    "    result2 = []\n",
    "    for i in a:\n",
    "        if i % 7 == 0:\n",
    "            result2.append(i)\n",
    "    return result2\n",
    "```"
   ]
  },
  {
   "cell_type": "code",
   "execution_count": 22,
   "metadata": {},
   "outputs": [
    {
     "name": "stdout",
     "output_type": "stream",
     "text": [
      "lst: [1, 2, 3, 4, 5, 6, 7, 8, 9, 10, 11, 12, 13, 14, 15, 16, 17, 18, 19, 20, 21, 22, 23, 24, 25, 26, 27, 28, 29, 30, 31, 32, 33, 34, 35, 36, 37, 38, 39, 40, 41, 42, 43, 44, 45, 46, 47, 48, 49, 50, 51, 52, 53, 54, 55, 56, 57, 58, 59, 60, 61, 62, 63, 64, 65, 66, 67, 68, 69, 70, 71, 72, 73, 74, 75, 76, 77, 78, 79, 80, 81, 82, 83, 84, 85, 86, 87, 88, 89, 90, 91, 92, 93, 94, 95, 96, 97, 98, 99, 100]\n",
      "\n",
      "result: [5, 7, 10, 14, 15, 20, 21, 25, 28, 30, 35, 35, 40, 42, 45, 49, 50, 55, 56, 60, 63, 65, 70, 70, 75, 77, 80, 84, 85, 90, 91, 95, 98, 100]\n"
     ]
    }
   ],
   "source": [
    "lst = list(range(1, 101))\n",
    "\n",
    "def func1(a):\n",
    "    result = []\n",
    "\n",
    "    def func2():\n",
    "        result1 = []\n",
    "        for i in a:\n",
    "            if i % 5 == 0:\n",
    "                result1.append(i)\n",
    "        return result1\n",
    "    \n",
    "    def func3():\n",
    "        result2 = []\n",
    "        for i in a:\n",
    "            if i % 7 == 0:\n",
    "                result2.append(i)\n",
    "        return result2\n",
    "    \n",
    "    result.extend(func2())\n",
    "    result.extend(func3())\n",
    "\n",
    "    return sorted(result)\n",
    "    \n",
    "result = func1(lst)\n",
    "\n",
    "print(f'lst: {lst}', end=\"\\n\\n\")\n",
    "print(f'result: {result}')"
   ]
  },
  {
   "cell_type": "code",
   "execution_count": 27,
   "metadata": {},
   "outputs": [
    {
     "name": "stdout",
     "output_type": "stream",
     "text": [
      "result: [5, 7, 10, 14, 15, 20, 21, 25, 28, 30, 35, 35, 40, 42, 45, 49, 50, 55, 56, 60, 63, 65, 70, 70, 75, 77, 80, 84, 85, 90, 91, 95, 98, 100]\n"
     ]
    }
   ],
   "source": [
    "lst = list(range(1, 101))\n",
    "\n",
    "def func1(a):\n",
    "    result = []\n",
    "\n",
    "    def func2():\n",
    "        return [x for x in a if x % 5 == 0]\n",
    "\n",
    "    def func3():\n",
    "        return [x for x in a if x % 7 == 0]\n",
    "    \n",
    "    result.extend(func2())\n",
    "    result.extend(func3())\n",
    "\n",
    "    return sorted(result)\n",
    "\n",
    "\n",
    "result = func1(lst)\n",
    "\n",
    "print(f'result: {result}')"
   ]
  },
  {
   "cell_type": "code",
   "execution_count": 32,
   "metadata": {},
   "outputs": [
    {
     "name": "stdout",
     "output_type": "stream",
     "text": [
      "result: [5, 7, 10, 14, 15, 20, 21, 25, 28, 30, 35, 40, 42, 45, 49, 50, 55, 56, 60, 63, 65, 70, 75, 77, 80, 84, 85, 90, 91, 95, 98, 100]\n"
     ]
    }
   ],
   "source": [
    "lst = range(1, 101)\n",
    "\n",
    "\n",
    "def func1(a):\n",
    "    result = []\n",
    "\n",
    "    def func2():\n",
    "        nonlocal result\n",
    "        result = [x for x in a if x % 5 == 0 or x % 7 == 0]\n",
    "        return sorted(result)\n",
    "\n",
    "    return func2\n",
    "\n",
    "\n",
    "result = func1(lst)()\n",
    "\n",
    "print(f'result: {result}')\n"
   ]
  },
  {
   "cell_type": "markdown",
   "metadata": {},
   "source": [
    "## Unidad 21"
   ]
  },
  {
   "cell_type": "markdown",
   "metadata": {},
   "source": [
    "### Quiz 1"
   ]
  },
  {
   "cell_type": "markdown",
   "metadata": {},
   "source": [
    "Construya la clase `Dog` y sus objetos con sus funcionalidades descritas a continuación:\n",
    "\n",
    "- Tiene un método llamado `def bark(self):` Este método imprime un ladrido.\n",
    "- Genere una instancia llamada `my_dog` y refiera a `Dog` con un la instrucción `my_dog = Dog()`\n",
    "- Imprima un ladrido con un método llamando `my_dog.bark()`"
   ]
  },
  {
   "cell_type": "code",
   "execution_count": 44,
   "metadata": {},
   "outputs": [
    {
     "name": "stdout",
     "output_type": "stream",
     "text": [
      "woof woof\n"
     ]
    }
   ],
   "source": [
    "class Dog():\n",
    "    def bark(self):\n",
    "        print('woof woof')\n",
    "\n",
    "my_dog = Dog()\n",
    "my_dog.bark()"
   ]
  },
  {
   "cell_type": "markdown",
   "metadata": {},
   "source": [
    "### Quiz 2"
   ]
  },
  {
   "cell_type": "markdown",
   "metadata": {},
   "source": [
    "Defina la clase `Dog` con las funcionalidades descritas a continación y llama sus método e instancias:\n",
    "\n",
    "- Esta clase `Dog` tiene un atributo llamado `name`.\n",
    "- Tiene un método de inicialización llamado `def __ini__(self, name):`. Este método inicializa el nombre de la clase `Dog`.\n",
    "- Tiene un método llamado `def bark(self)`. Este método imprime un ladrido.\n",
    "- Genere una instancia `my_dog` que tiene el nombre de `Bingo` con el comando `my_dog = Dog('Bingo')`\n",
    "- Imprima los siguientes ladridos con el método `my_dog.bark()`"
   ]
  },
  {
   "cell_type": "code",
   "execution_count": 45,
   "metadata": {},
   "outputs": [
    {
     "name": "stdout",
     "output_type": "stream",
     "text": [
      "Bingo: woof, woof\n"
     ]
    }
   ],
   "source": [
    "class Dog():\n",
    "    def __init__(self, name):\n",
    "        self.name = name\n",
    "    \n",
    "    def bark(self):\n",
    "        print(f'{self.name}: woof, woof')\n",
    "\n",
    "my_dog = Dog(name='Bingo')\n",
    "my_dog.bark()"
   ]
  },
  {
   "cell_type": "markdown",
   "metadata": {},
   "source": [
    "### Quiz 3"
   ]
  },
  {
   "cell_type": "markdown",
   "metadata": {},
   "source": [
    "Construya la clase `Student` que tiene las siguientes funcionalidades:\n",
    "\n",
    "- Este estudiante toma quices para inglés, matemáticas, ciencias y los puntajes son dados como entradas. Genere instancias a través del uso de esta clase. Esta clase tiene los siguientes atributos y acciones.\n",
    "\n",
    "*attributes*:\n",
    "\n",
    "- `name`: nombre de estudiantes almacenado en tipo string\n",
    "- `student_id`: id del estudiante como `s2020001` almacenado en enteros de 8 digitos.\n",
    "- `eng_quiz`: puntaje del quiz de inglés del estudiante almacenado en formato de lista\n",
    "- `math_quiz`: untaje del quiz de matemáticas del estudiante almacenado en formato de lista\n",
    "- `science_quiz`: untaje del quiz de ciencias del estudiante almacenado en formato de lista\n",
    "\n",
    "*actions(methods)*:\n",
    "\n",
    "- `__init__`: inicialice con el nombre del estudiante y el id.\n",
    "- `__str__`: retorne el nombre del estudiante, el id, y los puntajes de los parciales como strings.\n",
    "- `set_eng_quiz`: setea el quiz de inglés\n",
    "- `set_math_quiz`: setea el quiz de matemáticas\n",
    "- `set_science_quiz`: setea el quiz de ciencias\n",
    "- `get_name`: retorna el nombre del estudiante\n",
    "- `get_student_id`: retorna el id student_id\n",
    "- `get_eng_quiz`: retorna el quiz de inglés\n",
    "- `get_math_quiz`: retorna el quiz de matemáticas\n",
    "- `get_science_quiz`: retorna el quiz de ciencias\n",
    "- `get_total_score`: retorna el puntaje total de los quices\n",
    "- `get_avg_score`: retorna el promedio de los quices\n",
    "\n",
    "*Respuesta esperada*:\n",
    "\n",
    "```txt\n",
    "Enter the student's name: David Doe\n",
    "Enter the student's ID: 20230217\n",
    "Enter the student's English quiz score: 90\n",
    "Enter the student's Mathematics quiz score: 95\n",
    "Enter the student's Science quiz score: 100\n",
    "Name: David Doe, ID: 20230217\n",
    "English quiz score: 90, Mathematics quiz score: 95, Science quiz score: 100\n",
    "Total: 285\n",
    "Average: 95.0\n",
    "```"
   ]
  },
  {
   "cell_type": "code",
   "execution_count": 56,
   "metadata": {},
   "outputs": [
    {
     "name": "stdout",
     "output_type": "stream",
     "text": [
      "Name: David Doe, ID: 20230217 \n",
      "English quiz score: 90, Mathematics quiz score: 95, Science quiz score: 100\n",
      "Total: 285\n",
      "Average: 95.0\n"
     ]
    }
   ],
   "source": [
    "class Student():\n",
    "    def __init__(self, name: str, student_id: int, eng_quiz: int, math_quiz: int, science_quiz: int):\n",
    "        self.name = name\n",
    "        self.student_id = student_id\n",
    "        self.__eng_quiz = eng_quiz\n",
    "        self.__math_quiz = math_quiz\n",
    "        self.__science_quiz = science_quiz\n",
    "\n",
    "    def set_eng_quiz(self, score):\n",
    "        if score >= 0:\n",
    "            self.__eng_quiz = score\n",
    "    \n",
    "    def get_eng_quiz(self):\n",
    "        return self.__eng_quiz\n",
    "\n",
    "    def set_math_quiz(self, score):\n",
    "        if score >= 0:\n",
    "            self.__math_quiz = score\n",
    "    \n",
    "    def get_math_quiz(self):\n",
    "        return self.__math_quiz\n",
    "\n",
    "    def set_science_quiz(self, score):\n",
    "        if score >= 0:\n",
    "            self.__science_quiz = score\n",
    "    \n",
    "    def get_science_quiz(self):\n",
    "        return self.__science_quiz\n",
    "    \n",
    "    def get_total_score(self):\n",
    "        return f'Total: {self.__eng_quiz + self.__math_quiz + self.__science_quiz}'\n",
    "    \n",
    "    def get_avg_score(self):\n",
    "        return f'Average: {(self.__eng_quiz + self.__math_quiz + self.__science_quiz) / 3}'\n",
    "\n",
    "    def __str__(self):\n",
    "        return (f'Name: {self.name}, ID: {self.student_id} \\nEnglish quiz score: {self.get_eng_quiz()}, Mathematics quiz score: {self.get_math_quiz()}, Science quiz score: {self.get_science_quiz()}')\n",
    "\n",
    "\n",
    "\n",
    "name = input(\"Enter the student's name: \")\n",
    "student_id = int(input(\"Enter the student's ID: \"))\n",
    "eng_quiz = int(input(\"Enter the student's English quiz score: \"))\n",
    "math_quiz = int(input(\"Enter the student's Mathematics quiz score: \"))\n",
    "science_quiz = int(input(\"Enter the student's Science quiz score: \"))\n",
    "\n",
    "\n",
    "student = Student(\n",
    "    name,\n",
    "    student_id,\n",
    "    eng_quiz,\n",
    "    math_quiz,\n",
    "    science_quiz\n",
    ")\n",
    "\n",
    "\n",
    "print(student)\n",
    "print(student.get_total_score())\n",
    "print(student.get_avg_score())"
   ]
  }
 ],
 "metadata": {
  "kernelspec": {
   "display_name": "Python 3 (ipykernel)",
   "language": "python",
   "name": "python3"
  },
  "language_info": {
   "codemirror_mode": {
    "name": "ipython",
    "version": 3
   },
   "file_extension": ".py",
   "mimetype": "text/x-python",
   "name": "python",
   "nbconvert_exporter": "python",
   "pygments_lexer": "ipython3",
   "version": "3.9.13"
  }
 },
 "nbformat": 4,
 "nbformat_minor": 2
}
