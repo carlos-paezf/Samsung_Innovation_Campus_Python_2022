{
 "cells": [
  {
   "attachments": {},
   "cell_type": "markdown",
   "metadata": {},
   "source": [
    "# Módulo 2 - Capítulo 4"
   ]
  },
  {
   "attachments": {},
   "cell_type": "markdown",
   "metadata": {},
   "source": [
    "## Unidad 22"
   ]
  },
  {
   "attachments": {},
   "cell_type": "markdown",
   "metadata": {},
   "source": [
    "### Quiz 1"
   ]
  },
  {
   "attachments": {},
   "cell_type": "markdown",
   "metadata": {},
   "source": [
    "Escriba la salida de los códigos del siguiente ejemplo que usa una pila.\n",
    "\n",
    "```py\n",
    "stack=Stack()\n",
    "stack.push('Banana')\n",
    "stack.push('Apple')\n",
    "stack.push('Tomato')\n",
    "stack.pop()\n",
    "stack.push('Strawberry')\n",
    "stack.push('Grapes')\n",
    "stack.pop()\n",
    "print(stack.stack)\n",
    "```"
   ]
  },
  {
   "cell_type": "code",
   "execution_count": 5,
   "metadata": {},
   "outputs": [],
   "source": [
    "class Stack():\n",
    "    def __init__(self):\n",
    "        self.stack = []\n",
    "\n",
    "    def is_empty(self):\n",
    "        return len(self.stack) == 0\n",
    "    \n",
    "    def push(self, item):\n",
    "        self.stack.append(item)\n",
    "\n",
    "    def pop(self):\n",
    "        return None if self.is_empty() else self.stack.pop()\n",
    "    \n",
    "    def peek(self):\n",
    "        return None if self.is_empty() else self.stack[-1]"
   ]
  },
  {
   "cell_type": "code",
   "execution_count": 25,
   "metadata": {},
   "outputs": [
    {
     "name": "stdout",
     "output_type": "stream",
     "text": [
      "stack = Stack()          --> []\n",
      "\n",
      "stack.push('Banana')     --> ['Banana']\n",
      "stack.push('Apple')      --> ['Banana', 'Apple']\n",
      "stack.push('Tomato')     --> ['Banana', 'Apple', 'Tomato']\n",
      "stack.pop()              --> ['Banana', 'Apple']\n",
      "stack.push('Strawberry') --> ['Banana', 'Apple', 'Strawberry']\n",
      "stack.push('Grapes')     --> ['Banana', 'Apple', 'Strawberry', 'Grapes']\n",
      "stack.pop()              --> ['Banana', 'Apple', 'Strawberry']\n"
     ]
    }
   ],
   "source": [
    "stack = Stack()\n",
    "print('stack = Stack()          -->', stack.stack, end=\"\\n\\n\")\n",
    "\n",
    "stack.push('Banana')\n",
    "print(\"stack.push('Banana')     -->\", stack.stack)\n",
    "\n",
    "stack.push('Apple')\n",
    "print(\"stack.push('Apple')      -->\", stack.stack)\n",
    "\n",
    "stack.push('Tomato')\n",
    "print(\"stack.push('Tomato')     -->\", stack.stack)\n",
    "\n",
    "stack.pop()\n",
    "print(\"stack.pop()              -->\", stack.stack)\n",
    "\n",
    "stack.push('Strawberry')\n",
    "print(\"stack.push('Strawberry') -->\", stack.stack)\n",
    "\n",
    "stack.push('Grapes')\n",
    "print(\"stack.push('Grapes')     -->\", stack.stack)\n",
    "\n",
    "stack.pop()\n",
    "print(\"stack.pop()              -->\", stack.stack)\n"
   ]
  },
  {
   "attachments": {},
   "cell_type": "markdown",
   "metadata": {},
   "source": [
    "### Quiz 2"
   ]
  },
  {
   "attachments": {},
   "cell_type": "markdown",
   "metadata": {},
   "source": [
    "Escriba la salida de los códigos del siguiente ejemplo que usa una pila.\n",
    "\n",
    "```py\n",
    "stack = Stack()\n",
    "\n",
    "items = [10*i for i in range(1, 10)]\n",
    "\n",
    "for item in items:\n",
    "    stack.push(items)\n",
    "    if (item // 10) % 2 == 0:\n",
    "        stack.pop()\n",
    "\n",
    "print(stack.stack)\n",
    "```"
   ]
  },
  {
   "cell_type": "code",
   "execution_count": 6,
   "metadata": {},
   "outputs": [
    {
     "name": "stdout",
     "output_type": "stream",
     "text": [
      "stack = Stack() []\n",
      "\n",
      "stack.push(items) --> item: 10 --> [10]\n",
      "stack.push(items) --> item: 20 --> [10, 20]\n",
      "      stack.pop() --> item: 20 --> [10]\n",
      "stack.push(items) --> item: 30 --> [10, 30]\n",
      "stack.push(items) --> item: 40 --> [10, 30, 40]\n",
      "      stack.pop() --> item: 40 --> [10, 30]\n",
      "stack.push(items) --> item: 50 --> [10, 30, 50]\n",
      "stack.push(items) --> item: 60 --> [10, 30, 50, 60]\n",
      "      stack.pop() --> item: 60 --> [10, 30, 50]\n",
      "stack.push(items) --> item: 70 --> [10, 30, 50, 70]\n",
      "stack.push(items) --> item: 80 --> [10, 30, 50, 70, 80]\n",
      "      stack.pop() --> item: 80 --> [10, 30, 50, 70]\n",
      "stack.push(items) --> item: 90 --> [10, 30, 50, 70, 90]\n",
      "\n",
      "[10, 30, 50, 70, 90]\n"
     ]
    }
   ],
   "source": [
    "stack = Stack()\n",
    "print('stack = Stack()', stack.stack, end=\"\\n\\n\")\n",
    "\n",
    "items = [10*i for i in range(1, 10)]\n",
    "\n",
    "for item in items:\n",
    "    stack.push(item)\n",
    "    print('stack.push(items) -->', f'item: {item} -->', stack.stack)\n",
    "\n",
    "    if (item // 10) % 2 == 0:\n",
    "        stack.pop()\n",
    "        print('      stack.pop() -->', f'item: {item} -->', stack.stack)\n",
    "\n",
    "print(f'\\n{stack.stack}')"
   ]
  },
  {
   "attachments": {},
   "cell_type": "markdown",
   "metadata": {},
   "source": [
    "### Quiz 3"
   ]
  },
  {
   "attachments": {},
   "cell_type": "markdown",
   "metadata": {},
   "source": [
    "El documento HTML consta de muchas etiquetas, como se muestra a continuación. Esciba un programa que coincida con las etiquetas de documentos HTML.\n",
    "\n",
    "```html\n",
    "<html>\n",
    "    <body>\n",
    "        <h1>Hello, World!</h1>\n",
    "        \n",
    "        <p> We are learning the art of coding with Python programming language. Here we are learning ... </p> \n",
    "        \n",
    "        <ul>\n",
    "            <li> Data Structures, </li>\n",
    "            <li> Algorithms, </li>\n",
    "            <li> and Computational Thinking, eventually. </li> \n",
    "        </ul>\n",
    "    </body>\n",
    "</html>\n",
    "```\n",
    "\n",
    "**TIP**:\n",
    "\n",
    "En Python, el método `find()` se usa para ubicar la posición inicial de la subcadena. Encuentre `<` y `>` para distingir las etiquteas de documentos HTML.\n",
    "\n",
    "Si la etiqueta distinguida incluye `/`, entonces es una etiqueta cerrada, y si no, es una etiqueta abierta. Verifique la coincidencia de la etiqueta HTML de una manera similar al uso de una pila para hacer coincidir los paréntesis.\n",
    "\n",
    "**Cadena de prueba 1:** `<html><body> <h1> hello world </h1>`\n",
    "\n",
    "**Cadena de prueba 2:** `<html><body><h1>Hello, World!</h1><p> We are learning the art of coding with Python programming language. Here we are learning ... </p><ul><li> Data Structures, </li><li> Algorithms, </li><li> and Computational Thinking, eventually. </li></ul></body></html>`"
   ]
  },
  {
   "cell_type": "code",
   "execution_count": 26,
   "metadata": {},
   "outputs": [],
   "source": [
    "text = input('Ingrese la cadena del documento HTML: ')"
   ]
  },
  {
   "cell_type": "code",
   "execution_count": 27,
   "metadata": {},
   "outputs": [
    {
     "name": "stdout",
     "output_type": "stream",
     "text": [
      "<html> <body> <h1> </h1> "
     ]
    }
   ],
   "source": [
    "start = text.find('<')\n",
    "\n",
    "while start != -1:\n",
    "    end = text.find('>', start + 1)\n",
    "    tag = text[start : end + 1]\n",
    "    print(tag, end=' ')\n",
    "    start = text.find('<', end + 1)"
   ]
  },
  {
   "cell_type": "code",
   "execution_count": 51,
   "metadata": {},
   "outputs": [],
   "source": [
    "opened_tags = [\n",
    "    '<html>', \n",
    "    '<body>',\n",
    "    '<h1>',\n",
    "    '<p>',\n",
    "    '<ul>',\n",
    "    '<li>'\n",
    "]\n",
    "\n",
    "closed_tags = [\n",
    "    '</html>', \n",
    "    '</body>',\n",
    "    '</h1>',\n",
    "    '</p>',\n",
    "    '</ul>',\n",
    "    '</li>'\n",
    "]\n",
    "\n",
    "tag_pairs = {\n",
    "    closed: opened for opened, closed in zip(opened_tags, closed_tags)\n",
    "}"
   ]
  },
  {
   "cell_type": "code",
   "execution_count": 35,
   "metadata": {},
   "outputs": [],
   "source": [
    "def extract_tags(text: str):\n",
    "    start = text.find('<')\n",
    "    tags = []\n",
    "\n",
    "    while start != -1:\n",
    "        end = text.find('>', start + 1)\n",
    "        tag = text[start: end + 1]\n",
    "        tags.append(tag)\n",
    "        start = text.find('<', end + 1)\n",
    "\n",
    "    return tags"
   ]
  },
  {
   "cell_type": "code",
   "execution_count": 54,
   "metadata": {},
   "outputs": [],
   "source": [
    "def validate_tags():\n",
    "    stack = Stack()\n",
    "    is_valid = True\n",
    "\n",
    "    text = input('Ingrese la cadena del documento HTML')\n",
    "    tags = extract_tags(text)\n",
    "    print('Tags reconocidos:', tags)\n",
    "\n",
    "    for tag in tags:\n",
    "        if tag in opened_tags:\n",
    "            stack.push(tag)\n",
    "        elif tag in closed_tags:\n",
    "            if stack.is_empty() or stack.pop() != tag_pairs[tag]:\n",
    "                is_valid = False\n",
    "                break\n",
    "    \n",
    "    if not stack.is_empty():\n",
    "        is_valid = False\n",
    "    \n",
    "    print(\"El código ingresado es {}\".format('valido' if is_valid else 'invalido'))"
   ]
  },
  {
   "cell_type": "code",
   "execution_count": 55,
   "metadata": {},
   "outputs": [
    {
     "name": "stdout",
     "output_type": "stream",
     "text": [
      "Tags reconocidos: ['<html>', '<body>', '<h1>', '</h1>', '<p>', '</p>', '<ul>', '<li>', '</li>', '<li>', '</li>', '<li>', '</li>', '</ul>', '</body>', '</html>']\n",
      "El código ingresado es valido\n"
     ]
    }
   ],
   "source": [
    "validate_tags()"
   ]
  },
  {
   "cell_type": "code",
   "execution_count": 58,
   "metadata": {},
   "outputs": [
    {
     "name": "stdout",
     "output_type": "stream",
     "text": [
      "Tags reconocidos: ['<html>', '<body>', '<h1>', '</h1>']\n",
      "El código ingresado es invalido\n"
     ]
    }
   ],
   "source": [
    "validate_tags()"
   ]
  },
  {
   "attachments": {},
   "cell_type": "markdown",
   "metadata": {},
   "source": [
    "## Unidad 23"
   ]
  },
  {
   "attachments": {},
   "cell_type": "markdown",
   "metadata": {},
   "source": [
    "### Quiz 1"
   ]
  },
  {
   "attachments": {},
   "cell_type": "markdown",
   "metadata": {},
   "source": [
    "Escriba la salida de los códigos del ejemplo que usa una cola.\n",
    "\n",
    "```py\n",
    "queue=Queue()\n",
    "queue.enqueue('Banana')\n",
    "queue.enqueue('Apple')\n",
    "queue.enqueue('Tomato')\n",
    "queue.dequeue()\n",
    "queue.enqueue('Strawberry')\n",
    "queue.enqueue('Grapes')\n",
    "queue.dequeue()\n",
    "print(queue.queue)\n",
    "```"
   ]
  },
  {
   "cell_type": "code",
   "execution_count": 1,
   "metadata": {},
   "outputs": [],
   "source": [
    "class Queue():\n",
    "    def __init__(self):\n",
    "        self.queue = []\n",
    "    \n",
    "    def is_empty(self):\n",
    "        return len(self.queue) == 0\n",
    "    \n",
    "    def enqueue(self, item):\n",
    "        self.queue.append(item)\n",
    "    \n",
    "    def dequeue(self):\n",
    "        return None if self.is_empty() else self.queue.pop(0)\n",
    "    \n",
    "    def size(self):\n",
    "        return len(self.queue)"
   ]
  },
  {
   "cell_type": "code",
   "execution_count": 2,
   "metadata": {},
   "outputs": [
    {
     "name": "stdout",
     "output_type": "stream",
     "text": [
      "queue = Queue()             --> []\n",
      "queue.enqueue('Banana')     --> ['Banana']\n",
      "queue.enqueue('Apple')      --> ['Banana', 'Apple']\n",
      "queue.enqueue('Tomato')     --> ['Banana', 'Apple', 'Tomato']\n",
      "queue.dequeue()             --> ['Apple', 'Tomato']\n",
      "queue.enqueue('Strawberry') --> ['Apple', 'Tomato', 'Strawberry']\n",
      "queue.enqueue('Grapes')     --> ['Apple', 'Tomato', 'Strawberry', 'Grapes']\n",
      "queue.dequeue()             --> ['Tomato', 'Strawberry', 'Grapes']\n"
     ]
    }
   ],
   "source": [
    "queue = Queue()\n",
    "print(\"queue = Queue()             -->\", queue.queue)\n",
    "\n",
    "queue.enqueue('Banana')\n",
    "print(\"queue.enqueue('Banana')     -->\", queue.queue)\n",
    "\n",
    "queue.enqueue('Apple')\n",
    "print(\"queue.enqueue('Apple')      -->\", queue.queue)\n",
    "\n",
    "queue.enqueue('Tomato')\n",
    "print(\"queue.enqueue('Tomato')     -->\", queue.queue)\n",
    "\n",
    "queue.dequeue()\n",
    "print(\"queue.dequeue()             -->\", queue.queue)\n",
    "\n",
    "queue.enqueue('Strawberry')\n",
    "print(\"queue.enqueue('Strawberry') -->\", queue.queue)\n",
    "\n",
    "queue.enqueue('Grapes')\n",
    "print(\"queue.enqueue('Grapes')     -->\", queue.queue)\n",
    "\n",
    "queue.dequeue()\n",
    "print(\"queue.dequeue()             -->\", queue.queue)"
   ]
  },
  {
   "attachments": {},
   "cell_type": "markdown",
   "metadata": {},
   "source": [
    "### Quiz 2"
   ]
  },
  {
   "attachments": {},
   "cell_type": "markdown",
   "metadata": {},
   "source": [
    "Escriba la salida de los códigos del ejemplo que usan una cola.\n",
    "\n",
    "```py\n",
    "queue=Queue()\n",
    "items=[10*i for i in range(1,11)]\n",
    "for item in items:\n",
    "  queue.enqueue(items)\n",
    "  if (item // 10) % 2 == 0:\n",
    "    queue.dequeue()\n",
    "print(queue.queue)\n",
    "```"
   ]
  },
  {
   "cell_type": "code",
   "execution_count": 3,
   "metadata": {},
   "outputs": [
    {
     "name": "stdout",
     "output_type": "stream",
     "text": [
      "queue = Queue() []\n",
      "\n",
      "queue.enqueue(items) --> item: 10 --> [10]\n",
      "queue.enqueue(items) --> item: 20 --> [10, 20]\n",
      "     queue.dequeue() --> item: 20 --> [20]\n",
      "queue.enqueue(items) --> item: 30 --> [20, 30]\n",
      "queue.enqueue(items) --> item: 40 --> [20, 30, 40]\n",
      "     queue.dequeue() --> item: 40 --> [30, 40]\n",
      "queue.enqueue(items) --> item: 50 --> [30, 40, 50]\n",
      "queue.enqueue(items) --> item: 60 --> [30, 40, 50, 60]\n",
      "     queue.dequeue() --> item: 60 --> [40, 50, 60]\n",
      "queue.enqueue(items) --> item: 70 --> [40, 50, 60, 70]\n",
      "queue.enqueue(items) --> item: 80 --> [40, 50, 60, 70, 80]\n",
      "     queue.dequeue() --> item: 80 --> [50, 60, 70, 80]\n",
      "queue.enqueue(items) --> item: 90 --> [50, 60, 70, 80, 90]\n",
      "queue.enqueue(items) --> item: 100 --> [50, 60, 70, 80, 90, 100]\n",
      "     queue.dequeue() --> item: 100 --> [60, 70, 80, 90, 100]\n",
      "\n",
      "[60, 70, 80, 90, 100]\n"
     ]
    }
   ],
   "source": [
    "queue = Queue()\n",
    "print('queue = Queue()', queue.queue, end=\"\\n\\n\")\n",
    "\n",
    "items = [10*i for i in range(1, 11)]\n",
    "\n",
    "for item in items:\n",
    "    queue.enqueue(item)\n",
    "    print('queue.enqueue(items) -->', f'item: {item} -->', queue.queue)\n",
    "\n",
    "    if (item // 10) % 2 == 0:\n",
    "        queue.dequeue()\n",
    "        print('     queue.dequeue() -->', f'item: {item} -->', queue.queue)\n",
    "\n",
    "\n",
    "print(f'\\n{queue.queue}')\n"
   ]
  },
  {
   "attachments": {},
   "cell_type": "markdown",
   "metadata": {},
   "source": [
    "### Quiz 3"
   ]
  },
  {
   "attachments": {},
   "cell_type": "markdown",
   "metadata": {},
   "source": [
    "Consulte la definición de clase de la siguiente manera para completar y probar la clase `Deque`"
   ]
  },
  {
   "cell_type": "code",
   "execution_count": 70,
   "metadata": {},
   "outputs": [],
   "source": [
    "class Deque:\n",
    "    def __init__(self):\n",
    "        self.queue = []\n",
    "\n",
    "    def is_empty(self):\n",
    "        return len(self.queue) == 0\n",
    "    \n",
    "    def add_first(self, item):\n",
    "        self.queue.insert(0, item)\n",
    "\n",
    "    def remove_first(self):\n",
    "        return None if self.is_empty() else self.queue.pop(0)\n",
    "\n",
    "    def add_last(self, item):\n",
    "        self.queue.append(item)\n",
    "\n",
    "    def remove_last(self):\n",
    "        return None if self.is_empty() else self.queue.pop()"
   ]
  },
  {
   "attachments": {},
   "cell_type": "markdown",
   "metadata": {},
   "source": [
    "Una cola es un tipo de dato abstracto, donde solo es posible agreagar en un lado y solo es posible eliminar en el otro lado.\n",
    "\n",
    "Por el contrario, la cola de doble terminación (`Deque`) es la estructura de datos en la que es posoble agregar y eliminar en ambos lados. "
   ]
  },
  {
   "cell_type": "code",
   "execution_count": 72,
   "metadata": {},
   "outputs": [
    {
     "name": "stdout",
     "output_type": "stream",
     "text": [
      "deque = Queue()              --> []\n",
      "deque.add_first('Banana')    --> ['Banana']\n",
      "deque.add_first('Apple')     --> ['Apple', 'Banana']\n",
      "deque.add_first('Tomato')    --> ['Tomato', 'Apple', 'Banana']\n",
      "deque.remove_first()         --> ['Apple', 'Banana']\n",
      "deque.add_last('Strawberry') --> ['Apple', 'Banana', 'Strawberry']\n",
      "deque.add_last('Grapes')     --> ['Apple', 'Banana', 'Strawberry', 'Grapes']\n",
      "deque.remove_last()          --> ['Apple', 'Banana', 'Strawberry']\n"
     ]
    }
   ],
   "source": [
    "deque = Deque()\n",
    "print(\"deque = Queue()              -->\", deque.queue)\n",
    "\n",
    "deque.add_first('Banana')\n",
    "print(\"deque.add_first('Banana')    -->\", deque.queue)\n",
    "\n",
    "deque.add_first('Apple')\n",
    "print(\"deque.add_first('Apple')     -->\", deque.queue)\n",
    "\n",
    "deque.add_first('Tomato')\n",
    "print(\"deque.add_first('Tomato')    -->\", deque.queue)\n",
    "\n",
    "deque.remove_first()\n",
    "print(\"deque.remove_first()         -->\", deque.queue)\n",
    "\n",
    "deque.add_last('Strawberry')\n",
    "print(\"deque.add_last('Strawberry') -->\", deque.queue)\n",
    "\n",
    "deque.add_last('Grapes')\n",
    "print(\"deque.add_last('Grapes')     -->\", deque.queue)\n",
    "\n",
    "deque.remove_last()\n",
    "print(\"deque.remove_last()          -->\", deque.queue)\n"
   ]
  },
  {
   "attachments": {},
   "cell_type": "markdown",
   "metadata": {},
   "source": [
    "## Unidad 24"
   ]
  },
  {
   "attachments": {},
   "cell_type": "markdown",
   "metadata": {},
   "source": [
    "### Quiz 1"
   ]
  },
  {
   "attachments": {},
   "cell_type": "markdown",
   "metadata": {},
   "source": [
    "Adivina la salida del siguiente algoritmo. Analice el código y describa el comportamiento de este algoritmo."
   ]
  },
  {
   "cell_type": "code",
   "execution_count": 1,
   "metadata": {},
   "outputs": [],
   "source": [
    "def find_two(nums):\n",
    "    x = y = 0\n",
    "\n",
    "    for i in range(1, len(nums)):\n",
    "        if nums[x] < nums[i]:\n",
    "            x = i\n",
    "        elif nums[y] > nums[i]:\n",
    "            y = i\n",
    "\n",
    "    return x, y"
   ]
  },
  {
   "cell_type": "code",
   "execution_count": 2,
   "metadata": {},
   "outputs": [
    {
     "name": "stdout",
     "output_type": "stream",
     "text": [
      "59 11\n"
     ]
    }
   ],
   "source": [
    "nums = [11, 27, 45, 26, 59, 28, 17, 53]\n",
    "\n",
    "i, j = find_two(nums)\n",
    "\n",
    "print(nums[i], nums[j])"
   ]
  },
  {
   "attachments": {},
   "cell_type": "markdown",
   "metadata": {},
   "source": [
    "El algoritmo retorna el índice del número más grande y el índice el número más pequeño. Inicia asignado a la variable `x` el valor de `y`, quien a su vez tiene el valor de `0`. Luego, recorre el arreglo de números en el rango de `1` hasta el tamaño del arreglo (excluyente). Lo siguiente es comparar si el número en la posición `x` es menor al número de la posición que se está iterando, en cuyo caso se reemplaza `x` por la variable de iteración, pero si no se cumple esta condición, realiza otra evaluación para saber si el número en la posición de `y` es mayor al número de la posición que se está iterando, en cuyo caso se reemplaza `y` por la variable de iteración. \n",
    "\n",
    "De esta manera, `x` obtendrá el máximo valor, y `y` será el valor mínimo."
   ]
  },
  {
   "attachments": {},
   "cell_type": "markdown",
   "metadata": {},
   "source": [
    "### Quiz 2"
   ]
  },
  {
   "attachments": {},
   "cell_type": "markdown",
   "metadata": {},
   "source": [
    "¿Cuántas comparaciones se deben hacer para `find_two()` que se implementó en el quiz 1?"
   ]
  },
  {
   "cell_type": "code",
   "execution_count": 10,
   "metadata": {},
   "outputs": [],
   "source": [
    "def find_two(nums):\n",
    "    x = y = 0\n",
    "\n",
    "    for i in range(1, len(nums)):\n",
    "        if nums[x] < nums[i]:\n",
    "            print('comparación')\n",
    "            x = i\n",
    "        elif nums[y] > nums[i]:\n",
    "            print('comparación')\n",
    "            y = i\n",
    "\n",
    "    return x, y"
   ]
  },
  {
   "cell_type": "code",
   "execution_count": 11,
   "metadata": {},
   "outputs": [
    {
     "name": "stdout",
     "output_type": "stream",
     "text": [
      "comparación\n",
      "comparación\n",
      "comparación\n",
      "59 11\n"
     ]
    }
   ],
   "source": [
    "nums = [11, 27, 45, 26, 59, 28, 17, 53]\n",
    "\n",
    "i, j = find_two(nums)\n",
    "\n",
    "print(nums[i], nums[j])\n",
    "# print(f'Cantidad de comparaciones: {counter}')\n"
   ]
  },
  {
   "attachments": {},
   "cell_type": "markdown",
   "metadata": {},
   "source": [
    "Se realizan `len(nums) - 1` comparaciones, ya que este el número de iteraciones en el intervalo de `[1, len(nums))`, el cual se usa en la función `range` del ciclo `for`"
   ]
  },
  {
   "attachments": {},
   "cell_type": "markdown",
   "metadata": {},
   "source": [
    "### Quiz 3"
   ]
  },
  {
   "attachments": {},
   "cell_type": "markdown",
   "metadata": {},
   "source": [
    "Escriba un programa para contar cuántas veces se usó una palabra específica en la oración ingresada por el usuario.\n",
    "\n",
    "En la oración ingresada por el usuario, una palabra se distingue por la presencia de espacios.\n",
    "\n",
    "- Use la función `input().split()` para crear la lista `S` que tiene cada cadena como su elemento.\n",
    "- Use la función `input()` para recibir la palabra que el usuario buscará y guárdela en `x`.\n",
    "- La función `word_count()` recibe `S` y `x` como parámetros y proporciona un retorno contando cuántas `x` están presentes en la `S`."
   ]
  },
  {
   "cell_type": "code",
   "execution_count": 38,
   "metadata": {},
   "outputs": [],
   "source": [
    "def word_count(s: list[str], x: str) -> int:\n",
    "    counter = sum([1 for i in range(len(s)) if s[i].lower() == x.lower()])\n",
    "    return counter"
   ]
  },
  {
   "cell_type": "code",
   "execution_count": 42,
   "metadata": {},
   "outputs": [
    {
     "name": "stdout",
     "output_type": "stream",
     "text": [
      "In the sentence \"The quick brown fox jumps over the lazy dog\", the word \"the\" is appeared 2 times.\n"
     ]
    }
   ],
   "source": [
    "s = list(input('Input a sentence: ').split())\n",
    "x = input('Input a word to search: ')\n",
    "\n",
    "count = word_count(s, x)\n",
    "\n",
    "print(f'In the sentence \"{\" \".join(s)}\", the word \"{x}\" is appeared {count} times.')"
   ]
  },
  {
   "attachments": {},
   "cell_type": "markdown",
   "metadata": {},
   "source": [
    "## Unidad 25"
   ]
  },
  {
   "attachments": {},
   "cell_type": "markdown",
   "metadata": {},
   "source": [
    "### Quiz 1"
   ]
  },
  {
   "attachments": {},
   "cell_type": "markdown",
   "metadata": {},
   "source": [
    "El siguiente es el código para el juego de \"adivinar números\". Si `maximum = 100` y `number = 51`, ¿Cuántos conteos se imprimirían?"
   ]
  },
  {
   "cell_type": "code",
   "execution_count": 5,
   "metadata": {},
   "outputs": [],
   "source": [
    "def game():\n",
    "    maximum = int(input('Ingrese el número máximo: '))\n",
    "    number = int(input('Ingrese su número a adivinar: '))\n",
    "    count = 0\n",
    "    \n",
    "    low,high = 1,maximum\n",
    "    \n",
    "    while low < high:\n",
    "        mid = (low + high) // 2\n",
    "        count += 1\n",
    "        print(f'low: {low}, mid: {mid}, high: {high}')\n",
    "    \n",
    "        if mid == number:\n",
    "            print(f'\\nSu número es {number}')\n",
    "            break\n",
    "        elif mid > number:\n",
    "            high = mid - 1\n",
    "        else:\n",
    "            low = mid + 1\n",
    "    \n",
    "    print(f'Se tiene un total de {count} veces')"
   ]
  },
  {
   "cell_type": "code",
   "execution_count": 6,
   "metadata": {},
   "outputs": [
    {
     "name": "stdout",
     "output_type": "stream",
     "text": [
      "low: 1, mid: 50, high: 100\n",
      "low: 51, mid: 75, high: 100\n",
      "low: 51, mid: 62, high: 74\n",
      "low: 51, mid: 56, high: 61\n",
      "low: 51, mid: 53, high: 55\n",
      "low: 51, mid: 51, high: 52\n",
      "\n",
      "Su número es 51\n",
      "Se tiene un total de 6 veces\n"
     ]
    }
   ],
   "source": [
    "game()"
   ]
  },
  {
   "attachments": {},
   "cell_type": "markdown",
   "metadata": {},
   "source": [
    "### Quiz 2"
   ]
  },
  {
   "attachments": {},
   "cell_type": "markdown",
   "metadata": {},
   "source": [
    "Si `maximum = 100` y `number = 25` en el juego anterior, ¿Cuántos conteos se imprimirían?"
   ]
  },
  {
   "cell_type": "code",
   "execution_count": 7,
   "metadata": {},
   "outputs": [
    {
     "name": "stdout",
     "output_type": "stream",
     "text": [
      "low: 1, mid: 50, high: 100\n",
      "low: 1, mid: 25, high: 49\n",
      "\n",
      "Su número es 25\n",
      "Se tiene un total de 2 veces\n"
     ]
    }
   ],
   "source": [
    "game()"
   ]
  },
  {
   "attachments": {},
   "cell_type": "markdown",
   "metadata": {},
   "source": [
    "### Quiz 3"
   ]
  },
  {
   "attachments": {},
   "cell_type": "markdown",
   "metadata": {},
   "source": [
    "Si se proporciona una lista ordenada de número y un número entero aleatorio `x`, implemente la función que devuelve la ubicación del índice donde se insertará `x`. Sin embargo, `S` debe ser una lista ordenada incluso después de insertar `x`."
   ]
  },
  {
   "cell_type": "code",
   "execution_count": 17,
   "metadata": {},
   "outputs": [],
   "source": [
    "def search_insert_position(nums: list[int], x: int):\n",
    "    pos = 0\n",
    "    temp_list = nums.copy()\n",
    "    temp_list.append(x)\n",
    "    temp_list.sort()\n",
    "\n",
    "    low, high = 0, len(temp_list) - 1\n",
    "\n",
    "    while low < high:\n",
    "        mid = (low + high) // 2\n",
    "\n",
    "        if temp_list[mid] == x:\n",
    "            pos = mid\n",
    "            break\n",
    "        elif temp_list[mid] > x:\n",
    "            high = mid - 1\n",
    "        else:\n",
    "            low = mid + 1\n",
    "    return pos"
   ]
  },
  {
   "cell_type": "code",
   "execution_count": 18,
   "metadata": {},
   "outputs": [
    {
     "name": "stdout",
     "output_type": "stream",
     "text": [
      "x=70 debe ser insertado en la posición 5.\n",
      "[10, 20, 40, 50, 60, 70, 80]\n"
     ]
    }
   ],
   "source": [
    "nums = [10, 20, 40, 50, 60, 80]\n",
    "x = int(input('Ingrese un número para ser insertado: '))\n",
    "\n",
    "pos = search_insert_position(nums, x)\n",
    "\n",
    "print(f'x={x} debe ser insertado en la posición {pos}.')\n",
    "\n",
    "nums.insert(pos, x)\n",
    "print(nums)"
   ]
  },
  {
   "attachments": {},
   "cell_type": "markdown",
   "metadata": {},
   "source": [
    "## Unidad 26"
   ]
  },
  {
   "attachments": {},
   "cell_type": "markdown",
   "metadata": {},
   "source": [
    "### Quiz 1"
   ]
  },
  {
   "attachments": {},
   "cell_type": "markdown",
   "metadata": {},
   "source": [
    "Utilice la función `hash` de la tabla hash para calcular la clave y la clave hash de `Alice in Wonderland`"
   ]
  },
  {
   "cell_type": "code",
   "execution_count": 20,
   "metadata": {},
   "outputs": [],
   "source": [
    "class HashTable:\n",
    "\n",
    "    def __init__(self, size):\n",
    "        self.size = size\n",
    "        self.table = {}\n",
    "\n",
    "        for i in range(size):\n",
    "            self.table[i] = []\n",
    "    \n",
    "    def hash(self, key):\n",
    "        return key % self.size\n",
    "    \n",
    "    def get(self, key):\n",
    "        return self.table[self.hash(key)]\n",
    "    \n",
    "    def put(self, key, value):\n",
    "        bucket = self.table[self.hash(key)]\n",
    "        if value not in bucket:\n",
    "            bucket.append(value)"
   ]
  },
  {
   "cell_type": "code",
   "execution_count": 26,
   "metadata": {},
   "outputs": [
    {
     "name": "stdout",
     "output_type": "stream",
     "text": [
      "key=1795, value=['Alice in Wonderland'], bucket=3\n"
     ]
    }
   ],
   "source": [
    "table = HashTable(8)\n",
    "\n",
    "book = 'Alice in Wonderland'\n",
    "\n",
    "key = sum(map(ord, book))\n",
    "\n",
    "table.put(key, book)\n",
    "\n",
    "print(f'key={key}, value={table.get(key)}, bucket={table.hash(key)}')"
   ]
  },
  {
   "attachments": {},
   "cell_type": "markdown",
   "metadata": {},
   "source": [
    "### Quiz 2"
   ]
  },
  {
   "attachments": {},
   "cell_type": "markdown",
   "metadata": {},
   "source": [
    "Si hay 10 ranuras en la estantería, con el siguiente código encuentre las ranuras donde se colocarán cada uno de los siguiente libros:"
   ]
  },
  {
   "cell_type": "code",
   "execution_count": 43,
   "metadata": {},
   "outputs": [
    {
     "name": "stdout",
     "output_type": "stream",
     "text": [
      "key=1584, hash=4, bucket=['The Little Prince']\n",
      "key=1929, hash=9, bucket=['The Old Man and the Sea']\n",
      "key=1678, hash=8, bucket=['The Little Mermaid']\n",
      "key=1837, hash=7, bucket=['Beauty and the Beast']\n",
      "key=1133, hash=3, bucket=['The Last Leaf']\n",
      "key=1795, hash=5, bucket=['Alice in Wonderland']\n",
      "\n",
      "0 []\n",
      "1 []\n",
      "2 []\n",
      "3 ['The Last Leaf']\n",
      "4 ['The Little Prince']\n",
      "5 ['Alice in Wonderland']\n",
      "6 []\n",
      "7 ['Beauty and the Beast']\n",
      "8 ['The Little Mermaid']\n",
      "9 ['The Old Man and the Sea']\n"
     ]
    }
   ],
   "source": [
    "table = HashTable(10)\n",
    "\n",
    "books = [\n",
    "    'The Little Prince',\n",
    "    'The Old Man and the Sea',\n",
    "    'The Little Mermaid',\n",
    "    'Beauty and the Beast',\n",
    "    'The Last Leaf',\n",
    "    'Alice in Wonderland'\n",
    "]\n",
    "\n",
    "for book in books:\n",
    "    key = sum(map(ord, book))\n",
    "    table.put(key, book)\n",
    "    print(f'key={key}, hash={table.hash(key)}, bucket={table.get(key)}')\n",
    "\n",
    "print()\n",
    "\n",
    "for key in table.table.keys():\n",
    "    print(key, table.table[key])"
   ]
  },
  {
   "attachments": {},
   "cell_type": "markdown",
   "metadata": {},
   "source": [
    "### Quiz 3"
   ]
  },
  {
   "attachments": {},
   "cell_type": "markdown",
   "metadata": {},
   "source": [
    "Cree un convertidor que convierta números arábigos en números romanos utilizando la tabla hash que se proporciona a continuación:"
   ]
  },
  {
   "cell_type": "code",
   "execution_count": 44,
   "metadata": {},
   "outputs": [],
   "source": [
    "table = {\n",
    "    1000: 'M', 900: 'CM',\n",
    "    500: 'D', 400: 'CD',\n",
    "    100: 'C', 90: 'XC',\n",
    "    50: 'L', 40: 'XL',\n",
    "    10: 'X', 9: 'IX',\n",
    "    5: 'V', 4: 'IV',\n",
    "    1: 'I'\n",
    "}"
   ]
  },
  {
   "cell_type": "code",
   "execution_count": 56,
   "metadata": {},
   "outputs": [],
   "source": [
    "def int_to_roman(number: int)-> str:\n",
    "    result = ''\n",
    "    \n",
    "    for value_key, letter in table.items():\n",
    "        while number >= value_key:\n",
    "            result += letter\n",
    "            number -= value_key\n",
    "    \n",
    "    return result"
   ]
  },
  {
   "cell_type": "code",
   "execution_count": 59,
   "metadata": {},
   "outputs": [
    {
     "name": "stdout",
     "output_type": "stream",
     "text": [
      "num = 9753 -> MMMMMMMMMDCCLIII\n"
     ]
    }
   ],
   "source": [
    "num = int(input('Ingrese un número: '))\n",
    "print(f'num = {num} -> {int_to_roman(num)}')"
   ]
  }
 ],
 "metadata": {
  "kernelspec": {
   "display_name": "Python 3",
   "language": "python",
   "name": "python3"
  },
  "language_info": {
   "codemirror_mode": {
    "name": "ipython",
    "version": 3
   },
   "file_extension": ".py",
   "mimetype": "text/x-python",
   "name": "python",
   "nbconvert_exporter": "python",
   "pygments_lexer": "ipython3",
   "version": "3.11.2"
  },
  "orig_nbformat": 4,
  "vscode": {
   "interpreter": {
    "hash": "60046ffbd83e2c3226aa688c07a90e0b2db2ccbc92f599df08db67c0404662c7"
   }
  }
 },
 "nbformat": 4,
 "nbformat_minor": 2
}
