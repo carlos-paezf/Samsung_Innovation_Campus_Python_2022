{
 "cells": [
  {
   "attachments": {},
   "cell_type": "markdown",
   "metadata": {},
   "source": [
    "# Módulo 2 - Capítulo 4"
   ]
  },
  {
   "attachments": {},
   "cell_type": "markdown",
   "metadata": {},
   "source": [
    "## Unidad 22"
   ]
  },
  {
   "attachments": {},
   "cell_type": "markdown",
   "metadata": {},
   "source": [
    "### Quiz 1"
   ]
  },
  {
   "attachments": {},
   "cell_type": "markdown",
   "metadata": {},
   "source": [
    "Escriba la salida de los códigos del siguiente ejemplo que usa una pila.\n",
    "\n",
    "```py\n",
    "stack=Stack()\n",
    "stack.push('Banana')\n",
    "stack.push('Apple')\n",
    "stack.push('Tomato')\n",
    "stack.pop()\n",
    "stack.push('Strawberry')\n",
    "stack.push('Grapes')\n",
    "stack.pop()\n",
    "print(stack.stack)\n",
    "```"
   ]
  },
  {
   "cell_type": "code",
   "execution_count": 1,
   "metadata": {},
   "outputs": [],
   "source": [
    "class Stack():\n",
    "    def __init__(self):\n",
    "        self.stack = []\n",
    "\n",
    "    def is_empty(self):\n",
    "        return len(self.stack) == 0\n",
    "    \n",
    "    def push(self, item):\n",
    "        self.stack.append(item)\n",
    "\n",
    "    def pop(self):\n",
    "        return None if self.is_empty() else self.stack.pop()\n",
    "    \n",
    "    def peek(self):\n",
    "        return None if self.is_empty() else self.stack[-1]"
   ]
  },
  {
   "cell_type": "code",
   "execution_count": 25,
   "metadata": {},
   "outputs": [
    {
     "name": "stdout",
     "output_type": "stream",
     "text": [
      "stack = Stack()          --> []\n",
      "\n",
      "stack.push('Banana')     --> ['Banana']\n",
      "stack.push('Apple')      --> ['Banana', 'Apple']\n",
      "stack.push('Tomato')     --> ['Banana', 'Apple', 'Tomato']\n",
      "stack.pop()              --> ['Banana', 'Apple']\n",
      "stack.push('Strawberry') --> ['Banana', 'Apple', 'Strawberry']\n",
      "stack.push('Grapes')     --> ['Banana', 'Apple', 'Strawberry', 'Grapes']\n",
      "stack.pop()              --> ['Banana', 'Apple', 'Strawberry']\n"
     ]
    }
   ],
   "source": [
    "stack = Stack()\n",
    "print('stack = Stack()          -->', stack.stack, end=\"\\n\\n\")\n",
    "\n",
    "stack.push('Banana')\n",
    "print(\"stack.push('Banana')     -->\", stack.stack)\n",
    "\n",
    "stack.push('Apple')\n",
    "print(\"stack.push('Apple')      -->\", stack.stack)\n",
    "\n",
    "stack.push('Tomato')\n",
    "print(\"stack.push('Tomato')     -->\", stack.stack)\n",
    "\n",
    "stack.pop()\n",
    "print(\"stack.pop()              -->\", stack.stack)\n",
    "\n",
    "stack.push('Strawberry')\n",
    "print(\"stack.push('Strawberry') -->\", stack.stack)\n",
    "\n",
    "stack.push('Grapes')\n",
    "print(\"stack.push('Grapes')     -->\", stack.stack)\n",
    "\n",
    "stack.pop()\n",
    "print(\"stack.pop()              -->\", stack.stack)\n"
   ]
  },
  {
   "attachments": {},
   "cell_type": "markdown",
   "metadata": {},
   "source": [
    "### Quiz 2"
   ]
  },
  {
   "attachments": {},
   "cell_type": "markdown",
   "metadata": {},
   "source": [
    "Escriba la salida de los códigos del siguiente ejemplo que usa una pila.\n",
    "\n",
    "```py\n",
    "stack = Stack()\n",
    "\n",
    "items = [10*i for i in range(1, 10)]\n",
    "\n",
    "for item in items:\n",
    "    stack.push(items)\n",
    "    if (item // 10) % 2 == 0:\n",
    "        stack.pop()\n",
    "\n",
    "print(stack.stack)\n",
    "```"
   ]
  },
  {
   "cell_type": "code",
   "execution_count": 20,
   "metadata": {},
   "outputs": [
    {
     "name": "stdout",
     "output_type": "stream",
     "text": [
      "stack = Stack() []\n",
      "\n",
      "stack.push(items) --> item: 10 --> [[10, 20, 30, 40, 50, 60, 70, 80, 90]]\n",
      "stack.push(items) --> item: 20 --> [[10, 20, 30, 40, 50, 60, 70, 80, 90], [10, 20, 30, 40, 50, 60, 70, 80, 90]]\n",
      "      stack.pop() --> item: 20 --> [[10, 20, 30, 40, 50, 60, 70, 80, 90]]\n",
      "stack.push(items) --> item: 30 --> [[10, 20, 30, 40, 50, 60, 70, 80, 90], [10, 20, 30, 40, 50, 60, 70, 80, 90]]\n",
      "stack.push(items) --> item: 40 --> [[10, 20, 30, 40, 50, 60, 70, 80, 90], [10, 20, 30, 40, 50, 60, 70, 80, 90], [10, 20, 30, 40, 50, 60, 70, 80, 90]]\n",
      "      stack.pop() --> item: 40 --> [[10, 20, 30, 40, 50, 60, 70, 80, 90], [10, 20, 30, 40, 50, 60, 70, 80, 90]]\n",
      "stack.push(items) --> item: 50 --> [[10, 20, 30, 40, 50, 60, 70, 80, 90], [10, 20, 30, 40, 50, 60, 70, 80, 90], [10, 20, 30, 40, 50, 60, 70, 80, 90]]\n",
      "stack.push(items) --> item: 60 --> [[10, 20, 30, 40, 50, 60, 70, 80, 90], [10, 20, 30, 40, 50, 60, 70, 80, 90], [10, 20, 30, 40, 50, 60, 70, 80, 90], [10, 20, 30, 40, 50, 60, 70, 80, 90]]\n",
      "      stack.pop() --> item: 60 --> [[10, 20, 30, 40, 50, 60, 70, 80, 90], [10, 20, 30, 40, 50, 60, 70, 80, 90], [10, 20, 30, 40, 50, 60, 70, 80, 90]]\n",
      "stack.push(items) --> item: 70 --> [[10, 20, 30, 40, 50, 60, 70, 80, 90], [10, 20, 30, 40, 50, 60, 70, 80, 90], [10, 20, 30, 40, 50, 60, 70, 80, 90], [10, 20, 30, 40, 50, 60, 70, 80, 90]]\n",
      "stack.push(items) --> item: 80 --> [[10, 20, 30, 40, 50, 60, 70, 80, 90], [10, 20, 30, 40, 50, 60, 70, 80, 90], [10, 20, 30, 40, 50, 60, 70, 80, 90], [10, 20, 30, 40, 50, 60, 70, 80, 90], [10, 20, 30, 40, 50, 60, 70, 80, 90]]\n",
      "      stack.pop() --> item: 80 --> [[10, 20, 30, 40, 50, 60, 70, 80, 90], [10, 20, 30, 40, 50, 60, 70, 80, 90], [10, 20, 30, 40, 50, 60, 70, 80, 90], [10, 20, 30, 40, 50, 60, 70, 80, 90]]\n",
      "stack.push(items) --> item: 90 --> [[10, 20, 30, 40, 50, 60, 70, 80, 90], [10, 20, 30, 40, 50, 60, 70, 80, 90], [10, 20, 30, 40, 50, 60, 70, 80, 90], [10, 20, 30, 40, 50, 60, 70, 80, 90], [10, 20, 30, 40, 50, 60, 70, 80, 90]]\n",
      "\n",
      "[[10, 20, 30, 40, 50, 60, 70, 80, 90], [10, 20, 30, 40, 50, 60, 70, 80, 90], [10, 20, 30, 40, 50, 60, 70, 80, 90], [10, 20, 30, 40, 50, 60, 70, 80, 90], [10, 20, 30, 40, 50, 60, 70, 80, 90]]\n"
     ]
    }
   ],
   "source": [
    "stack = Stack()\n",
    "print('stack = Stack()', stack.stack, end=\"\\n\\n\")\n",
    "\n",
    "items = [10*i for i in range(1, 10)]\n",
    "\n",
    "for item in items:\n",
    "    stack.push(items)\n",
    "    print('stack.push(items) -->', f'item: {item} -->', stack.stack)\n",
    "\n",
    "    if (item // 10) % 2 == 0:\n",
    "        stack.pop()\n",
    "        print('      stack.pop() -->', f'item: {item} -->', stack.stack)\n",
    "\n",
    "print(f'\\n{stack.stack}')"
   ]
  },
  {
   "attachments": {},
   "cell_type": "markdown",
   "metadata": {},
   "source": [
    "### Quiz 3"
   ]
  },
  {
   "attachments": {},
   "cell_type": "markdown",
   "metadata": {},
   "source": [
    "El documento HTML consta de muchas etiquetas, como se muestra a continuación. Esciba un programa que coincida con las etiquetas de documentos HTML.\n",
    "\n",
    "```html\n",
    "<html>\n",
    "    <body>\n",
    "        <h1>Hello, World!</h1>\n",
    "        \n",
    "        <p> We are learning the art of coding with Python programming language. Here we are learning ... </p> \n",
    "        \n",
    "        <ul>\n",
    "            <li> Data Structures, </li>\n",
    "            <li> Algorithms, </li>\n",
    "            <li> and Computational Thinking, eventually. </li> \n",
    "        </ul>\n",
    "    </body>\n",
    "</html>\n",
    "```\n",
    "\n",
    "**TIP**:\n",
    "\n",
    "En Python, el método `find()` se usa para ubicar la posición inicial de la subcadena. Encuentre `<` y `>` para distingir las etiquteas de documentos HTML.\n",
    "\n",
    "Si la etiqueta distinguida incluye `/`, entonces es una etiqueta cerrada, y si no, es una etiqueta abierta. Verifique la coincidencia de la etiqueta HTML de una manera similar al uso de una pila para hacer coincidir los paréntesis.\n",
    "\n",
    "**Cadena de prueba 1:** `<html><body> <h1> hello world </h1>`\n",
    "\n",
    "**Cadena de prueba 2:** `<html><body><h1>Hello, World!</h1><p> We are learning the art of coding with Python programming language. Here we are learning ... </p><ul><li> Data Structures, </li><li> Algorithms, </li><li> and Computational Thinking, eventually. </li></ul></body></html>`"
   ]
  },
  {
   "cell_type": "code",
   "execution_count": 26,
   "metadata": {},
   "outputs": [],
   "source": [
    "text = input('Ingrese la cadena del documento HTML: ')"
   ]
  },
  {
   "cell_type": "code",
   "execution_count": 27,
   "metadata": {},
   "outputs": [
    {
     "name": "stdout",
     "output_type": "stream",
     "text": [
      "<html> <body> <h1> </h1> "
     ]
    }
   ],
   "source": [
    "start = text.find('<')\n",
    "\n",
    "while start != -1:\n",
    "    end = text.find('>', start + 1)\n",
    "    tag = text[start : end + 1]\n",
    "    print(tag, end=' ')\n",
    "    start = text.find('<', end + 1)"
   ]
  },
  {
   "cell_type": "code",
   "execution_count": 51,
   "metadata": {},
   "outputs": [],
   "source": [
    "opened_tags = [\n",
    "    '<html>', \n",
    "    '<body>',\n",
    "    '<h1>',\n",
    "    '<p>',\n",
    "    '<ul>',\n",
    "    '<li>'\n",
    "]\n",
    "\n",
    "closed_tags = [\n",
    "    '</html>', \n",
    "    '</body>',\n",
    "    '</h1>',\n",
    "    '</p>',\n",
    "    '</ul>',\n",
    "    '</li>'\n",
    "]\n",
    "\n",
    "tag_pairs = {\n",
    "    closed: opened for opened, closed in zip(opened_tags, closed_tags)\n",
    "}"
   ]
  },
  {
   "cell_type": "code",
   "execution_count": 35,
   "metadata": {},
   "outputs": [],
   "source": [
    "def extract_tags(text: str):\n",
    "    start = text.find('<')\n",
    "    tags = []\n",
    "\n",
    "    while start != -1:\n",
    "        end = text.find('>', start + 1)\n",
    "        tag = text[start: end + 1]\n",
    "        tags.append(tag)\n",
    "        start = text.find('<', end + 1)\n",
    "\n",
    "    return tags"
   ]
  },
  {
   "cell_type": "code",
   "execution_count": 54,
   "metadata": {},
   "outputs": [],
   "source": [
    "def validate_tags():\n",
    "    stack = Stack()\n",
    "    is_valid = True\n",
    "\n",
    "    text = input('Ingrese la cadena del documento HTML')\n",
    "    tags = extract_tags(text)\n",
    "    print('Tags reconocidos:', tags)\n",
    "\n",
    "    for tag in tags:\n",
    "        if tag in opened_tags:\n",
    "            stack.push(tag)\n",
    "        elif tag in closed_tags:\n",
    "            if stack.is_empty() or stack.pop() != tag_pairs[tag]:\n",
    "                is_valid = False\n",
    "                break\n",
    "    \n",
    "    if not stack.is_empty():\n",
    "        is_valid = False\n",
    "    \n",
    "    print(\"El código ingresado es {}\".format('valido' if is_valid else 'invalido'))"
   ]
  },
  {
   "cell_type": "code",
   "execution_count": 55,
   "metadata": {},
   "outputs": [
    {
     "name": "stdout",
     "output_type": "stream",
     "text": [
      "Tags reconocidos: ['<html>', '<body>', '<h1>', '</h1>', '<p>', '</p>', '<ul>', '<li>', '</li>', '<li>', '</li>', '<li>', '</li>', '</ul>', '</body>', '</html>']\n",
      "El código ingresado es valido\n"
     ]
    }
   ],
   "source": [
    "validate_tags()"
   ]
  },
  {
   "cell_type": "code",
   "execution_count": 58,
   "metadata": {},
   "outputs": [
    {
     "name": "stdout",
     "output_type": "stream",
     "text": [
      "Tags reconocidos: ['<html>', '<body>', '<h1>', '</h1>']\n",
      "El código ingresado es invalido\n"
     ]
    }
   ],
   "source": [
    "validate_tags()"
   ]
  },
  {
   "attachments": {},
   "cell_type": "markdown",
   "metadata": {},
   "source": [
    "## Unidad 23"
   ]
  },
  {
   "attachments": {},
   "cell_type": "markdown",
   "metadata": {},
   "source": [
    "### Quiz 1"
   ]
  },
  {
   "attachments": {},
   "cell_type": "markdown",
   "metadata": {},
   "source": [
    "Escriba la salida de los códigos del ejemplo que usa una cola.\n",
    "\n",
    "```py\n",
    "queue=Queue()\n",
    "queue.enqueue('Banana')\n",
    "queue.enqueue('Apple')\n",
    "queue.enqueue('Tomato')\n",
    "queue.dequeue()\n",
    "queue.enqueue('Strawberry')\n",
    "queue.enqueue('Grapes')\n",
    "queue.dequeue()\n",
    "print(queue.queue)\n",
    "```"
   ]
  },
  {
   "cell_type": "code",
   "execution_count": 61,
   "metadata": {},
   "outputs": [],
   "source": [
    "class Queue():\n",
    "    def __init__(self):\n",
    "        self.queue = []\n",
    "    \n",
    "    def is_empty(self):\n",
    "        return len(self.queue) == 0\n",
    "    \n",
    "    def enqueue(self, item):\n",
    "        self.queue.append(item)\n",
    "    \n",
    "    def dequeue(self):\n",
    "        return None if self.is_empty() else self.queue.pop(0)\n",
    "    \n",
    "    def size(self):\n",
    "        return len(self.queue)"
   ]
  },
  {
   "cell_type": "code",
   "execution_count": 63,
   "metadata": {},
   "outputs": [
    {
     "name": "stdout",
     "output_type": "stream",
     "text": [
      "queue = Queue()             --> []\n",
      "queue.enqueue('Banana')     --> ['Banana']\n",
      "queue.enqueue('Apple')      --> ['Banana', 'Apple']\n",
      "queue.enqueue('Tomato')     --> ['Banana', 'Apple', 'Tomato']\n",
      "queue.dequeue()             --> ['Apple', 'Tomato']\n",
      "queue.enqueue('Strawberry') --> ['Apple', 'Tomato', 'Strawberry']\n",
      "queue.enqueue('Grapes')     --> ['Apple', 'Tomato', 'Strawberry', 'Grapes']\n",
      "queue.dequeue()             --> ['Tomato', 'Strawberry', 'Grapes']\n"
     ]
    }
   ],
   "source": [
    "queue = Queue()\n",
    "print(\"queue = Queue()             -->\", queue.queue)\n",
    "\n",
    "queue.enqueue('Banana')\n",
    "print(\"queue.enqueue('Banana')     -->\", queue.queue)\n",
    "\n",
    "queue.enqueue('Apple')\n",
    "print(\"queue.enqueue('Apple')      -->\", queue.queue)\n",
    "\n",
    "queue.enqueue('Tomato')\n",
    "print(\"queue.enqueue('Tomato')     -->\", queue.queue)\n",
    "\n",
    "queue.dequeue()\n",
    "print(\"queue.dequeue()             -->\", queue.queue)\n",
    "\n",
    "queue.enqueue('Strawberry')\n",
    "print(\"queue.enqueue('Strawberry') -->\", queue.queue)\n",
    "\n",
    "queue.enqueue('Grapes')\n",
    "print(\"queue.enqueue('Grapes')     -->\", queue.queue)\n",
    "\n",
    "queue.dequeue()\n",
    "print(\"queue.dequeue()             -->\", queue.queue)"
   ]
  },
  {
   "attachments": {},
   "cell_type": "markdown",
   "metadata": {},
   "source": [
    "### Quiz 2"
   ]
  },
  {
   "attachments": {},
   "cell_type": "markdown",
   "metadata": {},
   "source": [
    "Escriba la salida de los códigos del ejemplo que usan una cola.\n",
    "\n",
    "```py\n",
    "queue=Queue()\n",
    "items=[10*i for i in range(1,11)]\n",
    "for item in items:\n",
    "  queue.enqueue(items)\n",
    "  if (item // 10) % 2 == 0:\n",
    "    queue.dequeue()\n",
    "print(queue.queue)\n",
    "```"
   ]
  },
  {
   "cell_type": "code",
   "execution_count": 69,
   "metadata": {},
   "outputs": [
    {
     "name": "stdout",
     "output_type": "stream",
     "text": [
      "queue = Queue() []\n",
      "\n",
      "queue.enqueue(items) --> item: 10 --> [[10, 20, 30, 40, 50, 60, 70, 80, 90, 100]]\n",
      "queue.enqueue(items) --> item: 20 --> [[10, 20, 30, 40, 50, 60, 70, 80, 90, 100], [10, 20, 30, 40, 50, 60, 70, 80, 90, 100]]\n",
      "     queue.dequeue() --> item: 20 --> [[10, 20, 30, 40, 50, 60, 70, 80, 90, 100]]\n",
      "queue.enqueue(items) --> item: 30 --> [[10, 20, 30, 40, 50, 60, 70, 80, 90, 100], [10, 20, 30, 40, 50, 60, 70, 80, 90, 100]]\n",
      "queue.enqueue(items) --> item: 40 --> [[10, 20, 30, 40, 50, 60, 70, 80, 90, 100], [10, 20, 30, 40, 50, 60, 70, 80, 90, 100], [10, 20, 30, 40, 50, 60, 70, 80, 90, 100]]\n",
      "     queue.dequeue() --> item: 40 --> [[10, 20, 30, 40, 50, 60, 70, 80, 90, 100], [10, 20, 30, 40, 50, 60, 70, 80, 90, 100]]\n",
      "queue.enqueue(items) --> item: 50 --> [[10, 20, 30, 40, 50, 60, 70, 80, 90, 100], [10, 20, 30, 40, 50, 60, 70, 80, 90, 100], [10, 20, 30, 40, 50, 60, 70, 80, 90, 100]]\n",
      "queue.enqueue(items) --> item: 60 --> [[10, 20, 30, 40, 50, 60, 70, 80, 90, 100], [10, 20, 30, 40, 50, 60, 70, 80, 90, 100], [10, 20, 30, 40, 50, 60, 70, 80, 90, 100], [10, 20, 30, 40, 50, 60, 70, 80, 90, 100]]\n",
      "     queue.dequeue() --> item: 60 --> [[10, 20, 30, 40, 50, 60, 70, 80, 90, 100], [10, 20, 30, 40, 50, 60, 70, 80, 90, 100], [10, 20, 30, 40, 50, 60, 70, 80, 90, 100]]\n",
      "queue.enqueue(items) --> item: 70 --> [[10, 20, 30, 40, 50, 60, 70, 80, 90, 100], [10, 20, 30, 40, 50, 60, 70, 80, 90, 100], [10, 20, 30, 40, 50, 60, 70, 80, 90, 100], [10, 20, 30, 40, 50, 60, 70, 80, 90, 100]]\n",
      "queue.enqueue(items) --> item: 80 --> [[10, 20, 30, 40, 50, 60, 70, 80, 90, 100], [10, 20, 30, 40, 50, 60, 70, 80, 90, 100], [10, 20, 30, 40, 50, 60, 70, 80, 90, 100], [10, 20, 30, 40, 50, 60, 70, 80, 90, 100], [10, 20, 30, 40, 50, 60, 70, 80, 90, 100]]\n",
      "     queue.dequeue() --> item: 80 --> [[10, 20, 30, 40, 50, 60, 70, 80, 90, 100], [10, 20, 30, 40, 50, 60, 70, 80, 90, 100], [10, 20, 30, 40, 50, 60, 70, 80, 90, 100], [10, 20, 30, 40, 50, 60, 70, 80, 90, 100]]\n",
      "queue.enqueue(items) --> item: 90 --> [[10, 20, 30, 40, 50, 60, 70, 80, 90, 100], [10, 20, 30, 40, 50, 60, 70, 80, 90, 100], [10, 20, 30, 40, 50, 60, 70, 80, 90, 100], [10, 20, 30, 40, 50, 60, 70, 80, 90, 100], [10, 20, 30, 40, 50, 60, 70, 80, 90, 100]]\n",
      "queue.enqueue(items) --> item: 100 --> [[10, 20, 30, 40, 50, 60, 70, 80, 90, 100], [10, 20, 30, 40, 50, 60, 70, 80, 90, 100], [10, 20, 30, 40, 50, 60, 70, 80, 90, 100], [10, 20, 30, 40, 50, 60, 70, 80, 90, 100], [10, 20, 30, 40, 50, 60, 70, 80, 90, 100], [10, 20, 30, 40, 50, 60, 70, 80, 90, 100]]\n",
      "     queue.dequeue() --> item: 100 --> [[10, 20, 30, 40, 50, 60, 70, 80, 90, 100], [10, 20, 30, 40, 50, 60, 70, 80, 90, 100], [10, 20, 30, 40, 50, 60, 70, 80, 90, 100], [10, 20, 30, 40, 50, 60, 70, 80, 90, 100], [10, 20, 30, 40, 50, 60, 70, 80, 90, 100]]\n",
      "\n",
      "[[10, 20, 30, 40, 50, 60, 70, 80, 90, 100], [10, 20, 30, 40, 50, 60, 70, 80, 90, 100], [10, 20, 30, 40, 50, 60, 70, 80, 90, 100], [10, 20, 30, 40, 50, 60, 70, 80, 90, 100], [10, 20, 30, 40, 50, 60, 70, 80, 90, 100]]\n"
     ]
    }
   ],
   "source": [
    "queue = Queue()\n",
    "print('queue = Queue()', queue.queue, end=\"\\n\\n\")\n",
    "\n",
    "items = [10*i for i in range(1, 11)]\n",
    "\n",
    "for item in items:\n",
    "    queue.enqueue(items)\n",
    "    print('queue.enqueue(items) -->', f'item: {item} -->', queue.queue)\n",
    "\n",
    "    if (item // 10) % 2 == 0:\n",
    "        queue.dequeue()\n",
    "        print('     queue.dequeue() -->', f'item: {item} -->', queue.queue)\n",
    "\n",
    "\n",
    "print(f'\\n{queue.queue}')\n"
   ]
  },
  {
   "attachments": {},
   "cell_type": "markdown",
   "metadata": {},
   "source": [
    "### Quiz 3"
   ]
  },
  {
   "attachments": {},
   "cell_type": "markdown",
   "metadata": {},
   "source": [
    "Consulte la definición de clase de la siguiente manera para completar y probar la clase `Deque`"
   ]
  },
  {
   "cell_type": "code",
   "execution_count": 70,
   "metadata": {},
   "outputs": [],
   "source": [
    "class Deque:\n",
    "    def __init__(self):\n",
    "        self.queue = []\n",
    "\n",
    "    def is_empty(self):\n",
    "        return len(self.queue) == 0\n",
    "    \n",
    "    def add_first(self, item):\n",
    "        self.queue.insert(0, item)\n",
    "\n",
    "    def remove_first(self):\n",
    "        return None if self.is_empty() else self.queue.pop(0)\n",
    "\n",
    "    def add_last(self, item):\n",
    "        self.queue.append(item)\n",
    "\n",
    "    def remove_last(self):\n",
    "        return None if self.is_empty() else self.queue.pop()"
   ]
  },
  {
   "attachments": {},
   "cell_type": "markdown",
   "metadata": {},
   "source": [
    "Una cola es un tipo de dato abstracto, donde solo es posible agreagar en un lado y solo es posible eliminar en el otro lado.\n",
    "\n",
    "Por el contrario, la cola de doble terminación (`Deque`) es la estructura de datos en la que es posoble agregar y eliminar en ambos lados. "
   ]
  },
  {
   "cell_type": "code",
   "execution_count": 72,
   "metadata": {},
   "outputs": [
    {
     "name": "stdout",
     "output_type": "stream",
     "text": [
      "deque = Queue()              --> []\n",
      "deque.add_first('Banana')    --> ['Banana']\n",
      "deque.add_first('Apple')     --> ['Apple', 'Banana']\n",
      "deque.add_first('Tomato')    --> ['Tomato', 'Apple', 'Banana']\n",
      "deque.remove_first()         --> ['Apple', 'Banana']\n",
      "deque.add_last('Strawberry') --> ['Apple', 'Banana', 'Strawberry']\n",
      "deque.add_last('Grapes')     --> ['Apple', 'Banana', 'Strawberry', 'Grapes']\n",
      "deque.remove_last()          --> ['Apple', 'Banana', 'Strawberry']\n"
     ]
    }
   ],
   "source": [
    "deque = Deque()\n",
    "print(\"deque = Queue()              -->\", deque.queue)\n",
    "\n",
    "deque.add_first('Banana')\n",
    "print(\"deque.add_first('Banana')    -->\", deque.queue)\n",
    "\n",
    "deque.add_first('Apple')\n",
    "print(\"deque.add_first('Apple')     -->\", deque.queue)\n",
    "\n",
    "deque.add_first('Tomato')\n",
    "print(\"deque.add_first('Tomato')    -->\", deque.queue)\n",
    "\n",
    "deque.remove_first()\n",
    "print(\"deque.remove_first()         -->\", deque.queue)\n",
    "\n",
    "deque.add_last('Strawberry')\n",
    "print(\"deque.add_last('Strawberry') -->\", deque.queue)\n",
    "\n",
    "deque.add_last('Grapes')\n",
    "print(\"deque.add_last('Grapes')     -->\", deque.queue)\n",
    "\n",
    "deque.remove_last()\n",
    "print(\"deque.remove_last()          -->\", deque.queue)\n"
   ]
  }
 ],
 "metadata": {
  "kernelspec": {
   "display_name": "Python 3",
   "language": "python",
   "name": "python3"
  },
  "language_info": {
   "codemirror_mode": {
    "name": "ipython",
    "version": 3
   },
   "file_extension": ".py",
   "mimetype": "text/x-python",
   "name": "python",
   "nbconvert_exporter": "python",
   "pygments_lexer": "ipython3",
   "version": "3.11.2"
  },
  "orig_nbformat": 4
 },
 "nbformat": 4,
 "nbformat_minor": 2
}
