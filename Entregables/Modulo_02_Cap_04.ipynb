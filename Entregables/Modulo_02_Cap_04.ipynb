{
 "cells": [
  {
   "attachments": {},
   "cell_type": "markdown",
   "metadata": {},
   "source": [
    "# Módulo 2 - Capítulo 4"
   ]
  },
  {
   "attachments": {},
   "cell_type": "markdown",
   "metadata": {},
   "source": [
    "## Unidad 22"
   ]
  },
  {
   "attachments": {},
   "cell_type": "markdown",
   "metadata": {},
   "source": [
    "### Quiz 1"
   ]
  },
  {
   "attachments": {},
   "cell_type": "markdown",
   "metadata": {},
   "source": [
    "Escriba la salida de los códigos del siguiente ejemplo que usa una pila.\n",
    "\n",
    "```py\n",
    "stack=Stack()\n",
    "stack.push('Banana')\n",
    "stack.push('Apple')\n",
    "stack.push('Tomato')\n",
    "stack.pop()\n",
    "stack.push('Strawberry')\n",
    "stack.push('Grapes')\n",
    "stack.pop()\n",
    "print(stack.stack)\n",
    "```"
   ]
  },
  {
   "cell_type": "code",
   "execution_count": 1,
   "metadata": {},
   "outputs": [],
   "source": [
    "class Stack():\n",
    "    def __init__(self):\n",
    "        self.stack = []\n",
    "\n",
    "    def is_empty(self):\n",
    "        return len(self.stack) == 0\n",
    "    \n",
    "    def push(self, item):\n",
    "        self.stack.append(item)\n",
    "\n",
    "    def pop(self):\n",
    "        return None if self.is_empty() else self.stack.pop()\n",
    "    \n",
    "    def peek(self):\n",
    "        return None if self.is_empty() else self.stack[-1]"
   ]
  },
  {
   "cell_type": "code",
   "execution_count": 25,
   "metadata": {},
   "outputs": [
    {
     "name": "stdout",
     "output_type": "stream",
     "text": [
      "stack = Stack()          --> []\n",
      "\n",
      "stack.push('Banana')     --> ['Banana']\n",
      "stack.push('Apple')      --> ['Banana', 'Apple']\n",
      "stack.push('Tomato')     --> ['Banana', 'Apple', 'Tomato']\n",
      "stack.pop()              --> ['Banana', 'Apple']\n",
      "stack.push('Strawberry') --> ['Banana', 'Apple', 'Strawberry']\n",
      "stack.push('Grapes')     --> ['Banana', 'Apple', 'Strawberry', 'Grapes']\n",
      "stack.pop()              --> ['Banana', 'Apple', 'Strawberry']\n"
     ]
    }
   ],
   "source": [
    "stack = Stack()\n",
    "print('stack = Stack()          -->', stack.stack, end=\"\\n\\n\")\n",
    "\n",
    "stack.push('Banana')\n",
    "print(\"stack.push('Banana')     -->\", stack.stack)\n",
    "\n",
    "stack.push('Apple')\n",
    "print(\"stack.push('Apple')      -->\", stack.stack)\n",
    "\n",
    "stack.push('Tomato')\n",
    "print(\"stack.push('Tomato')     -->\", stack.stack)\n",
    "\n",
    "stack.pop()\n",
    "print(\"stack.pop()              -->\", stack.stack)\n",
    "\n",
    "stack.push('Strawberry')\n",
    "print(\"stack.push('Strawberry') -->\", stack.stack)\n",
    "\n",
    "stack.push('Grapes')\n",
    "print(\"stack.push('Grapes')     -->\", stack.stack)\n",
    "\n",
    "stack.pop()\n",
    "print(\"stack.pop()              -->\", stack.stack)\n"
   ]
  },
  {
   "attachments": {},
   "cell_type": "markdown",
   "metadata": {},
   "source": [
    "### Quiz 2"
   ]
  },
  {
   "attachments": {},
   "cell_type": "markdown",
   "metadata": {},
   "source": [
    "Escriba la salida de los códigos del siguiente ejemplo que usa una pila.\n",
    "\n",
    "```py\n",
    "stack = Stack()\n",
    "\n",
    "items = [10*i for i in range(1, 10)]\n",
    "\n",
    "for item in items:\n",
    "    stack.push(items)\n",
    "    if (item // 10) % 2 == 0:\n",
    "        stack.pop()\n",
    "\n",
    "print(stack.stack)\n",
    "```"
   ]
  },
  {
   "cell_type": "code",
   "execution_count": 20,
   "metadata": {},
   "outputs": [
    {
     "name": "stdout",
     "output_type": "stream",
     "text": [
      "stack = Stack() []\n",
      "\n",
      "stack.push(items) --> item: 10 --> [[10, 20, 30, 40, 50, 60, 70, 80, 90]]\n",
      "stack.push(items) --> item: 20 --> [[10, 20, 30, 40, 50, 60, 70, 80, 90], [10, 20, 30, 40, 50, 60, 70, 80, 90]]\n",
      "      stack.pop() --> item: 20 --> [[10, 20, 30, 40, 50, 60, 70, 80, 90]]\n",
      "stack.push(items) --> item: 30 --> [[10, 20, 30, 40, 50, 60, 70, 80, 90], [10, 20, 30, 40, 50, 60, 70, 80, 90]]\n",
      "stack.push(items) --> item: 40 --> [[10, 20, 30, 40, 50, 60, 70, 80, 90], [10, 20, 30, 40, 50, 60, 70, 80, 90], [10, 20, 30, 40, 50, 60, 70, 80, 90]]\n",
      "      stack.pop() --> item: 40 --> [[10, 20, 30, 40, 50, 60, 70, 80, 90], [10, 20, 30, 40, 50, 60, 70, 80, 90]]\n",
      "stack.push(items) --> item: 50 --> [[10, 20, 30, 40, 50, 60, 70, 80, 90], [10, 20, 30, 40, 50, 60, 70, 80, 90], [10, 20, 30, 40, 50, 60, 70, 80, 90]]\n",
      "stack.push(items) --> item: 60 --> [[10, 20, 30, 40, 50, 60, 70, 80, 90], [10, 20, 30, 40, 50, 60, 70, 80, 90], [10, 20, 30, 40, 50, 60, 70, 80, 90], [10, 20, 30, 40, 50, 60, 70, 80, 90]]\n",
      "      stack.pop() --> item: 60 --> [[10, 20, 30, 40, 50, 60, 70, 80, 90], [10, 20, 30, 40, 50, 60, 70, 80, 90], [10, 20, 30, 40, 50, 60, 70, 80, 90]]\n",
      "stack.push(items) --> item: 70 --> [[10, 20, 30, 40, 50, 60, 70, 80, 90], [10, 20, 30, 40, 50, 60, 70, 80, 90], [10, 20, 30, 40, 50, 60, 70, 80, 90], [10, 20, 30, 40, 50, 60, 70, 80, 90]]\n",
      "stack.push(items) --> item: 80 --> [[10, 20, 30, 40, 50, 60, 70, 80, 90], [10, 20, 30, 40, 50, 60, 70, 80, 90], [10, 20, 30, 40, 50, 60, 70, 80, 90], [10, 20, 30, 40, 50, 60, 70, 80, 90], [10, 20, 30, 40, 50, 60, 70, 80, 90]]\n",
      "      stack.pop() --> item: 80 --> [[10, 20, 30, 40, 50, 60, 70, 80, 90], [10, 20, 30, 40, 50, 60, 70, 80, 90], [10, 20, 30, 40, 50, 60, 70, 80, 90], [10, 20, 30, 40, 50, 60, 70, 80, 90]]\n",
      "stack.push(items) --> item: 90 --> [[10, 20, 30, 40, 50, 60, 70, 80, 90], [10, 20, 30, 40, 50, 60, 70, 80, 90], [10, 20, 30, 40, 50, 60, 70, 80, 90], [10, 20, 30, 40, 50, 60, 70, 80, 90], [10, 20, 30, 40, 50, 60, 70, 80, 90]]\n",
      "\n",
      "[[10, 20, 30, 40, 50, 60, 70, 80, 90], [10, 20, 30, 40, 50, 60, 70, 80, 90], [10, 20, 30, 40, 50, 60, 70, 80, 90], [10, 20, 30, 40, 50, 60, 70, 80, 90], [10, 20, 30, 40, 50, 60, 70, 80, 90]]\n"
     ]
    }
   ],
   "source": [
    "stack = Stack()\n",
    "print('stack = Stack()', stack.stack, end=\"\\n\\n\")\n",
    "\n",
    "items = [10*i for i in range(1, 10)]\n",
    "\n",
    "for item in items:\n",
    "    stack.push(items)\n",
    "    print('stack.push(items) -->', f'item: {item} -->', stack.stack)\n",
    "\n",
    "    if (item // 10) % 2 == 0:\n",
    "        stack.pop()\n",
    "        print('      stack.pop() -->', f'item: {item} -->', stack.stack)\n",
    "\n",
    "print(f'\\n{stack.stack}')"
   ]
  },
  {
   "attachments": {},
   "cell_type": "markdown",
   "metadata": {},
   "source": [
    "### Quiz 3"
   ]
  },
  {
   "attachments": {},
   "cell_type": "markdown",
   "metadata": {},
   "source": [
    "El documento HTML consta de muchas etiquetas, como se muestra a continuación. Esciba un programa que coincida con las etiquetas de documentos HTML.\n",
    "\n",
    "```html\n",
    "<html>\n",
    "    <body>\n",
    "        <h1>Hello, World!</h1>\n",
    "        \n",
    "        <p> We are learning the art of coding with Python programming language. Here we are learning ... </p> \n",
    "        \n",
    "        <ul>\n",
    "            <li> Data Structures, </li>\n",
    "            <li> Algorithms, </li>\n",
    "            <li> and Computational Thinking, eventually. </li> \n",
    "        </ul>\n",
    "    </body>\n",
    "</html>\n",
    "```\n",
    "\n",
    "**TIP**:\n",
    "\n",
    "En Python, el método `find()` se usa para ubicar la posición inicial de la subcadena. Encuentre `<` y `>` para distingir las etiquteas de documentos HTML.\n",
    "\n",
    "Si la etiqueta distinguida incluye `/`, entonces es una etiqueta cerrada, y si no, es una etiqueta abierta. Verifique la coincidencia de la etiqueta HTML de una manera similar al uso de una pila para hacer coincidir los paréntesis.\n",
    "\n",
    "**Cadena de prueba 1:** `<html><body> <h1> hello world </h1>`\n",
    "\n",
    "**Cadena de prueba 2:** `<html><body><h1>Hello, World!</h1><p> We are learning the art of coding with Python programming language. Here we are learning ... </p><ul><li> Data Structures, </li><li> Algorithms, </li><li> and Computational Thinking, eventually. </li></ul></body></html>`"
   ]
  },
  {
   "cell_type": "code",
   "execution_count": 26,
   "metadata": {},
   "outputs": [],
   "source": [
    "text = input('Ingrese la cadena del documento HTML: ')"
   ]
  },
  {
   "cell_type": "code",
   "execution_count": 27,
   "metadata": {},
   "outputs": [
    {
     "name": "stdout",
     "output_type": "stream",
     "text": [
      "<html> <body> <h1> </h1> "
     ]
    }
   ],
   "source": [
    "start = text.find('<')\n",
    "\n",
    "while start != -1:\n",
    "    end = text.find('>', start + 1)\n",
    "    tag = text[start : end + 1]\n",
    "    print(tag, end=' ')\n",
    "    start = text.find('<', end + 1)"
   ]
  },
  {
   "cell_type": "code",
   "execution_count": 51,
   "metadata": {},
   "outputs": [],
   "source": [
    "opened_tags = [\n",
    "    '<html>', \n",
    "    '<body>',\n",
    "    '<h1>',\n",
    "    '<p>',\n",
    "    '<ul>',\n",
    "    '<li>'\n",
    "]\n",
    "\n",
    "closed_tags = [\n",
    "    '</html>', \n",
    "    '</body>',\n",
    "    '</h1>',\n",
    "    '</p>',\n",
    "    '</ul>',\n",
    "    '</li>'\n",
    "]\n",
    "\n",
    "tag_pairs = {\n",
    "    closed: opened for opened, closed in zip(opened_tags, closed_tags)\n",
    "}"
   ]
  },
  {
   "cell_type": "code",
   "execution_count": 35,
   "metadata": {},
   "outputs": [],
   "source": [
    "def extract_tags(text: str):\n",
    "    start = text.find('<')\n",
    "    tags = []\n",
    "\n",
    "    while start != -1:\n",
    "        end = text.find('>', start + 1)\n",
    "        tag = text[start: end + 1]\n",
    "        tags.append(tag)\n",
    "        start = text.find('<', end + 1)\n",
    "\n",
    "    return tags"
   ]
  },
  {
   "cell_type": "code",
   "execution_count": 54,
   "metadata": {},
   "outputs": [],
   "source": [
    "def validate_tags():\n",
    "    stack = Stack()\n",
    "    is_valid = True\n",
    "\n",
    "    text = input('Ingrese la cadena del documento HTML')\n",
    "    tags = extract_tags(text)\n",
    "    print('Tags reconocidos:', tags)\n",
    "\n",
    "    for tag in tags:\n",
    "        if tag in opened_tags:\n",
    "            stack.push(tag)\n",
    "        elif tag in closed_tags:\n",
    "            if stack.is_empty() or stack.pop() != tag_pairs[tag]:\n",
    "                is_valid = False\n",
    "                break\n",
    "    \n",
    "    if not stack.is_empty():\n",
    "        is_valid = False\n",
    "    \n",
    "    print(\"El código ingresado es {}\".format('valido' if is_valid else 'invalido'))"
   ]
  },
  {
   "cell_type": "code",
   "execution_count": 55,
   "metadata": {},
   "outputs": [
    {
     "name": "stdout",
     "output_type": "stream",
     "text": [
      "Tags reconocidos: ['<html>', '<body>', '<h1>', '</h1>', '<p>', '</p>', '<ul>', '<li>', '</li>', '<li>', '</li>', '<li>', '</li>', '</ul>', '</body>', '</html>']\n",
      "El código ingresado es valido\n"
     ]
    }
   ],
   "source": [
    "validate_tags()"
   ]
  }
 ],
 "metadata": {
  "kernelspec": {
   "display_name": "Python 3",
   "language": "python",
   "name": "python3"
  },
  "language_info": {
   "codemirror_mode": {
    "name": "ipython",
    "version": 3
   },
   "file_extension": ".py",
   "mimetype": "text/x-python",
   "name": "python",
   "nbconvert_exporter": "python",
   "pygments_lexer": "ipython3",
   "version": "3.11.2"
  },
  "orig_nbformat": 4
 },
 "nbformat": 4,
 "nbformat_minor": 2
}
