{
 "cells": [
  {
   "attachments": {},
   "cell_type": "markdown",
   "metadata": {},
   "source": [
    "# Módulo 1 - [https://github.com/carlos-paezf/Samsung_Innovation_Campus_Python_2022/blob/main/Entregables/Modulo_01.ipynb](https://github.com/carlos-paezf/Samsung_Innovation_Campus_Python_2022/blob/main/Entregables/Modulo_01.ipynb)"
   ]
  },
  {
   "attachments": {},
   "cell_type": "markdown",
   "metadata": {},
   "source": [
    "## Unidad 1"
   ]
  },
  {
   "attachments": {},
   "cell_type": "markdown",
   "metadata": {},
   "source": [
    "### Quiz 1"
   ]
  },
  {
   "attachments": {},
   "cell_type": "markdown",
   "metadata": {},
   "source": [
    "Codifique 7 líneas de la función print() para producir un resultado como el de la imagen de abajo\n",
    "\n",
    "<img src=\"https://ambg0231.github.io/unidad1/Q1.png\" alt=\"https://ambg0231.github.io/unidad1/Q1.png\" width=\"500px\" />"
   ]
  },
  {
   "cell_type": "code",
   "execution_count": 1,
   "metadata": {},
   "outputs": [
    {
     "name": "stdout",
     "output_type": "stream",
     "text": [
      "       *       \n",
      "      ***      \n",
      "     *****     \n",
      "    *******    \n",
      "     *****     \n",
      "      ***      \n",
      "       *       \n"
     ]
    }
   ],
   "source": [
    "print('       *       ')\n",
    "print('      ***      ')\n",
    "print('     *****     ')\n",
    "print('    *******    ')\n",
    "print('     *****     ')\n",
    "print('      ***      ')\n",
    "print('       *       ')"
   ]
  },
  {
   "cell_type": "code",
   "execution_count": 2,
   "metadata": {},
   "outputs": [
    {
     "name": "stdout",
     "output_type": "stream",
     "text": [
      "      * \n",
      "     *** \n",
      "    ***** \n",
      "   ******* \n",
      "  ********* \n",
      " *********** \n",
      "  ********* \n",
      "   ******* \n",
      "    ***** \n",
      "     *** \n",
      "      * \n"
     ]
    }
   ],
   "source": [
    "rows = int(input(\"Ingrese la cantidad de filas: \"))\n",
    "cols = int(input(\"Ingrese la cantidad de columnas: \"))\n",
    "\n",
    "def printChars(cols):\n",
    "    print(' ' * (int(cols / 2) - i), '*' * ((i * 2) - 1), end=' ')\n",
    "    print()\n",
    "\n",
    "for i in range(1, int(rows / 2) + 1):\n",
    "    printChars(cols)\n",
    "\n",
    "for i in range(int(rows / 2) + 1, 0, -1):\n",
    "    printChars(cols)"
   ]
  },
  {
   "attachments": {},
   "cell_type": "markdown",
   "metadata": {},
   "source": [
    "## Unidad 2"
   ]
  },
  {
   "attachments": {},
   "cell_type": "markdown",
   "metadata": {},
   "source": [
    "### Quiz 1"
   ]
  },
  {
   "attachments": {},
   "cell_type": "markdown",
   "metadata": {},
   "source": [
    "Exprese la forma de encontrar el hotel en pseudocódigo usando los comandos de pseudocódigo dados abajo. Escriba todo lo demás en lenguaje cotidiano excepto los comandos de abajo. Preste atención a la indentación al usar dichos comandos.\n",
    "\n",
    "![Images.png](https://ambg0231.github.io/unidad2/Quiz.png)"
   ]
  },
  {
   "attachments": {},
   "cell_type": "markdown",
   "metadata": {},
   "source": [
    "```txt\n",
    "Start\n",
    "\n",
    "define N, S, W, E\n",
    "define userChoice\n",
    "define positionUser\n",
    "\n",
    "define walkStraight(to):\n",
    "    define n_steps\n",
    "    while positionUser != to\n",
    "        W += n_steps\n",
    "        n_steps++\n",
    "\n",
    "define turnRight():\n",
    "    positionUser.rotate(90 deg)\n",
    "\n",
    "def checkBuildingName(buildingName):\n",
    "    return positionUser == buildingName\n",
    "\n",
    "userChoice = input()\n",
    "\n",
    "while userChoice != W:\n",
    "    userChoice = input()\n",
    "\n",
    "walkStraight(post-office_building)\n",
    "turnRight()\n",
    "walkStraight(italian_restaurant)\n",
    "\n",
    "define nn_building = [building_1, building_2, building_3]\n",
    "\n",
    "for i in range(nn_building.length):\n",
    "    walkStraight(nn_building[i])\n",
    "\n",
    "checkBuildingName(hotel_building)\n",
    "\n",
    "End    \n",
    "```\n",
    "\n",
    "\n",
    "\n",
    "\n",
    "\n",
    "\n",
    "\n"
   ]
  },
  {
   "attachments": {},
   "cell_type": "markdown",
   "metadata": {},
   "source": [
    "### Quiz 2"
   ]
  },
  {
   "attachments": {},
   "cell_type": "markdown",
   "metadata": {},
   "source": [
    "\n",
    "\n",
    "Escriba un diagrama de flujos que factorice 18, 39, 63, 126, 792."
   ]
  },
  {
   "attachments": {},
   "cell_type": "markdown",
   "metadata": {},
   "source": [
    "```py\n",
    "def factorizar(n):\n",
    "    b = n\n",
    "    m = []\n",
    "    a = 1\n",
    "\n",
    "    while (n - round(n/2) * 2 == 0):\n",
    "        # La funcion round redondea el numero n/2, por lo que la condición es que el resto de n/2 sea cero\n",
    "        m[a] = 2\n",
    "        a += 1\n",
    "        n = n/2\n",
    "\n",
    "    for i in range(3, n, 2):\n",
    "        while (n - round(n/i) * i == 0):\n",
    "            m[a] = i\n",
    "            a += 1\n",
    "            n = n/i\n",
    "\n",
    "        if m != 0:\n",
    "            s = 1\n",
    "\n",
    "            for j in range(1, len(m)):\n",
    "                s = s*m[j];\n",
    "\n",
    "            if b == s:\n",
    "                return\n",
    "```"
   ]
  },
  {
   "attachments": {},
   "cell_type": "markdown",
   "metadata": {},
   "source": [
    "![factorizar](https://raw.githubusercontent.com/carlos-paezf/Samsung_Innovation_Campus_Python_2022/00a6a8bfcd574d55e8c6d0003ad4b31179a87d38/Entregables/m1u2q2.svg)\n"
   ]
  },
  {
   "attachments": {},
   "cell_type": "markdown",
   "metadata": {},
   "source": [
    "## Unidad 3"
   ]
  },
  {
   "attachments": {},
   "cell_type": "markdown",
   "metadata": {},
   "source": [
    "### Quiz 1"
   ]
  },
  {
   "attachments": {},
   "cell_type": "markdown",
   "metadata": {},
   "source": [
    "Use la función int para retornar el número 100 sumando el carácter \"50\" al número 50. Adicionalmente, use la función str para retornar el resultado de la adición \"5050\".\n",
    "\n",
    "<table>\n",
    "  <tr>\n",
    "      <td>\n",
    "          <b>Condición para la ejecución</b>\n",
    "      </td>\n",
    "      <td>\n",
    "          La primera línea retorna el número 100, y la segunda línea retorna los caracteres \"5050\"\n",
    "      </td>\n",
    "  </tr>\n",
    "  <tr>\n",
    "      <td>\n",
    "          <b>Tiempo</b>\n",
    "      </td>\n",
    "      <td>\n",
    "          5 Minutos\n",
    "      </td>\n",
    "  </tr>\n",
    "</table>\n"
   ]
  },
  {
   "cell_type": "code",
   "execution_count": 16,
   "metadata": {},
   "outputs": [
    {
     "name": "stdout",
     "output_type": "stream",
     "text": [
      "100 <class 'int'>\n",
      "5050 <class 'str'>\n"
     ]
    }
   ],
   "source": [
    "s = \"50\"\n",
    "n = 50\n",
    "\n",
    "intResult = int(s) + n\n",
    "strResult = s + str(n)\n",
    "\n",
    "print(intResult, type(intResult))\n",
    "print(strResult, type(strResult))\n"
   ]
  },
  {
   "attachments": {},
   "cell_type": "markdown",
   "metadata": {},
   "source": [
    "### Quiz 2"
   ]
  },
  {
   "attachments": {},
   "cell_type": "markdown",
   "metadata": {},
   "source": [
    "Se proveen una letra '1' y tres '0'. Use estas para construir el número 1000. Aquí solo se permiten operaciones de adición entre strings, y la función int() puede ser usada sólo una vez.\n",
    "\n",
    "<table>\n",
    "  <tr>\n",
    "      <td>\n",
    "          <b>Condición para la ejecución</b>\n",
    "      </td>\n",
    "      <td>\n",
    "          Retorne el número '1000'\n",
    "      </td>\n",
    "  </tr>\n",
    "  <tr>\n",
    "      <td>\n",
    "          <b>Tiempo</b>\n",
    "      </td>\n",
    "      <td>\n",
    "          5 Minutos\n",
    "      </td>\n",
    "  </tr>\n",
    "</table>"
   ]
  },
  {
   "cell_type": "code",
   "execution_count": 15,
   "metadata": {},
   "outputs": [
    {
     "name": "stdout",
     "output_type": "stream",
     "text": [
      "1000 <class 'int'>\n"
     ]
    }
   ],
   "source": [
    "l = ['1', '0', '0', '0']\n",
    "\n",
    "r = int(\"\".join(l))\n",
    "\n",
    "print(r, type(r))"
   ]
  },
  {
   "attachments": {},
   "cell_type": "markdown",
   "metadata": {},
   "source": [
    "### Quiz 3"
   ]
  },
  {
   "attachments": {},
   "cell_type": "markdown",
   "metadata": {},
   "source": [
    "n! se define como n * (n-1) * (n-2) * (n-3) *...* 2 * 1. Encuentre 5! y 10! usando enteros y el operador * e imprimalos como sigue."
   ]
  },
  {
   "cell_type": "code",
   "execution_count": 7,
   "metadata": {},
   "outputs": [
    {
     "name": "stdout",
     "output_type": "stream",
     "text": [
      "Factorial de 5 = 120\n",
      "Factorial de 10 = 3628800\n"
     ]
    }
   ],
   "source": [
    "n1 = 5\n",
    "n2 = 10\n",
    "\n",
    "def factorial(n):\n",
    "    if n < 0:\n",
    "        return 'No hay factorial de negativos'\n",
    "    elif n == 0:\n",
    "        return 1\n",
    "    else:\n",
    "        fact = 1\n",
    "        while (n > 1):\n",
    "            fact *= n\n",
    "            n -= 1\n",
    "        return fact\n",
    "\n",
    "print(\"Factorial de {number} = {result}\".format(number = n1, result = factorial(n1)))\n",
    "print(\"Factorial de {number} = {result}\".format(number = n2, result = factorial(n2)))\n"
   ]
  },
  {
   "cell_type": "code",
   "execution_count": 4,
   "metadata": {},
   "outputs": [
    {
     "name": "stdout",
     "output_type": "stream",
     "text": [
      "Factorial de 5 = 120\n",
      "Factorial de 10 = 3628800\n"
     ]
    }
   ],
   "source": [
    "n1 = 5\n",
    "n2 = 10\n",
    "\n",
    "def simple_factorial(n):\n",
    "    aux = n\n",
    "    for i in range(n - 1, 1, -1):\n",
    "        aux *= i\n",
    "\n",
    "    return aux\n",
    "\n",
    "print(\"Factorial de {number} = {result}\".format(number=n1, result=simple_factorial(n1)))\n",
    "print(\"Factorial de {number} = {result}\".format(number=n2, result=simple_factorial(n2)))\n"
   ]
  },
  {
   "attachments": {},
   "cell_type": "markdown",
   "metadata": {},
   "source": [
    "## Unidad 4"
   ]
  },
  {
   "attachments": {},
   "cell_type": "markdown",
   "metadata": {},
   "source": [
    "### Quiz 1"
   ]
  },
  {
   "attachments": {},
   "cell_type": "markdown",
   "metadata": {},
   "source": [
    "Asigne los valores 30, 60 a las variables width y height, respectivamente. Escriba un programa que use esas dos variables para encontrar el área del rectángulo como se muestra abajo.\n",
    "\n",
    "<table>\n",
    "  <tr>\n",
    "      <td>\n",
    "          <b>Condición para la ejecución</b>\n",
    "      </td>\n",
    "      <td>\n",
    "          \"Imprima\" Area del Rectángulo: 1800.\"\n",
    "      </td>\n",
    "  </tr>\n",
    "  <tr>\n",
    "      <td>\n",
    "          <b>Tiempo</b>\n",
    "      </td>\n",
    "      <td>\n",
    "          5 Minutos\n",
    "      </td>\n",
    "  </tr>\n",
    "</table>"
   ]
  },
  {
   "cell_type": "code",
   "execution_count": 3,
   "metadata": {},
   "outputs": [
    {
     "name": "stdout",
     "output_type": "stream",
     "text": [
      "El área de un rectangulo con ancho 30 y alto 60, es de 1800\n"
     ]
    }
   ],
   "source": [
    "width = 30\n",
    "height = 60\n",
    "area = width * height\n",
    "\n",
    "print(\"El área de un rectangulo con ancho {w} y alto {h}, es de {a}\".format(w=width, h=height, a=area))\n"
   ]
  },
  {
   "attachments": {},
   "cell_type": "markdown",
   "metadata": {},
   "source": [
    "### Quiz 2"
   ]
  },
  {
   "attachments": {},
   "cell_type": "markdown",
   "metadata": {},
   "source": [
    "El teorema de Pitágoras afirma que el cuadrado de la hipotenusa c para cualquier triángulo rectángulo es igual al cuadrado de la base a más el cuadrado de la altura b. Escriba un código que calcule el largo de la hipotenusa recibiendo la base y la altura como enteros.\n",
    "\n",
    "<table>\n",
    "  <tr>\n",
    "      <td>\n",
    "          <b>Condición para la ejecución</b>\n",
    "      </td>\n",
    "      <td>\n",
    "          Ingrese en la primera línea la base y la altura en la segunda línea. En la tercera línea, imprima el resultado de calcular la longitud de la hipotenusa.\n",
    "      </td>\n",
    "  </tr>\n",
    "  <tr>\n",
    "      <td>\n",
    "          <b>Tiempo</b>\n",
    "      </td>\n",
    "      <td>\n",
    "          5 Minutos\n",
    "      </td>\n",
    "  </tr>\n",
    "  <tr>\n",
    "      <td>\n",
    "          <b>El teorema de Pitágoras</b>\n",
    "      </td>\n",
    "      <td>\n",
    "          c**2 = a**2 + b**2\n",
    "      </td>\n",
    "  </tr>\n",
    "</table>\n",
    "\n",
    "<img src=\"https://ambg0231.github.io/unidad4/Pythag.png\" style=\"width:350px;\">"
   ]
  },
  {
   "cell_type": "code",
   "execution_count": 6,
   "metadata": {},
   "outputs": [
    {
     "name": "stdout",
     "output_type": "stream",
     "text": [
      "La hipotenusa de un triangulo de alto 3 y base 3 es de 4.242640687119285\n"
     ]
    }
   ],
   "source": [
    "a = int(input(\"Ingrese el alto del triangulo: \"))\n",
    "b = int(input(\"Ingrese la base del triangulo: \"))\n",
    "\n",
    "h = (a**2 + b**2)**(1/2)\n",
    "\n",
    "print(\"La hipotenusa de un triangulo de alto {} y base {} es de {}\".format(a, b, h))"
   ]
  },
  {
   "attachments": {},
   "cell_type": "markdown",
   "metadata": {},
   "source": [
    "### Quiz 3"
   ]
  },
  {
   "attachments": {},
   "cell_type": "markdown",
   "metadata": {},
   "source": [
    "Reciba el valor de un radio del usuario e imprima el área y la circunferencia de un círculo con dicho radio. Use la variable PI = 3.141592 para obtener esos valores.\n",
    "\n",
    "<table>\n",
    "  <tr>\n",
    "      <td>\n",
    "          <b>Resultado de ejemplo</b>\n",
    "      </td>\n",
    "      <td>\n",
    "          <p>Ingrese el radio de un círculo: 11</p>\n",
    "          <p>La circunferencia del círculo es = 69.115024, el área del círculo es = 380.132632</p>\n",
    "      </td>\n",
    "  </tr>\n",
    "</table>\n",
    "\n",
    "* La circunferencia de un círculo: 2 * radio * PI\n",
    "* El área de un círculo: PI * radio * radio\n",
    "* Estudie el área y la circunferencia de un círculo antes de continuar."
   ]
  },
  {
   "cell_type": "code",
   "execution_count": 7,
   "metadata": {},
   "outputs": [
    {
     "name": "stdout",
     "output_type": "stream",
     "text": [
      "La circunferencia del círculo es = 69.115024, el área del círculo es = 380.132632\n"
     ]
    }
   ],
   "source": [
    "pi = 3.141592\n",
    "r = int(input(\"Ingrese el radio del circulo: \"))\n",
    "c = 2 * r * pi\n",
    "area = pi * (r**2)\n",
    "\n",
    "print(\"La circunferencia del círculo es = {}, el área del círculo es = {}\".format(c, area))"
   ]
  },
  {
   "attachments": {},
   "cell_type": "markdown",
   "metadata": {},
   "source": [
    "### Quiz 4"
   ]
  },
  {
   "attachments": {},
   "cell_type": "markdown",
   "metadata": {},
   "source": [
    "Escriba un programa que muestre los valores cuadrados de 2 a 6 en una tabla como la que se muestra a continuación. Como se muestra abajo, a se puede incrementar de 2 a 6, y n tiene el valor de 2. Ingrese el valor actual para la parte correspondiente a `a**n`, de tal forma que el resultado de salida de la ecuación sea 2**2.\n",
    "\n",
    "<img src=\"https://ambg0231.github.io/unidad4/ExRes.png\" style=\"width:950px;\">"
   ]
  },
  {
   "cell_type": "code",
   "execution_count": 12,
   "metadata": {},
   "outputs": [
    {
     "name": "stdout",
     "output_type": "stream",
     "text": [
      "a     n     a**n \n",
      "2     2     4    \n",
      "3     2     9    \n",
      "4     2     16   \n",
      "5     2     25   \n",
      "6     2     36   \n"
     ]
    }
   ],
   "source": [
    "n = int(input(\"Ingrese la potencia: \"))\n",
    "\n",
    "print(\"{:<5} {:<5} {:<5}\".format(\"a\", \"n\", \"a**n\"))\n",
    "\n",
    "for i in range(2, 7):\n",
    "    print(\"{:<5} {:<5} {:<5}\".format(i, n, i**n))"
   ]
  },
  {
   "attachments": {},
   "cell_type": "markdown",
   "metadata": {},
   "source": [
    "## Unidad 5"
   ]
  },
  {
   "attachments": {},
   "cell_type": "markdown",
   "metadata": {},
   "source": [
    "### Quiz 1"
   ]
  },
  {
   "attachments": {},
   "cell_type": "markdown",
   "metadata": {},
   "source": [
    "Escriba un código que reciba el valor `n` a través de la entrada del teclado del usuario. Devuelve `True` si el entero `n` dado es impar y devuelve `False` si el entero es par. Paro los casos en que `n` es 20 y 21, imprima lo siguiente.\n",
    "\n",
    "<table>\n",
    "  <tr>\n",
    "      <td>\n",
    "          <b>Condición para la ejecución</b>\n",
    "      </td>\n",
    "      <td>\n",
    "          Enter an integer: 20<br />\n",
    "          Is the Integer odd?: False<br /><br />\n",
    "          Enter an integer: 21<br />\n",
    "          Is the Integer odd?: True\n",
    "      </td>\n",
    "  </tr>\n",
    "  <tr>\n",
    "      <td>\n",
    "          <b>Tiempo</b>\n",
    "      </td>\n",
    "      <td>\n",
    "          5 Minutos\n",
    "      </td>\n",
    "  </tr>\n",
    "</table>"
   ]
  },
  {
   "cell_type": "code",
   "execution_count": 2,
   "metadata": {},
   "outputs": [
    {
     "name": "stdout",
     "output_type": "stream",
     "text": [
      "Is the integer odd?: True\n"
     ]
    }
   ],
   "source": [
    "n = int(input(\"Enter an Integer: \"))\n",
    "\n",
    "print(\"Is the integer odd?:\", n % 2 != 0)\n"
   ]
  },
  {
   "attachments": {},
   "cell_type": "markdown",
   "metadata": {},
   "source": [
    "### Quiz 2"
   ]
  },
  {
   "attachments": {},
   "cell_type": "markdown",
   "metadata": {},
   "source": [
    "Escriba un código que tome la entrada del usuario y determine si el valor entero `n` es un número par dentro del rango de 0 a 100 o no. El resultado de la ejecución debería ser el siguiente:\n",
    "\n",
    "<table>\n",
    "  <tr>\n",
    "      <td>\n",
    "          <b>Condición para la ejecución</b>\n",
    "      </td>\n",
    "      <td>\n",
    "          Enter an integer: 12<br />\n",
    "          Is the input an even integer between 0 and 100?: True\n",
    "      </td>\n",
    "  </tr>\n",
    "  <tr>\n",
    "      <td>\n",
    "          <b>Tiempo</b>\n",
    "      </td>\n",
    "      <td>\n",
    "          5 Minutos\n",
    "      </td>\n",
    "  </tr>\n",
    "</table>"
   ]
  },
  {
   "cell_type": "code",
   "execution_count": 7,
   "metadata": {},
   "outputs": [
    {
     "name": "stdout",
     "output_type": "stream",
     "text": [
      "Is the input an even integer between 0 and 100?: True\n"
     ]
    }
   ],
   "source": [
    "n = int(input(\"Enter an integer: \"))\n",
    "\n",
    "print(\"Is the input an even integer between 0 and 100?:\", n % 2 == 0 and 0 <= n <= 100)"
   ]
  },
  {
   "attachments": {},
   "cell_type": "markdown",
   "metadata": {},
   "source": [
    "### Quiz 3"
   ]
  },
  {
   "attachments": {},
   "cell_type": "markdown",
   "metadata": {},
   "source": [
    "Recibir un número entero de 3 dígitos del usuario. Si el centésimo dígito del entero n es 3, devuelve `True`. Si no, devuelve `False`.\n",
    "\n",
    "<table>\n",
    "  <tr>\n",
    "      <td>\n",
    "          <b>Ejemplo del resultado</b>\n",
    "      </td>\n",
    "      <td>\n",
    "          Enter a 3-digit integer: 321<br />\n",
    "          True\n",
    "      </td>\n",
    "  </tr>\n",
    "</table><br />\n",
    "\n",
    "\n",
    "> Sugerencia: Debe estar familizarizado con el operador `//`."
   ]
  },
  {
   "cell_type": "code",
   "execution_count": 5,
   "metadata": {},
   "outputs": [
    {
     "name": "stdout",
     "output_type": "stream",
     "text": [
      "True\n",
      "True\n"
     ]
    }
   ],
   "source": [
    "n = int(input(\"Enter a 3-digit integer: \"))\n",
    "\n",
    "print(int(str(n)[0]) == 3)\n",
    "print(n // 100 == 3)"
   ]
  },
  {
   "attachments": {},
   "cell_type": "markdown",
   "metadata": {},
   "source": [
    "### Quiz 4"
   ]
  },
  {
   "attachments": {},
   "cell_type": "markdown",
   "metadata": {},
   "source": [
    "Recibe un entero. Si el número entero es múltiplo de 5, devuelve True. Si no, devuelve False.\n",
    "\n",
    "<table>\n",
    "  <tr>\n",
    "      <td>\n",
    "          <b>Ejemplo del resultado</b>\n",
    "      </td>\n",
    "      <td>\n",
    "          Enter a 3-digit integer: 125<br />\n",
    "          True\n",
    "      </td>\n",
    "  </tr>\n",
    "</table>"
   ]
  },
  {
   "cell_type": "code",
   "execution_count": 19,
   "metadata": {},
   "outputs": [
    {
     "name": "stdout",
     "output_type": "stream",
     "text": [
      "True\n"
     ]
    }
   ],
   "source": [
    "n = int(input(\"Enter a 3-digit integer: \"))\n",
    "\n",
    "print(n % 5 == 0)"
   ]
  },
  {
   "attachments": {},
   "cell_type": "markdown",
   "metadata": {},
   "source": [
    "## Unidad 6"
   ]
  },
  {
   "attachments": {},
   "cell_type": "markdown",
   "metadata": {},
   "source": [
    "### Quiz 1"
   ]
  },
  {
   "attachments": {},
   "cell_type": "markdown",
   "metadata": {},
   "source": [
    "Si la variable `game_score` de un usuario del juego supera los 1000 puntos, imprime \"Eres un maestro\"\n",
    "\n",
    "<table>\n",
    "  <tr>\n",
    "      <td>\n",
    "          <b>Ejemplo de salida</b>\n",
    "      </td>\n",
    "      <td>\n",
    "          Enter game score: 1500<br />\n",
    "          game_score = 1500<br /><br />\n",
    "          You are a master<br /><br />\n",
    "          O<br /><br />\n",
    "          Enter game score: 100<br />\n",
    "          game_score = 100\n",
    "      </td>\n",
    "  </tr>\n",
    "  <tr>\n",
    "      <td>\n",
    "          <b>Tiempo</b>\n",
    "      </td>\n",
    "      <td>\n",
    "          5 Minutos\n",
    "      </td>\n",
    "  </tr>\n",
    "</table>"
   ]
  },
  {
   "cell_type": "code",
   "execution_count": 6,
   "metadata": {},
   "outputs": [
    {
     "name": "stdout",
     "output_type": "stream",
     "text": [
      "game_score = 11\n",
      "Sigue jugando\n"
     ]
    }
   ],
   "source": [
    "game_score = int(input(\"Enter game score: \"))\n",
    "\n",
    "print(\"game_score = {}\".format(game_score))\n",
    "\n",
    "if game_score >= 1000:\n",
    "    print(\"You are a master\")\n",
    "else:\n",
    "    print(\"Sigue jugando\")"
   ]
  },
  {
   "attachments": {},
   "cell_type": "markdown",
   "metadata": {},
   "source": [
    "### Quiz 2"
   ]
  },
  {
   "attachments": {},
   "cell_type": "markdown",
   "metadata": {},
   "source": [
    "Escriba un programa que reciba cualquier número entero x entre -100 y 100.\n",
    "\n",
    "1. Imprima x en la pantalla\n",
    "2. Imprima \"... es un número natural\" si x es un número entero mayor que cero. De lo contrario, simplemente imprima x como en `x = -10`\n",
    "\n",
    "<table>\n",
    "  <tr>\n",
    "      <td>\n",
    "          <b>Ejemplo de salida</b>\n",
    "      </td>\n",
    "      <td>\n",
    "          Enter integer: 50<br />\n",
    "          x = 50<br /><br />\n",
    "          50 is a natural number<br /><br />\n",
    "          Or<br /><br />\n",
    "          Enter integer: -10<br />\n",
    "          x = -100\n",
    "      </td>\n",
    "  </tr>\n",
    "  <tr>\n",
    "      <td>\n",
    "          <b>Tiempo</b>\n",
    "      </td>\n",
    "      <td>\n",
    "          5 Minutos\n",
    "      </td>\n",
    "  </tr>\n",
    "</table>"
   ]
  },
  {
   "cell_type": "code",
   "execution_count": 9,
   "metadata": {},
   "outputs": [
    {
     "name": "stdout",
     "output_type": "stream",
     "text": [
      "x = 100\n",
      "100 is a natural number\n"
     ]
    }
   ],
   "source": [
    "x = int(input(\"Enter integer: \"))\n",
    "print(\"x = {}\".format(x))\n",
    "\n",
    "if x > 0:\n",
    "    print(\"{} is a natural number\".format(x))"
   ]
  },
  {
   "attachments": {},
   "cell_type": "markdown",
   "metadata": {},
   "source": [
    "### Quiz 3"
   ]
  },
  {
   "attachments": {},
   "cell_type": "markdown",
   "metadata": {},
   "source": [
    "Escriba un programa que reciba la edad como entrada e imprima \"Adulto\" si la edad es mayor de 20 años, \"Joven\" si es menor de 20 años e igual o mayor de 10, y \"Niño\" si es menor de 10 años.\n",
    "\n",
    "Ejemplo de salida:\n",
    "\n",
    "```txt\n",
    "Enter age: 16\n",
    "Youth\n",
    "```\n",
    "\n",
    "```txt\n",
    "Enter age: 33\n",
    "Adult\n",
    "```\n",
    "\n",
    "```txt\n",
    "Enter age: 5\n",
    "Kid\n",
    "```"
   ]
  },
  {
   "cell_type": "code",
   "execution_count": 16,
   "metadata": {},
   "outputs": [
    {
     "name": "stdout",
     "output_type": "stream",
     "text": [
      "Kid\n"
     ]
    }
   ],
   "source": [
    "age = int(input(\"Enter age: \"))\n",
    "\n",
    "if age >= 20:\n",
    "    print(\"Adult\")\n",
    "elif 10 <= age < 20:\n",
    "    print(\"Youth\")\n",
    "else:\n",
    "    print(\"Kid\")"
   ]
  },
  {
   "attachments": {},
   "cell_type": "markdown",
   "metadata": {},
   "source": [
    "### Quiz 4"
   ]
  },
  {
   "attachments": {},
   "cell_type": "markdown",
   "metadata": {},
   "source": [
    "Escriba un programa que de acuerdo a si una persona es mayor de edad y si tiene una altura superior a 150cm, le permita entrar a la montaña rusa, en cualquier otro caso le prohiba el ingreso.\n",
    "\n",
    "Ejemplo de salida:\n",
    "\n",
    "```txt\n",
    "Enter age: 20\n",
    "Enter height in cm: 180\n",
    "You can enter\n",
    "```"
   ]
  },
  {
   "cell_type": "code",
   "execution_count": 19,
   "metadata": {},
   "outputs": [
    {
     "name": "stdout",
     "output_type": "stream",
     "text": [
      "You can't enter\n"
     ]
    }
   ],
   "source": [
    "age = int(input(\"Enter age: \"))\n",
    "height = int(input(\"Enter height in cm: \"))\n",
    "\n",
    "if age >= 18 and height > 150:\n",
    "    print(\"You can enter\")\n",
    "else:\n",
    "    print(\"You can't enter\")"
   ]
  },
  {
   "attachments": {},
   "cell_type": "markdown",
   "metadata": {},
   "source": [
    "### Quiz 5"
   ]
  },
  {
   "attachments": {},
   "cell_type": "markdown",
   "metadata": {},
   "source": [
    "Desarrolle un programa de pedido de menú para Yummy Restaurant. Muestre el siguiente menú al usuario y permita que el usuario seleccione uno. Si el alfabeto de entrada dado no está en el menú, imprima \"Ingrese al menú de nuevo\" y reciba otra entrada\n",
    "\n",
    "Ejemplo de salida:\n",
    "\n",
    "```txt\n",
    "Welcome to yummy restaurant. Her is the menu:\n",
    "- Burger (enter b)\n",
    "- Chicken (enter c)\n",
    "- Pizza (enter p)\n",
    "Choose a menu (enter b, c, p): b\n",
    "You choose pizza\n",
    "```\n",
    "\n",
    "> Esto necesita expresiones condicionales complejas. Combine los operadores lógicos y las declaraciones condicionales con cuidado."
   ]
  },
  {
   "cell_type": "code",
   "execution_count": 41,
   "metadata": {},
   "outputs": [
    {
     "name": "stdout",
     "output_type": "stream",
     "text": [
      "Welcome to yummy restaurant. Here is the menu.\n",
      "\n",
      "- Burger (enter b)\n",
      "- Chicken (enter c)\n",
      "- Pizza(enter p)\n",
      "\n",
      "You chose Pizza\n"
     ]
    }
   ],
   "source": [
    "menu = [\n",
    "    \"- Burger (enter b)\",\n",
    "    \"- Chicken (enter c)\",\n",
    "    \"- Pizza(enter p)\"\n",
    "]\n",
    "options = [\"b\", \"c\", \"p\"]\n",
    "\n",
    "print(\"Welcome to yummy restaurant. Here is the menu.\\n\")\n",
    "\n",
    "for i in range(len(menu)):\n",
    "    print(menu[i])\n",
    "\n",
    "print()\n",
    "\n",
    "choice = input(\"Choose a menu (enter b, c, p): \")\n",
    "\n",
    "while (choice not in options):\n",
    "    choice = input(\"Choose a menu (enter b, c, p): \")\n",
    "\n",
    "if choice == options[0]:\n",
    "    print(\"You chose Burger\")\n",
    "elif choice == options[1]:\n",
    "    print(\"You chose Chicken\")\n",
    "elif choice == options[2]:\n",
    "    print(\"You chose Pizza\")"
   ]
  },
  {
   "cell_type": "code",
   "execution_count": 47,
   "metadata": {},
   "outputs": [
    {
     "name": "stdout",
     "output_type": "stream",
     "text": [
      "Welcome to yummy restaurant. Here is the menu.\n",
      "\n",
      "- Burger (enter b)\n",
      "- Chicken (enter c)\n",
      "- Pizza(enter p)\n",
      "\n",
      "You chose Burger\n"
     ]
    }
   ],
   "source": [
    "menu = {\n",
    "    'b': \"- Burger (enter b)\",\n",
    "    'c': \"- Chicken (enter c)\",\n",
    "    'p': \"- Pizza(enter p)\"\n",
    "}\n",
    "\n",
    "print(\"Welcome to yummy restaurant. Here is the menu.\\n\")\n",
    "\n",
    "for i in menu:\n",
    "    print(menu[i])\n",
    "\n",
    "print()\n",
    "\n",
    "choice = input(\"Choose a menu (enter b, c, p): \")\n",
    "\n",
    "while (choice not in menu):\n",
    "    choice = input(\"Choose a menu (enter b, c, p): \")\n",
    "\n",
    "if choice == \"b\":\n",
    "    print(\"You chose Burger\")\n",
    "elif choice == \"c\":\n",
    "    print(\"You chose Chicken\")\n",
    "if choice == \"p\":\n",
    "    print(\"You chose Pizza\")\n"
   ]
  },
  {
   "attachments": {},
   "cell_type": "markdown",
   "metadata": {},
   "source": [
    "## Unidad 7"
   ]
  },
  {
   "attachments": {},
   "cell_type": "markdown",
   "metadata": {},
   "source": [
    "### Quiz 1"
   ]
  },
  {
   "attachments": {},
   "cell_type": "markdown",
   "metadata": {},
   "source": [
    "Reciba una letra alfabética del usuario e imprima `is a vocal` para a, e, i, o, u y `is a consonant` para cualquier otra letra.\n",
    "\n",
    "<table>\n",
    "  <tr>\n",
    "      <td>\n",
    "          <b>Ejemplo de salida</b>\n",
    "      </td>\n",
    "      <td>\n",
    "          Enter the alphabet: k<br />\n",
    "          K is a consonant\n",
    "      </td>\n",
    "  </tr>\n",
    "  <tr>\n",
    "      <td>\n",
    "          <b>Tiempo</b>\n",
    "      </td>\n",
    "      <td>\n",
    "          5 Minutos\n",
    "      </td>\n",
    "  </tr>\n",
    "</table>"
   ]
  },
  {
   "cell_type": "code",
   "execution_count": 11,
   "metadata": {},
   "outputs": [
    {
     "name": "stdout",
     "output_type": "stream",
     "text": [
      "O is a vocal\n"
     ]
    }
   ],
   "source": [
    "letter = input(\"Enter the alphabet: \").upper()[0]\n",
    "\n",
    "if letter in ['A', 'E', 'I', 'O', 'U']:\n",
    "    print(\"{} is a vocal\".format(letter))\n",
    "elif letter in [\"B\", \"C\", \"D\", \"E\", \"F\", \"G\", \"H\", \"J\", \"K\", \"L\", \"M\", \"N\", \"Ñ\", \"P\", \"Q\", \"R\", \"S\", \"T\", \"V\", \"W\", \"X\", \"Y\", \"Z\"]:\n",
    "    print(\"{} is a consonant\".format(letter))\n",
    "else:\n",
    "    print(\"{} is not an alphabet\".format(letter))\n"
   ]
  },
  {
   "attachments": {},
   "cell_type": "markdown",
   "metadata": {},
   "source": [
    "### Quiz 2"
   ]
  },
  {
   "attachments": {},
   "cell_type": "markdown",
   "metadata": {},
   "source": [
    "Escriba el siguiente programa que recibe dos números enteros `a`, `b` como entrada. determina si `a` es un múltiplo de `b` e imprime el resultado.\n",
    "\n",
    "<table>\n",
    "  <tr>\n",
    "      <td>\n",
    "          <b>Ejemplo de salida</b>\n",
    "      </td>\n",
    "      <td>\n",
    "          Write two integers: 30 3<br />\n",
    "          30 is a multiple of 3\n",
    "      </td>\n",
    "  </tr>\n",
    "  <tr>\n",
    "      <td>\n",
    "          <b>Tiempo</b>\n",
    "      </td>\n",
    "      <td>\n",
    "          5 Minutos\n",
    "      </td>\n",
    "  </tr>\n",
    "</table>"
   ]
  },
  {
   "cell_type": "code",
   "execution_count": 14,
   "metadata": {},
   "outputs": [
    {
     "name": "stdout",
     "output_type": "stream",
     "text": [
      "Write two integers: \n",
      "40 is not a multiple of 6\n"
     ]
    }
   ],
   "source": [
    "print(\"Write two integers: \")\n",
    "a, b = int(input(\"a: \")), int(input(\"b: \"))\n",
    "\n",
    "if a % b == 0:\n",
    "    print(\"{} is a multiple of {}\".format(a, b))\n",
    "else:\n",
    "    print(\"{} is not a multiple of {}\".format(a, b))"
   ]
  },
  {
   "attachments": {},
   "cell_type": "markdown",
   "metadata": {},
   "source": [
    "### Quiz 3"
   ]
  },
  {
   "attachments": {},
   "cell_type": "markdown",
   "metadata": {},
   "source": [
    "Escriba un programa que ejecute sumas, restas, multiplicaciones y divisiones. Imprime el resultado de la operación de dos números enteros positivos, en función del número de operación deseado dado como entrada. Si se ingresa un número diferente a 1, 2, 3, 4, se imprime \"Se ingreso un número incorreo\". Para ingresar dos números, escribe uno, presiona enter y escribe otro.\n",
    "\n",
    "Ejemplo de salida:\n",
    "\n",
    "```txt\n",
    "1) Addition     2) Subtraction  3) Multiplication   4) Division\n",
    "Enter the desired number of operation: 1\n",
    "Enter two numbers for operation.\n",
    "10\n",
    "20\n",
    "10 + 20 = 30\n",
    "```\n",
    "\n",
    "Si se inserta incorrectamente:\n",
    "\n",
    "```txt\n",
    "1) Addition     2) Subtraction  3) Multiplication   4) Division\n",
    "Enter the desired number of operation: 1\n",
    "Entered an incorrect number\n",
    "```"
   ]
  },
  {
   "cell_type": "code",
   "execution_count": 23,
   "metadata": {},
   "outputs": [
    {
     "name": "stdout",
     "output_type": "stream",
     "text": [
      "Select an operation:\n",
      "\t1) Addition\n",
      "\t2) Subtraction\n",
      "\t3) Multiplication\n",
      "\t4) Division\n",
      "\n",
      "Selected operation: Addition\n",
      "\n",
      "Enter two number for operation: \n",
      "4 + 5 = 9\n"
     ]
    }
   ],
   "source": [
    "operations = {\n",
    "    1: \"Addition\",\n",
    "    2: \"Subtraction\",\n",
    "    3: \"Multiplication\",\n",
    "    4: \"Division\"\n",
    "}\n",
    "\n",
    "print(\"Select an operation:\")\n",
    "for i in operations:\n",
    "    print('\\t{}) {}'.format(i, operations[i]))\n",
    "\n",
    "print()\n",
    "\n",
    "option = abs(int(input(\"Enter the desired number of operation: \")))\n",
    "\n",
    "while option not in operations:\n",
    "    print(\"Entered an incorrect number\")\n",
    "    option = abs(int(input(\"Enter the desired number of operation: \")))\n",
    "\n",
    "print(\"Selected operation: {}\\n\".format(operations[option]))\n",
    "\n",
    "print(\"Enter two number for operation: \")\n",
    "\n",
    "a, b = int(input(\"a: \")), int(input(\"b: \"))\n",
    "\n",
    "if option == 1:\n",
    "    print(\"{} + {} = {}\".format(a, b, a + b))\n",
    "elif option == 2:\n",
    "    print(\"{} - {} = {}\".format(a, b, a - b))\n",
    "elif option == 3:\n",
    "    print(\"{} * {} = {}\".format(a, b, a * b))\n",
    "else:\n",
    "    print(\"{} / {} = {}\".format(a, b, a / b))\n"
   ]
  },
  {
   "attachments": {},
   "cell_type": "markdown",
   "metadata": {},
   "source": [
    "### Quiz 4"
   ]
  },
  {
   "attachments": {},
   "cell_type": "markdown",
   "metadata": {},
   "source": [
    "Escriba un programa que reciba un punto con coordenadas `x` e `y` como entrada, y determine a que cuadrante entre 1, 2, 3, 4 pertenece el punto.\n",
    "\n",
    "Ejemplo de salida:\n",
    "\n",
    "```txt\n",
    "Enter x, y coordinates: -5 6\n",
    "In the second quadrant\n",
    "```"
   ]
  },
  {
   "cell_type": "code",
   "execution_count": 34,
   "metadata": {},
   "outputs": [
    {
     "name": "stdout",
     "output_type": "stream",
     "text": [
      "Enter x,y coordinates: \n",
      "In the fourth quadrant\n"
     ]
    }
   ],
   "source": [
    "print(\"Enter x,y coordinates: \")\n",
    "x = int(input(\"x: \"))\n",
    "y = int(input(\"y: \"))\n",
    "\n",
    "if x == 0 and y == 0:\n",
    "    print(\"In the center\")\n",
    "elif x >= 0 and y >= 0:\n",
    "    print(\"In the first quadrant\")\n",
    "elif x <= 0 and y >= 0:\n",
    "    print(\"In the second quadrant\")\n",
    "elif x <= 0 and y <= 0:\n",
    "    print(\"In the third quadrant\")\n",
    "elif x >= 0 and y <= 0:\n",
    "    print(\"In the fourth quadrant\")\n",
    "else:\n",
    "    print(\"An error has ocurred\")\n"
   ]
  },
  {
   "attachments": {},
   "cell_type": "markdown",
   "metadata": {},
   "source": [
    "### Quiz 5"
   ]
  },
  {
   "attachments": {},
   "cell_type": "markdown",
   "metadata": {},
   "source": [
    "Desarrolle un programa de pedido de menú para Yummy Restaurant. Muestre el siguiente menú al usuario y permita que el usuario seleccione uno. Si el alfabeto de entrada dado no está en el menú, imprima \"Ingrese al menú de nuevo\" y reciba otra entrada\n",
    "\n",
    "Ejemplo de salida:\n",
    "\n",
    "```txt\n",
    "Welcome to yummy restaurant. Here is the menu:\n",
    "- Burger (enter b)\n",
    "- Chicken (enter c)\n",
    "- Pizza (enter p)\n",
    "Choose a menu (enter b, c, p): b\n",
    "You choose pizza\n",
    "```\n",
    "\n",
    "> Esto necesita expresiones condicionales complejas. Combine los operadores lógicos y las declaraciones condicionales con cuidado."
   ]
  },
  {
   "cell_type": "code",
   "execution_count": 37,
   "metadata": {},
   "outputs": [
    {
     "name": "stdout",
     "output_type": "stream",
     "text": [
      "Welcome to yummy restaurant. Here is the menu.\n",
      "\n",
      "- Burger (enter b)\n",
      "- Chicken (enter c)\n",
      "- Pizza(enter p)\n",
      "\n",
      "You chose Burger\n"
     ]
    }
   ],
   "source": [
    "menu = {\n",
    "    'b': \"- Burger (enter b)\",\n",
    "    'c': \"- Chicken (enter c)\",\n",
    "    'p': \"- Pizza(enter p)\"\n",
    "}\n",
    "\n",
    "print(\"Welcome to yummy restaurant. Here is the menu.\\n\")\n",
    "\n",
    "for i in menu:\n",
    "    print(menu[i])\n",
    "\n",
    "print()\n",
    "\n",
    "choice = input(\"Choose a menu (enter {}): \".format(', '.join(list(menu.keys()))))\n",
    "\n",
    "while (choice not in menu):\n",
    "    choice = input(\"Choose a menu (enter {}): \".format(', '.join(list(menu.keys()))))\n",
    "    \n",
    "if choice == \"b\":\n",
    "    print(\"You chose Burger\")\n",
    "elif choice == \"c\":\n",
    "    print(\"You chose Chicken\")\n",
    "if choice == \"p\":\n",
    "    print(\"You chose Pizza\")\n"
   ]
  },
  {
   "attachments": {},
   "cell_type": "markdown",
   "metadata": {},
   "source": [
    "## Unidad 8"
   ]
  },
  {
   "attachments": {},
   "cell_type": "markdown",
   "metadata": {},
   "source": [
    "### Quiz 1"
   ]
  },
  {
   "attachments": {},
   "cell_type": "markdown",
   "metadata": {},
   "source": [
    "Declare la lista `bts = ['V', 'J-Hope', 'RM', 'Jungkook', 'Jin', 'Jimin', 'Suga']`. Luego escriba un código que imprima todos los elementos en esta lista usando la declaración for.\n",
    "\n",
    "Ejemplo de salida\n",
    "\n",
    "<table>\n",
    "  <tr>\n",
    "      <td>\n",
    "          <b>Ejemplo de salida</b>\n",
    "      </td>\n",
    "      <td>\n",
    "        V<br />\n",
    "        J-Hope<br />\n",
    "        RM<br />\n",
    "        Jungkook<br />\n",
    "        Jin<br />          \n",
    "        Jimin<br />          \n",
    "        Suga          \n",
    "      </td>\n",
    "  </tr>\n",
    "  <tr>\n",
    "      <td>\n",
    "          <b>Tiempo</b>\n",
    "      </td>\n",
    "      <td>\n",
    "          5 Minutos\n",
    "      </td>\n",
    "  </tr>\n",
    "</table>"
   ]
  },
  {
   "cell_type": "code",
   "execution_count": 3,
   "metadata": {},
   "outputs": [
    {
     "name": "stdout",
     "output_type": "stream",
     "text": [
      "V\n",
      "J-Hope\n",
      "RM\n",
      "Jungkook\n",
      "Jin\n",
      "Jimin\n",
      "Suga\n"
     ]
    }
   ],
   "source": [
    "bts = ['V', 'J-Hope', 'RM', 'Jungkook', 'Jin', 'Jimin', 'Suga']\n",
    "\n",
    "for i in bts:\n",
    "    print(i)"
   ]
  },
  {
   "attachments": {},
   "cell_type": "markdown",
   "metadata": {},
   "source": [
    "### Quiz 2"
   ]
  },
  {
   "attachments": {},
   "cell_type": "markdown",
   "metadata": {},
   "source": [
    "Use la suma acumulativa para calcular e imprimir la suma de números enteros del 1 al 100. (Sugerencia: haga que el valor impreso de la función de rango oscile entre 1 y 100)\n",
    "\n",
    "<table>\n",
    "  <tr>\n",
    "      <td>\n",
    "          <b>Ejemplo de salida</b>\n",
    "      </td>\n",
    "      <td>\n",
    "        Sum of integers form 1 to 100: 5050\n",
    "      </td>\n",
    "  </tr>\n",
    "  <tr>\n",
    "      <td>\n",
    "          <b>Tiempo</b>\n",
    "      </td>\n",
    "      <td>\n",
    "          5 Minutos\n",
    "      </td>\n",
    "  </tr>\n",
    "</table>"
   ]
  },
  {
   "cell_type": "code",
   "execution_count": 8,
   "metadata": {},
   "outputs": [
    {
     "name": "stdout",
     "output_type": "stream",
     "text": [
      "Sum of integers from 1 to 100: 5050\n"
     ]
    }
   ],
   "source": [
    "sum = 0\n",
    "\n",
    "for i in range(1, 101):\n",
    "    sum += i\n",
    "\n",
    "print(\"Sum of integers from 1 to 100: {}\".format(sum))"
   ]
  },
  {
   "attachments": {},
   "cell_type": "markdown",
   "metadata": {},
   "source": [
    "### Quiz 3"
   ]
  },
  {
   "attachments": {},
   "cell_type": "markdown",
   "metadata": {},
   "source": [
    "Use el valor de paso de la función de rango para encontrar la suma de números pares del 1 al 100 (Sugerencia: estableza el valor inicial de la función de rango cero y el valor de paso en 2)\n",
    "\n",
    "<table>\n",
    "  <tr>\n",
    "      <td>\n",
    "          <b>Ejemplo de salida</b>\n",
    "      </td>\n",
    "      <td>\n",
    "        Sum of even numbers from 1 to 100: 2550\n",
    "      </td>\n",
    "  </tr>\n",
    "  <tr>\n",
    "      <td>\n",
    "          <b>Tiempo</b>\n",
    "      </td>\n",
    "      <td>\n",
    "          5 Minutos\n",
    "      </td>\n",
    "  </tr>\n",
    "</table>"
   ]
  },
  {
   "cell_type": "code",
   "execution_count": 9,
   "metadata": {},
   "outputs": [
    {
     "name": "stdout",
     "output_type": "stream",
     "text": [
      "Sum of even numbers from 1 to 100: 2550\n"
     ]
    }
   ],
   "source": [
    "sum = 0\n",
    "\n",
    "for i in range(0, 101, 2):\n",
    "    sum += i\n",
    "\n",
    "print(\"Sum of even numbers from 1 to 100: {}\".format(sum))\n"
   ]
  },
  {
   "attachments": {},
   "cell_type": "markdown",
   "metadata": {},
   "source": [
    "### Quiz 4"
   ]
  },
  {
   "attachments": {},
   "cell_type": "markdown",
   "metadata": {},
   "source": [
    "Use el valor de paso de la función de rango para encontrar la suma de números impares del 1 al 100. (Sugerencia: estableza el valor inicial de la función de rango en uno y el valor de paso en 2)\n",
    "\n",
    "<table>\n",
    "  <tr>\n",
    "      <td>\n",
    "          <b>Ejemplo de salida</b>\n",
    "      </td>\n",
    "      <td>\n",
    "        Sum of odd numbers from 1 to 100: 2500\n",
    "      </td>\n",
    "  </tr>\n",
    "  <tr>\n",
    "      <td>\n",
    "          <b>Tiempo</b>\n",
    "      </td>\n",
    "      <td>\n",
    "          5 Minutos\n",
    "      </td>\n",
    "  </tr>\n",
    "</table>"
   ]
  },
  {
   "cell_type": "code",
   "execution_count": 10,
   "metadata": {},
   "outputs": [
    {
     "name": "stdout",
     "output_type": "stream",
     "text": [
      "Sum of odd numbers from 1 to 100: 2500\n"
     ]
    }
   ],
   "source": [
    "sum = 0\n",
    "\n",
    "for i in range(1, 101, 2):\n",
    "    sum += i\n",
    "\n",
    "print(\"Sum of odd numbers from 1 to 100: {}\".format(sum))\n"
   ]
  },
  {
   "attachments": {},
   "cell_type": "markdown",
   "metadata": {},
   "source": [
    "### Quiz 5"
   ]
  },
  {
   "attachments": {},
   "cell_type": "markdown",
   "metadata": {},
   "source": [
    "La agencia A planea emitir boletos para una sala de conciertos para el concierto de cantantes idols. Aquí, el número n es la entrada y el número de asiento se organiza de la siguiente manera. Se colocan `n*n` asientos cuando se da `n` como entrada. La siguiente disposición de los números de asiento se denomina matriz de serpierte porque la matriz aumenta en unos con forma de trompa de serpiete. Escriba un programa que produzca arreglos de estos números."
   ]
  },
  {
   "cell_type": "code",
   "execution_count": 20,
   "metadata": {},
   "outputs": [
    {
     "name": "stdout",
     "output_type": "stream",
     "text": [
      " 1   2   3   4   5\n",
      "10   9   8   7   6\n",
      "11  12  13  14  15\n",
      "20  19  18  17  16\n",
      "21  22  23  24  25\n"
     ]
    }
   ],
   "source": [
    "from tabulate import tabulate\n",
    "\n",
    "n = int(input(\"Enter n: \"))\n",
    "\n",
    "aux = []\n",
    "\n",
    "for row in range(n):\n",
    "    aux.append([])\n",
    "    for column in range(n):\n",
    "        if row % 2 == 0:\n",
    "            aux[row].append((row * n) + column + 1)\n",
    "        else:\n",
    "            aux[row].insert(0, (row * n) + column + 1)\n",
    "\n",
    "print(tabulate(aux, tablefmt='plain'))\n"
   ]
  },
  {
   "attachments": {},
   "cell_type": "markdown",
   "metadata": {},
   "source": [
    "## Unidad 9"
   ]
  },
  {
   "attachments": {},
   "cell_type": "markdown",
   "metadata": {},
   "source": [
    "### Quiz 1"
   ]
  },
  {
   "attachments": {},
   "cell_type": "markdown",
   "metadata": {},
   "source": [
    "Escriba un programa que impria la multiplicación de 2 usando la instrucción while de la siguiente manera:\n",
    "\n",
    "<table>\n",
    "  <tr>\n",
    "      <td>\n",
    "          <b>Ejemplo de salida</b>\n",
    "      </td>\n",
    "      <td>\n",
    "        2 * 1 = 2<br />\n",
    "        2 * 2 = 4<br />\n",
    "        2 * 3 = 6<br />\n",
    "        2 * 4 = 8<br />\n",
    "        2 * 5 = 10<br />\n",
    "        2 * 6 = 12<br />\n",
    "        2 * 7 = 14<br />          \n",
    "        2 * 8 = 16<br />                    \n",
    "        2 * 9 = 18<br />                    \n",
    "        2 * 10 = 20<br />                    \n",
    "      </td>\n",
    "  </tr>\n",
    "  <tr>\n",
    "      <td>\n",
    "          <b>Tiempo</b>\n",
    "      </td>\n",
    "      <td>\n",
    "          5 Minutos\n",
    "      </td>\n",
    "  </tr>\n",
    "</table>"
   ]
  },
  {
   "cell_type": "code",
   "execution_count": 21,
   "metadata": {},
   "outputs": [
    {
     "name": "stdout",
     "output_type": "stream",
     "text": [
      "2 * 1 = 2\n",
      "2 * 2 = 4\n",
      "2 * 3 = 6\n",
      "2 * 4 = 8\n",
      "2 * 5 = 10\n",
      "2 * 6 = 12\n",
      "2 * 7 = 14\n",
      "2 * 8 = 16\n",
      "2 * 9 = 18\n",
      "2 * 10 = 20\n"
     ]
    }
   ],
   "source": [
    "n = 1\n",
    "while (n <= 10):\n",
    "    print(\"2 * {} = {}\".format(n, 2 * n))\n",
    "    n += 1"
   ]
  },
  {
   "attachments": {},
   "cell_type": "markdown",
   "metadata": {},
   "source": [
    "### Quiz 2"
   ]
  },
  {
   "attachments": {},
   "cell_type": "markdown",
   "metadata": {},
   "source": [
    "Modifiquemos el programa anterior para imprimir todas las etapas 1 a 9 de la tabla de multiplicar. Use solo la instrucción while.\n",
    "\n",
    "<table>\n",
    "  <tr>\n",
    "      <td>\n",
    "          <b>Ejemplo de salida</b>\n",
    "      </td>\n",
    "      <td>\n",
    "        1 * 1 = 1<br />\n",
    "        1 * 2 = 2<br />\n",
    "        1 * 3 = 3<br />\n",
    "        1 * 4 = 4<br />\n",
    "        1 * 5 = 5<br />\n",
    "        1 * 6 = 6<br />\n",
    "        1 * 7 = 7<br />          \n",
    "        1 * 8 = 8<br />                    \n",
    "        1 * 9 = 9<br />                    \n",
    "        1 * 10 = 10<br />       \n",
    "        2 * 1 = 2<br />\n",
    "        2 * 2 = 4<br />\n",
    "        2 * 3 = 6<br />\n",
    "        2 * 4 = 8<br />             \n",
    "      </td>\n",
    "  </tr>\n",
    "  <tr>\n",
    "      <td>\n",
    "          <b>Tiempo</b>\n",
    "      </td>\n",
    "      <td>\n",
    "          5 Minutos\n",
    "      </td>\n",
    "  </tr>\n",
    "</table>"
   ]
  },
  {
   "cell_type": "code",
   "execution_count": 25,
   "metadata": {},
   "outputs": [
    {
     "name": "stdout",
     "output_type": "stream",
     "text": [
      "1 * 1 = 1\n",
      "1 * 2 = 2\n",
      "1 * 3 = 3\n",
      "1 * 4 = 4\n",
      "1 * 5 = 5\n",
      "1 * 6 = 6\n",
      "1 * 7 = 7\n",
      "1 * 8 = 8\n",
      "1 * 9 = 9\n",
      "2 * 0 = 0\n",
      "2 * 1 = 2\n",
      "2 * 2 = 4\n",
      "2 * 3 = 6\n",
      "2 * 4 = 8\n",
      "2 * 5 = 10\n",
      "2 * 6 = 12\n",
      "2 * 7 = 14\n",
      "2 * 8 = 16\n",
      "2 * 9 = 18\n",
      "3 * 0 = 0\n",
      "3 * 1 = 3\n",
      "3 * 2 = 6\n",
      "3 * 3 = 9\n",
      "3 * 4 = 12\n",
      "3 * 5 = 15\n",
      "3 * 6 = 18\n",
      "3 * 7 = 21\n",
      "3 * 8 = 24\n",
      "3 * 9 = 27\n",
      "4 * 0 = 0\n",
      "4 * 1 = 4\n",
      "4 * 2 = 8\n",
      "4 * 3 = 12\n",
      "4 * 4 = 16\n",
      "4 * 5 = 20\n",
      "4 * 6 = 24\n",
      "4 * 7 = 28\n",
      "4 * 8 = 32\n",
      "4 * 9 = 36\n",
      "5 * 0 = 0\n",
      "5 * 1 = 5\n",
      "5 * 2 = 10\n",
      "5 * 3 = 15\n",
      "5 * 4 = 20\n",
      "5 * 5 = 25\n",
      "5 * 6 = 30\n",
      "5 * 7 = 35\n",
      "5 * 8 = 40\n",
      "5 * 9 = 45\n",
      "6 * 0 = 0\n",
      "6 * 1 = 6\n",
      "6 * 2 = 12\n",
      "6 * 3 = 18\n",
      "6 * 4 = 24\n",
      "6 * 5 = 30\n",
      "6 * 6 = 36\n",
      "6 * 7 = 42\n",
      "6 * 8 = 48\n",
      "6 * 9 = 54\n",
      "7 * 0 = 0\n",
      "7 * 1 = 7\n",
      "7 * 2 = 14\n",
      "7 * 3 = 21\n",
      "7 * 4 = 28\n",
      "7 * 5 = 35\n",
      "7 * 6 = 42\n",
      "7 * 7 = 49\n",
      "7 * 8 = 56\n",
      "7 * 9 = 63\n",
      "8 * 0 = 0\n",
      "8 * 1 = 8\n",
      "8 * 2 = 16\n",
      "8 * 3 = 24\n",
      "8 * 4 = 32\n",
      "8 * 5 = 40\n",
      "8 * 6 = 48\n",
      "8 * 7 = 56\n",
      "8 * 8 = 64\n",
      "8 * 9 = 72\n",
      "9 * 0 = 0\n",
      "9 * 1 = 9\n",
      "9 * 2 = 18\n",
      "9 * 3 = 27\n",
      "9 * 4 = 36\n",
      "9 * 5 = 45\n",
      "9 * 6 = 54\n",
      "9 * 7 = 63\n",
      "9 * 8 = 72\n",
      "9 * 9 = 81\n"
     ]
    }
   ],
   "source": [
    "n = 1\n",
    "x = 1\n",
    "while (x <= 9):\n",
    "    while (n <= 9):\n",
    "        print(\"{} * {} = {}\".format(x, n, x * n))\n",
    "        n += 1\n",
    "    n = 0\n",
    "    x += 1"
   ]
  },
  {
   "attachments": {},
   "cell_type": "markdown",
   "metadata": {},
   "source": [
    "### Quiz 3"
   ]
  },
  {
   "attachments": {},
   "cell_type": "markdown",
   "metadata": {},
   "source": [
    "Un número palindromo se refiere a un número entero cuyo valor es el mismo que su valor original, incluso si está al revés, como 121 o 3443. Escriba el siguiente programa para determinr si el número es un número palíndromo o no al recibir el número n de el usuario.\n",
    "\n",
    "Ejemplo de salida:\n",
    "\n",
    "```txt\n",
    "Enter an integer: 135\n",
    "135 is not a palindrome number  \n",
    "```\n",
    "\n",
    "```txt\n",
    "Enter an integer: 3443\n",
    "3443 is a palindrome number  \n",
    "```"
   ]
  },
  {
   "cell_type": "code",
   "execution_count": 35,
   "metadata": {},
   "outputs": [
    {
     "name": "stdout",
     "output_type": "stream",
     "text": [
      "3443 is a palindrome number\n"
     ]
    }
   ],
   "source": [
    "n = int(input(\"Enter an integer: \"))\n",
    "is_palindrome = str(n) == str(n)[::-1]\n",
    "\n",
    "if is_palindrome:\n",
    "    print(\"{} is a palindrome number\".format(n))\n",
    "else:\n",
    "    print(\"{} is not a palindrome number\".format(n))"
   ]
  },
  {
   "cell_type": "code",
   "execution_count": 50,
   "metadata": {},
   "outputs": [
    {
     "name": "stdout",
     "output_type": "stream",
     "text": [
      "3443 is a palindrome number\n"
     ]
    }
   ],
   "source": [
    "n = int(input(\"Enter an integer: \"))\n",
    "n_array = list(str(n))\n",
    "n_reverse = n_array[::-1]\n",
    "is_palindrome = False\n",
    "\n",
    "for i in range(0, len(n_array)):\n",
    "    if n_array[i] != n_reverse[-i - 1]:\n",
    "        is_palindrome = False\n",
    "        break\n",
    "    else:\n",
    "        is_palindrome = True\n",
    "\n",
    "\n",
    "if is_palindrome:\n",
    "    print(\"{} is a palindrome number\".format(n))\n",
    "else:\n",
    "    print(\"{} is not a palindrome number\".format(n))\n"
   ]
  },
  {
   "attachments": {},
   "cell_type": "markdown",
   "metadata": {},
   "source": [
    "### Quiz 4"
   ]
  },
  {
   "attachments": {},
   "cell_type": "markdown",
   "metadata": {},
   "source": [
    "La computadora tiene un número entero aleatorio entre 1 y 100 como el valor de respuesta correcto de la siguiente manera. Cuando el usuario presenta la respuesta correcta, el programa solo informa si el número entero presentado es mayor o menor en comparación con la respuesta correcta que el o ella almacenó. Este juego se repite hasta que el usuario responde correctamente.\n",
    "\n",
    "Ejemplo de salida:\n",
    "\n",
    "```txt\n",
    "Guess a number between 1 to 100\n",
    "Enter an number: 50\n",
    "Lower!\n",
    "Enter an number: 40\n",
    "Higher!\n",
    "Enter an number: 51\n",
    "Higher!\n",
    "Enter an number: 45\n",
    "Lower!\n",
    "Enter an number: 4\n",
    "Congratulations. Total try = 5\n",
    "```"
   ]
  },
  {
   "cell_type": "code",
   "execution_count": 39,
   "metadata": {},
   "outputs": [
    {
     "name": "stdout",
     "output_type": "stream",
     "text": [
      "Guest a number between 1 to 100\n",
      "Lower!\n",
      "Higher!\n",
      "Lower!\n",
      "Lower!\n",
      "Lower!\n",
      "Congratulations. Total attempts = 6\n",
      "\tThe random number was = 73\n"
     ]
    }
   ],
   "source": [
    "from random import randint\n",
    "\n",
    "print(\"Guest a number between 1 to 100\")\n",
    "\n",
    "random_number = randint(0, 100)\n",
    "n_attepts = 0\n",
    "is_correct = False\n",
    "\n",
    "n = int(input(\"Enter a number: \"))\n",
    "\n",
    "while is_correct == False:\n",
    "    n_attepts += 1\n",
    "    if n != random_number:\n",
    "        if n < random_number:\n",
    "            print(\"Lower!\")\n",
    "        else:\n",
    "            print(\"Higher!\")\n",
    "        n = int(input(\"Enter a number: \"))\n",
    "    else:\n",
    "        print(\"Congratulations. Total attempts = {}\".format(n_attepts))\n",
    "        print(\"\\tThe random number was = {}\".format(random_number))\n",
    "        is_correct = True"
   ]
  }
 ],
 "metadata": {
  "kernelspec": {
   "display_name": "Python 3.9.13 ('base')",
   "language": "python",
   "name": "python3"
  },
  "language_info": {
   "codemirror_mode": {
    "name": "ipython",
    "version": 3
   },
   "file_extension": ".py",
   "mimetype": "text/x-python",
   "name": "python",
   "nbconvert_exporter": "python",
   "pygments_lexer": "ipython3",
   "version": "3.9.13"
  },
  "orig_nbformat": 4,
  "vscode": {
   "interpreter": {
    "hash": "8e76f8642360a3358ab06c318ab18c1161224eb3836609d5c16edea6f6e43dba"
   }
  }
 },
 "nbformat": 4,
 "nbformat_minor": 2
}
