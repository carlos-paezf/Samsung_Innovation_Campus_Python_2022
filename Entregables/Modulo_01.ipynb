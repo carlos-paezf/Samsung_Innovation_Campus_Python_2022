{
 "cells": [
  {
   "attachments": {},
   "cell_type": "markdown",
   "metadata": {},
   "source": [
    "# Módulo 1 "
   ]
  },
  {
   "attachments": {},
   "cell_type": "markdown",
   "metadata": {},
   "source": [
    "## Unidad 1"
   ]
  },
  {
   "attachments": {},
   "cell_type": "markdown",
   "metadata": {},
   "source": [
    "### Quiz 1"
   ]
  },
  {
   "attachments": {},
   "cell_type": "markdown",
   "metadata": {},
   "source": [
    "Codifique 7 líneas de la función print() para producir un resultado como el de la imagen de abajo\n",
    "\n",
    "<img src=\"https://ambg0231.github.io/unidad1/Q1.png\" alt=\"https://ambg0231.github.io/unidad1/Q1.png\" width=\"500px\" />"
   ]
  },
  {
   "cell_type": "code",
   "execution_count": 1,
   "metadata": {},
   "outputs": [
    {
     "name": "stdout",
     "output_type": "stream",
     "text": [
      "       *       \n",
      "      ***      \n",
      "     *****     \n",
      "    *******    \n",
      "     *****     \n",
      "      ***      \n",
      "       *       \n"
     ]
    }
   ],
   "source": [
    "print('       *       ')\n",
    "print('      ***      ')\n",
    "print('     *****     ')\n",
    "print('    *******    ')\n",
    "print('     *****     ')\n",
    "print('      ***      ')\n",
    "print('       *       ')"
   ]
  },
  {
   "cell_type": "code",
   "execution_count": 2,
   "metadata": {},
   "outputs": [
    {
     "name": "stdout",
     "output_type": "stream",
     "text": [
      "      * \n",
      "     *** \n",
      "    ***** \n",
      "   ******* \n",
      "  ********* \n",
      " *********** \n",
      "  ********* \n",
      "   ******* \n",
      "    ***** \n",
      "     *** \n",
      "      * \n"
     ]
    }
   ],
   "source": [
    "rows = int(input(\"Ingrese la cantidad de filas: \"))\n",
    "cols = int(input(\"Ingrese la cantidad de columnas: \"))\n",
    "\n",
    "def printChars(cols):\n",
    "    print(' ' * (int(cols / 2) - i), '*' * ((i * 2) - 1), end=' ')\n",
    "    print()\n",
    "\n",
    "for i in range(1, int(rows / 2) + 1):\n",
    "    printChars(cols)\n",
    "\n",
    "for i in range(int(rows / 2) + 1, 0, -1):\n",
    "    printChars(cols)"
   ]
  },
  {
   "attachments": {},
   "cell_type": "markdown",
   "metadata": {},
   "source": [
    "## Unidad 2"
   ]
  },
  {
   "attachments": {},
   "cell_type": "markdown",
   "metadata": {},
   "source": [
    "### Quiz 1"
   ]
  },
  {
   "attachments": {},
   "cell_type": "markdown",
   "metadata": {},
   "source": [
    "Exprese la forma de encontrar el hotel en pseudocódigo usando los comandos de pseudocódigo dados abajo. Escriba todo lo demás en lenguaje cotidiano excepto los comandos de abajo. Preste atención a la indentación al usar dichos comandos.\n",
    "\n",
    "![Images.png](https://ambg0231.github.io/unidad2/Quiz.png)"
   ]
  },
  {
   "attachments": {},
   "cell_type": "markdown",
   "metadata": {},
   "source": [
    "```txt\n",
    "Start\n",
    "\n",
    "define N, S, W, E\n",
    "define userChoice\n",
    "define positionUser\n",
    "\n",
    "define walkStraight(to):\n",
    "    define n_steps\n",
    "    while positionUser != to\n",
    "        W += n_steps\n",
    "        n_steps++\n",
    "\n",
    "define turnRight():\n",
    "    positionUser.rotate(90 deg)\n",
    "\n",
    "def checkBuildingName(buildingName):\n",
    "    return positionUser == buildingName\n",
    "\n",
    "userChoice = input()\n",
    "\n",
    "while userChoice != W:\n",
    "    userChoice = input()\n",
    "\n",
    "walkStraight(post-office_building)\n",
    "turnRight()\n",
    "walkStraight(italian_restaurant)\n",
    "\n",
    "define nn_building = [building_1, building_2, building_3]\n",
    "\n",
    "for i in range(nn_building.length):\n",
    "    walkStraight(nn_building[i])\n",
    "\n",
    "checkBuildingName(hotel_building)\n",
    "\n",
    "End    \n",
    "```\n",
    "\n",
    "\n",
    "\n",
    "\n",
    "\n",
    "\n",
    "\n"
   ]
  },
  {
   "attachments": {},
   "cell_type": "markdown",
   "metadata": {},
   "source": [
    "### Quiz 2"
   ]
  },
  {
   "attachments": {},
   "cell_type": "markdown",
   "metadata": {},
   "source": [
    "\n",
    "\n",
    "Escriba un diagrama de flujos que factorice 18, 39, 63, 126, 792."
   ]
  },
  {
   "attachments": {},
   "cell_type": "markdown",
   "metadata": {},
   "source": [
    "```py\n",
    "def factorizar(n):\n",
    "    b = n\n",
    "    m = []\n",
    "    a = 1\n",
    "\n",
    "    while (n - round(n/2) * 2 == 0):\n",
    "        # La funcion round redondea el numero n/2, por lo que la condición es que el resto de n/2 sea cero\n",
    "        m[a] = 2\n",
    "        a += 1\n",
    "        n = n/2\n",
    "\n",
    "    for i in range(3, n, 2):\n",
    "        while (n - round(n/i) * i == 0):\n",
    "            m[a] = i\n",
    "            a += 1\n",
    "            n = n/i\n",
    "\n",
    "        if m != 0:\n",
    "            s = 1\n",
    "\n",
    "            for j in range(1, len(m)):\n",
    "                s = s*m[j];\n",
    "\n",
    "            if b == s:\n",
    "                return\n",
    "```"
   ]
  },
  {
   "attachments": {},
   "cell_type": "markdown",
   "metadata": {},
   "source": [
    "![factorizar](m1u2q2.svg)"
   ]
  },
  {
   "attachments": {},
   "cell_type": "markdown",
   "metadata": {},
   "source": [
    "## Unidad 3"
   ]
  },
  {
   "attachments": {},
   "cell_type": "markdown",
   "metadata": {},
   "source": [
    "### Quiz 1"
   ]
  },
  {
   "attachments": {},
   "cell_type": "markdown",
   "metadata": {},
   "source": [
    "Use la función int para retornar el número 100 sumando el carácter \"50\" al número 50. Adicionalmente, use la función str para retornar el resultado de la adición \"5050\".\n",
    "\n",
    "<table>\n",
    "  <tr>\n",
    "      <td>\n",
    "          <b>Condición para la ejecución</b>\n",
    "      </td>\n",
    "      <td>\n",
    "          La primera línea retorna el número 100, y la segunda línea retorna los caracteres \"5050\"\n",
    "      </td>\n",
    "  </tr>\n",
    "  <tr>\n",
    "      <td>\n",
    "          <b>Tiempo</b>\n",
    "      </td>\n",
    "      <td>\n",
    "          5 Minutos\n",
    "      </td>\n",
    "  </tr>\n",
    "</table>\n"
   ]
  },
  {
   "cell_type": "code",
   "execution_count": 16,
   "metadata": {},
   "outputs": [
    {
     "name": "stdout",
     "output_type": "stream",
     "text": [
      "100 <class 'int'>\n",
      "5050 <class 'str'>\n"
     ]
    }
   ],
   "source": [
    "s = \"50\"\n",
    "n = 50\n",
    "\n",
    "intResult = int(s) + n\n",
    "strResult = s + str(n)\n",
    "\n",
    "print(intResult, type(intResult))\n",
    "print(strResult, type(strResult))\n"
   ]
  },
  {
   "attachments": {},
   "cell_type": "markdown",
   "metadata": {},
   "source": [
    "### Quiz 2"
   ]
  },
  {
   "attachments": {},
   "cell_type": "markdown",
   "metadata": {},
   "source": [
    "Se proveen una letra '1' y tres '0'. Use estas para construir el número 1000. Aquí solo se permiten operaciones de adición entre strings, y la función int() puede ser usada sólo una vez.\n",
    "\n",
    "<table>\n",
    "  <tr>\n",
    "      <td>\n",
    "          <b>Condición para la ejecución</b>\n",
    "      </td>\n",
    "      <td>\n",
    "          Retorne el número '1000'\n",
    "      </td>\n",
    "  </tr>\n",
    "  <tr>\n",
    "      <td>\n",
    "          <b>Tiempo</b>\n",
    "      </td>\n",
    "      <td>\n",
    "          5 Minutos\n",
    "      </td>\n",
    "  </tr>\n",
    "</table>"
   ]
  },
  {
   "cell_type": "code",
   "execution_count": 15,
   "metadata": {},
   "outputs": [
    {
     "name": "stdout",
     "output_type": "stream",
     "text": [
      "1000 <class 'int'>\n"
     ]
    }
   ],
   "source": [
    "l = ['1', '0', '0', '0']\n",
    "\n",
    "r = int(\"\".join(l))\n",
    "\n",
    "print(r, type(r))"
   ]
  },
  {
   "attachments": {},
   "cell_type": "markdown",
   "metadata": {},
   "source": [
    "### Quiz 3"
   ]
  },
  {
   "attachments": {},
   "cell_type": "markdown",
   "metadata": {},
   "source": [
    "n! se define como n * (n-1) * (n-2) * (n-3) *...* 2 * 1. Encuentre 5! y 10! usando enteros y el operador * e imprimalos como sigue."
   ]
  },
  {
   "cell_type": "code",
   "execution_count": 7,
   "metadata": {},
   "outputs": [
    {
     "name": "stdout",
     "output_type": "stream",
     "text": [
      "Factorial de 5 = 120\n",
      "Factorial de 10 = 3628800\n"
     ]
    }
   ],
   "source": [
    "n1 = 5\n",
    "n2 = 10\n",
    "\n",
    "def factorial(n):\n",
    "    if n < 0:\n",
    "        return 'No hay factorial de negativos'\n",
    "    elif n == 0:\n",
    "        return 1\n",
    "    else:\n",
    "        fact = 1\n",
    "        while (n > 1):\n",
    "            fact *= n\n",
    "            n -= 1\n",
    "        return fact\n",
    "\n",
    "print(\"Factorial de {number} = {result}\".format(number = n1, result = factorial(n1)))\n",
    "print(\"Factorial de {number} = {result}\".format(number = n2, result = factorial(n2)))\n"
   ]
  },
  {
   "attachments": {},
   "cell_type": "markdown",
   "metadata": {},
   "source": [
    "## Unidad 4"
   ]
  },
  {
   "attachments": {},
   "cell_type": "markdown",
   "metadata": {},
   "source": [
    "### Quiz 1"
   ]
  },
  {
   "attachments": {},
   "cell_type": "markdown",
   "metadata": {},
   "source": [
    "Asigne los valores 30, 60 a las variables width y height, respectivamente. Escriba un programa que use esas dos variables para encontrar el área del rectángulo como se muestra abajo.\n",
    "\n",
    "<table>\n",
    "  <tr>\n",
    "      <td>\n",
    "          <b>Condición para la ejecución</b>\n",
    "      </td>\n",
    "      <td>\n",
    "          \"Imprima\" Area del Rectángulo: 1800.\"\n",
    "      </td>\n",
    "  </tr>\n",
    "  <tr>\n",
    "      <td>\n",
    "          <b>Tiempo</b>\n",
    "      </td>\n",
    "      <td>\n",
    "          5 Minutos\n",
    "      </td>\n",
    "  </tr>\n",
    "</table>"
   ]
  },
  {
   "cell_type": "code",
   "execution_count": 3,
   "metadata": {},
   "outputs": [
    {
     "name": "stdout",
     "output_type": "stream",
     "text": [
      "El área de un rectangulo con ancho 30 y alto 60, es de 1800\n"
     ]
    }
   ],
   "source": [
    "width = 30\n",
    "height = 60\n",
    "area = width * height\n",
    "\n",
    "print(\"El área de un rectangulo con ancho {w} y alto {h}, es de {a}\".format(w=width, h=height, a=area))\n"
   ]
  },
  {
   "attachments": {},
   "cell_type": "markdown",
   "metadata": {},
   "source": [
    "### Quiz 2"
   ]
  },
  {
   "attachments": {},
   "cell_type": "markdown",
   "metadata": {},
   "source": [
    "El teorema de Pitágoras afirma que el cuadrado de la hipotenusa c para cualquier triángulo rectángulo es igual al cuadrado de la base a más el cuadrado de la altura b. Escriba un código que calcule el largo de la hipotenusa recibiendo la base y la altura como enteros.\n",
    "\n",
    "<table>\n",
    "  <tr>\n",
    "      <td>\n",
    "          <b>Condición para la ejecución</b>\n",
    "      </td>\n",
    "      <td>\n",
    "          Ingrese en la primera línea la base y la altura en la segunda línea. En la tercera línea, imprima el resultado de calcular la longitud de la hipotenusa.\n",
    "      </td>\n",
    "  </tr>\n",
    "  <tr>\n",
    "      <td>\n",
    "          <b>Tiempo</b>\n",
    "      </td>\n",
    "      <td>\n",
    "          5 Minutos\n",
    "      </td>\n",
    "  </tr>\n",
    "  <tr>\n",
    "      <td>\n",
    "          <b>El teorema de Pitágoras</b>\n",
    "      </td>\n",
    "      <td>\n",
    "          c**2 = a**2 + b**2\n",
    "      </td>\n",
    "  </tr>\n",
    "</table>\n",
    "\n",
    "<img src=\"https://ambg0231.github.io/unidad4/Pythag.png\" style=\"width:350px;\">"
   ]
  },
  {
   "cell_type": "code",
   "execution_count": 6,
   "metadata": {},
   "outputs": [
    {
     "name": "stdout",
     "output_type": "stream",
     "text": [
      "La hipotenusa de un triangulo de alto 3 y base 3 es de 4.242640687119285\n"
     ]
    }
   ],
   "source": [
    "a = int(input(\"Ingrese el alto del triangulo: \"))\n",
    "b = int(input(\"Ingrese la base del triangulo: \"))\n",
    "\n",
    "h = (a**2 + b**2)**(1/2)\n",
    "\n",
    "print(\"La hipotenusa de un triangulo de alto {} y base {} es de {}\".format(a, b, h))"
   ]
  },
  {
   "attachments": {},
   "cell_type": "markdown",
   "metadata": {},
   "source": [
    "### Quiz 3"
   ]
  },
  {
   "attachments": {},
   "cell_type": "markdown",
   "metadata": {},
   "source": [
    "Reciba el valor de un radio del usuario e imprima el área y la circunferencia de un círculo con dicho radio. Use la variable PI = 3.141592 para obtener esos valores.\n",
    "\n",
    "<table>\n",
    "  <tr>\n",
    "      <td>\n",
    "          <b>Resultado de ejemplo</b>\n",
    "      </td>\n",
    "      <td>\n",
    "          <p>Ingrese el radio de un círculo: 11</p>\n",
    "          <p>La circunferencia del círculo es = 69.115024, el área del círculo es = 380.132632</p>\n",
    "      </td>\n",
    "  </tr>\n",
    "</table>\n",
    "\n",
    "* La circunferencia de un círculo: 2 * radio * PI\n",
    "* El área de un círculo: PI * radio * radio\n",
    "* Estudie el área y la circunferencia de un círculo antes de continuar."
   ]
  },
  {
   "cell_type": "code",
   "execution_count": 7,
   "metadata": {},
   "outputs": [
    {
     "name": "stdout",
     "output_type": "stream",
     "text": [
      "La circunferencia del círculo es = 69.115024, el área del círculo es = 380.132632\n"
     ]
    }
   ],
   "source": [
    "pi = 3.141592\n",
    "r = int(input(\"Ingrese el radio del circulo: \"))\n",
    "c = 2 * r * pi\n",
    "area = pi * (r**2)\n",
    "\n",
    "print(\"La circunferencia del círculo es = {}, el área del círculo es = {}\".format(c, area))"
   ]
  },
  {
   "attachments": {},
   "cell_type": "markdown",
   "metadata": {},
   "source": [
    "### Quiz 4"
   ]
  },
  {
   "attachments": {},
   "cell_type": "markdown",
   "metadata": {},
   "source": [
    "Escriba un programa que muestre los valores cuadrados de 2 a 6 en una tabla como la que se muestra a continuación. Como se muestra abajo, a se puede incrementar de 2 a 6, y n tiene el valor de 2. Ingrese el valor actual para la parte correspondiente a `a**n`, de tal forma que el resultado de salida de la ecuación sea 2**2.\n",
    "\n",
    "<img src=\"https://ambg0231.github.io/unidad4/ExRes.png\" style=\"width:950px;\">"
   ]
  },
  {
   "cell_type": "code",
   "execution_count": 12,
   "metadata": {},
   "outputs": [
    {
     "name": "stdout",
     "output_type": "stream",
     "text": [
      "a     n     a**n \n",
      "2     2     4    \n",
      "3     2     9    \n",
      "4     2     16   \n",
      "5     2     25   \n",
      "6     2     36   \n"
     ]
    }
   ],
   "source": [
    "n = int(input(\"Ingrese la potencia: \"))\n",
    "\n",
    "print(\"{:<5} {:<5} {:<5}\".format(\"a\", \"n\", \"a**n\"))\n",
    "\n",
    "for i in range(2, 7):\n",
    "    print(\"{:<5} {:<5} {:<5}\".format(i, n, i**n))"
   ]
  },
  {
   "attachments": {},
   "cell_type": "markdown",
   "metadata": {},
   "source": [
    "## Unidad 5"
   ]
  }
 ],
 "metadata": {
  "kernelspec": {
   "display_name": "Python 3.9.13 ('base')",
   "language": "python",
   "name": "python3"
  },
  "language_info": {
   "codemirror_mode": {
    "name": "ipython",
    "version": 3
   },
   "file_extension": ".py",
   "mimetype": "text/x-python",
   "name": "python",
   "nbconvert_exporter": "python",
   "pygments_lexer": "ipython3",
   "version": "3.9.13"
  },
  "orig_nbformat": 4,
  "vscode": {
   "interpreter": {
    "hash": "8e76f8642360a3358ab06c318ab18c1161224eb3836609d5c16edea6f6e43dba"
   }
  }
 },
 "nbformat": 4,
 "nbformat_minor": 2
}
