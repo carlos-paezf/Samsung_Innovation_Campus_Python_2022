{
 "cells": [
  {
   "attachments": {},
   "cell_type": "markdown",
   "metadata": {},
   "source": [
    "# Módulo 2 - Capítulo 5"
   ]
  },
  {
   "attachments": {},
   "cell_type": "markdown",
   "metadata": {},
   "source": [
    "## Unidad 27"
   ]
  },
  {
   "attachments": {},
   "cell_type": "markdown",
   "metadata": {},
   "source": [
    "### Quiz 1"
   ]
  },
  {
   "attachments": {},
   "cell_type": "markdown",
   "metadata": {},
   "source": [
    "¿Cuántas operaciones de intercambio se han ejecutado en el proceso de ordenamiento de burbujas siguiente?"
   ]
  },
  {
   "cell_type": "code",
   "execution_count": 25,
   "metadata": {},
   "outputs": [
    {
     "name": "stdout",
     "output_type": "stream",
     "text": [
      "[50, 30, 40, 10, 20]\n",
      "\t>>> exchange_counter: 1\n",
      "\t>>> exchange_counter: 2\n",
      "\t>>> exchange_counter: 3\n",
      "\t>>> exchange_counter: 4\n",
      "[30, 40, 10, 20, 50]\n",
      "\t>>> exchange_counter: 5\n",
      "\t>>> exchange_counter: 6\n",
      "[30, 10, 20, 40, 50]\n",
      "\t>>> exchange_counter: 7\n",
      "\t>>> exchange_counter: 8\n",
      "[10, 20, 30, 40, 50]\n",
      "[10, 20, 30, 40, 50]\n",
      "\n",
      ">>> Final exchange_counter: 8\n"
     ]
    }
   ],
   "source": [
    "def bubble(S):\n",
    "    n = len(S)\n",
    "    exchange_counter = 0\n",
    "\n",
    "    for _ in range(n):\n",
    "        print(S)\n",
    "        for j in range(n - 1):\n",
    "            if S[j] > S[j + 1]:\n",
    "                exchange_counter += 1\n",
    "                print('\\t>>> exchange_counter:', exchange_counter)\n",
    "                S[j], S[j + 1] = S[j + 1], S[j]\n",
    "    \n",
    "    print('\\n>>> Final exchange_counter:', exchange_counter)\n",
    "\n",
    "S = [50, 30, 40, 10, 20]\n",
    "bubble(S)"
   ]
  },
  {
   "attachments": {},
   "cell_type": "markdown",
   "metadata": {},
   "source": [
    "### Quiz 2"
   ]
  },
  {
   "attachments": {},
   "cell_type": "markdown",
   "metadata": {},
   "source": [
    "¿Cuántas operaciones de comparación se han ejecuado en el proceso de ordenamiento por inserción que se muestra a continuación?"
   ]
  },
  {
   "cell_type": "code",
   "execution_count": 24,
   "metadata": {},
   "outputs": [
    {
     "name": "stdout",
     "output_type": "stream",
     "text": [
      "[50, 30, 40, 10, 20]\n",
      "\t>>> comparation_counter: 1\n",
      "[30, 50, 40, 10, 20]\n",
      "\t>>> comparation_counter: 2\n",
      "[30, 40, 50, 10, 20]\n",
      "\t>>> comparation_counter: 3\n",
      "\t>>> comparation_counter: 4\n",
      "\t>>> comparation_counter: 5\n",
      "[10, 30, 40, 50, 20]\n",
      "\t>>> comparation_counter: 6\n",
      "\t>>> comparation_counter: 7\n",
      "\t>>> comparation_counter: 8\n",
      "\n",
      ">>> Final comparation_counter: 8\n"
     ]
    }
   ],
   "source": [
    "def insertion_sort(S):\n",
    "    n = len(S)\n",
    "    comparation_counter = 0\n",
    "\n",
    "    for i in range(1, n):\n",
    "        print(S)\n",
    "        x = S[i]\n",
    "        j = i - 1\n",
    "\n",
    "        while j >= 0 and S[j] > x:\n",
    "            S[j + 1] = S[j]\n",
    "            j -= 1\n",
    "            comparation_counter += 1\n",
    "            print('\\t>>> comparation_counter:', comparation_counter)\n",
    "\n",
    "        S[j + 1] = x\n",
    "\n",
    "    print('\\n>>> Final comparation_counter:', comparation_counter)\n",
    "\n",
    "\n",
    "S = [50, 30, 40, 10, 20]\n",
    "insertion_sort(S)"
   ]
  },
  {
   "attachments": {},
   "cell_type": "markdown",
   "metadata": {},
   "source": [
    "### Quiz 3"
   ]
  },
  {
   "attachments": {},
   "cell_type": "markdown",
   "metadata": {},
   "source": [
    "Dadas dos palabras, escribe un algoritmo que determine si estas dos cadenas son anagramas. Un anagrama es una palabra que se forma reordenando las letras de otra palabra utilizando todas las letras originales exactamente una vez. (Por ejemplo, `LISTEN` y `SILENT` son anagramas)."
   ]
  },
  {
   "cell_type": "code",
   "execution_count": 52,
   "metadata": {},
   "outputs": [
    {
     "name": "stdout",
     "output_type": "stream",
     "text": [
      "¿Las cadenas son anagramas? => True\n"
     ]
    }
   ],
   "source": [
    "def convert_to_ascci(S: str):\n",
    "    return [ ord(c) for c in S ]\n",
    "\n",
    "def insertion_sort(S):\n",
    "    n = len(S)\n",
    "\n",
    "    for i in range(1, n):\n",
    "        x = S[i]\n",
    "        j = i - 1\n",
    "\n",
    "        while j >= 0 and S[j] > x:\n",
    "            S[j + 1] = S[j]\n",
    "            j -= 1\n",
    "        S[j + 1] = x\n",
    "    \n",
    "    return S\n",
    "\n",
    "def is_anagram(a, b, sort_fun = insertion_sort):\n",
    "    a = sort_fun(convert_to_ascci(a.lower()))\n",
    "    b = sort_fun(convert_to_ascci(b.lower()))\n",
    "\n",
    "    print(\"¿Las cadenas son anagramas? =>\", a == b)\n",
    "\n",
    "\n",
    "a = \"lIsTeN\"\n",
    "b = \"SiLeNt\"\n",
    "\n",
    "is_anagram(a, b)"
   ]
  },
  {
   "cell_type": "code",
   "execution_count": 49,
   "metadata": {},
   "outputs": [
    {
     "name": "stdout",
     "output_type": "stream",
     "text": [
      "¿Las cadenas son anagramas? => True\n"
     ]
    }
   ],
   "source": [
    "a = input(\"Ingrese la cadena a: \")\n",
    "b = input(\"Ingrese la cadena b: \")\n",
    "\n",
    "is_anagram(a, b)"
   ]
  },
  {
   "attachments": {},
   "cell_type": "markdown",
   "metadata": {},
   "source": [
    "### Quiz 4"
   ]
  },
  {
   "attachments": {},
   "cell_type": "markdown",
   "metadata": {},
   "source": [
    "El uso de un algoritmo de clasificación permite determinar fácilmente si se trata de un anagrama o no.\n",
    "\n",
    "- Cree una función que evalúe los anagramas utilizando la función `sorted()` incorporada de python\n",
    "- Modificar la función `selection_sort()` para crear una función que determine los anagramas\n",
    "- Modificar la función `insertion_sort()` para crear una función que determine los anagramas"
   ]
  },
  {
   "cell_type": "code",
   "execution_count": 62,
   "metadata": {},
   "outputs": [],
   "source": [
    "def selection_sort(S):\n",
    "    n = len(S)\n",
    "    for i in range(n - 1):\n",
    "        smallest = i\n",
    "        for j in range(i + 1, n):\n",
    "            if S[j] < S[smallest]:\n",
    "                smallest = j\n",
    "        S[i], S[smallest] = S[smallest], S[i]\n",
    "    return S\n"
   ]
  },
  {
   "cell_type": "code",
   "execution_count": 63,
   "metadata": {},
   "outputs": [],
   "source": [
    "def insertion_sort(S):\n",
    "    n = len(S)\n",
    "    for i in range(1, n):\n",
    "        x = S[i]\n",
    "        j = i - 1\n",
    "        while j >= 0 and S[j] > x:\n",
    "            S[j + 1] = S[j]\n",
    "            j -= 1\n",
    "        S[j + 1] = x\n",
    "    return S\n"
   ]
  },
  {
   "cell_type": "code",
   "execution_count": 64,
   "metadata": {},
   "outputs": [
    {
     "name": "stdout",
     "output_type": "stream",
     "text": [
      "¿Las cadenas son anagramas? => True\n",
      "¿Las cadenas son anagramas? => True\n",
      "¿Las cadenas son anagramas? => True\n",
      "¿Las cadenas son anagramas? => False\n",
      "¿Las cadenas son anagramas? => False\n",
      "¿Las cadenas son anagramas? => False\n"
     ]
    }
   ],
   "source": [
    "a = \"lIsTeN\"\n",
    "b = \"SiLeNt\"\n",
    "\n",
    "is_anagram(a, b, sort_fun=sorted)\n",
    "is_anagram(a, b, sort_fun=selection_sort)\n",
    "is_anagram(a, b, sort_fun=insertion_sort)\n",
    "\n",
    "a = \"lIsTeN\"\n",
    "b = \"SiLeNcE\"\n",
    "\n",
    "is_anagram(a, b, sort_fun=sorted)\n",
    "is_anagram(a, b, sort_fun=selection_sort)\n",
    "is_anagram(a, b, sort_fun=insertion_sort)\n"
   ]
  },
  {
   "cell_type": "code",
   "execution_count": null,
   "metadata": {},
   "outputs": [],
   "source": []
  }
 ],
 "metadata": {
  "kernelspec": {
   "display_name": "Python 3",
   "language": "python",
   "name": "python3"
  },
  "language_info": {
   "codemirror_mode": {
    "name": "ipython",
    "version": 3
   },
   "file_extension": ".py",
   "mimetype": "text/x-python",
   "name": "python",
   "nbconvert_exporter": "python",
   "pygments_lexer": "ipython3",
   "version": "3.11.2"
  },
  "orig_nbformat": 4,
  "vscode": {
   "interpreter": {
    "hash": "60046ffbd83e2c3226aa688c07a90e0b2db2ccbc92f599df08db67c0404662c7"
   }
  }
 },
 "nbformat": 4,
 "nbformat_minor": 2
}
