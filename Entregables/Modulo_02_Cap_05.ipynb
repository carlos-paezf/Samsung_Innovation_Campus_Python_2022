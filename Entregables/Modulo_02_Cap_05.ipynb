{
 "cells": [
  {
   "attachments": {},
   "cell_type": "markdown",
   "metadata": {},
   "source": [
    "# Módulo 2 - Capítulo 5"
   ]
  },
  {
   "attachments": {},
   "cell_type": "markdown",
   "metadata": {},
   "source": [
    "## Unidad 27"
   ]
  },
  {
   "attachments": {},
   "cell_type": "markdown",
   "metadata": {},
   "source": [
    "### Quiz 1"
   ]
  },
  {
   "attachments": {},
   "cell_type": "markdown",
   "metadata": {},
   "source": [
    "¿Cuántas operaciones de intercambio se han ejecutado en el proceso de ordenamiento de burbujas siguiente?"
   ]
  },
  {
   "cell_type": "code",
   "execution_count": 25,
   "metadata": {},
   "outputs": [
    {
     "name": "stdout",
     "output_type": "stream",
     "text": [
      "[50, 30, 40, 10, 20]\n",
      "\t>>> exchange_counter: 1\n",
      "\t>>> exchange_counter: 2\n",
      "\t>>> exchange_counter: 3\n",
      "\t>>> exchange_counter: 4\n",
      "[30, 40, 10, 20, 50]\n",
      "\t>>> exchange_counter: 5\n",
      "\t>>> exchange_counter: 6\n",
      "[30, 10, 20, 40, 50]\n",
      "\t>>> exchange_counter: 7\n",
      "\t>>> exchange_counter: 8\n",
      "[10, 20, 30, 40, 50]\n",
      "[10, 20, 30, 40, 50]\n",
      "\n",
      ">>> Final exchange_counter: 8\n"
     ]
    }
   ],
   "source": [
    "def bubble(S):\n",
    "    n = len(S)\n",
    "    exchange_counter = 0\n",
    "\n",
    "    for _ in range(n):\n",
    "        print(S)\n",
    "        for j in range(n - 1):\n",
    "            if S[j] > S[j + 1]:\n",
    "                exchange_counter += 1\n",
    "                print('\\t>>> exchange_counter:', exchange_counter)\n",
    "                S[j], S[j + 1] = S[j + 1], S[j]\n",
    "    \n",
    "    print('\\n>>> Final exchange_counter:', exchange_counter)\n",
    "\n",
    "S = [50, 30, 40, 10, 20]\n",
    "bubble(S)"
   ]
  },
  {
   "attachments": {},
   "cell_type": "markdown",
   "metadata": {},
   "source": [
    "### Quiz 2"
   ]
  },
  {
   "attachments": {},
   "cell_type": "markdown",
   "metadata": {},
   "source": [
    "¿Cuántas operaciones de comparación se han ejecuado en el proceso de ordenamiento por inserción que se muestra a continuación?"
   ]
  },
  {
   "cell_type": "code",
   "execution_count": 24,
   "metadata": {},
   "outputs": [
    {
     "name": "stdout",
     "output_type": "stream",
     "text": [
      "[50, 30, 40, 10, 20]\n",
      "\t>>> comparation_counter: 1\n",
      "[30, 50, 40, 10, 20]\n",
      "\t>>> comparation_counter: 2\n",
      "[30, 40, 50, 10, 20]\n",
      "\t>>> comparation_counter: 3\n",
      "\t>>> comparation_counter: 4\n",
      "\t>>> comparation_counter: 5\n",
      "[10, 30, 40, 50, 20]\n",
      "\t>>> comparation_counter: 6\n",
      "\t>>> comparation_counter: 7\n",
      "\t>>> comparation_counter: 8\n",
      "\n",
      ">>> Final comparation_counter: 8\n"
     ]
    }
   ],
   "source": [
    "def insertion_sort(S):\n",
    "    n = len(S)\n",
    "    comparation_counter = 0\n",
    "\n",
    "    for i in range(1, n):\n",
    "        print(S)\n",
    "        x = S[i]\n",
    "        j = i - 1\n",
    "\n",
    "        while j >= 0 and S[j] > x:\n",
    "            S[j + 1] = S[j]\n",
    "            j -= 1\n",
    "            comparation_counter += 1\n",
    "            print('\\t>>> comparation_counter:', comparation_counter)\n",
    "\n",
    "        S[j + 1] = x\n",
    "\n",
    "    print('\\n>>> Final comparation_counter:', comparation_counter)\n",
    "\n",
    "\n",
    "S = [50, 30, 40, 10, 20]\n",
    "insertion_sort(S)"
   ]
  },
  {
   "attachments": {},
   "cell_type": "markdown",
   "metadata": {},
   "source": [
    "### Quiz 3"
   ]
  },
  {
   "attachments": {},
   "cell_type": "markdown",
   "metadata": {},
   "source": [
    "Dadas dos palabras, escribe un algoritmo que determine si estas dos cadenas son anagramas. Un anagrama es una palabra que se forma reordenando las letras de otra palabra utilizando todas las letras originales exactamente una vez. (Por ejemplo, `LISTEN` y `SILENT` son anagramas)."
   ]
  },
  {
   "cell_type": "code",
   "execution_count": 52,
   "metadata": {},
   "outputs": [
    {
     "name": "stdout",
     "output_type": "stream",
     "text": [
      "¿Las cadenas son anagramas? => True\n"
     ]
    }
   ],
   "source": [
    "def convert_to_ascci(S: str):\n",
    "    return [ ord(c) for c in S ]\n",
    "\n",
    "def insertion_sort(S):\n",
    "    n = len(S)\n",
    "\n",
    "    for i in range(1, n):\n",
    "        x = S[i]\n",
    "        j = i - 1\n",
    "\n",
    "        while j >= 0 and S[j] > x:\n",
    "            S[j + 1] = S[j]\n",
    "            j -= 1\n",
    "        S[j + 1] = x\n",
    "    \n",
    "    return S\n",
    "\n",
    "def is_anagram(a, b, sort_fun = insertion_sort):\n",
    "    a = sort_fun(convert_to_ascci(a.lower()))\n",
    "    b = sort_fun(convert_to_ascci(b.lower()))\n",
    "\n",
    "    print(\"¿Las cadenas son anagramas? =>\", a == b)\n",
    "\n",
    "\n",
    "a = \"lIsTeN\"\n",
    "b = \"SiLeNt\"\n",
    "\n",
    "is_anagram(a, b)"
   ]
  },
  {
   "cell_type": "code",
   "execution_count": 49,
   "metadata": {},
   "outputs": [
    {
     "name": "stdout",
     "output_type": "stream",
     "text": [
      "¿Las cadenas son anagramas? => True\n"
     ]
    }
   ],
   "source": [
    "a = input(\"Ingrese la cadena a: \")\n",
    "b = input(\"Ingrese la cadena b: \")\n",
    "\n",
    "is_anagram(a, b)"
   ]
  },
  {
   "attachments": {},
   "cell_type": "markdown",
   "metadata": {},
   "source": [
    "### Quiz 4"
   ]
  },
  {
   "attachments": {},
   "cell_type": "markdown",
   "metadata": {},
   "source": [
    "El uso de un algoritmo de clasificación permite determinar fácilmente si se trata de un anagrama o no.\n",
    "\n",
    "- Cree una función que evalúe los anagramas utilizando la función `sorted()` incorporada de python\n",
    "- Modificar la función `selection_sort()` para crear una función que determine los anagramas\n",
    "- Modificar la función `insertion_sort()` para crear una función que determine los anagramas"
   ]
  },
  {
   "cell_type": "code",
   "execution_count": 62,
   "metadata": {},
   "outputs": [],
   "source": [
    "def selection_sort(S):\n",
    "    n = len(S)\n",
    "    for i in range(n - 1):\n",
    "        smallest = i\n",
    "        for j in range(i + 1, n):\n",
    "            if S[j] < S[smallest]:\n",
    "                smallest = j\n",
    "        S[i], S[smallest] = S[smallest], S[i]\n",
    "    return S\n"
   ]
  },
  {
   "cell_type": "code",
   "execution_count": 63,
   "metadata": {},
   "outputs": [],
   "source": [
    "def insertion_sort(S):\n",
    "    n = len(S)\n",
    "    for i in range(1, n):\n",
    "        x = S[i]\n",
    "        j = i - 1\n",
    "        while j >= 0 and S[j] > x:\n",
    "            S[j + 1] = S[j]\n",
    "            j -= 1\n",
    "        S[j + 1] = x\n",
    "    return S\n"
   ]
  },
  {
   "cell_type": "code",
   "execution_count": 64,
   "metadata": {},
   "outputs": [
    {
     "name": "stdout",
     "output_type": "stream",
     "text": [
      "¿Las cadenas son anagramas? => True\n",
      "¿Las cadenas son anagramas? => True\n",
      "¿Las cadenas son anagramas? => True\n",
      "¿Las cadenas son anagramas? => False\n",
      "¿Las cadenas son anagramas? => False\n",
      "¿Las cadenas son anagramas? => False\n"
     ]
    }
   ],
   "source": [
    "a = \"lIsTeN\"\n",
    "b = \"SiLeNt\"\n",
    "\n",
    "is_anagram(a, b, sort_fun=sorted)\n",
    "is_anagram(a, b, sort_fun=selection_sort)\n",
    "is_anagram(a, b, sort_fun=insertion_sort)\n",
    "\n",
    "a = \"lIsTeN\"\n",
    "b = \"SiLeNcE\"\n",
    "\n",
    "is_anagram(a, b, sort_fun=sorted)\n",
    "is_anagram(a, b, sort_fun=selection_sort)\n",
    "is_anagram(a, b, sort_fun=insertion_sort)\n"
   ]
  },
  {
   "attachments": {},
   "cell_type": "markdown",
   "metadata": {},
   "source": [
    "## Unidad 28"
   ]
  },
  {
   "attachments": {},
   "cell_type": "markdown",
   "metadata": {},
   "source": [
    "### Quiz 1"
   ]
  },
  {
   "attachments": {},
   "cell_type": "markdown",
   "metadata": {},
   "source": [
    "¿Cuántas veces se ejecutó la función `merge_sort()` en el proceso de ordenamiento por mezcla que se muestra a continuación?"
   ]
  },
  {
   "cell_type": "code",
   "execution_count": 22,
   "metadata": {},
   "outputs": [],
   "source": [
    "def merge(S, low, mid, high):\n",
    "    R = []\n",
    "    i, j = low, mid + 1\n",
    "    \n",
    "    for _ in range(low, high+1):\n",
    "        if i > mid:\n",
    "            R.append(S[j])\n",
    "            j += 1\n",
    "        elif j > high:\n",
    "            R.append(S[i])\n",
    "            i += 1\n",
    "        elif S[i] < S[j]:\n",
    "            R.append(S[i])\n",
    "            i += 1\n",
    "        else:\n",
    "            R.append(S[j])\n",
    "            j += 1\n",
    "    for k in range(len(R)):\n",
    "        S[low] = R[k]\n",
    "        low += 1\n",
    "\n",
    "execution_counter = 0\n",
    "\n",
    "def merge_sort(S, low, high):\n",
    "    global execution_counter\n",
    "    execution_counter += 1\n",
    "    print('\\t>>> S:', S)\n",
    "    print('\\t>>> execution_counter:', execution_counter)\n",
    "    \n",
    "    if low < high:\n",
    "        mid = (low + high) // 2\n",
    "        merge_sort(S, low, mid)\n",
    "        merge_sort(S, mid + 1, high)\n",
    "        merge(S, low, mid, high)\n",
    "\n",
    "def evaluate_execution(S):\n",
    "    global execution_counter\n",
    "    execution_counter = 0\n",
    "\n",
    "    merge_sort(S, 0, len(S) - 1)\n",
    "    print('>>> S:', S)\n",
    "    print('>>> Final execution_counter:', execution_counter)\n"
   ]
  },
  {
   "cell_type": "code",
   "execution_count": 23,
   "metadata": {},
   "outputs": [
    {
     "name": "stdout",
     "output_type": "stream",
     "text": [
      "\t>>> S: [6, 2, 11, 7, 5, 4, 8, 16, 10, 3]\n",
      "\t>>> execution_counter: 1\n",
      "\t>>> S: [6, 2, 11, 7, 5, 4, 8, 16, 10, 3]\n",
      "\t>>> execution_counter: 2\n",
      "\t>>> S: [6, 2, 11, 7, 5, 4, 8, 16, 10, 3]\n",
      "\t>>> execution_counter: 3\n",
      "\t>>> S: [6, 2, 11, 7, 5, 4, 8, 16, 10, 3]\n",
      "\t>>> execution_counter: 4\n",
      "\t>>> S: [6, 2, 11, 7, 5, 4, 8, 16, 10, 3]\n",
      "\t>>> execution_counter: 5\n",
      "\t>>> S: [6, 2, 11, 7, 5, 4, 8, 16, 10, 3]\n",
      "\t>>> execution_counter: 6\n",
      "\t>>> S: [2, 6, 11, 7, 5, 4, 8, 16, 10, 3]\n",
      "\t>>> execution_counter: 7\n",
      "\t>>> S: [2, 6, 11, 7, 5, 4, 8, 16, 10, 3]\n",
      "\t>>> execution_counter: 8\n",
      "\t>>> S: [2, 6, 11, 7, 5, 4, 8, 16, 10, 3]\n",
      "\t>>> execution_counter: 9\n",
      "\t>>> S: [2, 6, 11, 7, 5, 4, 8, 16, 10, 3]\n",
      "\t>>> execution_counter: 10\n",
      "\t>>> S: [2, 5, 6, 7, 11, 4, 8, 16, 10, 3]\n",
      "\t>>> execution_counter: 11\n",
      "\t>>> S: [2, 5, 6, 7, 11, 4, 8, 16, 10, 3]\n",
      "\t>>> execution_counter: 12\n",
      "\t>>> S: [2, 5, 6, 7, 11, 4, 8, 16, 10, 3]\n",
      "\t>>> execution_counter: 13\n",
      "\t>>> S: [2, 5, 6, 7, 11, 4, 8, 16, 10, 3]\n",
      "\t>>> execution_counter: 14\n",
      "\t>>> S: [2, 5, 6, 7, 11, 4, 8, 16, 10, 3]\n",
      "\t>>> execution_counter: 15\n",
      "\t>>> S: [2, 5, 6, 7, 11, 4, 8, 16, 10, 3]\n",
      "\t>>> execution_counter: 16\n",
      "\t>>> S: [2, 5, 6, 7, 11, 4, 8, 16, 10, 3]\n",
      "\t>>> execution_counter: 17\n",
      "\t>>> S: [2, 5, 6, 7, 11, 4, 8, 16, 10, 3]\n",
      "\t>>> execution_counter: 18\n",
      "\t>>> S: [2, 5, 6, 7, 11, 4, 8, 16, 10, 3]\n",
      "\t>>> execution_counter: 19\n",
      ">>> S: [2, 3, 4, 5, 6, 7, 8, 10, 11, 16]\n",
      ">>> Final execution_counter: 19\n"
     ]
    }
   ],
   "source": [
    "S = [6, 2, 11, 7, 5, 4, 8, 16, 10, 3]\n",
    "evaluate_execution(S)"
   ]
  },
  {
   "cell_type": "code",
   "execution_count": 24,
   "metadata": {},
   "outputs": [
    {
     "name": "stdout",
     "output_type": "stream",
     "text": [
      "\t>>> S: [6, 2, 11, 7, 5, 4, 8, 16, 10, 3, 1, 12, 9]\n",
      "\t>>> execution_counter: 1\n",
      "\t>>> S: [6, 2, 11, 7, 5, 4, 8, 16, 10, 3, 1, 12, 9]\n",
      "\t>>> execution_counter: 2\n",
      "\t>>> S: [6, 2, 11, 7, 5, 4, 8, 16, 10, 3, 1, 12, 9]\n",
      "\t>>> execution_counter: 3\n",
      "\t>>> S: [6, 2, 11, 7, 5, 4, 8, 16, 10, 3, 1, 12, 9]\n",
      "\t>>> execution_counter: 4\n",
      "\t>>> S: [6, 2, 11, 7, 5, 4, 8, 16, 10, 3, 1, 12, 9]\n",
      "\t>>> execution_counter: 5\n",
      "\t>>> S: [6, 2, 11, 7, 5, 4, 8, 16, 10, 3, 1, 12, 9]\n",
      "\t>>> execution_counter: 6\n",
      "\t>>> S: [2, 6, 11, 7, 5, 4, 8, 16, 10, 3, 1, 12, 9]\n",
      "\t>>> execution_counter: 7\n",
      "\t>>> S: [2, 6, 11, 7, 5, 4, 8, 16, 10, 3, 1, 12, 9]\n",
      "\t>>> execution_counter: 8\n",
      "\t>>> S: [2, 6, 11, 7, 5, 4, 8, 16, 10, 3, 1, 12, 9]\n",
      "\t>>> execution_counter: 9\n",
      "\t>>> S: [2, 6, 7, 11, 5, 4, 8, 16, 10, 3, 1, 12, 9]\n",
      "\t>>> execution_counter: 10\n",
      "\t>>> S: [2, 6, 7, 11, 5, 4, 8, 16, 10, 3, 1, 12, 9]\n",
      "\t>>> execution_counter: 11\n",
      "\t>>> S: [2, 6, 7, 11, 5, 4, 8, 16, 10, 3, 1, 12, 9]\n",
      "\t>>> execution_counter: 12\n",
      "\t>>> S: [2, 6, 7, 11, 5, 4, 8, 16, 10, 3, 1, 12, 9]\n",
      "\t>>> execution_counter: 13\n",
      "\t>>> S: [2, 6, 7, 11, 4, 5, 8, 16, 10, 3, 1, 12, 9]\n",
      "\t>>> execution_counter: 14\n",
      "\t>>> S: [2, 4, 5, 6, 7, 8, 11, 16, 10, 3, 1, 12, 9]\n",
      "\t>>> execution_counter: 15\n",
      "\t>>> S: [2, 4, 5, 6, 7, 8, 11, 16, 10, 3, 1, 12, 9]\n",
      "\t>>> execution_counter: 16\n",
      "\t>>> S: [2, 4, 5, 6, 7, 8, 11, 16, 10, 3, 1, 12, 9]\n",
      "\t>>> execution_counter: 17\n",
      "\t>>> S: [2, 4, 5, 6, 7, 8, 11, 16, 10, 3, 1, 12, 9]\n",
      "\t>>> execution_counter: 18\n",
      "\t>>> S: [2, 4, 5, 6, 7, 8, 11, 16, 10, 3, 1, 12, 9]\n",
      "\t>>> execution_counter: 19\n",
      "\t>>> S: [2, 4, 5, 6, 7, 8, 11, 10, 16, 3, 1, 12, 9]\n",
      "\t>>> execution_counter: 20\n",
      "\t>>> S: [2, 4, 5, 6, 7, 8, 11, 3, 10, 16, 1, 12, 9]\n",
      "\t>>> execution_counter: 21\n",
      "\t>>> S: [2, 4, 5, 6, 7, 8, 11, 3, 10, 16, 1, 12, 9]\n",
      "\t>>> execution_counter: 22\n",
      "\t>>> S: [2, 4, 5, 6, 7, 8, 11, 3, 10, 16, 1, 12, 9]\n",
      "\t>>> execution_counter: 23\n",
      "\t>>> S: [2, 4, 5, 6, 7, 8, 11, 3, 10, 16, 1, 12, 9]\n",
      "\t>>> execution_counter: 24\n",
      "\t>>> S: [2, 4, 5, 6, 7, 8, 11, 3, 10, 16, 1, 12, 9]\n",
      "\t>>> execution_counter: 25\n",
      ">>> S: [1, 2, 3, 4, 5, 6, 7, 8, 9, 10, 11, 12, 16]\n",
      ">>> Final execution_counter: 25\n"
     ]
    }
   ],
   "source": [
    "S = [6, 2, 11, 7, 5, 4, 8, 16, 10, 3, 1, 12, 9]\n",
    "evaluate_execution(S)"
   ]
  },
  {
   "attachments": {},
   "cell_type": "markdown",
   "metadata": {},
   "source": [
    "### Quiz 2"
   ]
  },
  {
   "attachments": {},
   "cell_type": "markdown",
   "metadata": {},
   "source": [
    "Dadas N listas ordenadas como entrada, escribe un programa que las fusione en una lista ordenada"
   ]
  },
  {
   "cell_type": "code",
   "execution_count": 25,
   "metadata": {},
   "outputs": [],
   "source": [
    "def multiple_merge(numbers_list):\n",
    "    if len(numbers_list) == 1:\n",
    "        return numbers_list[0]\n",
    "    else:\n",
    "        mid = len(numbers_list) // 2\n",
    "        left = multiple_merge(numbers_list[:mid])\n",
    "        right = multiple_merge(numbers_list[mid:])\n",
    "        return merge(left, right)\n",
    "\n",
    "\n",
    "def merge(left, right):\n",
    "    merged_list = []\n",
    "    i = j = 0\n",
    "    while i < len(left) and j < len(right):\n",
    "        if left[i] <= right[j]:\n",
    "            merged_list.append(left[i])\n",
    "            i += 1\n",
    "        else:\n",
    "            merged_list.append(right[j])\n",
    "            j += 1\n",
    "    merged_list += left[i:]\n",
    "    merged_list += right[j:]\n",
    "    return merged_list\n"
   ]
  },
  {
   "cell_type": "code",
   "execution_count": 28,
   "metadata": {},
   "outputs": [
    {
     "name": "stdout",
     "output_type": "stream",
     "text": [
      "[9, 8, 7]\n",
      "[6, 5, 4]\n",
      "[3, 2, 1]\n",
      "Fusionada dentro:  [3, 2, 1, 6, 5, 4, 9, 8, 7]\n"
     ]
    }
   ],
   "source": [
    "N = int(input(\"Ingrese el número de listas: \"))\n",
    "numbers_list = []\n",
    "\n",
    "for i in range(N):\n",
    "    numbers = list(map(int, input(\"Ingrese una lista de números: \").split()))\n",
    "    print(numbers)\n",
    "\n",
    "    numbers_list.append(numbers)\n",
    "\n",
    "ordered_list = multiple_merge(numbers_list)\n",
    "print(\"Fusionada dentro: \", ordered_list)"
   ]
  },
  {
   "attachments": {},
   "cell_type": "markdown",
   "metadata": {},
   "source": [
    "## Unidad 29"
   ]
  },
  {
   "attachments": {},
   "cell_type": "markdown",
   "metadata": {},
   "source": [
    "### Quiz 1"
   ]
  },
  {
   "attachments": {},
   "cell_type": "markdown",
   "metadata": {},
   "source": [
    "Dada la siguiente lista, escriba la salida después de ejecutar la función `partition()`"
   ]
  },
  {
   "cell_type": "code",
   "execution_count": 31,
   "metadata": {},
   "outputs": [],
   "source": [
    "def partition(S, low, high):\n",
    "    pivot = S[low]\n",
    "    left, right = low + 1, high\n",
    "\n",
    "    while left < right:\n",
    "        while left <= right and S[left] <= pivot:\n",
    "            left += 1\n",
    "        while left <= right and S[right] >= pivot:\n",
    "            right -= 1\n",
    "        \n",
    "        if left < right:\n",
    "            S[left], S[right] = S[right], S[left]\n",
    "        \n",
    "    pivot_point = right\n",
    "    S[low], S[pivot_point] = S[pivot_point], S[low]\n",
    "\n",
    "    return pivot_point\n",
    "\n",
    "def quick_sort(S, low, high):\n",
    "    if low < high:\n",
    "        pivot_point = partition(S, low, high)\n",
    "        print('\\t>>> pivot_point:', pivot_point)\n",
    "        quick_sort(S, low, pivot_point - 1)\n",
    "        quick_sort(S, pivot_point + 1, high)"
   ]
  },
  {
   "cell_type": "code",
   "execution_count": 32,
   "metadata": {},
   "outputs": [
    {
     "name": "stdout",
     "output_type": "stream",
     "text": [
      "\t>>> pivot_point: 3\n",
      "\t>>> pivot_point: 2\n",
      "\t>>> pivot_point: 1\n",
      "\t>>> pivot_point: 6\n",
      "\t>>> pivot_point: 5\n",
      "[10, 12, 13, 15, 20, 22, 25]\n"
     ]
    }
   ],
   "source": [
    "S = [15, 10, 12, 20, 25, 13, 22]\n",
    "quick_sort(S, 0, len(S) - 1)\n",
    "print(S)"
   ]
  },
  {
   "attachments": {},
   "cell_type": "markdown",
   "metadata": {},
   "source": [
    "### Quiz 2"
   ]
  },
  {
   "attachments": {},
   "cell_type": "markdown",
   "metadata": {},
   "source": [
    "Escriba un algoritmo que encuentre el K° elemento mayor, dados N elementos desordenados.\n",
    "\n",
    "Después de resolver el problema con los dos métodos anteriores, analiza qué algoritmo es más eficiente.\n",
    "\n",
    "- Puede devolver el elemento K° después de utilizar la función de ordenamiento.\n",
    "- Puede utilizar la función partition() para realizar una llamada recursiva hasta que el pivote sea el K° elemento."
   ]
  },
  {
   "cell_type": "code",
   "execution_count": 45,
   "metadata": {},
   "outputs": [],
   "source": [
    "from random import randint\n",
    "import time\n",
    "\n",
    "random_numbers = 0\n",
    "k = 3\n",
    "\n",
    "def measure_time(func):\n",
    "    global random_numbers\n",
    "    random_numbers = [randint(0, 10_000) for _ in range(10_000)]\n",
    "    def measure_function(*args, **kwargs):\n",
    "        start = time.time()\n",
    "        nums = func(*args, **kwargs)\n",
    "        k_number = nums[-k]\n",
    "        end = time.time()\n",
    "        print('>>> Execution time:', end - start)\n",
    "        print('>>> k_number:', k_number)\n",
    "        return k_number\n",
    "    return measure_function"
   ]
  },
  {
   "attachments": {},
   "cell_type": "markdown",
   "metadata": {},
   "source": [
    "#### Buble Sort"
   ]
  },
  {
   "cell_type": "code",
   "execution_count": 46,
   "metadata": {},
   "outputs": [
    {
     "name": "stdout",
     "output_type": "stream",
     "text": [
      ">>> Execution time: 8.513029098510742\n",
      ">>> k_number: 9998\n"
     ]
    },
    {
     "data": {
      "text/plain": [
       "9998"
      ]
     },
     "execution_count": 46,
     "metadata": {},
     "output_type": "execute_result"
    }
   ],
   "source": [
    "@measure_time\n",
    "def bubble(S):\n",
    "    n = len(S)\n",
    "\n",
    "    for _ in range(n):\n",
    "        for j in range(n - 1):\n",
    "            if S[j] > S[j + 1]:\n",
    "                S[j], S[j + 1] = S[j + 1], S[j]\n",
    "    \n",
    "    return S\n",
    "\n",
    "bubble(random_numbers)"
   ]
  },
  {
   "attachments": {},
   "cell_type": "markdown",
   "metadata": {},
   "source": [
    "#### Insertion Sort"
   ]
  },
  {
   "cell_type": "code",
   "execution_count": 47,
   "metadata": {},
   "outputs": [
    {
     "name": "stdout",
     "output_type": "stream",
     "text": [
      ">>> Execution time: 2.000645160675049\n",
      ">>> k_number: 10000\n"
     ]
    },
    {
     "data": {
      "text/plain": [
       "10000"
      ]
     },
     "execution_count": 47,
     "metadata": {},
     "output_type": "execute_result"
    }
   ],
   "source": [
    "@measure_time\n",
    "def insertion_sort(S):\n",
    "    n = len(S)\n",
    "\n",
    "    for i in range(1, n):\n",
    "        x = S[i]\n",
    "        j = i - 1\n",
    "\n",
    "        while j >= 0 and S[j] > x:\n",
    "            S[j + 1] = S[j]\n",
    "            j -= 1\n",
    "\n",
    "        S[j + 1] = x\n",
    "    \n",
    "    return S\n",
    "\n",
    "insertion_sort(random_numbers)"
   ]
  },
  {
   "attachments": {},
   "cell_type": "markdown",
   "metadata": {},
   "source": [
    "#### Selection Sort"
   ]
  },
  {
   "cell_type": "code",
   "execution_count": 48,
   "metadata": {},
   "outputs": [
    {
     "name": "stdout",
     "output_type": "stream",
     "text": [
      ">>> Execution time: 1.975259780883789\n",
      ">>> k_number: 9997\n"
     ]
    },
    {
     "data": {
      "text/plain": [
       "9997"
      ]
     },
     "execution_count": 48,
     "metadata": {},
     "output_type": "execute_result"
    }
   ],
   "source": [
    "@measure_time\n",
    "def selection_sort(S):\n",
    "    n = len(S)\n",
    "    for i in range(n - 1):\n",
    "        smallest = i\n",
    "        for j in range(i + 1, n):\n",
    "            if S[j] < S[smallest]:\n",
    "                smallest = j\n",
    "        S[i], S[smallest] = S[smallest], S[i]\n",
    "    return S\n",
    "\n",
    "selection_sort(random_numbers)"
   ]
  },
  {
   "attachments": {},
   "cell_type": "markdown",
   "metadata": {},
   "source": [
    "#### Merge Sort"
   ]
  },
  {
   "cell_type": "code",
   "execution_count": 49,
   "metadata": {},
   "outputs": [
    {
     "name": "stdout",
     "output_type": "stream",
     "text": [
      ">>> Execution time: 0.028768539428710938\n",
      ">>> k_number: 9998\n"
     ]
    },
    {
     "data": {
      "text/plain": [
       "9998"
      ]
     },
     "execution_count": 49,
     "metadata": {},
     "output_type": "execute_result"
    }
   ],
   "source": [
    "def merge(S, low, mid, high):\n",
    "    R = []\n",
    "    i, j = low, mid + 1\n",
    "\n",
    "    for _ in range(low, high+1):\n",
    "        if i > mid:\n",
    "            R.append(S[j]); j += 1\n",
    "        elif j > high:\n",
    "            R.append(S[i]); i += 1\n",
    "        elif S[i] < S[j]:\n",
    "            R.append(S[i]); i += 1\n",
    "        else:\n",
    "            R.append(S[j]); j += 1\n",
    "    for k in range(len(R)):\n",
    "        S[low] = R[k]; low += 1\n",
    "\n",
    "def merge_sort(S, low, high):\n",
    "    if low < high:\n",
    "        mid = (low + high) // 2\n",
    "        merge_sort(S, low, mid)\n",
    "        merge_sort(S, mid + 1, high)\n",
    "        merge(S, low, mid, high)\n",
    "    return S\n",
    "\n",
    "@measure_time\n",
    "def exe_merge_sort():\n",
    "    return merge_sort(random_numbers, 0, len(random_numbers) - 1)\n",
    "\n",
    "exe_merge_sort()"
   ]
  },
  {
   "attachments": {},
   "cell_type": "markdown",
   "metadata": {},
   "source": [
    "#### Quick Sort"
   ]
  },
  {
   "cell_type": "code",
   "execution_count": 50,
   "metadata": {},
   "outputs": [
    {
     "name": "stdout",
     "output_type": "stream",
     "text": [
      ">>> Execution time: 0.013513326644897461\n",
      ">>> k_number: 9999\n"
     ]
    },
    {
     "data": {
      "text/plain": [
       "9999"
      ]
     },
     "execution_count": 50,
     "metadata": {},
     "output_type": "execute_result"
    }
   ],
   "source": [
    "def partition(S, low, high):\n",
    "    pivot = S[low]\n",
    "    left, right = low + 1, high\n",
    "\n",
    "    while left < right:\n",
    "        while left <= right and S[left] <= pivot:\n",
    "            left += 1\n",
    "        while left <= right and S[right] >= pivot:\n",
    "            right -= 1\n",
    "\n",
    "        if left < right:\n",
    "            S[left], S[right] = S[right], S[left]\n",
    "\n",
    "    pivot_point = right\n",
    "    S[low], S[pivot_point] = S[pivot_point], S[low]\n",
    "\n",
    "    return pivot_point\n",
    "\n",
    "\n",
    "def quick_sort(S, low, high):\n",
    "    if low < high:\n",
    "        pivot_point = partition(S, low, high)\n",
    "        quick_sort(S, low, pivot_point - 1)\n",
    "        quick_sort(S, pivot_point + 1, high)\n",
    "    \n",
    "    return S\n",
    "\n",
    "\n",
    "@measure_time\n",
    "def exe_quick_sort():\n",
    "    return quick_sort(random_numbers, 0, len(random_numbers) - 1)\n",
    "\n",
    "\n",
    "exe_quick_sort()"
   ]
  },
  {
   "attachments": {},
   "cell_type": "markdown",
   "metadata": {},
   "source": [
    "Despues de comparar los tiempos de ejecución en los diversos métodos de ordenamiento, he determinado que el mejor método para un arreglo con 10.000 de números aleatorios es el método `quick_sort()` con un tiempo de ejecución equivalente a `0.0135` segundos."
   ]
  }
 ],
 "metadata": {
  "kernelspec": {
   "display_name": "Python 3",
   "language": "python",
   "name": "python3"
  },
  "language_info": {
   "codemirror_mode": {
    "name": "ipython",
    "version": 3
   },
   "file_extension": ".py",
   "mimetype": "text/x-python",
   "name": "python",
   "nbconvert_exporter": "python",
   "pygments_lexer": "ipython3",
   "version": "3.11.2"
  },
  "orig_nbformat": 4,
  "vscode": {
   "interpreter": {
    "hash": "60046ffbd83e2c3226aa688c07a90e0b2db2ccbc92f599df08db67c0404662c7"
   }
  }
 },
 "nbformat": 4,
 "nbformat_minor": 2
}
