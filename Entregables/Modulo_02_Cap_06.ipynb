{
 "cells": [
  {
   "attachments": {},
   "cell_type": "markdown",
   "metadata": {},
   "source": [
    "# Módulo 2 - Capítulo 6"
   ]
  },
  {
   "attachments": {},
   "cell_type": "markdown",
   "metadata": {},
   "source": [
    "## Unidad 30"
   ]
  },
  {
   "attachments": {},
   "cell_type": "markdown",
   "metadata": {},
   "source": [
    "### Quiz 1"
   ]
  },
  {
   "attachments": {},
   "cell_type": "markdown",
   "metadata": {},
   "source": [
    "En el problema del intercambio de monedas, supongamos que hay una moneda de 400 wones.\n",
    "\n",
    "Si es así, escriba el resultado de cómo el algoritmo `coin_change()` determinará el cambio de la moneda de 800 wones."
   ]
  },
  {
   "cell_type": "code",
   "execution_count": 2,
   "metadata": {},
   "outputs": [],
   "source": [
    "def coin_change(coins, amount):\n",
    "    changes = []\n",
    "    largest = 0\n",
    "\n",
    "    while(amount > 0):\n",
    "        if amount < coins[largest]:\n",
    "            largest += 1\n",
    "        else:\n",
    "            changes.append(coins[largest])\n",
    "            amount -= coins[largest]\n",
    "    \n",
    "    return changes"
   ]
  },
  {
   "cell_type": "code",
   "execution_count": 4,
   "metadata": {},
   "outputs": [
    {
     "name": "stdout",
     "output_type": "stream",
     "text": [
      "Cantidad: 800\n",
      "[500, 100, 100, 100] 4\n"
     ]
    }
   ],
   "source": [
    "coins = [500, 400, 100, 50, 10]\n",
    "amount = int(input('Ingrese la cantidad:'))\n",
    "\n",
    "changes = coin_change(coins, amount)\n",
    "print('Cantidad:', amount)\n",
    "print(changes, len(changes))\n"
   ]
  },
  {
   "attachments": {},
   "cell_type": "markdown",
   "metadata": {},
   "source": [
    "Tomando como base el algoritmo redactado en la Unidad 30, si se tiene una moneda con una denominación de 400 wones, el código retornará 4 monedas: 1 de 500 y 3 de 100."
   ]
  },
  {
   "attachments": {},
   "cell_type": "markdown",
   "metadata": {},
   "source": [
    "## Quiz 2"
   ]
  },
  {
   "attachments": {},
   "cell_type": "markdown",
   "metadata": {},
   "source": [
    "Suponga que el número de monedas es en problema no es infinito. Por ejemplo, si tiene las siguiente monedas en su billetera, ¿Cómo debe distribuir 710 won como cambio?\n",
    "\n",
    "Billetera:\n",
    "\n",
    "```json\n",
    "{\n",
    "    500: 1,\n",
    "    100: 1,\n",
    "    50: 3,\n",
    "    10: 2\n",
    "}\n",
    "```\n",
    "\n",
    "Cambio:\n",
    "\n",
    "```json\n",
    "{\n",
    "    500: 1,\n",
    "    100: 1,\n",
    "    50: 2,\n",
    "    10: 1\n",
    "}\n",
    "```"
   ]
  },
  {
   "attachments": {},
   "cell_type": "markdown",
   "metadata": {},
   "source": [
    "Lo primero es comenzar con la moneda de mayor valor, en este caso 500 won. Se debe comparar si la cantidad a cambiar es menor que el valor de la moneda, en cuyo caso se pasa a la moneda de la siguiente denominación. Si la cantidad a cambiar es mayor o igual a la moneda actual, se resta la moneda de la billetera y se aumenta la cantidad de monedas en el cambio. Por último se debe repetir el proceso anterior hasta que el cambio sea de 0 o ya no haya monedas en la billetera.\n",
    "\n",
    "Como resultado en la billetera solo deben quedar las siguientes monedas:\n",
    "\n",
    "```json\n",
    "{\n",
    "    500: 0,\n",
    "    100: 0,\n",
    "    50: 1,\n",
    "    10: 1\n",
    "}\n",
    "```\n"
   ]
  }
 ],
 "metadata": {
  "kernelspec": {
   "display_name": "Python 3",
   "language": "python",
   "name": "python3"
  },
  "language_info": {
   "codemirror_mode": {
    "name": "ipython",
    "version": 3
   },
   "file_extension": ".py",
   "mimetype": "text/x-python",
   "name": "python",
   "nbconvert_exporter": "python",
   "pygments_lexer": "ipython3",
   "version": "3.11.2"
  },
  "orig_nbformat": 4
 },
 "nbformat": 4,
 "nbformat_minor": 2
}
