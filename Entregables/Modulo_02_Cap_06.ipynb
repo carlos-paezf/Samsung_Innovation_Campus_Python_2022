{
 "cells": [
  {
   "attachments": {},
   "cell_type": "markdown",
   "metadata": {},
   "source": [
    "# Módulo 2 - Capítulo 6"
   ]
  },
  {
   "attachments": {},
   "cell_type": "markdown",
   "metadata": {},
   "source": [
    "## Unidad 30"
   ]
  },
  {
   "attachments": {},
   "cell_type": "markdown",
   "metadata": {},
   "source": [
    "### Quiz 1"
   ]
  },
  {
   "attachments": {},
   "cell_type": "markdown",
   "metadata": {},
   "source": [
    "En el problema del intercambio de monedas, supongamos que hay una moneda de 400 wones.\n",
    "\n",
    "Si es así, escriba el resultado de cómo el algoritmo `coin_change()` determinará el cambio de la moneda de 800 wones."
   ]
  },
  {
   "cell_type": "code",
   "execution_count": 2,
   "metadata": {},
   "outputs": [],
   "source": [
    "def coin_change(coins, amount):\n",
    "    changes = []\n",
    "    largest = 0\n",
    "\n",
    "    while(amount > 0):\n",
    "        if amount < coins[largest]:\n",
    "            largest += 1\n",
    "        else:\n",
    "            changes.append(coins[largest])\n",
    "            amount -= coins[largest]\n",
    "    \n",
    "    return changes"
   ]
  },
  {
   "cell_type": "code",
   "execution_count": 4,
   "metadata": {},
   "outputs": [
    {
     "name": "stdout",
     "output_type": "stream",
     "text": [
      "Cantidad: 800\n",
      "[500, 100, 100, 100] 4\n"
     ]
    }
   ],
   "source": [
    "coins = [500, 400, 100, 50, 10]\n",
    "amount = int(input('Ingrese la cantidad:'))\n",
    "\n",
    "changes = coin_change(coins, amount)\n",
    "print('Cantidad:', amount)\n",
    "print(changes, len(changes))\n"
   ]
  },
  {
   "attachments": {},
   "cell_type": "markdown",
   "metadata": {},
   "source": [
    "Tomando como base el algoritmo redactado en la Unidad 30, si se tiene una moneda con una denominación de 400 wones, el código retornará 4 monedas: 1 de 500 y 3 de 100."
   ]
  },
  {
   "attachments": {},
   "cell_type": "markdown",
   "metadata": {},
   "source": [
    "### Quiz 2"
   ]
  },
  {
   "attachments": {},
   "cell_type": "markdown",
   "metadata": {},
   "source": [
    "Suponga que el número de monedas es en problema no es infinito. Por ejemplo, si tiene las siguiente monedas en su billetera, ¿Cómo debe distribuir 710 won como cambio?\n",
    "\n",
    "Billetera:\n",
    "\n",
    "```json\n",
    "{\n",
    "    500: 1,\n",
    "    100: 1,\n",
    "    50: 3,\n",
    "    10: 2\n",
    "}\n",
    "```\n",
    "\n",
    "Cambio:\n",
    "\n",
    "```json\n",
    "{\n",
    "    500: 1,\n",
    "    100: 1,\n",
    "    50: 2,\n",
    "    10: 1\n",
    "}\n",
    "```"
   ]
  },
  {
   "attachments": {},
   "cell_type": "markdown",
   "metadata": {},
   "source": [
    "Lo primero es comenzar con la moneda de mayor valor, en este caso 500 won. Se debe comparar si la cantidad a cambiar es menor que el valor de la moneda, en cuyo caso se pasa a la moneda de la siguiente denominación. Si la cantidad a cambiar es mayor o igual a la moneda actual, se resta la moneda de la billetera y se aumenta la cantidad de monedas en el cambio. Por último se debe repetir el proceso anterior hasta que el cambio sea de 0 o ya no haya monedas en la billetera.\n",
    "\n",
    "Como resultado en la billetera solo deben quedar las siguientes monedas:\n",
    "\n",
    "```json\n",
    "{\n",
    "    500: 0,\n",
    "    100: 0,\n",
    "    50: 1,\n",
    "    10: 1\n",
    "}\n",
    "```\n"
   ]
  },
  {
   "attachments": {},
   "cell_type": "markdown",
   "metadata": {},
   "source": [
    "### Quiz 3"
   ]
  },
  {
   "attachments": {},
   "cell_type": "markdown",
   "metadata": {},
   "source": [
    "Dada la cantidad de monedas y la cantidad de cambio, encuentre la cantidad mínima de monedas que puede devolver como cambio."
   ]
  },
  {
   "cell_type": "code",
   "execution_count": 5,
   "metadata": {},
   "outputs": [
    {
     "name": "stdout",
     "output_type": "stream",
     "text": [
      "{500: 1, 100: 1, 50: 2, 10: 1}\n"
     ]
    }
   ],
   "source": [
    "def coin_change(change, coins):\n",
    "    result = {}\n",
    "    coins_keys = sorted(coins.keys(), reverse=True)\n",
    "\n",
    "    for coin in coins_keys:\n",
    "        coins_counter = min(change // coin, coins[coin])\n",
    "        change -= coins_counter * coin\n",
    "        coins[coin] -= coins_counter\n",
    "\n",
    "        if coins_counter:\n",
    "            result[coin] = coins_counter\n",
    "\n",
    "    return result\n",
    "\n",
    "\n",
    "coins = {500: 1, 100: 1, 50: 3, 10: 2}\n",
    "change_amount = 710\n",
    "\n",
    "print(coin_change(change_amount, coins))"
   ]
  },
  {
   "attachments": {},
   "cell_type": "markdown",
   "metadata": {},
   "source": [
    "## Unidad 31"
   ]
  },
  {
   "attachments": {},
   "cell_type": "markdown",
   "metadata": {},
   "source": [
    "### Quiz 1"
   ]
  },
  {
   "attachments": {},
   "cell_type": "markdown",
   "metadata": {},
   "source": [
    "Supongamos que hay ocho monedas idénticas numeradas del 1 al 8. De estas, solo una moneda es más pesada que las otras. Si puede pesar las monedas en una balanza de dos brazos, diseñe un algoritmo para seleccionar la moneda más pesada.\n",
    "\n",
    "Al menos, ¿cuantás veces se debe usar la balanza para encontrar la moneda?"
   ]
  },
  {
   "cell_type": "code",
   "execution_count": 21,
   "metadata": {},
   "outputs": [],
   "source": [
    "counter = 0\n",
    "\n",
    "def find_heavy_coin(coins):\n",
    "    global counter\n",
    "    counter += 1\n",
    "    \n",
    "    if len(coins) == 1:\n",
    "        return coins[0]\n",
    "    \n",
    "    if len(coins) == 2:\n",
    "        return coins[0] if coins[0].get('weight') > coins[1].get('weight') else coins[1]\n",
    "    \n",
    "    left = coins[:len(coins) // 2]\n",
    "    right = coins[len(coins) // 2:]\n",
    "\n",
    "    left_weight = sum([coin.get('weight') for coin in left])\n",
    "    right_weight = sum([coin.get('weight') for coin in right])\n",
    "\n",
    "    if left_weight > right_weight:\n",
    "        return find_heavy_coin(left)\n",
    "    elif right_weight > left_weight:\n",
    "        return find_heavy_coin(right)\n",
    "    else:\n",
    "        return find_heavy_coin(coins[len(coins) // 2:])"
   ]
  },
  {
   "cell_type": "code",
   "execution_count": 18,
   "metadata": {},
   "outputs": [
    {
     "name": "stdout",
     "output_type": "stream",
     "text": [
      "Moneda más pesada: {'coin': 8, 'weight': 111}\n",
      "Cantidad de ejecuciones: 3\n"
     ]
    }
   ],
   "source": [
    "coins = [\n",
    "    {\"coin\": 1, \"weight\": 100}, \n",
    "    {\"coin\": 2, \"weight\": 100}, \n",
    "    {\"coin\": 3, \"weight\": 100}, \n",
    "    {\"coin\": 4, \"weight\": 100}, \n",
    "    {\"coin\": 5, \"weight\": 100}, \n",
    "    {\"coin\": 6, \"weight\": 100}, \n",
    "    {\"coin\": 7, \"weight\": 100}, \n",
    "    {\"coin\": 8, \"weight\": 111}\n",
    "]\n",
    "\n",
    "c = find_heavy_coin(coins)\n",
    "print(\"Moneda más pesada:\", c)\n",
    "print(\"Cantidad de ejecuciones:\", counter)"
   ]
  },
  {
   "attachments": {},
   "cell_type": "markdown",
   "metadata": {},
   "source": [
    "El algoritmo divide la lista de monedas en 2 grupos de tamaño silimar, para luego comparar sus pesos. Si uno de los grupos es más pesado, la moneda más pesada se encuentra en ese grupo, por lo que que hace una llamada recursiva a la función y analiza de nuevo los pesos. El algoritmo tiene una complejidad en el peor de los casos de `log2(n)`, en el que por para una entrada de 8 monedas obtenemos `log2(8)=3`"
   ]
  },
  {
   "attachments": {},
   "cell_type": "markdown",
   "metadata": {},
   "source": [
    "### Quiz 2"
   ]
  },
  {
   "attachments": {},
   "cell_type": "markdown",
   "metadata": {},
   "source": [
    "En la pregunta anterior, supongamos que hay nueve monedas idénticas numeradas del 1 al 9. En este caso, diseñe un algoritmo para seleccionar una moneda pesada. Al menos ¿cuántas veces se debe usar la balanza para sacar la moneda?"
   ]
  },
  {
   "cell_type": "code",
   "execution_count": 22,
   "metadata": {},
   "outputs": [
    {
     "name": "stdout",
     "output_type": "stream",
     "text": [
      "Moneda más pesada: {'coin': 8, 'weight': 111}\n",
      "Cantidad de ejecuciones: 4\n"
     ]
    }
   ],
   "source": [
    "coins = [\n",
    "    {\"coin\": 1, \"weight\": 100}, \n",
    "    {\"coin\": 2, \"weight\": 100}, \n",
    "    {\"coin\": 3, \"weight\": 100}, \n",
    "    {\"coin\": 4, \"weight\": 100}, \n",
    "    {\"coin\": 5, \"weight\": 100}, \n",
    "    {\"coin\": 6, \"weight\": 100}, \n",
    "    {\"coin\": 7, \"weight\": 100}, \n",
    "    {\"coin\": 8, \"weight\": 111},\n",
    "    {\"coin\": 9, \"weight\": 100},\n",
    "]\n",
    "\n",
    "c = find_heavy_coin(coins)\n",
    "print(\"Moneda más pesada:\", c)\n",
    "print(\"Cantidad de ejecuciones:\", counter)"
   ]
  }
 ],
 "metadata": {
  "kernelspec": {
   "display_name": "Python 3",
   "language": "python",
   "name": "python3"
  },
  "language_info": {
   "codemirror_mode": {
    "name": "ipython",
    "version": 3
   },
   "file_extension": ".py",
   "mimetype": "text/x-python",
   "name": "python",
   "nbconvert_exporter": "python",
   "pygments_lexer": "ipython3",
   "version": "3.11.2"
  },
  "orig_nbformat": 4
 },
 "nbformat": 4,
 "nbformat_minor": 2
}
