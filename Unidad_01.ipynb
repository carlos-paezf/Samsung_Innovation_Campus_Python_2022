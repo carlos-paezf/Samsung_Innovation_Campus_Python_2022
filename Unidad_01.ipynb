{
  "cells": [
    {
      "cell_type": "markdown",
      "id": "2e07f53c-3208-4275-a461-dc6fe7d4972d",
      "metadata": {
        "id": "2e07f53c-3208-4275-a461-dc6fe7d4972d"
      },
      "source": [
        "<div align=\"center\"><img src=\"https://ambg0231.github.io/unidad1/Intro.png\"  width= \"900px\" /></div>"
      ]
    },
    {
      "cell_type": "markdown",
      "id": "e9d027f5-f390-4615-b426-dbb7b3821f00",
      "metadata": {
        "id": "e9d027f5-f390-4615-b426-dbb7b3821f00"
      },
      "source": [
        "# **Capítulo 1. Conceptos básicos de programación e iniciando Python**\n",
        "\n",
        "Descripción del capítulo\n",
        "\n",
        "## Objetivos del capítulo\n",
        "\n",
        "Los estudiantes podrán configurar un ambiente de práctica para Python y aprender los fundamentos de programación. Los estudiantes se familiarizarán con los fundamentos de Python como entradas/salidas, tipos de datos, y variables. Adicionalmente, adquirirán habilidades para la resolución de problemas de codificación a través de varios operadores, condicionales y ciclos.\n",
        "\n",
        "## Contenido del capítulo\n",
        "\n",
        "* Unidad 1. Programación secuencial\n",
        "* Unidad 2. Planeación para la programación\n",
        "* Unidad 3. Fundamentos de tipos de datos numéricos y operaciones aritméticas\n",
        "* Unidad 4. Variables y entradas\n",
        "* Unidad 5. Operaciones lógicas y de comparación\n",
        "* Unidad 6. Sentencias condicionales-1: Condiciones y toma de decisiones\n",
        "* Unidad 7. Sentencias condicionales-2: Toma de decisiones en dos direcciones y aplicación de sentencias condicionales\n",
        "* Unidad 8. Bucle-1\n",
        "* Unidad 9. Bucle-2"
      ]
    },
    {
      "cell_type": "markdown",
      "id": "306461c9-81b8-43d5-a5ea-33ab35fa59ec",
      "metadata": {
        "tags": [],
        "id": "306461c9-81b8-43d5-a5ea-33ab35fa59ec"
      },
      "source": [
        "# Introducción a Python"
      ]
    },
    {
      "cell_type": "markdown",
      "id": "42d87127-1b82-4ca9-af6d-826da994f493",
      "metadata": {
        "id": "42d87127-1b82-4ca9-af6d-826da994f493"
      },
      "source": [
        "## Qué es Python\n",
        "\n",
        "| Python es un lenguaje de programación de alto nivel y es uno de los lenguajes de programación más populares en el mundo.\n",
        "\n",
        "| Python es un lenguaje de propósito general que es ampliamente aplicable a través de dominios de aplicaciones. Por lo cual Python es ampliamente utilizado para crear una variedad de diferentes programas. Se usa en todo, desde ciencia de datos, desarrollo web, automatización, hasta generalmente hacer cualquier tarea.\n",
        "\n",
        "| Debido a su versatilidad, python puede ser usado de igual forma por desarrolladores y no desarrolladores.\n",
        "\n",
        "<div align=\"center\"><img src=\"https://ambg0231.github.io/unidad1/LangRank.png\"  width= \"500px\" /></div>"
      ]
    },
    {
      "cell_type": "markdown",
      "id": "cf23aff8-8022-4748-ad5d-0a7a909a6e4c",
      "metadata": {
        "id": "cf23aff8-8022-4748-ad5d-0a7a909a6e4c"
      },
      "source": [
        "## ¿Porqué es Python tan popular?\n",
        "\n",
        "| Python es popular en campos educativos porque es fácil de leer, escribir y aprender.\n",
        "    \n",
        "* El código de Python puede ser <span style=\"color:blue\"> **escrito e interpretado de forma similar a el lenguaje humano de diario**</span>, por lo cual es legible y fácil de aprender para principiantes\n",
        "* Especialmente la sintaxis de Python es muy simple e intuitiva para escribir y entender, lo cual ayuda a los nuevos programadores a no perder tiempo con sintaxis confusas.\n",
        "\n",
        "<div align=\"center\"><img src=\"https://ambg0231.github.io/unidad1/PythonSyntax.png\"  width= \"800px\" /></div>"
      ]
    },
    {
      "cell_type": "markdown",
      "id": "b67cbadc-34f5-4763-b771-2080a2f95e0d",
      "metadata": {
        "id": "b67cbadc-34f5-4763-b771-2080a2f95e0d"
      },
      "source": [
        "## ¿Porqué es Python tan popular?\n",
        "\n",
        "| Python es igualmente amado por compañías y aplicaciones debido a su versatilidad.\n",
        "    \n",
        "* Python es querido no solo en campos educacionales sino también por <span style=\"color:blue\"> **muchos desarrolladores en espacios de trabajo profesionales**</span>. Grandes compañías incluyendo Google, Intel, eBay, Netflix, Instagram, Dropbox, y Slack, utilizan Python para el desarrollo y mantenimiento de aplicaciones.\n",
        "\n",
        "<table style='font-size:150%; width:100%'>\n",
        "  <tr>\n",
        "      <td><img style=\"float: left;\"<img src=\"https://ambg0231.github.io/unidad1/Companies.png\"  width= \"800px\" /></div></td>\n",
        "      <td>\n",
        "        <ul>\n",
        "            <li><span style=\"color:blue\"> <b>Google</b></span> usa desarollo de software en Python para potenciar las capacidades de su motor de búsqueda.</li>\n",
        "            <li><span style=\"color:blue\"> <b>Netflix</b></span> usa Python para recomendar películas, series, y documentales basado en la historia de uso del usuario.</li>\n",
        "            <li><span style=\"color:blue\"> <b>Instagram</b></span> usa Python para personalizar la sección buscar para los usuarios.</li>\n",
        "            <li><span style=\"color:blue\"> <b>Spotify</b></span> usa Python para recomendaciones personalizadas a sus usuarios.</li>\n",
        "            <li><span style=\"color:blue\"> <b>Reddit</b></span> usa Python para desarrollo web para simplificar la sección de preguntas y respuestas.</li>\n",
        "        </ul>\n",
        "      </td>\n",
        "  </tr>\n",
        "</table>"
      ]
    },
    {
      "cell_type": "markdown",
      "id": "122c5b61-a3f2-4b52-8bbd-730f55fdedfc",
      "metadata": {
        "id": "122c5b61-a3f2-4b52-8bbd-730f55fdedfc"
      },
      "source": [
        "## ¿Porqué es Python tan popular?\n",
        "\n",
        "| Muchas industrias usan Python dado que ofrece librerías open-source que contienen módulos integrados.\n",
        "    \n",
        "* Python incluye <span style=\"color:blue\"> **varias librerías**</span>, como Pandas, Numpy, Matplotlib, Tensorflow y Keras, que pueden ser usadas extensivamente en diferentes campos como web development, analítica de datos, e inteligencia artificial.\n",
        "\n",
        "<table style='font-size:175%; width:100%'>\n",
        "  <tr>\n",
        "      <td><img style=\"float: left;\"<img src=\"https://ambg0231.github.io/unidad1/Libraries.png\" width= \"850px\" /></div></td>\n",
        "      <td>\n",
        "        <ul>\n",
        "            <li><span style=\"color:blue\"> <b>Pandas</b></span> se usa para manipulación de datos y análisis, particularmente incluyendo operaciones con tablas numéricas y series de tiempo.</li>\n",
        "            <li><span style=\"color:blue\"> <b>Numpy</b></span> provee soporte para vectores y matrices grandes y multidimensionales, así como una colección de funciones matemáticas de alto nivel.</li>\n",
        "            <li><span style=\"color:blue\"> <b>Tensorflow</b></span> está basado en flujo de datos y programación diferencial, lo cual se enfoca en redes reuronales profundas para machine learning.</li>\n",
        "            <li><span style=\"color:blue\"> <b>Keras</b></span> Provee una interfaz para redes neuronales artificiales con un foco en hacer posible la experimentación.</li>\n",
        "        </ul>\n",
        "      </td>\n",
        "  </tr>\n",
        "</table>"
      ]
    },
    {
      "cell_type": "markdown",
      "id": "1094e27e-ad85-4852-8aec-ca038e230c7e",
      "metadata": {
        "id": "1094e27e-ad85-4852-8aec-ca038e230c7e"
      },
      "source": [
        "## ¿Porqué es Python tan popular?\n",
        "\n",
        "| Python es un lenguaje de programación clave que lidera la 4ta revolución industrial con tales librerías.\n",
        "    \n",
        "* La 4ta revolución industrial se enfoca en la automatización de tareas, comunicación mejorada, y la automonitoría de máquinas inteligentes. Especialmente, machine learning y deep learning han estado creciendo rápidamente a medida que <span style=\"color:blue\"> **florece la 4ta revolución industrial**</span>.\n",
        "* Como se mencionó en la celda anterior, Python soporta múltiples librerías que toman parte en machine learning y deep learning de la inteligencia artificial. Se ha venido desarrollando a la par del progreso de la 4ta revolución industrial, y juega un rol clave en potenciar su rápido crecimiento.\n",
        "\n",
        "| Las librerías de Python así como los frameworks permiten el desarrollo full stack en espacios de trabajo \n",
        "\n",
        "* Python también cuenta con diferentes tipos de frameworks como, Django, Flask, y FastAPI. Con la utilización de dichos frameworks y librerías, Python puede ser usado tanto en programación front-end como back-end. Ello permite <span style=\"color:blue\"> **full stack development, lo cual es preferido por muchas vacantes**</span> en industrias relacionadas. \n"
      ]
    },
    {
      "cell_type": "markdown",
      "id": "44268ebd-c473-4f12-8026-1d3f6ea22b7f",
      "metadata": {
        "id": "44268ebd-c473-4f12-8026-1d3f6ea22b7f"
      },
      "source": [
        "## ¿Para qué se usa Python?\n",
        "\n",
        "<div align=\"center\"><img src=\"https://ambg0231.github.io/unidad1/PythonUses.png\"  width= \"800px\" /></div>"
      ]
    },
    {
      "cell_type": "markdown",
      "id": "ed571834-3d90-483e-9b63-f31ae1e2a7e1",
      "metadata": {
        "id": "ed571834-3d90-483e-9b63-f31ae1e2a7e1"
      },
      "source": [
        "## ¿Cómo usar el curso C&P?\n",
        "\n",
        "<div align=\"center\"><img src=\"https://ambg0231.github.io/unidad1/C&P.png\"  width= \"800px\" /></div>\n",
        "\n",
        "| Este curso está diseñado para que los estudiantes puedan obtener unos fundamentos fuertes en Python. Siendo el núcleo del programa SIC, está modularizado para ser enlazado efectivamente a otros cursos del SIC: Inteligencia Artificial y IoT.\n",
        "\n",
        "| Al completar este curso, estará preparado para integrar una vacante de nivél básico que requiera habilidades en Python.\n",
        "\n",
        "\n",
        "\n"
      ]
    },
    {
      "cell_type": "markdown",
      "id": "580ca837-acef-4540-a5ed-af743af01f79",
      "metadata": {
        "id": "580ca837-acef-4540-a5ed-af743af01f79"
      },
      "source": [
        "## ¿Cómo usar el curso C&P?\n",
        "\n",
        "<div align=\"center\"><img src=\"https://ambg0231.github.io/unidad1/SICcourses.png\"  width= \"800px\" /></div>"
      ]
    },
    {
      "cell_type": "markdown",
      "id": "416037fe-6d4a-4acb-a62e-34a63b6b5331",
      "metadata": {
        "tags": [],
        "id": "416037fe-6d4a-4acb-a62e-34a63b6b5331"
      },
      "source": [
        "# **Unidad 1: Programación Secuencial**"
      ]
    },
    {
      "cell_type": "markdown",
      "id": "b4ad263d-ffd3-4e6a-9d92-4bf0328ee605",
      "metadata": {
        "id": "b4ad263d-ffd3-4e6a-9d92-4bf0328ee605"
      },
      "source": [
        "## Objetivos de Aprendizaje\n",
        "\n",
        "* Los estudiantes estarán en capacidad de explicar la definición y necesidad del pensamiento computacional\n",
        "* Los estudiantes estarán en capacidad de instalar los software necesarios para Python desde cero\n",
        "* Los estudiantes estarán en capacidad de configurar un nuevo ambiente virtual donde Python 3.x estará instalado y serán capaces de instalar diferentes versiones de Python\n",
        "* Los estudiantes estarán en capacidad de inferir la secuencia del código observando el resultado utilizando solamente la función print\n",
        "* Los estudiantes estarán en capacidad de distinguir entre errores de sintaxis y errores de ejecución"
      ]
    },
    {
      "cell_type": "markdown",
      "id": "4c63dd69-f314-4404-b2e4-93c5d55f6b86",
      "metadata": {
        "id": "4c63dd69-f314-4404-b2e4-93c5d55f6b86"
      },
      "source": [
        "## Resumen del Aprendizaje\n",
        "\n",
        "* Aprender la definición y necesidad del pensamiento computacional\n",
        "* Configurar el ambiente básico para Python instalando Anaconda\n",
        "* Entender la necesidad de un ambiente virtual, configurar, eliminar y operar el ambiente virtual dependiendo del uso\n",
        "* Aprender la Interfaz de Usuario y las instrucciones de uso de Jupyter Notebook\n",
        "* Practicar las características de la programación secuencial usando la función print\n",
        "* Aprender los conceptos principales de la forma Pythonica, tales como indentación, anotación, códigos legibles, palabras claves, y convenciones de notación de variables\n",
        "* Aprender a distinguir entre un error de sintaxis y un error de ejecución"
      ]
    },
    {
      "cell_type": "markdown",
      "id": "ff55556c-bea1-49e1-bb60-eeaf7aadd939",
      "metadata": {
        "id": "ff55556c-bea1-49e1-bb60-eeaf7aadd939"
      },
      "source": [
        "## Palabras Claves\n",
        "\n",
        "<div align=\"center\"><img src=\"https://ambg0231.github.io/unidad1/Keywords.png\"  width= \"800px\" /></div>"
      ]
    },
    {
      "cell_type": "markdown",
      "id": "fa2ee9e8-910f-4696-958c-1caf943f9f7e",
      "metadata": {
        "tags": [],
        "id": "fa2ee9e8-910f-4696-958c-1caf943f9f7e"
      },
      "source": [
        "## <FONT COLOR=\"blue\"> Misión </FONT>\n",
        "\n",
        "### <FONT COLOR=\"blue\">1. Problema del mundo real </FONT>\n"
      ]
    },
    {
      "cell_type": "markdown",
      "id": "50466b6e-9729-43e1-b054-3d516b962fee",
      "metadata": {
        "id": "50466b6e-9729-43e1-b054-3d516b962fee"
      },
      "source": [
        "\n",
        "#### **1.1. 47% de los trabajos van a desaparecer en los próximos 20 años debido a la innovación tecnológica.**\n",
        "\n",
        "<table style=\"width:100%\">\n",
        "  <tr>\n",
        "    <td><img style=\"float: left;\"<img src=\"https://ambg0231.github.io/unidad1/Revolutions.png\" width= \"1000px\" /></div></td>\n",
        "    <td><ul>\n",
        "  <li>Con el desarrollo rápido de la tecnología computacional y la inteligencia artificial, las capacidades profesionales en demanda en el mercado laboral están cambiando. De acuerdo a un estudio de la universidad de Oxford, se espera que alrededor del 47% de los trabajos sean reemplazados por máquinas o desaparezcan dentro de los próximos 20 años</li>\n",
        "  <li>Por lo tanto, los trabajos futuros dependerán más de la creatividad, la responsabilidad, y la habilidad de aprender a través de la experiencia, las cuales son habilidades únicas del ser humano</li>\n",
        "  <li>La Organización para la Cooperación y el Desarrollo Económico anunció 4 competencias base que se requieren para el talento humano del futuro</li>\n",
        "</ul></td>\n",
        "  </tr>\n",
        "</table>\n",
        "\n",
        "![image.png](attachment:ac2b4f1e-bd28-461f-8385-a6602ecb8f1d.png)\n",
        "\n"
      ]
    },
    {
      "cell_type": "markdown",
      "id": "0eddad43-125b-4390-b9c2-5ea31a959c83",
      "metadata": {
        "id": "0eddad43-125b-4390-b9c2-5ea31a959c83"
      },
      "source": [
        "### **1.2. Las 5Cs de habilidades del siglo 21.**\n",
        "\n",
        "![image.png](attachment:bd3708fe-26eb-438e-a50d-f852ee312f41.png)\n",
        "![image.png](attachment:fdbde6f1-054b-4cc4-a494-7845a4efc0b6.png)"
      ]
    },
    {
      "cell_type": "markdown",
      "id": "e7d703cb-97de-4b76-8f9f-9dc8326d0660",
      "metadata": {
        "id": "e7d703cb-97de-4b76-8f9f-9dc8326d0660"
      },
      "source": [
        "#### **1.3. ¿Cómo deberíamos prepararnos para el pensamiento computacional?**\n",
        "\n",
        "<table style=\"width:100%\">\n",
        "  <tr>\n",
        "    <td><img style=\"float: center;\"<img src=\"https://ambg0231.github.io/unidad1/CompThink.png\" width= \"500px\" /></div></td>\n",
        "    <td>\"El pensamiento computacional son los procesos de pensamiento envueltos en la formulación de problemas y su solución de tal manera que dichas soluciones estén representadas de tal forma que puedan ser efectivamente ejecutadas por un agente de procesamiento de información\"\n",
        "            -Curry Snyder, Wing, 2010\n",
        "    </td>\n",
        "  </tr>\n",
        "  <tr>\n",
        "      <td>\n",
        "        <ul>\n",
        "        <li>Con el desarrollo rápido de la tecnología computacional y la inteligencia artificial, las capacidades profesionales en demanda en el mercado laboral están cambiando. De acuerdo a un estudio de la universidad de Oxford, se espera que alrededor del 47% de los trabajos sean reemplazados por máquinas o desaparezcan dentro de los próximos 20 años</li>\n",
        "        <li>Por lo tanto, los trabajos futuros dependerán más de la creatividad, la responsabilidad, y la habilidad de aprender a través de la experiencia, las cuales son habilidades únicas del ser humano</li>\n",
        "        <li>La Organización para la Cooperación y el Desarrollo Económico anunció 4 competencias base que se requieren para el talento humano del futuro</li>\n",
        "        </ul>\n",
        "      </td>\n",
        "  </tr>\n",
        "</table>\n",
        "\n",
        "![image.png](attachment:dc575957-3138-4c5a-ab86-55ac7f282aa1.png)"
      ]
    },
    {
      "cell_type": "markdown",
      "id": "37572637-a057-4403-8a59-7222e226cd15",
      "metadata": {
        "tags": [],
        "id": "37572637-a057-4403-8a59-7222e226cd15"
      },
      "source": [
        "### <FONT COLOR=\"blue\"> 2. Solución </FONT>\n",
        "#### **2.1. Pensando como un computador**\n",
        "\n",
        "| De click en la imagen para ver el video\n",
        "[![YT_TED](https://ambg0231.github.io/unidad1/YT_TED.png)](https://youtu.be/1mLQFm3wEfw)\n",
        "\n",
        "\n",
        "<p>3 Formas de tomar mejores decisiones -- pensando como un computador|Tom Griffiths.</p>"
      ]
    },
    {
      "cell_type": "markdown",
      "id": "2bc61b8a-b758-4539-97c5-cfbafb9a2906",
      "metadata": {
        "id": "2bc61b8a-b758-4539-97c5-cfbafb9a2906"
      },
      "source": [
        "#### **2.2. Las 3 estructuras de programación**\n",
        "* | Para pensar y solucionar problemas como un científico computacional, necesitas entender los fundamentos de cómo funciona la programación.\n",
        "* | Mientras aprendes Python a través de este curso, aprenderás a mejorar la eficiencia minimizando tareas repetitivas, operando en secuencias y tomando decisiones en condiciones claras\n",
        "* | Tu primera tarea es usar la función print() para aprender estructuras secuenciales y hacer que un programa opere en orden\n",
        "\n",
        "![YT_TED](https://ambg0231.github.io/unidad1/FlowCharts.png)\n"
      ]
    },
    {
      "cell_type": "markdown",
      "id": "43b211c5-e22a-4808-8162-5db2d96eba46",
      "metadata": {
        "id": "43b211c5-e22a-4808-8162-5db2d96eba46"
      },
      "source": [
        "### <FONT COLOR=\"blue\"> 3. Misión </FONT>\n",
        "#### **3.1 Crear un programa que imprima tu hoja de vida**\n",
        "\n",
        "Este video muestra el resultado final que usted producirá a partir de esta unidad. Revise el programa y encuentre los conceptos y conocimientos que puede usar y debería aprender, y piense cómo hacer un plan para crearlo.\n",
        "\n",
        "| De click en la imagen para ver el video\n",
        "[![YT_TED](https://images.vexels.com/media/users/3/157679/isolated/lists/8d24929b0ebd57e691ea9db331e1c1fa-youtube-play-button-logo.png)](https://www.youtube.com/watch?v=SnXLQDjjEQ8)"
      ]
    },
    {
      "cell_type": "markdown",
      "id": "582304a2-56fd-4d6b-824e-944ee7f9e030",
      "metadata": {
        "id": "582304a2-56fd-4d6b-824e-944ee7f9e030"
      },
      "source": [
        "#### **3.2. Program planning**\n",
        "\n",
        "<table style='font-family:\"Courier New\", Courier, monospace; font-size:175%; width:100%'>\n",
        "  <tr size=48>\n",
        "    <th>Pseudocode</th>\n",
        "    <th>Flowchart</th>\n",
        "  </tr> \n",
        "  <tr>\n",
        "    <td><img style=\"float: left;\"<img src=\"https://ambg0231.github.io/unidad1/PseudocodePrint.png\" width= \"800px\" /></div></td>\n",
        "    <td><img style=\"float: left;\"<img src=\"https://ambg0231.github.io/unidad1/FlowchartPrint.png\" width= \"700px\" /></div></td>\n",
        "  </tr>\n",
        "</table>"
      ]
    },
    {
      "cell_type": "markdown",
      "id": "4fb871a7-7405-4c3e-b58c-2f0ed2213c2e",
      "metadata": {
        "id": "4fb871a7-7405-4c3e-b58c-2f0ed2213c2e"
      },
      "source": [
        "#### **3.3. Códigos finales para el programa de hoja de vida**\n",
        "\n",
        "| Aquí está el código final para el programa que usted creará en esta unidad, sin embargo, este código no se presenta para que usted simplemente lo copie"
      ]
    },
    {
      "cell_type": "markdown",
      "id": "8e1c907f-64a1-4c0b-a26a-05a556636358",
      "metadata": {
        "id": "8e1c907f-64a1-4c0b-a26a-05a556636358"
      },
      "source": [
        "| Es para motivarlo a que se imagine los procesos necesarios a partir de conocer el resultado final"
      ]
    },
    {
      "cell_type": "code",
      "execution_count": null,
      "id": "8d87abc4-0161-4682-b9a7-a63174078c5b",
      "metadata": {
        "id": "8d87abc4-0161-4682-b9a7-a63174078c5b",
        "outputId": "67a36ac6-df1e-48db-c910-1d86af7c508b"
      },
      "outputs": [
        {
          "name": "stdout",
          "output_type": "stream",
          "text": [
            "Hola mundo, me presento.\n",
            "Nombre: Pedro Perez.\n",
            "Edad: 23.\n",
            "Ocupación: Científico de datos.\n",
            "Dirección: Bogotá, Colombia.\n",
            "Lugar de nacimiento: Cali, Colombia.\n"
          ]
        }
      ],
      "source": [
        "print('Hola mundo, me presento.')\n",
        "print('Nombre: Pedro Perez.')\n",
        "print('Edad: 23.')\n",
        "print('Ocupación: Científico de datos.')\n",
        "print('Dirección: Bogotá, Colombia.')\n",
        "print('Lugar de nacimiento: Cali, Colombia.')"
      ]
    },
    {
      "cell_type": "markdown",
      "id": "ab668e09-736f-4f92-bd22-3e7c11c9086f",
      "metadata": {
        "id": "ab668e09-736f-4f92-bd22-3e7c11c9086f"
      },
      "source": [
        "## <FONT COLOR=\"blue\"> Concepto Clave </FONT>\n",
        "### <FONT COLOR=\"blue\"> 1. Secuencia </FONT>\n",
        "#### **1.1. Definición e importancia de la secuencia**\n",
        "\n",
        "| La secuencia es el orden en el que el computador ejecuta sus códigos\n",
        "\n",
        "| Como el computador es muy rápido, podría parecer que los códigos se ejecutan simultáneamente, pero en realidad el computador procesa los comandos en secuencia\n",
        "\n",
        "| Naturalmente aún con los mismos comandos, si el orden cambia, se produce un resultado completamente diferente\n",
        "\n",
        "| Cuando se escribe código en Python, la prioridad y el propósito de los comandos se debe considerar antes de decidir su orden"
      ]
    },
    {
      "cell_type": "markdown",
      "id": "9b02980f-c836-467e-b28b-8bbc876444ba",
      "metadata": {
        "id": "9b02980f-c836-467e-b28b-8bbc876444ba"
      },
      "source": [
        "<div align=\"center\"><img src=\"https://ambg0231.github.io/unidad1/SequenceExp.png\"  width= \"800px\" /></div>"
      ]
    },
    {
      "cell_type": "markdown",
      "id": "79e9c02c-5eeb-4b01-9fc3-31e343871096",
      "metadata": {
        "id": "79e9c02c-5eeb-4b01-9fc3-31e343871096"
      },
      "source": [
        "### <FONT COLOR=\"blue\"> 2. Terminología básica </FONT>\n",
        "#### **2.1. Usando el glosario**\n",
        "\n",
        "Un glosario se provee como una herramienta de apoyo al aprendizaje. Si un nuevo termino aparece, es importante anotarlo y revisar su definición\n",
        "\n",
        "También se recomienda un tutorial en el sitio oficial de Python\n",
        "\n",
        "![Sequence](https://ambg0231.github.io/unidad1/PythonDoc.png)"
      ]
    },
    {
      "cell_type": "markdown",
      "id": "f50733c4-c8f0-426d-acab-afdd11b95f9a",
      "metadata": {
        "id": "f50733c4-c8f0-426d-acab-afdd11b95f9a"
      },
      "source": [
        "#### **2.2. Expresión, Declaración, Programa**\n",
        "\n",
        "| Una expresión es un código simple que produce valores como por ejemplo números, fórmulas y cadenas de texto. Una declaración se compone de más de una expresión, y un programa se compone de más de una declaración\n",
        "\n",
        "![ExpToProg](https://ambg0231.github.io/unidad1/ExpToProgram.png)"
      ]
    },
    {
      "cell_type": "markdown",
      "id": "97db644f-5e94-40eb-b2df-db7dea6e0b1c",
      "metadata": {
        "id": "97db644f-5e94-40eb-b2df-db7dea6e0b1c"
      },
      "source": [
        "#### **2.3. Anotación**\n",
        "\n",
        "| Una anotación es una sentencia utilizada para describir la función del código en el programa. El compilador omite la ejecución de la anotación.\n",
        "\n",
        "| Las anotaciones son muy importantes en la programación. Cuando otros modifican tu código, las anotaciones les ayudan a otros programadores a entender tu código. Para el caso de códigos complejos, los comentarios también son útiles para futuras referencias.\n",
        "\n",
        "| Hay dos formas principales de agregar anotaciones en Python. Primero, veamos cómo hacer anotaciones simples\n",
        "\n",
        "| Agregando el símbolo # al comienzo de una frase convierte la línea en una anotación. No has aprendido el código de abajo aún, pero leer los comentarios te ayudará a entenderlos."
      ]
    },
    {
      "cell_type": "code",
      "execution_count": null,
      "id": "cc47acf3-f1ee-43a6-ad01-74608833c076",
      "metadata": {
        "id": "cc47acf3-f1ee-43a6-ad01-74608833c076",
        "outputId": "9da8a7e7-67c7-429c-a67b-16a87f23915c"
      },
      "outputs": [
        {
          "name": "stdout",
          "output_type": "stream",
          "text": [
            "Radio 4.0\n",
            "Area 50.24\n",
            "Circunferencia 25.12\n"
          ]
        }
      ],
      "source": [
        "# defina la variable como un radio\n",
        "radio = 4.0\n",
        "\n",
        "# imprima el radio, área, y la circunferencia del curso\n",
        "print('Radio', radio)\n",
        "print('Area', 3.14 * radio * radio)         #Aplique la formula para calcular el área de un circulo\n",
        "print('Circunferencia', 2.0 * 3.14 * radio) #Aplique la formula para calcular el circunferencia de un circulo"
      ]
    },
    {
      "cell_type": "markdown",
      "id": "adfb0ed4-55c5-4fc5-be8f-b0903891e563",
      "metadata": {
        "id": "adfb0ed4-55c5-4fc5-be8f-b0903891e563"
      },
      "source": [
        "| Para crear anotaciones de múltiples líneas, agregue tres comillas antes y después las líneas inicial y final.\n",
        "\n",
        "| Para líneas \"' ~~ '\" o \"\"\" ~~ \"\"\", las porciones ~~ no se ejecutan  "
      ]
    },
    {
      "cell_type": "code",
      "execution_count": null,
      "id": "2ffb1fc8-b0d7-495c-a361-9697da81cafb",
      "metadata": {
        "id": "2ffb1fc8-b0d7-495c-a361-9697da81cafb",
        "outputId": "755d1efc-1bfc-4906-a713-3e1273133bb7"
      },
      "outputs": [
        {
          "data": {
            "text/plain": [
              "'\\nPuedes crear anotaciones de múltiples líneas usando comillas dobles.\\n\\nTe permite hacer commentarios de múltiples líneas.\\n'"
            ]
          },
          "execution_count": 1,
          "metadata": {},
          "output_type": "execute_result"
        }
      ],
      "source": [
        "'''\n",
        "Puedes crear anotaciones de múltiples líneas usando comillas dobles.\n",
        "\n",
        "Te permite hacer commentarios de múltiples líneas.\n",
        "'''"
      ]
    },
    {
      "cell_type": "code",
      "execution_count": null,
      "id": "6e53b8a2-caea-490d-899c-55f7adc7404b",
      "metadata": {
        "id": "6e53b8a2-caea-490d-899c-55f7adc7404b",
        "outputId": "67e25080-30ee-446b-fc6f-735fdac4295b"
      },
      "outputs": [
        {
          "data": {
            "text/plain": [
              "'\\nTe permite hacer commentarios de múltiples líneas.\\n\\nTe permite hacer commentarios de múltiples líneas.\\n'"
            ]
          },
          "execution_count": 9,
          "metadata": {},
          "output_type": "execute_result"
        }
      ],
      "source": [
        "\"\"\"\n",
        "Te permite hacer commentarios de múltiples líneas.\n",
        "\n",
        "Te permite hacer commentarios de múltiples líneas.\n",
        "\"\"\""
      ]
    },
    {
      "cell_type": "markdown",
      "id": "5b35cb77-a382-4348-ba20-a205a276246c",
      "metadata": {
        "id": "5b35cb77-a382-4348-ba20-a205a276246c"
      },
      "source": [
        "#### **2.4. Palabras reservadas**\n",
        "\n",
        "| Una palabra reservada para ejecutar un rol predeterminado es llamada palabra clave o palabra reservada\n",
        "\n",
        "| Dado que las palabras claves solo pueden ejecutar el rol predeterminado en Python, no pueden ser usadas como identificadores tales como nombres de variables y nombres de clases. Si dicha palabra es usada como identificador, el rol se traslapará con el comando y no podrá ejecutarse.\n",
        "\n",
        "![ReservedWords](https://ambg0231.github.io/unidad1/ReservedWds.png)"
      ]
    },
    {
      "cell_type": "markdown",
      "id": "f727301b-9ed9-44bb-b556-6288397c4692",
      "metadata": {
        "id": "f727301b-9ed9-44bb-b556-6288397c4692"
      },
      "source": [
        "## <FONT COLOR=\"blue\"> Codificación en papel </FONT>\n",
        "\n",
        "<table style=\"font-size:24px\">\n",
        "  <tr>\n",
        "    <td>\n",
        "        Trate de entender completamente los conceptos básicos antes de moverse al siguiente paso.\n",
        "    </td>\n",
        "  </tr>\n",
        "  <tr>\n",
        "    <td>\n",
        "        La falta de entendimiento de los conceptos básicos incrementará su carga en el aprendizaje de este curso, lo que puede hacer que lo repruebe.\n",
        "    </td>\n",
        "  </tr>\n",
        "  <tr>\n",
        "    <td>\n",
        "        Puede que sea difícil ahora, pero para completar con éxito este curso le sugerimos entender completamente los conceptos y luego pasar a el siguiente paso.\n",
        "    </td>\n",
        "  </tr>\n",
        "</table>"
      ]
    },
    {
      "cell_type": "markdown",
      "id": "8ed7e041-592a-499d-8a57-ba1ca7cea25a",
      "metadata": {
        "id": "8ed7e041-592a-499d-8a57-ba1ca7cea25a"
      },
      "source": [
        "\n",
        "<table style='font-size:175%; width:100%'>\n",
        "  <tr>\n",
        "    <td colspan=\"2\"> Los códigos de Python se ejecutan en secuencia. Cree la imagen de la tabla de 3x3 de abajo. Empezando por el primer cuadro, cada cuadro se colorea de acuerdo con los comandos que se muestran abajo. El de abajo es uno de los múltiples algoritmos posibles para realizar esto.</td>\n",
        "  </tr>\n",
        "  <tr>\n",
        "      <td><img style=\"float: left;\"<img src=\"https://ambg0231.github.io/unidad1/Chessboard.png\" width= \"400px\" /></div></td>\n",
        "      <td>\n",
        "        Moverse a la derecha,<br>\n",
        "        Colorear el recuadro,<br>\n",
        "        Moverse a la derecha,<br>\n",
        "        Moverse hacia abajo,<br>\n",
        "        Colorear el recuadro,<br>\n",
        "        Moverse a la izquierda,<br>\n",
        "        Moverse a la izquierda,<br>\n",
        "        Colorear el recuadro,<br>\n",
        "        Moverse hacia abajo,<br>\n",
        "        Moverse a la derecha,<br>\n",
        "        Colorear el recuadro,<br>\n",
        "        Moverse a la derecha\n",
        "      </td>\n",
        "  </tr>\n",
        "</table>\n",
        "\n",
        "<p style=\"font-size:18px\">Escriba el código completo y el resultado esperado en una nota</p>"
      ]
    },
    {
      "cell_type": "markdown",
      "id": "b36e59e2-f50b-4366-a4ab-f46e52c57b58",
      "metadata": {
        "id": "b36e59e2-f50b-4366-a4ab-f46e52c57b58"
      },
      "source": [
        "## <FONT COLOR=\"blue\"> Vamos a codificar </FONT>\n",
        "### <FONT COLOR=\"blue\"> 1. Configuración </FONT>\n",
        "#### **1.1. Instalación de Anaconda**\n"
      ]
    },
    {
      "cell_type": "markdown",
      "id": "16dbcf5f-d1d0-4e72-a522-836deb90e03b",
      "metadata": {
        "id": "16dbcf5f-d1d0-4e72-a522-836deb90e03b"
      },
      "source": [
        "| Configuraremos el espacio de trabajo usando Anaconda. Si este paso se considera innecesario el instructor podrá decidir saltar a la siguiente sección. (Aunque empiece con la configuración del ambiente virtual, la lección se debe enseñar en orden)\n",
        "\n",
        "| Primero diríjase al sitio web de Anaconda (www.anaconda.com) y descargue la edición individual de Anaconda. Seleccione un instalador compatible con su sistema operativo (Windows, MacOS, Linux).  (En esta lección se provee un ejemplo con el sistema Windows)\n",
        "\n",
        "![AnacondaInstall](https://ambg0231.github.io/unidad1/AnacondaInstall.png)"
      ]
    },
    {
      "cell_type": "markdown",
      "id": "dfa820a3-65f8-40ce-b6ab-378c0a2b2a6f",
      "metadata": {
        "id": "dfa820a3-65f8-40ce-b6ab-378c0a2b2a6f"
      },
      "source": [
        "\n",
        "\n",
        "| Después de descargar y ejecutar el archivo de instalación de Anaconda, siga el procedimiento de abajo para instalar el programa.\n",
        "\n",
        "![AnacondaInstall](https://ambg0231.github.io/unidad1/AnacondaInstall2.png)"
      ]
    },
    {
      "cell_type": "markdown",
      "id": "cae54e51-6666-4edb-8e7b-e69203f5c302",
      "metadata": {
        "id": "cae54e51-6666-4edb-8e7b-e69203f5c302"
      },
      "source": [
        "\n",
        "\n",
        "| Al momento de instalar Anaconda, el nombre de usuario del computador debe estar en Inglés. De lo contrario el programa no se instalará.\n",
        "\n",
        "| Si otra versión del programa Python fue instalada anteriormente por separado, se traslapará con Python.exe de Anaconda. Diríjase a Advanced Options y deseleccione \"Add Anaconda3 to my PATH environment variable\". En tal caso podrá ejecutar el programa haciendo click en \"Anaconda Prompt\" en el menú inicio\n",
        "\n",
        "![AnacondaInstall](https://ambg0231.github.io/unidad1/AnacondaInstall3.png)"
      ]
    },
    {
      "cell_type": "markdown",
      "id": "bda9c744-ba85-4bca-add4-939db93e3a77",
      "metadata": {
        "id": "bda9c744-ba85-4bca-add4-939db93e3a77"
      },
      "source": [
        "#### **1.2. Instalación de Jupyter Notebook**\n",
        "\n",
        "| Una vez instalado Anaconda, instalemos Jupyter Notebook. Primero, busquemos e iniciemos el programa Anaconda Navigator en el menú de inicio de Windows\n",
        "\n",
        "![AnacondaInstall](https://ambg0231.github.io/unidad1/AnacondaOpen.png)"
      ]
    },
    {
      "cell_type": "markdown",
      "id": "8885783e-e4af-404a-95f5-613d28019ff3",
      "metadata": {
        "id": "8885783e-e4af-404a-95f5-613d28019ff3"
      },
      "source": [
        "| Como se muestra abajo en Anaconda Navigator, hacer click en el botón de instalación de Jupyter Notebook y complete la instalación\n",
        "\n",
        "\n",
        "![AnacondaInstall](https://ambg0231.github.io/unidad1/JupyterInstall.png)"
      ]
    },
    {
      "cell_type": "markdown",
      "id": "6828821d-a082-4e6d-8f76-8487f60e3ce5",
      "metadata": {
        "id": "6828821d-a082-4e6d-8f76-8487f60e3ce5"
      },
      "source": [
        "### <FONT COLOR=\"blue\">2. Configuración del ambiente virtual</FONT>\n",
        "#### **2.1. Definición y necesidad del ambiente virtual**\n",
        "\n",
        "| Al programar en Python, lo más probable es que utilice librerías externas. Si corre múltiples proyectos que usan paquetes y librerías externas, o si se trata de un nuevo proyecto, puede que tenga que actualizar a la versión más reciente de Python o utilizar un tipo/versión diferente del paquete. In tal caso, la gestión de los paquetes externos o el control de versiones se vuelve difícil y pueden aparecer problemas de compatibilidad entre versiones.\n",
        "\n",
        "| Por esta razón, aprenderemos como crear un ambiente virtual. Los ambientes virtuales de Python son una herramienta que crea espacios independientes para gestionar proyectos, sus módulos y versiones. En otras palabras, crea varios espacios de trabajo en un servidor/computador.\n",
        "\n",
        "| Por ejemplo, en el ambiente virtual llamado \"Data Science\" en la izquierda de la imagen, usted puede usar Python 3.7. En el espacio \"Python work\" a la derecha, usted puede usar Python 3.8 y pandas como si estuviera usando dos computadores.\n",
        "\n",
        "\n",
        "![Workspaces](https://ambg0231.github.io/unidad1/Workspaces.png)"
      ]
    },
    {
      "cell_type": "markdown",
      "id": "d26c78cc-3a65-41b6-8f02-b70614039e65",
      "metadata": {
        "id": "d26c78cc-3a65-41b6-8f02-b70614039e65"
      },
      "source": [
        "### **2.2. Creación de un nuevo ambiente virtual**\n",
        "\n",
        "| Para crear un ambiente virtual, corra Anaconda Prompt desde el menú de inicio de Windows\n",
        "\n",
        "| Ingrese el comando \"concrete-n python_work python=3.8\" en la ventana de Anaconda Prompt para crear un espacio de trabajo adaptado para Python 3.8. Usted puede configurar el nombre de dicho espacio de trabajo\n",
        "\n",
        "![Create.png](https://ambg0231.github.io/unidad1/CreateEnv.png)\n",
        "\n",
        "| Cuando aparezca el mensaje \"Proceed ([Y]/n) como se muestra en la imagen abajo, ingrese Y para proceder.\n",
        "\n",
        "![Proceed.png](https://ambg0231.github.io/unidad1/Proceed.png)"
      ]
    },
    {
      "cell_type": "markdown",
      "id": "6bd034dc-9bd6-4983-b8d1-9adaf740a239",
      "metadata": {
        "id": "6bd034dc-9bd6-4983-b8d1-9adaf740a239"
      },
      "source": [
        "\n",
        "\n",
        "| Para crear un ambiente virtual, corra Anaconda Prompt desde el menú de inicio de Windows\n",
        "\n",
        "| Ingrese el comando \"concrete-n data_science python=3.7\" en la ventana de Anaconda Prompt para crear un espacio de trabajo adaptado para Python 3.7. El nombre de dicho espacio de trabajo es \"data science\".\n",
        "\n",
        "![Create.png](https://ambg0231.github.io/unidad1/CreateEnv37.png)\n",
        "\n",
        "| Cuando aparezca el mensaje \"Proceed ([Y]/n) como se muestra en la imagen abajo, ingrese Y para proceder.\n",
        "\n",
        "![Proceed.png](https://ambg0231.github.io/unidad1/Proceed.png)"
      ]
    },
    {
      "cell_type": "markdown",
      "id": "ec4daa37-5b24-4bd9-b899-70320a9dc3e3",
      "metadata": {
        "id": "ec4daa37-5b24-4bd9-b899-70320a9dc3e3"
      },
      "source": [
        "#### **2.3. Comandos de Anaconda para gestionar el ambiente virtual**\n",
        "\n",
        "| Los siguientes comandos para el ambiente virtual pueden ser usados en Anaconda Prompt. Los ambientes virtuales pueden ser creados, activados, y desactivados con los siguientes comandos.\n",
        "\n",
        "![CommandsEnv](https://ambg0231.github.io/unidad1/CommandsEnv.png)"
      ]
    },
    {
      "cell_type": "markdown",
      "id": "b9e40690-3267-452b-bf8c-857445258aa5",
      "metadata": {
        "id": "b9e40690-3267-452b-bf8c-857445258aa5"
      },
      "source": [
        "| Ingresando el comando \"condaenvlist\" en Anaconda Prompt le mostrará la lista de ambientes virtuales de Python. El valor predeterminado es (Base), y los ambientes virtuales que creo anteriormente, \"data_science\" y \"Python_work\" aparecerán.\n",
        "\n",
        "![CommandsEnv](https://ambg0231.github.io/unidad1/EnvList.png)"
      ]
    },
    {
      "cell_type": "markdown",
      "id": "6e13aff7-5ed9-4d79-b5e2-7901432f2255",
      "metadata": {
        "id": "6e13aff7-5ed9-4d79-b5e2-7901432f2255"
      },
      "source": [
        "| Puede moverse a un nuevo espacio de trabajo usando el comando \"conda activate data_science\". El mensaje (Base) cambiará a (data science) e informará el nuevo espacio de trabajo\n",
        "\n",
        "![CommandsEnv](https://ambg0231.github.io/unidad1/MoveWorkspace1.png)\n",
        "\n",
        "| Intente moverse a \"Python_work\", un espacio de trabajo diferente usando \"conda activate python_work\"\n",
        "\n",
        "![CommandsEnv](https://ambg0231.github.io/unidad1/MoveWorkspace2.png)"
      ]
    },
    {
      "cell_type": "markdown",
      "id": "b254e27b-fc80-4ca3-b04b-e2ae98fdb750",
      "metadata": {
        "id": "b254e27b-fc80-4ca3-b04b-e2ae98fdb750"
      },
      "source": [
        "### <FONT COLOR=\"blue\"> 3. Cómo usar Jupyter Notebook </FONT>\n",
        "#### **3.1. Abrir Jupyter Notebook**\n",
        "\n",
        "| Existen tres formas principales de abrir Jupyter Notebook. Primero, vaya al menú de inicio de Windows, y busque Jupyter Notebook.\n",
        "\n",
        "![CommandsEnv](https://ambg0231.github.io/unidad1/OpenJupyter.png)"
      ]
    },
    {
      "cell_type": "markdown",
      "id": "1e00472f-19a4-45e1-8ad6-d388e9323303",
      "metadata": {
        "id": "1e00472f-19a4-45e1-8ad6-d388e9323303"
      },
      "source": [
        "\n",
        "\n",
        "| Segundo, seleccione Jupyter Notebook en Anaconda Navigator y de click en el botón Launch.\n",
        "\n",
        "![CommandsEnv](https://ambg0231.github.io/unidad1/OpenJupyter2.png)"
      ]
    },
    {
      "cell_type": "markdown",
      "id": "6a764299-ee1f-4c34-b6df-257cc6918a99",
      "metadata": {
        "id": "6a764299-ee1f-4c34-b6df-257cc6918a99"
      },
      "source": [
        "\n",
        "| Tercero, ingrese el comando jupyter notebook en Anaconda Prompt.\n",
        "\n",
        "![CommandsEnv](https://ambg0231.github.io/unidad1/OpenJupyter3.png)"
      ]
    },
    {
      "cell_type": "markdown",
      "id": "46988961-6e6e-4aa6-9138-dbff3604abcb",
      "metadata": {
        "id": "46988961-6e6e-4aa6-9138-dbff3604abcb"
      },
      "source": [
        "#### **3.2. Interfaz de usuario de Jupyter Notebook**\n",
        "\n",
        "| Se le abrirá la ventana de abajo cuando abra Jupyter Notebook.\n",
        "\n",
        "![CommandsEnv](https://ambg0231.github.io/unidad1/JupyterNav.png)"
      ]
    },
    {
      "cell_type": "markdown",
      "id": "03084eee-a3dc-4d89-9732-4a0e0d98f9fd",
      "metadata": {
        "id": "03084eee-a3dc-4d89-9732-4a0e0d98f9fd"
      },
      "source": [
        "| Presione el botón New en la parte superior derecha para que se abra un menú desplegable. De click en Folder para crear una nueva carpeta. Cuando se crea una nueva carpeta, de click en el cuadro de chequeo al lado. Luego puede modificar el nombre, mover, o eliminar dicha carpeta. Intente cambiar el nombre de la carpeta a Python\n",
        "\n",
        "![CommandsEnv](https://ambg0231.github.io/unidad1/JupyterNew.png)"
      ]
    },
    {
      "cell_type": "markdown",
      "id": "58080724-7122-41f4-9737-f0ad6e9856d7",
      "metadata": {
        "id": "58080724-7122-41f4-9737-f0ad6e9856d7"
      },
      "source": [
        "\n",
        "| Entre a la carpeta creada y de click en el botón New nuevamente. De click en Python 3 para crear un nuevo archivo ipynb. ipynb representa IPython Notebook, y IPython es un ambiente interactivo de trabajo\n",
        "\n",
        "![CommandsEnv](https://ambg0231.github.io/unidad1/JupyterNew2.png)"
      ]
    },
    {
      "cell_type": "markdown",
      "id": "cf1953ca-458a-4715-8269-5650c24b63b7",
      "metadata": {
        "id": "cf1953ca-458a-4715-8269-5650c24b63b7"
      },
      "source": [
        "\n",
        "\n",
        "| Aparecerá un ícono verde cuando el archivo ipynb esté corriendo. Para detenerlo, usted podrá 1) dar click en el cuadro de chequeo y  luego click en el botón Shutdown en la parte de abajo de la pestaña Files, o 2) dar click en el botón Shutdown en la parte inferior de la pestaña Running. La pestaña Running le muestra los archivos que están corriendo actualmente.\n",
        "\n",
        "![CommandsEnv](https://ambg0231.github.io/unidad1/Shutdwn.png)"
      ]
    },
    {
      "cell_type": "markdown",
      "id": "c07b3539-2676-435a-a1c9-b918a1206fb4",
      "metadata": {
        "id": "c07b3539-2676-435a-a1c9-b918a1206fb4"
      },
      "source": [
        "\n",
        "\n",
        "| Cuando da click en Shutdown, el ícono al lado del archivo se vuelve gris. La pestaña Running le mostrará \"There are no notebooks running\", no hay notebooks corriendo. \n",
        "\n",
        "| Cuando termine de correr el archivo, puede cambiarle el nombre, moverlo o descargarlo desde la pestaña Files.\n",
        "\n",
        "![CommandsEnv](https://ambg0231.github.io/unidad1/AfterShtdwn.png)"
      ]
    },
    {
      "cell_type": "markdown",
      "id": "62b5b36e-9c1d-4a89-9c73-11a134be2aaf",
      "metadata": {
        "id": "62b5b36e-9c1d-4a89-9c73-11a134be2aaf"
      },
      "source": [
        "\n",
        "| Cuando da click en el archivo ipybn llamado \"Untitled\", entrará en una pantalla donde podrá empezar a codificar. Escriba un código en la ventana de ingreso al lado de \"ln[]:\" y de click en el botón Run para ejecutar el código. Esta ventana de ingreso es llamada celda, y puede usar la pestaña Edit para copiar, pegar, unir o mover celdas.\n",
        "\n",
        "| Para activar el número de línea de la celda, de click en \"Toggle Line Number\" en la pestaña View.\n",
        "\n",
        "![CommandsEnv](https://ambg0231.github.io/unidad1/Firstcell.png)"
      ]
    },
    {
      "cell_type": "markdown",
      "id": "2c074cd1-5960-4710-8b25-11779008f705",
      "metadata": {
        "id": "2c074cd1-5960-4710-8b25-11779008f705"
      },
      "source": [
        "### <FONT COLOR=\"blue\"> 4. La función print() </FONT>\n",
        "#### **4.1. Las bases**\n",
        "\n",
        "![Image](https://ambg0231.github.io/unidad1/PrintCommand.png)"
      ]
    },
    {
      "cell_type": "markdown",
      "id": "a92c77c5-4953-4cdb-b258-9e8298388d2c",
      "metadata": {
        "id": "a92c77c5-4953-4cdb-b258-9e8298388d2c"
      },
      "source": [
        "#### **4.2. Imprimiendo strings y valores**\n",
        "\n",
        "| Para imprimir un string usando la función print(), usted debe encerrar ambos lados del string con comillas."
      ]
    },
    {
      "cell_type": "code",
      "execution_count": null,
      "id": "6a9eba6e-f048-4cdf-a7fc-452a47a90b78",
      "metadata": {
        "id": "6a9eba6e-f048-4cdf-a7fc-452a47a90b78",
        "outputId": "8b0b2733-fec2-4699-9d73-756da2a9743f"
      },
      "outputs": [
        {
          "name": "stdout",
          "output_type": "stream",
          "text": [
            "Hello World\n",
            "Hello World\n"
          ]
        }
      ],
      "source": [
        "print(\"Hello World\")\n",
        "print('Hello World')"
      ]
    },
    {
      "cell_type": "markdown",
      "id": "c2bdb840-7b9e-467b-ab57-3114bfe21904",
      "metadata": {
        "id": "c2bdb840-7b9e-467b-ab57-3114bfe21904"
      },
      "source": [
        "| Para imprimir un valor numérico, ingrese los números sin comillas. si imprime un número con comillas, la el tipo de variable sera un entero\n"
      ]
    },
    {
      "cell_type": "code",
      "execution_count": null,
      "id": "9d997e8a-a2c4-440c-a006-7d5666488633",
      "metadata": {
        "id": "9d997e8a-a2c4-440c-a006-7d5666488633",
        "outputId": "d9e5f51f-32c7-470f-d5be-0a2a9fa47314"
      },
      "outputs": [
        {
          "name": "stdout",
          "output_type": "stream",
          "text": [
            "10\n",
            "7.5\n"
          ]
        }
      ],
      "source": [
        "print(10)\n",
        "print(7.5)"
      ]
    },
    {
      "cell_type": "markdown",
      "id": "bd24377d-4d4f-47c0-8ad7-5fd8cc64f005",
      "metadata": {
        "id": "bd24377d-4d4f-47c0-8ad7-5fd8cc64f005"
      },
      "source": [
        "| Puede incluso ejecutar operaciones aritméticas en la función print(). Las operaciones aritméticas de los tipos de datos numéricos se verán en la unidad 3."
      ]
    },
    {
      "cell_type": "code",
      "execution_count": null,
      "id": "9d050022-b9f6-42f6-a2cd-87f5319f0932",
      "metadata": {
        "id": "9d050022-b9f6-42f6-a2cd-87f5319f0932",
        "outputId": "8d2c73d9-f96a-4122-9615-1cc906f2dd0f"
      },
      "outputs": [
        {
          "name": "stdout",
          "output_type": "stream",
          "text": [
            "17.5\n",
            "2.5\n"
          ]
        }
      ],
      "source": [
        "print(10 + 7.5)\n",
        "print(10 - 7.5)"
      ]
    },
    {
      "cell_type": "markdown",
      "id": "72b2d330-063e-43f7-921d-f7f0905327d0",
      "metadata": {
        "id": "72b2d330-063e-43f7-921d-f7f0905327d0"
      },
      "source": [
        "#### **4.3. Agregar una nueva línea**\n",
        "\n",
        "| Python automáticamente pasa a la siguiente línea después de imprimir un string a través de la función print(). Siendo así, ¿se puede pasar a otra línea al interior de una sentencia dentro de la misma función print()?.\n",
        "\n",
        "| Usando una secuencia de escape \\n dentro de una cadena de caracteres string, agrega una nueva línea. La secuencia de escape se refiere a un carácter especial usado para controlar la salida de una secuencia de caracteres. "
      ]
    },
    {
      "cell_type": "code",
      "execution_count": null,
      "id": "337a9da5-7596-411e-9956-6f1ec0b6b5de",
      "metadata": {
        "id": "337a9da5-7596-411e-9956-6f1ec0b6b5de",
        "outputId": "744d2aa5-fae3-4127-a10e-d696d2a7cd83"
      },
      "outputs": [
        {
          "name": "stdout",
          "output_type": "stream",
          "text": [
            "Hello\n",
            "World\n"
          ]
        }
      ],
      "source": [
        "print(\"Hello\\nWorld\")"
      ]
    },
    {
      "cell_type": "markdown",
      "id": "90aff401-6493-48b0-8548-9bec3534b287",
      "metadata": {
        "id": "90aff401-6493-48b0-8548-9bec3534b287"
      },
      "source": [
        "| En las función print(), el principio y fin de un string se puede agrupar con las tres comillas dobles (\"\"\") o simples ('''). Esto mostrará la cadena de caracteres agrupada, incluyendo el fin de línea en la pantalla."
      ]
    },
    {
      "cell_type": "code",
      "execution_count": null,
      "id": "cd3bcffe-85bc-4d4b-8470-49b893076359",
      "metadata": {
        "id": "cd3bcffe-85bc-4d4b-8470-49b893076359",
        "outputId": "9485123c-19e4-46bc-e8f4-e4f2f34c5de0"
      },
      "outputs": [
        {
          "name": "stdout",
          "output_type": "stream",
          "text": [
            "Hello\n",
            "World\n"
          ]
        }
      ],
      "source": [
        "print('''Hello\n",
        "World''')"
      ]
    },
    {
      "cell_type": "markdown",
      "id": "3d0697c7-e209-4bab-8ab5-f8a92bdb2243",
      "metadata": {
        "id": "3d0697c7-e209-4bab-8ab5-f8a92bdb2243"
      },
      "source": [
        "| Sin embargo, si usted pone un backslash(\\) al final de una secuencia de caracteres agrupada con las tres comillas, no se pasará a la siguiente línea, el contenido de la siguiente línea se conectará en la misma línea."
      ]
    },
    {
      "cell_type": "code",
      "execution_count": null,
      "id": "d80f4457-a6ed-40e4-b1f5-0d2a54e585e7",
      "metadata": {
        "id": "d80f4457-a6ed-40e4-b1f5-0d2a54e585e7",
        "outputId": "c58eeb52-6088-4391-e5bf-f5b1c6bace9a"
      },
      "outputs": [
        {
          "name": "stdout",
          "output_type": "stream",
          "text": [
            "HelloWorld\n"
          ]
        }
      ],
      "source": [
        "print('''Hello\\\n",
        "World''')"
      ]
    },
    {
      "cell_type": "markdown",
      "id": "9c818ed4-4210-4e14-94cf-a7af7a192e98",
      "metadata": {
        "id": "9c818ed4-4210-4e14-94cf-a7af7a192e98"
      },
      "source": [
        "#### **4.4. Los operadores coma(,), adición(+), Multiplicación(*)**\n",
        "\n",
        "| Los operadores coma, de adición o multiplicación pueden ser usados para imprimir cadenas de valores más diversas y eficientes.\n",
        "\n",
        "| Cuando se usa un operador (,) entre el primer y segundo valor, este añade un espacio entre los valores y luego pasa a una nueva línea. Usted puede imprimir dos o más enteros o valores al combinarlos con un operador coma."
      ]
    },
    {
      "cell_type": "code",
      "execution_count": null,
      "id": "e87728cd-634a-4919-a31d-34bbc52031e5",
      "metadata": {
        "id": "e87728cd-634a-4919-a31d-34bbc52031e5",
        "outputId": "884c0f70-65a4-4c69-dc6b-32c4b7e10ed0"
      },
      "outputs": [
        {
          "name": "stdout",
          "output_type": "stream",
          "text": [
            "Hello World\n",
            "10 20\n"
          ]
        }
      ],
      "source": [
        "print('Hello', 'World')\n",
        "print(10, 20)"
      ]
    },
    {
      "cell_type": "markdown",
      "id": "8bc25761-d95f-4f0a-b4fb-fcf17481998b",
      "metadata": {
        "id": "8bc25761-d95f-4f0a-b4fb-fcf17481998b"
      },
      "source": [
        "| Usted puede también combinar una cadena de caracteres y un número con un operador coma."
      ]
    },
    {
      "cell_type": "code",
      "execution_count": null,
      "id": "4a534437-579e-4e1f-98b1-e3b79ca3871b",
      "metadata": {
        "id": "4a534437-579e-4e1f-98b1-e3b79ca3871b",
        "outputId": "1920035b-0a0e-427b-eb6b-f7d4266bc76c"
      },
      "outputs": [
        {
          "name": "stdout",
          "output_type": "stream",
          "text": [
            "Hello 10\n"
          ]
        }
      ],
      "source": [
        "print('Hello', 10)"
      ]
    },
    {
      "cell_type": "markdown",
      "id": "96f8dda3-b9f3-41c7-b61e-385443130431",
      "metadata": {
        "id": "96f8dda3-b9f3-41c7-b61e-385443130431"
      },
      "source": [
        "| Cuando un string se combina con un operador de adición, el segundo entero se imprime después del primer entero sin espacio y luego se pasa a la siguiente línea. Cuando se usa un operador de adición con valores, imprimirá el resultado de la adición, luego se pasa a la siguiente línea."
      ]
    },
    {
      "cell_type": "code",
      "execution_count": null,
      "id": "f813b589-72ab-49af-b4d1-2a6c862569b1",
      "metadata": {
        "id": "f813b589-72ab-49af-b4d1-2a6c862569b1",
        "outputId": "4d525a5f-1604-409c-e328-651766969f7b"
      },
      "outputs": [
        {
          "name": "stdout",
          "output_type": "stream",
          "text": [
            "HelloWorld\n",
            "30\n"
          ]
        }
      ],
      "source": [
        "print('Hello' + 'World')\n",
        "print(10 + 20)"
      ]
    },
    {
      "cell_type": "markdown",
      "id": "8b8ced9a-7176-4835-8f85-076c7c67f5ca",
      "metadata": {
        "id": "8b8ced9a-7176-4835-8f85-076c7c67f5ca"
      },
      "source": [
        "![image.png](https://ambg0231.github.io/unidad1/TypeError.png)"
      ]
    },
    {
      "cell_type": "markdown",
      "id": "36c1a20a-e6ad-4431-a467-24ac4e79b6b0",
      "metadata": {
        "id": "36c1a20a-e6ad-4431-a467-24ac4e79b6b0"
      },
      "source": [
        "| Cuando un string se combina con un entero positivo usando un operador de multiplicación (*), se repite la cadena de caracteres tantas veces como el número indica y sin espacios, luego se pasa a la siguiente línea. Cuando se usa un operador de multiplicación para un número, se pasa a la siguiente línea luego de imprimir el resultado de la multiplicación."
      ]
    },
    {
      "cell_type": "code",
      "execution_count": null,
      "id": "6bdf0ef3-ad90-430b-ac81-890024139be4",
      "metadata": {
        "id": "6bdf0ef3-ad90-430b-ac81-890024139be4",
        "outputId": "e78eae02-5006-4116-eba4-d8d11dc270b8"
      },
      "outputs": [
        {
          "name": "stdout",
          "output_type": "stream",
          "text": [
            "HelloHelloHello\n",
            "200\n"
          ]
        }
      ],
      "source": [
        "print('Hello' * 3)\n",
        "print(10 * 20)"
      ]
    },
    {
      "cell_type": "markdown",
      "id": "b16a38cb-d51c-47a2-bc76-e3bde36b62f4",
      "metadata": {
        "id": "b16a38cb-d51c-47a2-bc76-e3bde36b62f4"
      },
      "source": [
        "![image.png](https://ambg0231.github.io/unidad1/TypeError2.png)"
      ]
    },
    {
      "cell_type": "markdown",
      "id": "da726ab9-4f53-4877-8322-abdbb704cab7",
      "metadata": {
        "id": "da726ab9-4f53-4877-8322-abdbb704cab7"
      },
      "source": [
        "#### **4.5. Los parámetros End y Split** \n",
        "\n",
        "| Cuando un programa encuentra la función print(), pasa a la siguiente línea. Sin embargo, cuando un string se especifica al final de la declaración print(), se imprime el string en lugar de pasar a otra línea\n",
        "\n",
        "| El primer código imprime 'Hello' y luego inmediatamente 'World' sin pasar a otra línea. El segundo código imprime una coma en lugar de pasar a otra línea"
      ]
    },
    {
      "cell_type": "code",
      "execution_count": null,
      "id": "bf49e8c8-2d9c-4882-86ae-629d5e7e9a63",
      "metadata": {
        "id": "bf49e8c8-2d9c-4882-86ae-629d5e7e9a63",
        "outputId": "7c4885ec-2556-408e-9c3b-dd648364d9e1"
      },
      "outputs": [
        {
          "name": "stdout",
          "output_type": "stream",
          "text": [
            "Hello World!\n"
          ]
        }
      ],
      "source": [
        "print('Hello', end=' ')\n",
        "print('World!')"
      ]
    },
    {
      "cell_type": "code",
      "execution_count": null,
      "id": "f09aeea9-9aed-4f77-a469-1a48658d578e",
      "metadata": {
        "id": "f09aeea9-9aed-4f77-a469-1a48658d578e",
        "outputId": "18257a2a-4c58-4347-9015-19fda153a713"
      },
      "outputs": [
        {
          "name": "stdout",
          "output_type": "stream",
          "text": [
            "Hello,World!\n"
          ]
        }
      ],
      "source": [
        "print('Hello', end=',')\n",
        "print('World!')"
      ]
    },
    {
      "cell_type": "markdown",
      "id": "a9bf84d9-05a7-4d1f-a945-4f50f088e030",
      "metadata": {
        "id": "a9bf84d9-05a7-4d1f-a945-4f50f088e030"
      },
      "source": [
        "\n",
        "\n",
        "| EL operador coma(,) dentro de la función print() que aprendimos anteriormente, imprime un espacio entre dos cadenas de caracteres o valores. Cuando se especifica un string en el último parámetro sep de la función print(), la cadena de caracteres se imprime en vez del espacio.\n",
        "\n",
        "| El primer código imprime 'Hello' y luego inmediatamente 'World' sin espacios. El segundo código imprime una coma en lugar de un espacio"
      ]
    },
    {
      "cell_type": "code",
      "execution_count": null,
      "id": "25d6cd57-9270-499d-ad04-d7e3d8b9667b",
      "metadata": {
        "id": "25d6cd57-9270-499d-ad04-d7e3d8b9667b",
        "outputId": "113a8f4d-caab-403e-91a6-82f01f5b96a1"
      },
      "outputs": [
        {
          "name": "stdout",
          "output_type": "stream",
          "text": [
            "HelloWorld!\n"
          ]
        }
      ],
      "source": [
        "print('Hello', 'World!', sep='')"
      ]
    },
    {
      "cell_type": "code",
      "execution_count": null,
      "id": "7f75bb0c-f8d3-4513-a4a1-5f9f2f79277a",
      "metadata": {
        "id": "7f75bb0c-f8d3-4513-a4a1-5f9f2f79277a",
        "outputId": "97adeccb-e7bf-400f-87cf-5413149053c8"
      },
      "outputs": [
        {
          "name": "stdout",
          "output_type": "stream",
          "text": [
            "Hello,World!\n"
          ]
        }
      ],
      "source": [
        "print('Hello', 'World!', sep=',')"
      ]
    },
    {
      "cell_type": "markdown",
      "id": "ab09786b-62c8-45b3-9c34-5c1b8d9f49a5",
      "metadata": {
        "id": "ab09786b-62c8-45b3-9c34-5c1b8d9f49a5"
      },
      "source": [
        "#### **4.6. Creando una hoja de vida**\n",
        "\n",
        "| Abajo hay un código de ejemplo de la misión de hoy. Practiquemos codificando una hoja de vida usando los operadores aprendidos en esta lección; coma(+), multiplicación(*), y los parámetros end y split."
      ]
    },
    {
      "cell_type": "code",
      "execution_count": null,
      "id": "fbb744f4-e994-4571-95c7-02c759759534",
      "metadata": {
        "id": "fbb744f4-e994-4571-95c7-02c759759534",
        "outputId": "3aa69d48-9cf7-477c-e4c5-02466f8ec289"
      },
      "outputs": [
        {
          "name": "stdout",
          "output_type": "stream",
          "text": [
            "Hello! I will introduce myself.\n",
            "Name: David Doe\n",
            "Age: 23\n",
            "Job: Data Scientist\n",
            "Address: Seoul, South Korea\n",
            "Place of Birth: Southern California, USA\n"
          ]
        }
      ],
      "source": [
        "print('Hello! I will introduce myself.')\n",
        "print('Name: David Doe')\n",
        "print('Age: 23')\n",
        "print('Job: Data Scientist')\n",
        "print('Address: Seoul, South Korea')\n",
        "print('Place of Birth: Southern California, USA')"
      ]
    },
    {
      "cell_type": "markdown",
      "id": "b45369c2-ca32-4078-9dbc-a2bbaba75b7a",
      "metadata": {
        "id": "b45369c2-ca32-4078-9dbc-a2bbaba75b7a"
      },
      "source": [
        "| De igual forma trate de usar los simbolos asterisco (*) o menos (-) para decorar la hoja de vida"
      ]
    },
    {
      "cell_type": "code",
      "execution_count": null,
      "id": "3fe1468f-80c8-4d24-998e-b265d5b96087",
      "metadata": {
        "id": "3fe1468f-80c8-4d24-998e-b265d5b96087",
        "outputId": "bcc06d62-f549-48c4-fc9d-d4577a1be884"
      },
      "outputs": [
        {
          "name": "stdout",
          "output_type": "stream",
          "text": [
            "********************************************************\n",
            "--------------------------------------------------------\n"
          ]
        }
      ],
      "source": [
        "print('********************************************************')\n",
        "print('--------------------------------------------------------')"
      ]
    },
    {
      "cell_type": "markdown",
      "id": "123ab081-98a6-4945-9c1e-ddfbb879ea2a",
      "metadata": {
        "id": "123ab081-98a6-4945-9c1e-ddfbb879ea2a"
      },
      "source": [
        "### <FONT COLOR=\"blue\"> 5. El modo pythónico </FONT>\n",
        "#### **5.1. ¿Por qué es importante la codificación pythónica?**\n",
        "\n",
        "| Es importante adquirir un buen estilo y hábito de codificar desde el inicio\n",
        "\n",
        "| EL propósito principal de la codificación pythónica es el de escribir código de forma clara y concisa usando caracteres que son diferentes de otros lenguajes de programación.\n",
        "\n",
        "| Utilizar las convenciones de codificación de python usadas por las comunidades de desarrolladores también contribuye en la colaboración con estos.\n",
        "\n",
        "| Existen muchas convenciones para el modo pythónico, pero nos enfocaremos en las esenciales para los principiantes.\n",
        "\n",
        "<table>\n",
        "    <tr>\n",
        "        <td><img style=\"float: left;\"<img src=\"https://ambg0231.github.io/unidad1/PEP8.png\" width= \"400px\" /></div></td>\n",
        "        <td Style=\"font-size:24px\">\n",
        "            <ul>\n",
        "                <li>Existen dos gías de estílo principales en Python.</li>\n",
        "                <li>PEP8 de la comunidad oficial de Python y la guía de estilo de Python de Google.</li>\n",
        "                <li>Esta unidad utiliza la guía PEP8.</li>\n",
        "            </ul>\n",
        "        </td>\n",
        "    </tr>\n",
        "</table>"
      ]
    },
    {
      "cell_type": "markdown",
      "id": "c7d742d6-a074-4941-85ec-29fb4b82a370",
      "metadata": {
        "id": "c7d742d6-a074-4941-85ec-29fb4b82a370"
      },
      "source": [
        "#### **5.2. Diseño del código**\n",
        "\n",
        "| Python le permite escribir múltiples sentencias en una línea usando el punto y coma como se muestra abajo. Sin embargo, este estilo de codificar no tiene una buena legibilidad.\n"
      ]
    },
    {
      "cell_type": "code",
      "execution_count": null,
      "id": "3388a431-7444-4e39-86fc-2fa5fee9d93d",
      "metadata": {
        "id": "3388a431-7444-4e39-86fc-2fa5fee9d93d",
        "outputId": "6e6065ab-39c4-40e0-b60e-dcfc0496d1cc"
      },
      "outputs": [
        {
          "name": "stdout",
          "output_type": "stream",
          "text": [
            "20\n"
          ]
        }
      ],
      "source": [
        "a = 10; a += 10; print(a)  # caso incorrecto"
      ]
    },
    {
      "cell_type": "markdown",
      "id": "b3ef04da-35fe-4445-aab3-9d1bfe0b810b",
      "metadata": {
        "id": "b3ef04da-35fe-4445-aab3-9d1bfe0b810b"
      },
      "source": [
        "| Cuando se codifica en Python, se recomienda usar una sentencia en cada línea como se muestra abajo."
      ]
    },
    {
      "cell_type": "code",
      "execution_count": null,
      "id": "57a561e6-691c-4b31-9f49-ce094313b544",
      "metadata": {
        "id": "57a561e6-691c-4b31-9f49-ce094313b544",
        "outputId": "65f0a95b-ba79-4369-d19a-d750064cbd71"
      },
      "outputs": [
        {
          "name": "stdout",
          "output_type": "stream",
          "text": [
            "20\n"
          ]
        }
      ],
      "source": [
        "a = 10  # Caso correcto\n",
        "a += 10\n",
        "print(a)"
      ]
    },
    {
      "cell_type": "markdown",
      "id": "021e6a8c-f5ab-4a7d-ad78-f44ee13e8f79",
      "metadata": {
        "id": "021e6a8c-f5ab-4a7d-ad78-f44ee13e8f79"
      },
      "source": [
        "| Un código largo como el de abajo es difícil de leer."
      ]
    },
    {
      "cell_type": "code",
      "execution_count": null,
      "id": "b074c339-d61a-4830-8f83-dc7f2b9fc17b",
      "metadata": {
        "id": "b074c339-d61a-4830-8f83-dc7f2b9fc17b"
      },
      "outputs": [],
      "source": [
        "if width == 0 and height == 0 and color == 'red' and emphasis == 'strong' or highlight > 100:\n",
        "    print('Sorry, you lose.')"
      ]
    },
    {
      "cell_type": "markdown",
      "id": "4681ddea-4607-4b17-9824-fa305e1c7ae4",
      "metadata": {
        "id": "4681ddea-4607-4b17-9824-fa305e1c7ae4"
      },
      "source": [
        "| Al codificar con Python, si una sentencia es muy larga trate de cortar y pasar a la siguiente línea. Use el backslash (\\) para agregar una línea."
      ]
    },
    {
      "cell_type": "code",
      "execution_count": null,
      "id": "fd9619c5-7828-4b31-a668-08c020aba73c",
      "metadata": {
        "id": "fd9619c5-7828-4b31-a668-08c020aba73c"
      },
      "outputs": [],
      "source": [
        "if width == 0 and height == 0 and color == 'red' and \\\n",
        "    emphasis == 'strong' or highlight > 100:\n",
        "    print('Sorry, you lose.')"
      ]
    },
    {
      "cell_type": "markdown",
      "id": "895bbe72-e88b-43ef-823b-6815819fcdbf",
      "metadata": {
        "id": "895bbe72-e88b-43ef-823b-6815819fcdbf"
      },
      "source": [
        "| Finalmente, operadores y operandos tiene espacio entre ellos. Cuando se listan elementos, ponga un espacio después de una coma."
      ]
    },
    {
      "cell_type": "code",
      "execution_count": null,
      "id": "f2d43c73-bcbb-4bf5-bc23-4aa72d12b42e",
      "metadata": {
        "id": "f2d43c73-bcbb-4bf5-bc23-4aa72d12b42e"
      },
      "outputs": [],
      "source": [
        "a=[1,2,3]    # Incorrecto"
      ]
    },
    {
      "cell_type": "code",
      "execution_count": null,
      "id": "4b1c9b28-d133-479b-ad31-1ba11fbb11c6",
      "metadata": {
        "id": "4b1c9b28-d133-479b-ad31-1ba11fbb11c6"
      },
      "outputs": [],
      "source": [
        "a = [1, 2, 3]    # Correcto"
      ]
    },
    {
      "cell_type": "markdown",
      "id": "c6936933-4502-4e44-99a2-f3151fd375cf",
      "metadata": {
        "id": "c6936933-4502-4e44-99a2-f3151fd375cf"
      },
      "source": [
        "#### **5.3. Convención de nombres**\n",
        "\n",
        "| Los nombres usados en programación como para variables, funciones, clases, etc., son llamados identificadores. Los tipos de estilos de nombres de identificadores se muestran in la tabla de abajo\n",
        "\n",
        "| En Python, los nombres de variables y funciones generalmente siguen el estilo Snake, y los nombres de las clases siguen el estilo Pascal.\n"
      ]
    },
    {
      "cell_type": "markdown",
      "id": "d93c6115-1adc-4e5b-a320-d4045ec7c47f",
      "metadata": {
        "id": "d93c6115-1adc-4e5b-a320-d4045ec7c47f"
      },
      "source": [
        "<table>\n",
        "    <tr>\n",
        "        <th>Style</th>\n",
        "        <th>Descripción</th>\n",
        "        <th>Ejemplo</th>\n",
        "    </tr>\n",
        "    <tr>\n",
        "        <td>Snake</td>\n",
        "        <td>La primera letra empieza en minúscula y usa _ (guión bajo) en vez de espacios entre palabas. Se le llama estilo Snake porque los guiones bajos parecen serpientes</td>\n",
        "        <td>hello_world</td>\n",
        "    </tr>\n",
        "    <tr>\n",
        "        <td>Camel</td>\n",
        "        <td>La primera letra empieza en minúscula y el comienzo de la segunda palabra se pone en mayúscula en vez de un espacio. Se le llama estilo Camel porque la letra mayúscula en la mitar parecen la espalda de un camello</td>\n",
        "        <td>helloWorld</td>\n",
        "    </tr>\n",
        "    <tr>\n",
        "        <td>Pascal</td>\n",
        "        <td>Casi igual que el estilo Camel, pero se pone la primera letra en mayúscula</td>\n",
        "        <td>HelloWorld</td>\n",
        "    </tr>\n",
        "</table>"
      ]
    },
    {
      "cell_type": "markdown",
      "id": "9e58fed5-92e5-485c-8bfd-3742d9da5cd9",
      "metadata": {
        "id": "9e58fed5-92e5-485c-8bfd-3742d9da5cd9"
      },
      "source": [
        "\n",
        "\n",
        "| Las convenciones de identificadores de nombres en Python son como sigue:\n",
        "    \n",
        "1. Generalmente consiste en caracteres ingleses, números y guion bajo (_).\n",
        "2. No debe haber espacios en medio del texto.\n",
        "3. La primera palabra debe iniciar con una letra inglesa o un guion bajo (_).\n",
        "4. Se distinguen mayúsculas y minúsculas. Por ejemplo, Count y count son identificadores diferentes.\n",
        "5. No hay límite a en la extensión del identificador\n",
        "6. <span style=\"color:red\">Las palabras claves no se pueden usar como identificadores</span>.\n",
        "7. Identificadores que inician con __(dos guiones bajos) se refieren a atributos especiales o se usan solo como nombre de métodos específicos. Por lo tanto, no se usan como el nombre de una función general o variable."
      ]
    },
    {
      "cell_type": "markdown",
      "id": "b2868eb7-31f0-4168-a3cc-d69db4d3aacb",
      "metadata": {
        "id": "b2868eb7-31f0-4168-a3cc-d69db4d3aacb"
      },
      "source": [
        "\n",
        "\n",
        "| Ejemplos de identificadores correctos:\n",
        "    \n",
        "<table style=\"font-size:24px\">\n",
        "    <tr>\n",
        "        <th><span style=\"color:blue\">Correct Identifiers</span></th>\n",
        "        <th><span style=\"color:blue\">Reasons</span></th>\n",
        "    </tr>\n",
        "    <tr>\n",
        "        <td>number4</td>\n",
        "        <td>Se pueden utilizar números después de iniciar con caracteres ingleses.</td>\n",
        "    </tr>\n",
        "    <tr>\n",
        "        <td>my_list</td>\n",
        "        <td>Los guiones bajos se pueden utilizar en cualquier parte del identificador, como el resto de caracteres.</td>\n",
        "    </tr>\n",
        "    <tr>\n",
        "        <td>--code--</td>\n",
        "        <td>El nombre de un método específico puede iniciar con __(dos guiones bajos).</td>\n",
        "    </tr>\n",
        "    <tr>\n",
        "        <td>for_loop</td>\n",
        "        <td>Una palabra clave también se puede usar conectándola con otros caracteres.</td>\n",
        "    </tr>\n",
        "</table>"
      ]
    },
    {
      "cell_type": "markdown",
      "id": "16771ff5-12df-49db-ac51-084d5a36872a",
      "metadata": {
        "id": "16771ff5-12df-49db-ac51-084d5a36872a"
      },
      "source": [
        "### <FONT COLOR=\"blue\"> 6. Errores </FONT>\n",
        "#### **6.1. Errores de sintaxis**\n",
        "\n",
        "| Los lenguajes de programación se usan bajo estrictas reglas y convenciones. Escribir código que se salga de las reglas gramaticales resultará en errores de sintaxis.\n",
        "\n",
        "| Para evitar errores de sintaxis, usted debe aprender y practicar la gramática de Python y codificar de acuerdo con las reglas.\n",
        "\n",
        "| Para imprimir el string 'Hello', las comillas se deben usar en ambos lados del string. Sin embargo, en el código de abajo, ocurrió un error de sintaxis debido a que el string no se encerró entre comillas"
      ]
    },
    {
      "cell_type": "code",
      "execution_count": null,
      "id": "098198d7-b3e5-4cc5-a41e-f2e3f6cee9d2",
      "metadata": {
        "id": "098198d7-b3e5-4cc5-a41e-f2e3f6cee9d2",
        "outputId": "78ce6015-6b7e-4731-efde-75b63eed4b5a"
      },
      "outputs": [
        {
          "ename": "SyntaxError",
          "evalue": "EOL while scanning string literal (1679058590.py, line 1)",
          "output_type": "error",
          "traceback": [
            "\u001b[0;36m  Input \u001b[0;32mIn [33]\u001b[0;36m\u001b[0m\n\u001b[0;31m    print('Hello)\u001b[0m\n\u001b[0m                 ^\u001b[0m\n\u001b[0;31mSyntaxError\u001b[0m\u001b[0;31m:\u001b[0m EOL while scanning string literal\n"
          ]
        }
      ],
      "source": [
        "print('Hello)"
      ]
    },
    {
      "cell_type": "markdown",
      "id": "01281d36-6fb8-45cd-a641-d3a676a27d3d",
      "metadata": {
        "id": "01281d36-6fb8-45cd-a641-d3a676a27d3d"
      },
      "source": [
        "#### **6.2. Errores de ejecución (runtime error)**\n",
        "\n",
        "| A diferencia de los errores de sintaxis, códigos gramaticalmente correctos también pueden resultar en error al momento de la ejecución. Este tipo de error se llama \"runtime error\".\n",
        "\n",
        "| Para prevenir errores de ejecución, desarrolladores deben considerar la posibilidad de usuarios ingresando datos incorrectos y sugerir solicitudes amigables con el usuario para motivar el ingreso de datos correctos. También ocurren usualmente varios tipos de excepciones, por lo que hacer tests al código en varias condiciones es altamente recomendado.\n",
        "\n",
        "| En el código de abajo, el usuario ingresó un string \"dos\" en vez de un entero 2, and un error de ejecución ocurrió."
      ]
    },
    {
      "cell_type": "code",
      "execution_count": null,
      "id": "1e9d6cfe-bd6f-4569-8a5a-7eb40a6bf9a5",
      "metadata": {
        "id": "1e9d6cfe-bd6f-4569-8a5a-7eb40a6bf9a5",
        "outputId": "5525e23a-03ff-44fa-9f92-e09777d4d477"
      },
      "outputs": [
        {
          "name": "stdout",
          "output_type": "stream",
          "text": [
            "Input an integer:  two\n"
          ]
        },
        {
          "ename": "ValueError",
          "evalue": "invalid literal for int() with base 10: 'two'",
          "output_type": "error",
          "traceback": [
            "\u001b[0;31m---------------------------------------------------------------------------\u001b[0m",
            "\u001b[0;31mValueError\u001b[0m                                Traceback (most recent call last)",
            "Input \u001b[0;32mIn [34]\u001b[0m, in \u001b[0;36m<cell line: 1>\u001b[0;34m()\u001b[0m\n\u001b[0;32m----> 1\u001b[0m num \u001b[38;5;241m=\u001b[39m \u001b[38;5;28;43mint\u001b[39;49m\u001b[43m(\u001b[49m\u001b[38;5;28;43minput\u001b[39;49m\u001b[43m(\u001b[49m\u001b[38;5;124;43m'\u001b[39;49m\u001b[38;5;124;43mInput an integer: \u001b[39;49m\u001b[38;5;124;43m'\u001b[39;49m\u001b[43m)\u001b[49m\u001b[43m)\u001b[49m\n",
            "\u001b[0;31mValueError\u001b[0m: invalid literal for int() with base 10: 'two'"
          ]
        }
      ],
      "source": [
        "num = int(input('Input an integer: '))"
      ]
    },
    {
      "cell_type": "markdown",
      "id": "081f345d-8c7d-4bd0-acaf-678aa129603b",
      "metadata": {
        "id": "081f345d-8c7d-4bd0-acaf-678aa129603b"
      },
      "source": [
        "### Un paso más...\n",
        "\n",
        "#### 1. Errores de ejecución y su solución\n",
        "\n",
        "| Un ejemplo de un error de ejecución es ZeroDivisionError (error de división por cero), un error que intenta dividir números por cero. Para resolver tales errores de ejecución, se pueden agregar excepciones usando sentencias try ~ except.\n",
        "\n",
        "| Cuando el usuario ingresa correctamente dos enteros como sigue, las dos operaciones de división se ejecutan sin errores como se desea en el programa"
      ]
    },
    {
      "cell_type": "code",
      "execution_count": null,
      "id": "86c9ca33-05f6-49f3-a6c0-951bf0cdb5ca",
      "metadata": {
        "id": "86c9ca33-05f6-49f3-a6c0-951bf0cdb5ca",
        "outputId": "9d86cd48-31ad-4de1-c17f-a15da7b93149"
      },
      "outputs": [
        {
          "name": "stdout",
          "output_type": "stream",
          "text": [
            "Enter two integers.  10 2\n",
            "10/2 = 5.0\n"
          ]
        }
      ],
      "source": [
        "try:\n",
        "    a, b = input('Enter two integers. ').split()\n",
        "    result = int(a) / int(b)\n",
        "    print('{}/{} = {}'. format(a, b, result))\n",
        "except :\n",
        "    print ('Check if the integers are correctly entered.')"
      ]
    },
    {
      "cell_type": "markdown",
      "id": "ff30711f-a182-4d2b-85c0-2fcf57f28749",
      "metadata": {
        "id": "ff30711f-a182-4d2b-85c0-2fcf57f28749"
      },
      "source": [
        "| Si el usuario ingresa de forma incorrecta un string en vez de un entero, o genera un caso en el cual un número es dividido por cero como en el segundo ejemplo de abajo, la sentencia \"except\" se encargará del caso de excepción."
      ]
    },
    {
      "cell_type": "code",
      "execution_count": null,
      "id": "86e49ec6-ff30-4595-97e5-36abc0333909",
      "metadata": {
        "id": "86e49ec6-ff30-4595-97e5-36abc0333909",
        "outputId": "f194308e-cc71-449c-d0b0-0f9c9c2dbf69"
      },
      "outputs": [
        {
          "name": "stdout",
          "output_type": "stream",
          "text": [
            "Enter two integers.  10 two\n",
            "Check if the integers are correctly entered.\n"
          ]
        }
      ],
      "source": [
        "try:\n",
        "    a, b = input('Enter two integers. ').split()\n",
        "    result = int(a) / int(b)\n",
        "    print('{}/{} = {}'. format(a, b, result))\n",
        "except :\n",
        "    print ('Check if the integers are correctly entered.')"
      ]
    },
    {
      "cell_type": "code",
      "execution_count": null,
      "id": "45ae0938-7d96-422c-9cc3-72064bfc5219",
      "metadata": {
        "id": "45ae0938-7d96-422c-9cc3-72064bfc5219",
        "outputId": "86446b16-de68-42ec-fa6d-7a9ede24e676"
      },
      "outputs": [
        {
          "name": "stdout",
          "output_type": "stream",
          "text": [
            "Enter two integers.  10 0\n",
            "Check if the integers are correctly entered.\n"
          ]
        }
      ],
      "source": [
        "try:\n",
        "    a, b = input('Enter two integers. ').split()\n",
        "    result = int(a) / int(b)\n",
        "    print('{}/{} = {}'. format(a, b, result))\n",
        "except :\n",
        "    print ('Check if the integers are correctly entered.')"
      ]
    },
    {
      "cell_type": "markdown",
      "id": "b7bf7113-fbc8-4112-8464-feb5b79ddb43",
      "metadata": {
        "id": "b7bf7113-fbc8-4112-8464-feb5b79ddb43"
      },
      "source": [
        "## <FONT COLOR=\"blue\">Programación por parejas </FONT>\n",
        "\n",
        "### <FONT COLOR=\"blue\">Práctica de la programación en parejas </FONT>\n",
        "\n",
        "\n",
        "**Directriz, mecanismos y plan de contingencia**\n",
        "\n",
        " Preparar la programación por parejas implica establecer pautas y mecanismos para ayudar a los alumnos a emparejarse correctamente y mantenerlos emparejados.  Por ejemplo, los estudiantes deben turnarse para \"conducir el mouse\".  La preparación efectiva requiere planes de contingencia en caso de que uno de los socios se ausente o decida no participar por una u otra razón.  En estos casos, es importante dejar claro que el alumno activo no será sancionado porque el emparejamiento no funcionó bien.\n",
        " \n",
        "**Emparejar habilidades similares, no necesariamente iguales, como socios**\n",
        "\n",
        " La programación en parejas puede ser efectiva cuando los estudiantes con habilidades similares, aunque no necesariamente iguales, se emparejan como compañeros.  El emparejamiento de estudiantes que no coinciden a menudo puede conducir a una participación desequilibrada.  Los maestros deben enfatizar que la programación en parejas no es una estrategia de \"divide y vencerás\", sino más bien un verdadero esfuerzo de colaboración en cada esfuerzo por todo el proyecto.  Los maestros deben evitar emparejar a estudiantes muy débiles con estudiantes muy fuertes.\n",
        "\n",
        "**Motivar a los estudiantes ofreciendo incentivos adicionales**\n",
        "\n",
        " Ofrecer incentivos adicionales puede ayudar a motivar a los estudiantes a emparejarse, especialmente con estudiantes avanzados.  A algunos maestros les ha resultado útil pedirles a los estudiantes que se emparejen solo para una o dos tareas.\n",
        "\n",
        "**Evitar trampas en la colaboración**\n",
        "\n",
        " El desafío para el maestro es encontrar formas de evaluar los resultados individuales, mientras aprovecha los beneficios de la colaboración.  ¿Cómo saber si un estudiante aprendió o hizo trampa?  Los expertos recomiendan revisar el diseño y la evaluación del curso, así como discutir explícita y concretamente con los estudiantes los comportamientos que se interpretarán como trampa.  Los expertos alientan a los maestros a hacer que las tareas sean significativas para los estudiantes y a explicar el valor de lo que los estudiantes aprenderán al completarlas.\n",
        "\n",
        "**Entorno de aprendizaje colaborativo**\n",
        "\n",
        " Un entorno de aprendizaje colaborativo ocurre cada vez que un instructor requiere que los estudiantes trabajen juntos en actividades de aprendizaje.  Los entornos de aprendizaje colaborativo pueden implicar actividades tanto formales como informales y pueden incluir o no una evaluación directa.  Por ejemplo, parejas de estudiantes trabajan en asignaciones de programación; pequeños grupos de estudiantes discuten posibles respuestas a la pregunta de un profesor durante la lección; y los estudiantes trabajan juntos fuera de clase para aprender nuevos conceptos.  El aprendizaje colaborativo es distinto de los proyectos en los que los estudiantes \"dividen y vencerán\".  Cuando los estudiantes dividen el trabajo, cada uno es responsable de solo una parte de la resolución del problema y hay oportunidades muy limitadas para resolver los problemas con los demás.  En entornos colaborativos, los estudiantes participan en conversaciones intelectuales entre ellos.\n",
        "\n"
      ]
    },
    {
      "cell_type": "markdown",
      "id": "7d03c149-5ee4-4fbc-aae4-78952ba34c72",
      "metadata": {
        "id": "7d03c149-5ee4-4fbc-aae4-78952ba34c72"
      },
      "source": [
        "### <FONT COLOR=\"blue\">**Q1.** </FONT>\n",
        "\n",
        " Codifique 7 líneas de la función print() para producir un resultado como el de la imagen de abajo\n",
        "\n",
        "![ImageQ1](https://ambg0231.github.io/unidad1/Q1.png)\n",
        "| Escriba el código y el resultado de salida esperado en una hoja"
      ]
    },
    {
      "cell_type": "code",
      "execution_count": null,
      "id": "6a9b2227-461b-4b20-a4e7-5aa70971dbe1",
      "metadata": {
        "id": "6a9b2227-461b-4b20-a4e7-5aa70971dbe1"
      },
      "outputs": [],
      "source": []
    }
  ],
  "metadata": {
    "kernelspec": {
      "display_name": "Python 3.9.13 64-bit (microsoft store)",
      "language": "python",
      "name": "python3"
    },
    "language_info": {
      "codemirror_mode": {
        "name": "ipython",
        "version": 3
      },
      "file_extension": ".py",
      "mimetype": "text/x-python",
      "name": "python",
      "nbconvert_exporter": "python",
      "pygments_lexer": "ipython3",
      "version": "3.9.13"
    },
    "vscode": {
      "interpreter": {
        "hash": "d6ff7cb00638fb92356a42c28981a177178b7e1976aa8ecd498ce1508ea8d5e4"
      }
    },
    "colab": {
      "provenance": []
    }
  },
  "nbformat": 4,
  "nbformat_minor": 5
}